{
 "cells": [
  {
   "cell_type": "code",
   "execution_count": 1,
   "id": "2448d4b6",
   "metadata": {},
   "outputs": [],
   "source": [
    "import mne\n",
    "import numpy as np\n",
    "import pandas as pd\n",
    "import seaborn as sns\n",
    "import matplotlib.pyplot as plt\n",
    "\n",
    "import tensorflow as tf\n",
    "from tensorflow import keras\n",
    "from sklearn.model_selection import train_test_split\n",
    "from sklearn.preprocessing import StandardScaler\n",
    "from sklearn.ensemble import RandomForestClassifier\n",
    "from sklearn.metrics import accuracy_score, confusion_matrix, classification_report\n",
    "\n",
    "from keras.models import Sequential\n",
    "from keras.layers import LSTM, Dense,Dropout,TimeDistributed,GlobalAveragePooling1D\n",
    "from keras.callbacks import EarlyStopping, ModelCheckpoint\n",
    "from keras.optimizers import Adam\n",
    "from sklearn.model_selection import StratifiedShuffleSplit"
   ]
  },
  {
   "cell_type": "code",
   "execution_count": 2,
   "id": "f502ad9f",
   "metadata": {},
   "outputs": [
    {
     "name": "stderr",
     "output_type": "stream",
     "text": [
      "<>:2: SyntaxWarning: invalid escape sequence '\\P'\n",
      "<>:2: SyntaxWarning: invalid escape sequence '\\P'\n",
      "C:\\Users\\ADMIN\\AppData\\Local\\Temp\\ipykernel_25744\\2419121426.py:2: SyntaxWarning: invalid escape sequence '\\P'\n",
      "  df = pd.read_csv(\"C:\\\\Users\\\\ADMIN\\Project\\\\.venv\\\\Sleep testFiltered_EEG_Data1.csv\")\n"
     ]
    }
   ],
   "source": [
    "# โหลดข้อมูล\n",
    "df = pd.read_csv(\"C:\\\\Users\\\\ADMIN\\Project\\\\.venv\\\\Sleep testFiltered_EEG_Data1.csv\")"
   ]
  },
  {
   "cell_type": "code",
   "execution_count": 3,
   "id": "ac2618b9",
   "metadata": {},
   "outputs": [
    {
     "name": "stdout",
     "output_type": "stream",
     "text": [
      "       Time  EEG F4-M1  EEG C4-M1  EEG O2-M1  EEG C3-M2  EMG chin  EOG E1-M2  \\\n",
      "0  0.000000  -0.332139   1.460207  -0.082405   0.945965 -0.556532   8.282122   \n",
      "1  0.003906   0.455678  -0.506964  -8.182390   2.241613  3.137224  18.753385   \n",
      "2  0.007812  -0.995135  -3.805043 -15.517629   2.785924  5.121238  26.958536   \n",
      "3  0.011719  -5.017469  -7.255061 -18.758616   1.417463  5.081020  29.945681   \n",
      "4  0.015625 -10.258652  -9.017413 -16.288979  -2.295541  4.092776  27.027844   \n",
      "\n",
      "   EOG E2-M2        ECG      Annotation  \n",
      "0  -6.846270 -36.322502   Sleep stage W  \n",
      "1  -6.397049 -36.334116   Sleep stage W  \n",
      "2  -7.204251 -37.603388   Sleep stage W  \n",
      "3  -9.951360 -42.065282   Sleep stage W  \n",
      "4 -13.573874 -50.681696   Sleep stage W  \n"
     ]
    }
   ],
   "source": [
    "channel_map = {\n",
    "    \"1\": \"EEG F4-M1\",\n",
    "    \"2\": \"EEG C4-M1\",\n",
    "    \"3\": \"EEG O2-M1\",\n",
    "    \"4\": \"EEG C3-M2\",\n",
    "    \"5\": \"EMG chin\",\n",
    "    \"6\": \"EOG E1-M2\",\n",
    "    \"7\": \"EOG E2-M2\",\n",
    "    \"8\": \"ECG\"\n",
    "}\n",
    "# เปลี่ยนชื่อ column ใน DataFrame\n",
    "df = df.rename(columns=channel_map)\n",
    "\n",
    "# ตรวจสอบ\n",
    "print(df.head())"
   ]
  },
  {
   "cell_type": "code",
   "execution_count": 4,
   "id": "f7481921",
   "metadata": {},
   "outputs": [],
   "source": [
    "data = df.drop(['Annotation','Time'], axis=1)\n",
    "labels = df['Annotation']"
   ]
  },
  {
   "cell_type": "code",
   "execution_count": 5,
   "id": "16211591",
   "metadata": {},
   "outputs": [
    {
     "name": "stdout",
     "output_type": "stream",
     "text": [
      "NaN in data: EEG F4-M1    False\n",
      "EEG C4-M1    False\n",
      "EEG O2-M1    False\n",
      "EEG C3-M2    False\n",
      "EMG chin     False\n",
      "EOG E1-M2    False\n",
      "EOG E2-M2    False\n",
      "ECG          False\n",
      "dtype: bool\n",
      "NaN in labels: True\n"
     ]
    }
   ],
   "source": [
    "# 1. ตรวจหา NaN\n",
    "print(\"NaN in data:\", np.isnan(data).any())\n",
    "print(\"NaN in labels:\", pd.isna(labels).any())"
   ]
  },
  {
   "cell_type": "code",
   "execution_count": 6,
   "id": "ec0b7eca",
   "metadata": {},
   "outputs": [],
   "source": [
    "# ลบแถวที่ labels เป็น NaN\n",
    "mask = labels.notna()           \n",
    "data = data[mask]\n",
    "labels = labels[mask]\n",
    "\n",
    "# รีเซ็ต index ใหม่ให้ตรงกัน\n",
    "data = data.reset_index(drop=True)\n",
    "labels = labels.reset_index(drop=True)\n"
   ]
  },
  {
   "cell_type": "code",
   "execution_count": 7,
   "id": "d61977e9",
   "metadata": {},
   "outputs": [
    {
     "name": "stdout",
     "output_type": "stream",
     "text": [
      "Train: (4591104, 8) (4591104,)\n",
      "Val:   (983808, 8) (983808,)\n",
      "Test:  (983808, 8) (983808,)\n",
      "\n",
      "Train distribution:\n",
      " Annotation\n",
      "Sleep stage N2    0.503513\n",
      "Sleep stage W     0.176815\n",
      "Sleep stage R     0.165105\n",
      "Sleep stage N1    0.127635\n",
      "Sleep stage N3    0.026932\n",
      "Name: proportion, dtype: float64\n",
      "\n",
      "Val distribution:\n",
      " Annotation\n",
      "Sleep stage N2    0.503513\n",
      "Sleep stage W     0.176815\n",
      "Sleep stage R     0.165105\n",
      "Sleep stage N1    0.127635\n",
      "Sleep stage N3    0.026932\n",
      "Name: proportion, dtype: float64\n",
      "\n",
      "Test distribution:\n",
      " Annotation\n",
      "Sleep stage N2    0.503513\n",
      "Sleep stage W     0.176815\n",
      "Sleep stage R     0.165105\n",
      "Sleep stage N1    0.127635\n",
      "Sleep stage N3    0.026932\n",
      "Name: proportion, dtype: float64\n"
     ]
    }
   ],
   "source": [
    "X_train_df, X_temp_df, y_train_df, y_temp_df = train_test_split(\n",
    "    data,\n",
    "    labels,\n",
    "    test_size=0.3,               # 70% train, 30% temp\n",
    "    stratify=labels,            # ให้สัดส่วนคลาสเหมือนเดิม\n",
    "    random_state=42             # เพื่อให้ reproducible\n",
    ")\n",
    "\n",
    "# ---- 2️⃣ แบ่ง Temp เป็น Validation / Test ----\n",
    "X_val_df, X_test_df, y_val_df, y_test_df = train_test_split(\n",
    "    X_temp_df,\n",
    "    y_temp_df,\n",
    "    test_size=0.5,              # 50% ของ temp = 15% ของทั้งหมด\n",
    "    stratify=y_temp_df,        # stratify อีกครั้ง\n",
    "    random_state=42\n",
    ")\n",
    "\n",
    "# ---- ตรวจสอบ shape ----\n",
    "print(\"Train:\", X_train_df.shape, y_train_df.shape)\n",
    "print(\"Val:  \", X_val_df.shape, y_val_df.shape)\n",
    "print(\"Test: \", X_test_df.shape, y_test_df.shape)\n",
    "\n",
    "# ---- ตรวจสอบ distribution แต่ละเซต ----\n",
    "print(\"\\nTrain distribution:\\n\", y_train_df.value_counts(normalize=True))\n",
    "print(\"\\nVal distribution:\\n\", y_val_df.value_counts(normalize=True))\n",
    "print(\"\\nTest distribution:\\n\", y_test_df.value_counts(normalize=True))"
   ]
  },
  {
   "cell_type": "code",
   "execution_count": 37,
   "id": "5ee3672c",
   "metadata": {},
   "outputs": [
    {
     "data": {
      "image/png": "[encoded data removed]",
      "text/plain": [
       "<Figure size 1500x400 with 1 Axes>"
      ]
     },
     "metadata": {},
     "output_type": "display_data"
    }
   ],
   "source": [
    "\n",
    "def plot_train_highlight_classes(X_train_df, y_train_df, channel='EEG F4-M1', n_samples=200000):\n",
    "    \"\"\"\n",
    "    พล็อตสัญญาณ EEG หลัง stratified split \n",
    "    และเน้นสีพิเศษสำหรับ N3 (เขียว), R (แดง), N1 (ส้ม)\n",
    "    \"\"\"\n",
    "    # ถ้า y_train_df เป็น numpy array → แปลงเป็น Series ก่อน\n",
    "    if not isinstance(y_train_df, pd.Series):\n",
    "        y_train_df = pd.Series(y_train_df)\n",
    "\n",
    "    # จำกัดจำนวน sample\n",
    "    n_samples = min(n_samples, len(X_train_df))\n",
    "    signal = X_train_df[channel].iloc[:n_samples].values\n",
    "    labels = y_train_df.iloc[:n_samples].values\n",
    "\n",
    "    # Time axis\n",
    "    if 'Time' in X_train_df.columns:\n",
    "        time = X_train_df['Time'].iloc[:n_samples].values\n",
    "    else:\n",
    "        time = np.arange(n_samples)\n",
    "\n",
    "    # 🎨 Mapping class → color\n",
    "    color_map = {\n",
    "        'N3': 'green',    # N3 → เขียว\n",
    "        'R': 'red',       # R → แดง\n",
    "        'N1': 'orange'    # N1 → ส้ม\n",
    "    }\n",
    "    default_color = 'blue'  # W, N2 = ฟ้า\n",
    "\n",
    "    plt.figure(figsize=(15, 4))\n",
    "    start_idx = 0\n",
    "\n",
    "    # วน loop segment\n",
    "    for i in range(1, n_samples):\n",
    "        if labels[i] != labels[start_idx]:\n",
    "            segment_label = labels[start_idx]\n",
    "            color = color_map.get(segment_label, default_color)\n",
    "            plt.plot(time[start_idx:i], signal[start_idx:i], color=color, linewidth=0.7)\n",
    "            start_idx = i\n",
    "\n",
    "    # Segment สุดท้าย\n",
    "    segment_label = labels[start_idx]\n",
    "    color = color_map.get(segment_label, default_color)\n",
    "    plt.plot(time[start_idx:], signal[start_idx:], color=color, linewidth=0.7)\n",
    "\n",
    "    # 📝 Legend\n",
    "    legend_elements = [\n",
    "        plt.Line2D([0], [0], color='blue', lw=2, label='W / N2'),\n",
    "        plt.Line2D([0], [0], color='orange', lw=2, label='N1'),\n",
    "        plt.Line2D([0], [0], color='green', lw=2, label='N3'),\n",
    "        plt.Line2D([0], [0], color='red', lw=2, label='R')\n",
    "    ]\n",
    "    plt.legend(handles=legend_elements, loc='upper right')\n",
    "\n",
    "    plt.title(f'After Stratified Split (Train) - {channel}\\n(Highlight: N1=Orange, N3=Green, R=Red)')\n",
    "    plt.xlabel('Time (s)')\n",
    "    plt.ylabel('Amplitude (µV)')\n",
    "    plt.grid(True, linestyle='--', alpha=0.5)\n",
    "    plt.tight_layout()\n",
    "    plt.show()\n",
    "plot_train_highlight_classes(X_train_df, y_train_df, channel='EEG F4-M1', n_samples=50000)\n"
   ]
  },
  {
   "cell_type": "code",
   "execution_count": 8,
   "id": "a4bd0150",
   "metadata": {},
   "outputs": [
    {
     "data": {
      "text/plain": [
       "(Annotation\n",
       " Sleep stage N2    2311680\n",
       " Sleep stage W      811776\n",
       " Sleep stage R      758016\n",
       " Sleep stage N1     585984\n",
       " Sleep stage N3     123648\n",
       " Name: count, dtype: int64,\n",
       " Annotation\n",
       " Sleep stage N2    495360\n",
       " Sleep stage W     173952\n",
       " Sleep stage R     162432\n",
       " Sleep stage N1    125568\n",
       " Sleep stage N3     26496\n",
       " Name: count, dtype: int64,\n",
       " Annotation\n",
       " Sleep stage N2    495360\n",
       " Sleep stage W     173952\n",
       " Sleep stage R     162432\n",
       " Sleep stage N1    125568\n",
       " Sleep stage N3     26496\n",
       " Name: count, dtype: int64)"
      ]
     },
     "execution_count": 8,
     "metadata": {},
     "output_type": "execute_result"
    }
   ],
   "source": [
    "y_train_df.value_counts(), y_val_df.value_counts(), y_test_df.value_counts()"
   ]
  },
  {
   "cell_type": "markdown",
   "id": "5218af1d",
   "metadata": {},
   "source": [
    "## Sliding window"
   ]
  },
  {
   "cell_type": "code",
   "execution_count": 13,
   "id": "29c09212",
   "metadata": {},
   "outputs": [],
   "source": [
    "from imblearn.over_sampling import SMOTE"
   ]
  },
  {
   "cell_type": "code",
   "execution_count": 14,
   "id": "3b7b3799",
   "metadata": {},
   "outputs": [],
   "source": [
    "def apply_sliding_window(data, label, window_size, step_size):\n",
    "    # Reset index เพื่อให้ iloc ทำงานชัวร์\n",
    "    data = data.reset_index(drop=True)\n",
    "    label = label.reset_index(drop=True)\n",
    "\n",
    "    window_data = []\n",
    "    window_label = []\n",
    "\n",
    "    for i in range(0, len(data) - window_size + 1, step_size):\n",
    "        window = data.iloc[i:i + window_size]\n",
    "        label_slice = label.iloc[i:i + window_size]\n",
    "\n",
    "        if len(label_slice) == 0 or label_slice.mode().empty:\n",
    "            continue  # ข้าม window ที่ไม่มีข้อมูล\n",
    "\n",
    "        label_value = label_slice.mode().iloc[0]\n",
    "\n",
    "        window_data.append(window)\n",
    "        window_label.append(label_value)\n",
    "\n",
    "    X = np.array(window_data)\n",
    "    y = np.array(window_label)\n",
    "    return X, y"
   ]
  },
  {
   "cell_type": "code",
   "execution_count": 15,
   "id": "60cd7d37",
   "metadata": {},
   "outputs": [],
   "source": [
    "selected_channels = ['EEG F4-M1', 'EEG C4-M1', 'EEG O2-M1', 'EEG C3-M2']\n",
    "\n",
    "X_train_df_reduced = X_train_df[selected_channels]\n",
    "X_val_df_reduced   = X_val_df[selected_channels]\n",
    "X_test_df_reduced  = X_test_df[selected_channels]"
   ]
  },
  {
   "cell_type": "code",
   "execution_count": 16,
   "id": "3a7c58c2",
   "metadata": {},
   "outputs": [
    {
     "name": "stdout",
     "output_type": "stream",
     "text": [
      "Before SMOTE: X_train: (35867, 256, 8) , y_train: (35867,)\n",
      "X_train: (35867, 256, 8) , y_train: (35867,)\n",
      "X_val: (7685, 256, 8) , y_val: (7685,)\n",
      "X_test: (7685, 256, 8) , y_test: (7685,)\n",
      "X_train_reduced: (35867, 256, 4) , y_train_reduced: (35867,)\n",
      "X_val_reduced: (7685, 256, 4) , y_val_reduced: (7685,)\n",
      "X_test_reduced: (7685, 256, 4) , y_test_reduced: (7685,)\n"
     ]
    }
   ],
   "source": [
    "# -----------------------------\n",
    "# 1. ทำ sliding window ก่อน\n",
    "# -----------------------------\n",
    "window_size = 256\n",
    "step_size = 128\n",
    "\n",
    "X_train, y_train = apply_sliding_window(X_train_df, y_train_df, window_size, step_size)\n",
    "X_val, y_val     = apply_sliding_window(X_val_df, y_val_df, window_size, step_size)\n",
    "X_test, y_test   = apply_sliding_window(X_test_df, y_test_df, window_size, step_size)\n",
    "\n",
    "X_train_reduced, y_train_reduced = apply_sliding_window(X_train_df_reduced, y_train_df, window_size, step_size)\n",
    "X_val_reduced, y_val_reduced     = apply_sliding_window(X_val_df_reduced, y_val_df, window_size, step_size)\n",
    "X_test_reduced, y_test_reduced   = apply_sliding_window(X_test_df_reduced, y_test_df, window_size, step_size)\n",
    "\n",
    "print(\"Before SMOTE: X_train:\", X_train.shape, \", y_train:\", y_train.shape)\n",
    "\n",
    "print(\"X_train:\" ,X_train.shape, \", y_train:\", y_train.shape)\n",
    "print(\"X_val:\" ,X_val.shape, \", y_val:\", y_val.shape)\n",
    "print(\"X_test:\" ,X_test.shape, \", y_test:\", y_test.shape)\n",
    "\n",
    "print(\"X_train_reduced:\" ,X_train_reduced.shape, \", y_train_reduced:\", y_train_reduced.shape)\n",
    "print(\"X_val_reduced:\" ,X_val_reduced.shape, \", y_val_reduced:\", y_val_reduced.shape)\n",
    "print(\"X_test_reduced:\" ,X_test_reduced.shape, \", y_test_reduced:\", y_test_reduced.shape)"
   ]
  },
  {
   "cell_type": "code",
   "execution_count": 17,
   "id": "cd3e1d18",
   "metadata": {},
   "outputs": [
    {
     "name": "stdout",
     "output_type": "stream",
     "text": [
      "Train dist:\n",
      " Sleep stage N2    35867\n",
      "Name: count, dtype: int64\n",
      "Val dist:\n",
      " Sleep stage N2    7685\n",
      "Name: count, dtype: int64\n",
      "Test dist:\n",
      " Sleep stage N2    7685\n",
      "Name: count, dtype: int64\n",
      "Before window: Annotation\n",
      "Sleep stage N2    3302400\n",
      "Sleep stage W     1159680\n",
      "Sleep stage R     1082880\n",
      "Sleep stage N1     837120\n",
      "Sleep stage N3     176640\n",
      "Name: count, dtype: int64\n",
      "After window (train): Sleep stage N2    35867\n",
      "Name: count, dtype: int64\n"
     ]
    }
   ],
   "source": [
    "print(\"Train dist:\\n\", pd.Series(y_train).value_counts())\n",
    "print(\"Val dist:\\n\", pd.Series(y_val).value_counts())\n",
    "print(\"Test dist:\\n\", pd.Series(y_test).value_counts())\n",
    "print(\"Before window:\", df['Annotation'].value_counts())\n",
    "\n",
    "y_train_series = pd.Series(y_train)\n",
    "print(\"After window (train):\", y_train_series.value_counts())"
   ]
  },
  {
   "cell_type": "code",
   "execution_count": 19,
   "id": "90160ba5",
   "metadata": {},
   "outputs": [
    {
     "name": "stdout",
     "output_type": "stream",
     "text": [
      "y_train dist:\n",
      " Sleep stage N2    35867\n",
      "Name: count, dtype: int64\n",
      "y_val dist:\n",
      " Sleep stage N2    7685\n",
      "Name: count, dtype: int64\n",
      "y_test dist:\n",
      " Sleep stage N2    7685\n",
      "Name: count, dtype: int64\n"
     ]
    }
   ],
   "source": [
    "\n",
    "\n",
    "print(\"y_train dist:\\n\", pd.Series(y_train).value_counts())\n",
    "print(\"y_val dist:\\n\", pd.Series(y_val).value_counts())\n",
    "print(\"y_test dist:\\n\", pd.Series(y_test).value_counts())\n"
   ]
  },
  {
   "cell_type": "code",
   "execution_count": null,
   "id": "17f3c020",
   "metadata": {},
   "outputs": [],
   "source": [
    "from collections import Counter\n",
    "\n",
    "print(\"Class distribution before SMOTE:\", Counter(y_train))"
   ]
  },
  {
   "cell_type": "code",
   "execution_count": 15,
   "id": "ae4f6cf8",
   "metadata": {},
   "outputs": [],
   "source": [
    "# 2. Flatten สำหรับ SMOTE\n",
    "# -----------------------------\n",
    "nsamples, timesteps, nchannels = X_train.shape\n",
    "X_train_flat = X_train.reshape((nsamples, timesteps * nchannels))"
   ]
  },
  {
   "cell_type": "code",
   "execution_count": 24,
   "id": "ae4ffbfa",
   "metadata": {},
   "outputs": [
    {
     "ename": "ValueError",
     "evalue": "The target 'y' needs to have more than 1 class. Got 1 class instead",
     "output_type": "error",
     "traceback": [
      "\u001b[31m---------------------------------------------------------------------------\u001b[39m",
      "\u001b[31mValueError\u001b[39m                                Traceback (most recent call last)",
      "\u001b[36mCell\u001b[39m\u001b[36m \u001b[39m\u001b[32mIn[24]\u001b[39m\u001b[32m, line 5\u001b[39m\n\u001b[32m      1\u001b[39m \u001b[38;5;66;03m# -----------------------------\u001b[39;00m\n\u001b[32m      2\u001b[39m \u001b[38;5;66;03m# 3. Oversample ด้วย SMOTE\u001b[39;00m\n\u001b[32m      3\u001b[39m \u001b[38;5;66;03m# -----------------------------\u001b[39;00m\n\u001b[32m      4\u001b[39m smt = SMOTE(sampling_strategy=\u001b[33m\"\u001b[39m\u001b[33mauto\u001b[39m\u001b[33m\"\u001b[39m, random_state=\u001b[32m42\u001b[39m)\n\u001b[32m----> \u001b[39m\u001b[32m5\u001b[39m X_train_flat_res, y_train_res = \u001b[43msmt\u001b[49m\u001b[43m.\u001b[49m\u001b[43mfit_resample\u001b[49m\u001b[43m(\u001b[49m\u001b[43mX_train_flat\u001b[49m\u001b[43m,\u001b[49m\u001b[43m \u001b[49m\u001b[43my_train\u001b[49m\u001b[43m)\u001b[49m\n\u001b[32m      7\u001b[39m \u001b[38;5;28mprint\u001b[39m(\u001b[33m\"\u001b[39m\u001b[33mAfter SMOTE: X_train_flat_res:\u001b[39m\u001b[33m\"\u001b[39m, X_train_flat_res.shape, \u001b[33m\"\u001b[39m\u001b[33m, y_train_res:\u001b[39m\u001b[33m\"\u001b[39m, y_train_res.shape)\n",
      "\u001b[36mFile \u001b[39m\u001b[32m~\\AppData\\Roaming\\Python\\Python313\\site-packages\\imblearn\\base.py:202\u001b[39m, in \u001b[36mBaseSampler.fit_resample\u001b[39m\u001b[34m(self, X, y, **params)\u001b[39m\n\u001b[32m    181\u001b[39m \u001b[38;5;28;01mdef\u001b[39;00m\u001b[38;5;250m \u001b[39m\u001b[34mfit_resample\u001b[39m(\u001b[38;5;28mself\u001b[39m, X, y, **params):\n\u001b[32m    182\u001b[39m \u001b[38;5;250m    \u001b[39m\u001b[33;03m\"\"\"Resample the dataset.\u001b[39;00m\n\u001b[32m    183\u001b[39m \n\u001b[32m    184\u001b[39m \u001b[33;03m    Parameters\u001b[39;00m\n\u001b[32m   (...)\u001b[39m\u001b[32m    200\u001b[39m \u001b[33;03m        The corresponding label of `X_resampled`.\u001b[39;00m\n\u001b[32m    201\u001b[39m \u001b[33;03m    \"\"\"\u001b[39;00m\n\u001b[32m--> \u001b[39m\u001b[32m202\u001b[39m     \u001b[38;5;28;01mreturn\u001b[39;00m \u001b[38;5;28;43msuper\u001b[39;49m\u001b[43m(\u001b[49m\u001b[43m)\u001b[49m\u001b[43m.\u001b[49m\u001b[43mfit_resample\u001b[49m\u001b[43m(\u001b[49m\u001b[43mX\u001b[49m\u001b[43m,\u001b[49m\u001b[43m \u001b[49m\u001b[43my\u001b[49m\u001b[43m,\u001b[49m\u001b[43m \u001b[49m\u001b[43m*\u001b[49m\u001b[43m*\u001b[49m\u001b[43mparams\u001b[49m\u001b[43m)\u001b[49m\n",
      "\u001b[36mFile \u001b[39m\u001b[32m~\\AppData\\Roaming\\Python\\Python313\\site-packages\\sklearn\\base.py:1365\u001b[39m, in \u001b[36m_fit_context.<locals>.decorator.<locals>.wrapper\u001b[39m\u001b[34m(estimator, *args, **kwargs)\u001b[39m\n\u001b[32m   1358\u001b[39m     estimator._validate_params()\n\u001b[32m   1360\u001b[39m \u001b[38;5;28;01mwith\u001b[39;00m config_context(\n\u001b[32m   1361\u001b[39m     skip_parameter_validation=(\n\u001b[32m   1362\u001b[39m         prefer_skip_nested_validation \u001b[38;5;129;01mor\u001b[39;00m global_skip_validation\n\u001b[32m   1363\u001b[39m     )\n\u001b[32m   1364\u001b[39m ):\n\u001b[32m-> \u001b[39m\u001b[32m1365\u001b[39m     \u001b[38;5;28;01mreturn\u001b[39;00m \u001b[43mfit_method\u001b[49m\u001b[43m(\u001b[49m\u001b[43mestimator\u001b[49m\u001b[43m,\u001b[49m\u001b[43m \u001b[49m\u001b[43m*\u001b[49m\u001b[43margs\u001b[49m\u001b[43m,\u001b[49m\u001b[43m \u001b[49m\u001b[43m*\u001b[49m\u001b[43m*\u001b[49m\u001b[43mkwargs\u001b[49m\u001b[43m)\u001b[49m\n",
      "\u001b[36mFile \u001b[39m\u001b[32m~\\AppData\\Roaming\\Python\\Python313\\site-packages\\imblearn\\base.py:101\u001b[39m, in \u001b[36mSamplerMixin.fit_resample\u001b[39m\u001b[34m(self, X, y, **params)\u001b[39m\n\u001b[32m     98\u001b[39m arrays_transformer = ArraysTransformer(X, y)\n\u001b[32m     99\u001b[39m X, y, binarize_y = \u001b[38;5;28mself\u001b[39m._check_X_y(X, y)\n\u001b[32m--> \u001b[39m\u001b[32m101\u001b[39m \u001b[38;5;28mself\u001b[39m.sampling_strategy_ = \u001b[43mcheck_sampling_strategy\u001b[49m\u001b[43m(\u001b[49m\n\u001b[32m    102\u001b[39m \u001b[43m    \u001b[49m\u001b[38;5;28;43mself\u001b[39;49m\u001b[43m.\u001b[49m\u001b[43msampling_strategy\u001b[49m\u001b[43m,\u001b[49m\u001b[43m \u001b[49m\u001b[43my\u001b[49m\u001b[43m,\u001b[49m\u001b[43m \u001b[49m\u001b[38;5;28;43mself\u001b[39;49m\u001b[43m.\u001b[49m\u001b[43m_sampling_type\u001b[49m\n\u001b[32m    103\u001b[39m \u001b[43m\u001b[49m\u001b[43m)\u001b[49m\n\u001b[32m    105\u001b[39m output = \u001b[38;5;28mself\u001b[39m._fit_resample(X, y, **params)\n\u001b[32m    107\u001b[39m y_ = (\n\u001b[32m    108\u001b[39m     label_binarize(output[\u001b[32m1\u001b[39m], classes=np.unique(y)) \u001b[38;5;28;01mif\u001b[39;00m binarize_y \u001b[38;5;28;01melse\u001b[39;00m output[\u001b[32m1\u001b[39m]\n\u001b[32m    109\u001b[39m )\n",
      "\u001b[36mFile \u001b[39m\u001b[32m~\\AppData\\Roaming\\Python\\Python313\\site-packages\\imblearn\\utils\\_validation.py:535\u001b[39m, in \u001b[36mcheck_sampling_strategy\u001b[39m\u001b[34m(sampling_strategy, y, sampling_type, **kwargs)\u001b[39m\n\u001b[32m    529\u001b[39m     \u001b[38;5;28;01mraise\u001b[39;00m \u001b[38;5;167;01mValueError\u001b[39;00m(\n\u001b[32m    530\u001b[39m         \u001b[33mf\u001b[39m\u001b[33m\"\u001b[39m\u001b[33m'\u001b[39m\u001b[33msampling_type\u001b[39m\u001b[33m'\u001b[39m\u001b[33m should be one of \u001b[39m\u001b[38;5;132;01m{\u001b[39;00mSAMPLING_KIND\u001b[38;5;132;01m}\u001b[39;00m\u001b[33m. \u001b[39m\u001b[33m\"\u001b[39m\n\u001b[32m    531\u001b[39m         \u001b[33mf\u001b[39m\u001b[33m\"\u001b[39m\u001b[33mGot \u001b[39m\u001b[33m'\u001b[39m\u001b[38;5;132;01m{\u001b[39;00msampling_type\u001b[38;5;132;01m}\u001b[39;00m\u001b[33m instead.\u001b[39m\u001b[33m\"\u001b[39m\n\u001b[32m    532\u001b[39m     )\n\u001b[32m    534\u001b[39m \u001b[38;5;28;01mif\u001b[39;00m np.unique(y).size <= \u001b[32m1\u001b[39m:\n\u001b[32m--> \u001b[39m\u001b[32m535\u001b[39m     \u001b[38;5;28;01mraise\u001b[39;00m \u001b[38;5;167;01mValueError\u001b[39;00m(\n\u001b[32m    536\u001b[39m         \u001b[33m\"\u001b[39m\u001b[33mThe target \u001b[39m\u001b[33m'\u001b[39m\u001b[33my\u001b[39m\u001b[33m'\u001b[39m\u001b[33m needs to have more than 1 class. \u001b[39m\u001b[33m\"\u001b[39m\n\u001b[32m    537\u001b[39m         \u001b[33mf\u001b[39m\u001b[33m\"\u001b[39m\u001b[33mGot \u001b[39m\u001b[38;5;132;01m{\u001b[39;00mnp.unique(y).size\u001b[38;5;132;01m}\u001b[39;00m\u001b[33m class instead\u001b[39m\u001b[33m\"\u001b[39m\n\u001b[32m    538\u001b[39m     )\n\u001b[32m    540\u001b[39m \u001b[38;5;28;01mif\u001b[39;00m sampling_type \u001b[38;5;129;01min\u001b[39;00m (\u001b[33m\"\u001b[39m\u001b[33mensemble\u001b[39m\u001b[33m\"\u001b[39m, \u001b[33m\"\u001b[39m\u001b[33mbypass\u001b[39m\u001b[33m\"\u001b[39m):\n\u001b[32m    541\u001b[39m     \u001b[38;5;28;01mreturn\u001b[39;00m sampling_strategy\n",
      "\u001b[31mValueError\u001b[39m: The target 'y' needs to have more than 1 class. Got 1 class instead"
     ]
    }
   ],
   "source": [
    "# -----------------------------\n",
    "# 3. Oversample ด้วย SMOTE\n",
    "# -----------------------------\n",
    "smt = SMOTE(sampling_strategy=\"auto\", random_state=42)\n",
    "X_train_flat_res, y_train_res = smt.fit_resample(X_train_flat, y_train)\n",
    "\n",
    "print(\"After SMOTE: X_train_flat_res:\", X_train_flat_res.shape, \", y_train_res:\", y_train_res.shape)\n"
   ]
  },
  {
   "cell_type": "code",
   "execution_count": 18,
   "id": "63af83bf",
   "metadata": {},
   "outputs": [
    {
     "name": "stdout",
     "output_type": "stream",
     "text": [
      "Final X_train_res shape: (88300, 256, 8) , y_train_res: (88300,)\n"
     ]
    }
   ],
   "source": [
    "# -----------------------------\n",
    "# 4. Reshape กลับสำหรับ LSTM\n",
    "# -----------------------------\n",
    "X_train_res = X_train_flat_res.reshape((-1, timesteps, nchannels))\n",
    "\n",
    "print(\"Final X_train_res shape:\", X_train_res.shape, \", y_train_res:\", y_train_res.shape)"
   ]
  },
  {
   "cell_type": "code",
   "execution_count": 19,
   "id": "5f79ff77",
   "metadata": {},
   "outputs": [
    {
     "data": {
      "text/plain": [
       "((4596480, 8), (656639, 8), (1313279, 8))"
      ]
     },
     "execution_count": 19,
     "metadata": {},
     "output_type": "execute_result"
    }
   ],
   "source": [
    "X_train_df.shape, X_val_df.shape, X_test_df.shape"
   ]
  },
  {
   "cell_type": "code",
   "execution_count": 20,
   "id": "8da371bf",
   "metadata": {},
   "outputs": [
    {
     "name": "stderr",
     "output_type": "stream",
     "text": [
      "C:\\Users\\HP\\AppData\\Roaming\\Python\\Python313\\site-packages\\IPython\\core\\pylabtools.py:170: UserWarning: Creating legend with loc=\"best\" can be slow with large amounts of data.\n",
      "  fig.canvas.print_figure(bytes_io, **kw)\n"
     ]
    },
    {
     "data": {
      "image/png": "[encoded data removed]",
      "text/plain": [
       "<Figure size 1300x400 with 1 Axes>"
      ]
     },
     "metadata": {},
     "output_type": "display_data"
    }
   ],
   "source": [
    "plt.figure(figsize=(13,4))\n",
    "plt.plot(X_train_df['EEG F4-M1'], color='salmon', label='Trainning Set')\n",
    "plt.legend()\n",
    "plt.title('Oversample the training data')\n",
    "plt.show()"
   ]
  },
  {
   "cell_type": "code",
   "execution_count": 21,
   "id": "16d27a50",
   "metadata": {},
   "outputs": [
    {
     "name": "stdout",
     "output_type": "stream",
     "text": [
      "<class 'pandas.core.frame.DataFrame'>\n",
      "RangeIndex: 4596480 entries, 0 to 4596479\n",
      "Data columns (total 8 columns):\n",
      " #   Column     Dtype  \n",
      "---  ------     -----  \n",
      " 0   EEG F4-M1  float64\n",
      " 1   EEG C4-M1  float64\n",
      " 2   EEG O2-M1  float64\n",
      " 3   EEG C3-M2  float64\n",
      " 4   EMG chin   float64\n",
      " 5   EOG E1-M2  float64\n",
      " 6   EOG E2-M2  float64\n",
      " 7   ECG        float64\n",
      "dtypes: float64(8)\n",
      "memory usage: 280.5 MB\n"
     ]
    }
   ],
   "source": [
    "X_train_df.info()"
   ]
  },
  {
   "cell_type": "code",
   "execution_count": 30,
   "id": "51bb1212",
   "metadata": {},
   "outputs": [
    {
     "name": "stdout",
     "output_type": "stream",
     "text": [
      "Sample (original y_train_df):\n",
      "Annotation\n",
      "Sleep stage N2    2261760\n",
      "Sleep stage W      906240\n",
      "Sleep stage N1     660480\n",
      "Sleep stage R      629760\n",
      "Sleep stage N3     138240\n",
      "Name: count, dtype: int64\n",
      "After Sliding Window (selected channels y_train_reduced):\n",
      "Sleep stage N2    17660\n",
      "Sleep stage W      7071\n",
      "Sleep stage N1     5188\n",
      "Sleep stage R      4916\n",
      "Sleep stage N3     1074\n",
      "Name: count, dtype: int64\n",
      "                N Sample\n",
      "Annotation              \n",
      "Sleep stage N2   2261760\n",
      "Sleep stage W     906240\n",
      "Sleep stage N1    660480\n",
      "Sleep stage R     629760\n",
      "Sleep stage N3    138240\n"
     ]
    },
    {
     "data": {
      "image/png": "[encoded data removed]",
      "text/plain": [
       "<Figure size 1000x500 with 1 Axes>"
      ]
     },
     "metadata": {},
     "output_type": "display_data"
    }
   ],
   "source": [
    "print(\"Sample (original y_train_df):\")\n",
    "print(y_train_df.value_counts())\n",
    "print(\"After Sliding Window (selected channels y_train_reduced):\")\n",
    "print(pd.Series(y_train_reduced).value_counts())\n",
    "# รวมผลเป็น DataFrame เพื่อเทียบง่าย ๆ\n",
    "annotation_check = pd.DataFrame({\n",
    "    \"N Sample\": y_train_df.value_counts(),\n",
    "}).fillna(0).astype(int)\n",
    "\n",
    "print(annotation_check)\n",
    "annotation_check.plot(kind=\"bar\", figsize=(10, 5))\n",
    "plt.title(\"N Sample Train set\")\n",
    "plt.ylabel(\"Count\")\n",
    "plt.xlabel(\"Sleep Stage\")\n",
    "plt.xticks(rotation=45)\n",
    "plt.show()\n"
   ]
  },
  {
   "cell_type": "code",
   "execution_count": 18,
   "id": "ac1e60f4",
   "metadata": {},
   "outputs": [
    {
     "name": "stdout",
     "output_type": "stream",
     "text": [
      "Before (%):\n",
      "Annotation\n",
      "Sleep stage N2    49.206349\n",
      "Sleep stage W     19.715957\n",
      "Sleep stage N1    14.369256\n",
      "Sleep stage R     13.700919\n",
      "Sleep stage N3     3.007519\n",
      "Name: proportion, dtype: float64\n",
      "\n",
      "After Sliding Window (%):\n",
      "Sleep stage N2    49.214569\n",
      "Sleep stage W     19.711936\n",
      "Sleep stage N1    14.381446\n",
      "Sleep stage R     13.702624\n",
      "Sleep stage N3     2.989426\n",
      "Name: proportion, dtype: float64\n"
     ]
    }
   ],
   "source": [
    "print(\"Before (%):\")\n",
    "print(y_train_df.value_counts(normalize=True) * 100)\n",
    "\n",
    "print(\"\\nAfter Sliding Window (%):\")\n",
    "print(pd.Series(y_train).value_counts(normalize=True) * 100)\n"
   ]
  },
  {
   "cell_type": "code",
   "execution_count": 19,
   "id": "a65ad87d",
   "metadata": {},
   "outputs": [
    {
     "data": {
      "image/png": "[encoded data removed]",
      "text/plain": [
       "<Figure size 1000x500 with 1 Axes>"
      ]
     },
     "metadata": {},
     "output_type": "display_data"
    }
   ],
   "source": [
    "\n",
    "\n",
    "before = y_train_df.value_counts(normalize=True) * 100\n",
    "after = pd.Series(y_train).value_counts(normalize=True) * 100\n",
    "\n",
    "compare_df = pd.DataFrame({'Before (%)': before, 'After (%)': after}).fillna(0)\n",
    "\n",
    "compare_df.plot(kind='bar', figsize=(10,5))\n",
    "plt.title(\"Sleep Stage Distribution Before vs After Sliding Window\")\n",
    "plt.ylabel(\"Percentage\")\n",
    "plt.show()\n"
   ]
  },
  {
   "cell_type": "code",
   "execution_count": 20,
   "id": "bb2fae09",
   "metadata": {},
   "outputs": [
    {
     "name": "stdout",
     "output_type": "stream",
     "text": [
      "Before SMOTE: Annotation\n",
      "Sleep stage N2    2261760\n",
      "Sleep stage W      906240\n",
      "Sleep stage N1     660480\n",
      "Sleep stage R      629760\n",
      "Sleep stage N3     138240\n",
      "Name: count, dtype: int64\n",
      "After SMOTE: Sleep stage N2    11310\n",
      "Sleep stage W      4530\n",
      "Sleep stage N1     3305\n",
      "Sleep stage R      3149\n",
      "Sleep stage N3      687\n",
      "Name: count, dtype: int64\n"
     ]
    }
   ],
   "source": [
    "print(\"Before SMOTE:\", y_train_df.value_counts())\n",
    "print(\"After SMOTE:\", pd.Series(y_train).value_counts())  # หลังจาก sliding window"
   ]
  },
  {
   "cell_type": "markdown",
   "id": "137a788e",
   "metadata": {},
   "source": [
    "## Train"
   ]
  },
  {
   "cell_type": "code",
   "execution_count": 31,
   "id": "60eb6d02",
   "metadata": {},
   "outputs": [],
   "source": [
    "from sklearn.preprocessing import LabelEncoder\n",
    "from tensorflow.keras.utils import to_categorical\n",
    "from tensorflow.keras.models import Sequential\n",
    "from tensorflow.keras.layers import LSTM, Dense"
   ]
  },
  {
   "cell_type": "code",
   "execution_count": 32,
   "id": "aa937041",
   "metadata": {},
   "outputs": [
    {
     "name": "stdout",
     "output_type": "stream",
     "text": [
      "X_train shape: (35909, 256, 8)\n",
      "y_train shape: (35909, 5)\n"
     ]
    },
    {
     "name": "stderr",
     "output_type": "stream",
     "text": [
      "C:\\Users\\HP\\AppData\\Roaming\\Python\\Python313\\site-packages\\keras\\src\\layers\\rnn\\rnn.py:199: UserWarning: Do not pass an `input_shape`/`input_dim` argument to a layer. When using Sequential models, prefer using an `Input(shape)` object as the first layer in the model instead.\n",
      "  super().__init__(**kwargs)\n"
     ]
    },
    {
     "data": {
      "text/html": [
       "<pre style=\"white-space:pre;overflow-x:auto;line-height:normal;font-family:Menlo,'DejaVu Sans Mono',consolas,'Courier New',monospace\"><span style=\"font-weight: bold\">Model: \"sequential\"</span>\n",
       "</pre>\n"
      ],
      "text/plain": [
       "\u001b[1mModel: \"sequential\"\u001b[0m\n"
      ]
     },
     "metadata": {},
     "output_type": "display_data"
    },
    {
     "data": {
      "text/html": [
       "<pre style=\"white-space:pre;overflow-x:auto;line-height:normal;font-family:Menlo,'DejaVu Sans Mono',consolas,'Courier New',monospace\">┏━━━━━━━━━━━━━━━━━━━━━━━━━━━━━━━━━┳━━━━━━━━━━━━━━━━━━━━━━━━┳━━━━━━━━━━━━━━━┓\n",
       "┃<span style=\"font-weight: bold\"> Layer (type)                    </span>┃<span style=\"font-weight: bold\"> Output Shape           </span>┃<span style=\"font-weight: bold\">       Param # </span>┃\n",
       "┡━━━━━━━━━━━━━━━━━━━━━━━━━━━━━━━━━╇━━━━━━━━━━━━━━━━━━━━━━━━╇━━━━━━━━━━━━━━━┩\n",
       "│ lstm (<span style=\"color: #0087ff; text-decoration-color: #0087ff\">LSTM</span>)                     │ (<span style=\"color: #00d7ff; text-decoration-color: #00d7ff\">None</span>, <span style=\"color: #00af00; text-decoration-color: #00af00\">50</span>)             │        <span style=\"color: #00af00; text-decoration-color: #00af00\">11,800</span> │\n",
       "├─────────────────────────────────┼────────────────────────┼───────────────┤\n",
       "│ dense (<span style=\"color: #0087ff; text-decoration-color: #0087ff\">Dense</span>)                   │ (<span style=\"color: #00d7ff; text-decoration-color: #00d7ff\">None</span>, <span style=\"color: #00af00; text-decoration-color: #00af00\">5</span>)              │           <span style=\"color: #00af00; text-decoration-color: #00af00\">255</span> │\n",
       "└─────────────────────────────────┴────────────────────────┴───────────────┘\n",
       "</pre>\n"
      ],
      "text/plain": [
       "┏━━━━━━━━━━━━━━━━━━━━━━━━━━━━━━━━━┳━━━━━━━━━━━━━━━━━━━━━━━━┳━━━━━━━━━━━━━━━┓\n",
       "┃\u001b[1m \u001b[0m\u001b[1mLayer (type)                   \u001b[0m\u001b[1m \u001b[0m┃\u001b[1m \u001b[0m\u001b[1mOutput Shape          \u001b[0m\u001b[1m \u001b[0m┃\u001b[1m \u001b[0m\u001b[1m      Param #\u001b[0m\u001b[1m \u001b[0m┃\n",
       "┡━━━━━━━━━━━━━━━━━━━━━━━━━━━━━━━━━╇━━━━━━━━━━━━━━━━━━━━━━━━╇━━━━━━━━━━━━━━━┩\n",
       "│ lstm (\u001b[38;5;33mLSTM\u001b[0m)                     │ (\u001b[38;5;45mNone\u001b[0m, \u001b[38;5;34m50\u001b[0m)             │        \u001b[38;5;34m11,800\u001b[0m │\n",
       "├─────────────────────────────────┼────────────────────────┼───────────────┤\n",
       "│ dense (\u001b[38;5;33mDense\u001b[0m)                   │ (\u001b[38;5;45mNone\u001b[0m, \u001b[38;5;34m5\u001b[0m)              │           \u001b[38;5;34m255\u001b[0m │\n",
       "└─────────────────────────────────┴────────────────────────┴───────────────┘\n"
      ]
     },
     "metadata": {},
     "output_type": "display_data"
    },
    {
     "data": {
      "text/html": [
       "<pre style=\"white-space:pre;overflow-x:auto;line-height:normal;font-family:Menlo,'DejaVu Sans Mono',consolas,'Courier New',monospace\"><span style=\"font-weight: bold\"> Total params: </span><span style=\"color: #00af00; text-decoration-color: #00af00\">12,055</span> (47.09 KB)\n",
       "</pre>\n"
      ],
      "text/plain": [
       "\u001b[1m Total params: \u001b[0m\u001b[38;5;34m12,055\u001b[0m (47.09 KB)\n"
      ]
     },
     "metadata": {},
     "output_type": "display_data"
    },
    {
     "data": {
      "text/html": [
       "<pre style=\"white-space:pre;overflow-x:auto;line-height:normal;font-family:Menlo,'DejaVu Sans Mono',consolas,'Courier New',monospace\"><span style=\"font-weight: bold\"> Trainable params: </span><span style=\"color: #00af00; text-decoration-color: #00af00\">12,055</span> (47.09 KB)\n",
       "</pre>\n"
      ],
      "text/plain": [
       "\u001b[1m Trainable params: \u001b[0m\u001b[38;5;34m12,055\u001b[0m (47.09 KB)\n"
      ]
     },
     "metadata": {},
     "output_type": "display_data"
    },
    {
     "data": {
      "text/html": [
       "<pre style=\"white-space:pre;overflow-x:auto;line-height:normal;font-family:Menlo,'DejaVu Sans Mono',consolas,'Courier New',monospace\"><span style=\"font-weight: bold\"> Non-trainable params: </span><span style=\"color: #00af00; text-decoration-color: #00af00\">0</span> (0.00 B)\n",
       "</pre>\n"
      ],
      "text/plain": [
       "\u001b[1m Non-trainable params: \u001b[0m\u001b[38;5;34m0\u001b[0m (0.00 B)\n"
      ]
     },
     "metadata": {},
     "output_type": "display_data"
    },
    {
     "name": "stdout",
     "output_type": "stream",
     "text": [
      "Epoch 1/100\n",
      "\u001b[1m1123/1123\u001b[0m \u001b[32m━━━━━━━━━━━━━━━━━━━━\u001b[0m\u001b[37m\u001b[0m \u001b[1m36s\u001b[0m 31ms/step - accuracy: 0.5810 - loss: 1.2293 - val_accuracy: 0.1800 - val_loss: 1.5375\n",
      "Epoch 2/100\n",
      "\u001b[1m1123/1123\u001b[0m \u001b[32m━━━━━━━━━━━━━━━━━━━━\u001b[0m\u001b[37m\u001b[0m \u001b[1m33s\u001b[0m 29ms/step - accuracy: 0.5666 - loss: 1.2322 - val_accuracy: 0.3296 - val_loss: 1.4272\n",
      "Epoch 3/100\n",
      "\u001b[1m1123/1123\u001b[0m \u001b[32m━━━━━━━━━━━━━━━━━━━━\u001b[0m\u001b[37m\u001b[0m \u001b[1m33s\u001b[0m 29ms/step - accuracy: 0.5674 - loss: 1.2200 - val_accuracy: 0.2582 - val_loss: 1.4142\n",
      "Epoch 4/100\n",
      "\u001b[1m1123/1123\u001b[0m \u001b[32m━━━━━━━━━━━━━━━━━━━━\u001b[0m\u001b[37m\u001b[0m \u001b[1m34s\u001b[0m 30ms/step - accuracy: 0.5623 - loss: 1.2255 - val_accuracy: 0.3138 - val_loss: 1.3548\n",
      "Epoch 5/100\n",
      "\u001b[1m1123/1123\u001b[0m \u001b[32m━━━━━━━━━━━━━━━━━━━━\u001b[0m\u001b[37m\u001b[0m \u001b[1m38s\u001b[0m 34ms/step - accuracy: 0.5477 - loss: 1.2382 - val_accuracy: 0.2939 - val_loss: 1.3617\n",
      "Epoch 6/100\n",
      "\u001b[1m1123/1123\u001b[0m \u001b[32m━━━━━━━━━━━━━━━━━━━━\u001b[0m\u001b[37m\u001b[0m \u001b[1m38s\u001b[0m 34ms/step - accuracy: 0.5558 - loss: 1.2190 - val_accuracy: 0.3155 - val_loss: 1.3453\n",
      "Epoch 7/100\n",
      "\u001b[1m1123/1123\u001b[0m \u001b[32m━━━━━━━━━━━━━━━━━━━━\u001b[0m\u001b[37m\u001b[0m \u001b[1m38s\u001b[0m 34ms/step - accuracy: 0.5690 - loss: 1.1998 - val_accuracy: 0.2603 - val_loss: 1.3808\n",
      "Epoch 8/100\n",
      "\u001b[1m1123/1123\u001b[0m \u001b[32m━━━━━━━━━━━━━━━━━━━━\u001b[0m\u001b[37m\u001b[0m \u001b[1m38s\u001b[0m 34ms/step - accuracy: 0.5718 - loss: 1.1847 - val_accuracy: 0.2872 - val_loss: 1.3658\n",
      "Epoch 9/100\n",
      "\u001b[1m1123/1123\u001b[0m \u001b[32m━━━━━━━━━━━━━━━━━━━━\u001b[0m\u001b[37m\u001b[0m \u001b[1m43s\u001b[0m 38ms/step - accuracy: 0.5697 - loss: 1.1868 - val_accuracy: 0.3262 - val_loss: 1.3234\n",
      "Epoch 10/100\n",
      "\u001b[1m1123/1123\u001b[0m \u001b[32m━━━━━━━━━━━━━━━━━━━━\u001b[0m\u001b[37m\u001b[0m \u001b[1m50s\u001b[0m 45ms/step - accuracy: 0.5724 - loss: 1.1769 - val_accuracy: 0.3430 - val_loss: 1.3102\n",
      "Epoch 11/100\n",
      "\u001b[1m1123/1123\u001b[0m \u001b[32m━━━━━━━━━━━━━━━━━━━━\u001b[0m\u001b[37m\u001b[0m \u001b[1m51s\u001b[0m 45ms/step - accuracy: 0.5835 - loss: 1.1616 - val_accuracy: 0.4048 - val_loss: 1.2603\n",
      "Epoch 12/100\n",
      "\u001b[1m1123/1123\u001b[0m \u001b[32m━━━━━━━━━━━━━━━━━━━━\u001b[0m\u001b[37m\u001b[0m \u001b[1m47s\u001b[0m 42ms/step - accuracy: 0.5807 - loss: 1.1640 - val_accuracy: 0.3883 - val_loss: 1.2664\n",
      "Epoch 13/100\n",
      "\u001b[1m1123/1123\u001b[0m \u001b[32m━━━━━━━━━━━━━━━━━━━━\u001b[0m\u001b[37m\u001b[0m \u001b[1m38s\u001b[0m 34ms/step - accuracy: 0.5891 - loss: 1.1440 - val_accuracy: 0.3834 - val_loss: 1.2760\n",
      "Epoch 14/100\n",
      "\u001b[1m1123/1123\u001b[0m \u001b[32m━━━━━━━━━━━━━━━━━━━━\u001b[0m\u001b[37m\u001b[0m \u001b[1m38s\u001b[0m 34ms/step - accuracy: 0.5916 - loss: 1.1358 - val_accuracy: 0.4448 - val_loss: 1.2321\n",
      "Epoch 15/100\n",
      "\u001b[1m1123/1123\u001b[0m \u001b[32m━━━━━━━━━━━━━━━━━━━━\u001b[0m\u001b[37m\u001b[0m \u001b[1m38s\u001b[0m 34ms/step - accuracy: 0.5889 - loss: 1.1299 - val_accuracy: 0.4721 - val_loss: 1.1924\n",
      "Epoch 16/100\n",
      "\u001b[1m1123/1123\u001b[0m \u001b[32m━━━━━━━━━━━━━━━━━━━━\u001b[0m\u001b[37m\u001b[0m \u001b[1m38s\u001b[0m 34ms/step - accuracy: 0.5984 - loss: 1.1113 - val_accuracy: 0.4651 - val_loss: 1.2003\n",
      "Epoch 17/100\n",
      "\u001b[1m1123/1123\u001b[0m \u001b[32m━━━━━━━━━━━━━━━━━━━━\u001b[0m\u001b[37m\u001b[0m \u001b[1m49s\u001b[0m 44ms/step - accuracy: 0.6053 - loss: 1.1092 - val_accuracy: 0.4401 - val_loss: 1.2210\n",
      "Epoch 18/100\n",
      "\u001b[1m1123/1123\u001b[0m \u001b[32m━━━━━━━━━━━━━━━━━━━━\u001b[0m\u001b[37m\u001b[0m \u001b[1m55s\u001b[0m 49ms/step - accuracy: 0.6046 - loss: 1.0992 - val_accuracy: 0.5665 - val_loss: 1.1142\n",
      "Epoch 19/100\n",
      "\u001b[1m1123/1123\u001b[0m \u001b[32m━━━━━━━━━━━━━━━━━━━━\u001b[0m\u001b[37m\u001b[0m \u001b[1m38s\u001b[0m 33ms/step - accuracy: 0.6039 - loss: 1.1004 - val_accuracy: 0.5101 - val_loss: 1.1701\n",
      "Epoch 20/100\n",
      "\u001b[1m1123/1123\u001b[0m \u001b[32m━━━━━━━━━━━━━━━━━━━━\u001b[0m\u001b[37m\u001b[0m \u001b[1m38s\u001b[0m 34ms/step - accuracy: 0.6068 - loss: 1.0855 - val_accuracy: 0.5199 - val_loss: 1.1607\n",
      "Epoch 21/100\n",
      "\u001b[1m1123/1123\u001b[0m \u001b[32m━━━━━━━━━━━━━━━━━━━━\u001b[0m\u001b[37m\u001b[0m \u001b[1m50s\u001b[0m 44ms/step - accuracy: 0.6074 - loss: 1.0816 - val_accuracy: 0.5462 - val_loss: 1.1331\n",
      "Epoch 22/100\n",
      "\u001b[1m1123/1123\u001b[0m \u001b[32m━━━━━━━━━━━━━━━━━━━━\u001b[0m\u001b[37m\u001b[0m \u001b[1m43s\u001b[0m 38ms/step - accuracy: 0.6132 - loss: 1.0730 - val_accuracy: 0.5413 - val_loss: 1.1365\n",
      "Epoch 23/100\n",
      "\u001b[1m1123/1123\u001b[0m \u001b[32m━━━━━━━━━━━━━━━━━━━━\u001b[0m\u001b[37m\u001b[0m \u001b[1m47s\u001b[0m 42ms/step - accuracy: 0.6125 - loss: 1.0683 - val_accuracy: 0.5610 - val_loss: 1.1201\n",
      "Epoch 24/100\n",
      "\u001b[1m1123/1123\u001b[0m \u001b[32m━━━━━━━━━━━━━━━━━━━━\u001b[0m\u001b[37m\u001b[0m \u001b[1m53s\u001b[0m 48ms/step - accuracy: 0.6126 - loss: 1.0635 - val_accuracy: 0.5801 - val_loss: 1.0994\n",
      "Epoch 25/100\n",
      "\u001b[1m1123/1123\u001b[0m \u001b[32m━━━━━━━━━━━━━━━━━━━━\u001b[0m\u001b[37m\u001b[0m \u001b[1m49s\u001b[0m 43ms/step - accuracy: 0.6137 - loss: 1.0580 - val_accuracy: 0.6004 - val_loss: 1.0873\n",
      "Epoch 26/100\n",
      "\u001b[1m1123/1123\u001b[0m \u001b[32m━━━━━━━━━━━━━━━━━━━━\u001b[0m\u001b[37m\u001b[0m \u001b[1m50s\u001b[0m 45ms/step - accuracy: 0.6181 - loss: 1.0445 - val_accuracy: 0.6094 - val_loss: 1.0702\n",
      "Epoch 27/100\n",
      "\u001b[1m1123/1123\u001b[0m \u001b[32m━━━━━━━━━━━━━━━━━━━━\u001b[0m\u001b[37m\u001b[0m \u001b[1m50s\u001b[0m 45ms/step - accuracy: 0.6166 - loss: 1.0464 - val_accuracy: 0.5913 - val_loss: 1.0969\n",
      "Epoch 28/100\n",
      "\u001b[1m1123/1123\u001b[0m \u001b[32m━━━━━━━━━━━━━━━━━━━━\u001b[0m\u001b[37m\u001b[0m \u001b[1m49s\u001b[0m 44ms/step - accuracy: 0.6183 - loss: 1.0473 - val_accuracy: 0.5991 - val_loss: 1.0794\n",
      "Epoch 29/100\n",
      "\u001b[1m1123/1123\u001b[0m \u001b[32m━━━━━━━━━━━━━━━━━━━━\u001b[0m\u001b[37m\u001b[0m \u001b[1m48s\u001b[0m 43ms/step - accuracy: 0.6216 - loss: 1.0370 - val_accuracy: 0.6324 - val_loss: 1.0301\n",
      "Epoch 30/100\n",
      "\u001b[1m1123/1123\u001b[0m \u001b[32m━━━━━━━━━━━━━━━━━━━━\u001b[0m\u001b[37m\u001b[0m \u001b[1m58s\u001b[0m 52ms/step - accuracy: 0.6276 - loss: 1.0231 - val_accuracy: 0.6494 - val_loss: 1.0197\n",
      "Epoch 31/100\n",
      "\u001b[1m1123/1123\u001b[0m \u001b[32m━━━━━━━━━━━━━━━━━━━━\u001b[0m\u001b[37m\u001b[0m \u001b[1m57s\u001b[0m 51ms/step - accuracy: 0.6286 - loss: 1.0188 - val_accuracy: 0.6002 - val_loss: 1.0540\n",
      "Epoch 32/100\n",
      "\u001b[1m1123/1123\u001b[0m \u001b[32m━━━━━━━━━━━━━━━━━━━━\u001b[0m\u001b[37m\u001b[0m \u001b[1m58s\u001b[0m 51ms/step - accuracy: 0.6253 - loss: 1.0158 - val_accuracy: 0.6293 - val_loss: 1.0342\n",
      "Epoch 33/100\n",
      "\u001b[1m1123/1123\u001b[0m \u001b[32m━━━━━━━━━━━━━━━━━━━━\u001b[0m\u001b[37m\u001b[0m \u001b[1m58s\u001b[0m 52ms/step - accuracy: 0.6196 - loss: 1.0313 - val_accuracy: 0.6287 - val_loss: 1.0385\n",
      "Epoch 34/100\n",
      "\u001b[1m1123/1123\u001b[0m \u001b[32m━━━━━━━━━━━━━━━━━━━━\u001b[0m\u001b[37m\u001b[0m \u001b[1m58s\u001b[0m 52ms/step - accuracy: 0.6288 - loss: 1.0134 - val_accuracy: 0.6603 - val_loss: 1.0108\n",
      "Epoch 35/100\n",
      "\u001b[1m1123/1123\u001b[0m \u001b[32m━━━━━━━━━━━━━━━━━━━━\u001b[0m\u001b[37m\u001b[0m \u001b[1m42s\u001b[0m 38ms/step - accuracy: 0.6237 - loss: 1.0199 - val_accuracy: 0.5922 - val_loss: 1.0778\n",
      "Epoch 36/100\n",
      "\u001b[1m1123/1123\u001b[0m \u001b[32m━━━━━━━━━━━━━━━━━━━━\u001b[0m\u001b[37m\u001b[0m \u001b[1m40s\u001b[0m 36ms/step - accuracy: 0.6270 - loss: 1.0163 - val_accuracy: 0.6388 - val_loss: 1.0015\n",
      "Epoch 37/100\n",
      "\u001b[1m1123/1123\u001b[0m \u001b[32m━━━━━━━━━━━━━━━━━━━━\u001b[0m\u001b[37m\u001b[0m \u001b[1m40s\u001b[0m 36ms/step - accuracy: 0.6254 - loss: 1.0069 - val_accuracy: 0.6638 - val_loss: 1.0057\n",
      "Epoch 38/100\n",
      "\u001b[1m1123/1123\u001b[0m \u001b[32m━━━━━━━━━━━━━━━━━━━━\u001b[0m\u001b[37m\u001b[0m \u001b[1m50s\u001b[0m 45ms/step - accuracy: 0.6267 - loss: 1.0068 - val_accuracy: 0.6387 - val_loss: 1.0349\n",
      "Epoch 39/100\n",
      "\u001b[1m1123/1123\u001b[0m \u001b[32m━━━━━━━━━━━━━━━━━━━━\u001b[0m\u001b[37m\u001b[0m \u001b[1m60s\u001b[0m 54ms/step - accuracy: 0.6277 - loss: 1.0078 - val_accuracy: 0.6660 - val_loss: 0.9983\n",
      "Epoch 40/100\n",
      "\u001b[1m1123/1123\u001b[0m \u001b[32m━━━━━━━━━━━━━━━━━━━━\u001b[0m\u001b[37m\u001b[0m \u001b[1m40s\u001b[0m 36ms/step - accuracy: 0.6306 - loss: 0.9993 - val_accuracy: 0.6607 - val_loss: 1.0129\n",
      "Epoch 41/100\n",
      "\u001b[1m1123/1123\u001b[0m \u001b[32m━━━━━━━━━━━━━━━━━━━━\u001b[0m\u001b[37m\u001b[0m \u001b[1m41s\u001b[0m 36ms/step - accuracy: 0.6293 - loss: 0.9962 - val_accuracy: 0.6968 - val_loss: 0.9583\n",
      "Epoch 42/100\n",
      "\u001b[1m1123/1123\u001b[0m \u001b[32m━━━━━━━━━━━━━━━━━━━━\u001b[0m\u001b[37m\u001b[0m \u001b[1m40s\u001b[0m 36ms/step - accuracy: 0.6256 - loss: 1.0020 - val_accuracy: 0.6878 - val_loss: 0.9693\n",
      "Epoch 43/100\n",
      "\u001b[1m1123/1123\u001b[0m \u001b[32m━━━━━━━━━━━━━━━━━━━━\u001b[0m\u001b[37m\u001b[0m \u001b[1m40s\u001b[0m 35ms/step - accuracy: 0.6346 - loss: 0.9854 - val_accuracy: 0.7028 - val_loss: 0.9621\n",
      "Epoch 44/100\n",
      "\u001b[1m1123/1123\u001b[0m \u001b[32m━━━━━━━━━━━━━━━━━━━━\u001b[0m\u001b[37m\u001b[0m \u001b[1m40s\u001b[0m 35ms/step - accuracy: 0.6304 - loss: 0.9979 - val_accuracy: 0.6775 - val_loss: 0.9771\n",
      "Epoch 45/100\n",
      "\u001b[1m1123/1123\u001b[0m \u001b[32m━━━━━━━━━━━━━━━━━━━━\u001b[0m\u001b[37m\u001b[0m \u001b[1m43s\u001b[0m 38ms/step - accuracy: 0.6315 - loss: 1.0017 - val_accuracy: 0.6753 - val_loss: 0.9958\n",
      "Epoch 46/100\n",
      "\u001b[1m1123/1123\u001b[0m \u001b[32m━━━━━━━━━━━━━━━━━━━━\u001b[0m\u001b[37m\u001b[0m \u001b[1m48s\u001b[0m 42ms/step - accuracy: 0.6240 - loss: 0.9976 - val_accuracy: 0.6745 - val_loss: 0.9916\n",
      "Epoch 47/100\n",
      "\u001b[1m1123/1123\u001b[0m \u001b[32m━━━━━━━━━━━━━━━━━━━━\u001b[0m\u001b[37m\u001b[0m \u001b[1m48s\u001b[0m 43ms/step - accuracy: 0.6329 - loss: 0.9822 - val_accuracy: 0.7032 - val_loss: 0.9700\n",
      "Epoch 48/100\n",
      "\u001b[1m1123/1123\u001b[0m \u001b[32m━━━━━━━━━━━━━━━━━━━━\u001b[0m\u001b[37m\u001b[0m \u001b[1m48s\u001b[0m 43ms/step - accuracy: 0.6337 - loss: 0.9796 - val_accuracy: 0.6583 - val_loss: 1.0208\n",
      "Epoch 49/100\n",
      "\u001b[1m1123/1123\u001b[0m \u001b[32m━━━━━━━━━━━━━━━━━━━━\u001b[0m\u001b[37m\u001b[0m \u001b[1m48s\u001b[0m 42ms/step - accuracy: 0.6268 - loss: 0.9920 - val_accuracy: 0.6704 - val_loss: 1.0022\n",
      "Epoch 50/100\n",
      "\u001b[1m1123/1123\u001b[0m \u001b[32m━━━━━━━━━━━━━━━━━━━━\u001b[0m\u001b[37m\u001b[0m \u001b[1m48s\u001b[0m 43ms/step - accuracy: 0.6268 - loss: 0.9980 - val_accuracy: 0.6782 - val_loss: 0.9906\n",
      "Epoch 51/100\n",
      "\u001b[1m1123/1123\u001b[0m \u001b[32m━━━━━━━━━━━━━━━━━━━━\u001b[0m\u001b[37m\u001b[0m \u001b[1m48s\u001b[0m 43ms/step - accuracy: 0.6326 - loss: 0.9828 - val_accuracy: 0.6658 - val_loss: 1.0155\n",
      "Epoch 52/100\n",
      "\u001b[1m1123/1123\u001b[0m \u001b[32m━━━━━━━━━━━━━━━━━━━━\u001b[0m\u001b[37m\u001b[0m \u001b[1m48s\u001b[0m 43ms/step - accuracy: 0.6279 - loss: 0.9857 - val_accuracy: 0.7231 - val_loss: 0.9578\n",
      "Epoch 53/100\n",
      "\u001b[1m1123/1123\u001b[0m \u001b[32m━━━━━━━━━━━━━━━━━━━━\u001b[0m\u001b[37m\u001b[0m \u001b[1m48s\u001b[0m 43ms/step - accuracy: 0.6300 - loss: 0.9861 - val_accuracy: 0.7258 - val_loss: 0.9244\n",
      "Epoch 54/100\n",
      "\u001b[1m1123/1123\u001b[0m \u001b[32m━━━━━━━━━━━━━━━━━━━━\u001b[0m\u001b[37m\u001b[0m \u001b[1m53s\u001b[0m 47ms/step - accuracy: 0.6328 - loss: 0.9799 - val_accuracy: 0.7057 - val_loss: 0.9603\n",
      "Epoch 55/100\n",
      "\u001b[1m1123/1123\u001b[0m \u001b[32m━━━━━━━━━━━━━━━━━━━━\u001b[0m\u001b[37m\u001b[0m \u001b[1m48s\u001b[0m 43ms/step - accuracy: 0.6391 - loss: 0.9714 - val_accuracy: 0.7346 - val_loss: 0.9248\n",
      "Epoch 56/100\n",
      "\u001b[1m1123/1123\u001b[0m \u001b[32m━━━━━━━━━━━━━━━━━━━━\u001b[0m\u001b[37m\u001b[0m \u001b[1m48s\u001b[0m 43ms/step - accuracy: 0.6408 - loss: 0.9653 - val_accuracy: 0.7149 - val_loss: 0.9463\n",
      "Epoch 57/100\n",
      "\u001b[1m1123/1123\u001b[0m \u001b[32m━━━━━━━━━━━━━━━━━━━━\u001b[0m\u001b[37m\u001b[0m \u001b[1m48s\u001b[0m 43ms/step - accuracy: 0.6437 - loss: 0.9565 - val_accuracy: 0.7026 - val_loss: 0.9919\n",
      "Epoch 58/100\n",
      "\u001b[1m1123/1123\u001b[0m \u001b[32m━━━━━━━━━━━━━━━━━━━━\u001b[0m\u001b[37m\u001b[0m \u001b[1m48s\u001b[0m 43ms/step - accuracy: 0.6454 - loss: 0.9550 - val_accuracy: 0.7321 - val_loss: 0.9192\n",
      "Epoch 59/100\n",
      "\u001b[1m1123/1123\u001b[0m \u001b[32m━━━━━━━━━━━━━━━━━━━━\u001b[0m\u001b[37m\u001b[0m \u001b[1m48s\u001b[0m 43ms/step - accuracy: 0.6388 - loss: 0.9611 - val_accuracy: 0.7260 - val_loss: 0.9432\n",
      "Epoch 60/100\n",
      "\u001b[1m1123/1123\u001b[0m \u001b[32m━━━━━━━━━━━━━━━━━━━━\u001b[0m\u001b[37m\u001b[0m \u001b[1m41s\u001b[0m 36ms/step - accuracy: 0.6337 - loss: 0.9689 - val_accuracy: 0.7282 - val_loss: 0.9179\n",
      "Epoch 61/100\n",
      "\u001b[1m1123/1123\u001b[0m \u001b[32m━━━━━━━━━━━━━━━━━━━━\u001b[0m\u001b[37m\u001b[0m \u001b[1m52s\u001b[0m 46ms/step - accuracy: 0.6332 - loss: 0.9746 - val_accuracy: 0.7303 - val_loss: 0.9253\n",
      "Epoch 62/100\n",
      "\u001b[1m1123/1123\u001b[0m \u001b[32m━━━━━━━━━━━━━━━━━━━━\u001b[0m\u001b[37m\u001b[0m \u001b[1m40s\u001b[0m 36ms/step - accuracy: 0.6353 - loss: 0.9704 - val_accuracy: 0.7028 - val_loss: 0.9514\n",
      "Epoch 63/100\n",
      "\u001b[1m1123/1123\u001b[0m \u001b[32m━━━━━━━━━━━━━━━━━━━━\u001b[0m\u001b[37m\u001b[0m \u001b[1m40s\u001b[0m 35ms/step - accuracy: 0.6234 - loss: 0.9950 - val_accuracy: 0.7040 - val_loss: 0.9671\n",
      "Epoch 64/100\n",
      "\u001b[1m1123/1123\u001b[0m \u001b[32m━━━━━━━━━━━━━━━━━━━━\u001b[0m\u001b[37m\u001b[0m \u001b[1m40s\u001b[0m 35ms/step - accuracy: 0.6332 - loss: 0.9657 - val_accuracy: 0.7106 - val_loss: 0.9560\n",
      "Epoch 65/100\n",
      "\u001b[1m1123/1123\u001b[0m \u001b[32m━━━━━━━━━━━━━━━━━━━━\u001b[0m\u001b[37m\u001b[0m \u001b[1m40s\u001b[0m 36ms/step - accuracy: 0.6337 - loss: 0.9654 - val_accuracy: 0.7457 - val_loss: 0.9204\n",
      "Epoch 66/100\n",
      "\u001b[1m1123/1123\u001b[0m \u001b[32m━━━━━━━━━━━━━━━━━━━━\u001b[0m\u001b[37m\u001b[0m \u001b[1m40s\u001b[0m 36ms/step - accuracy: 0.6303 - loss: 0.9688 - val_accuracy: 0.7321 - val_loss: 0.9222\n",
      "Epoch 67/100\n",
      "\u001b[1m1123/1123\u001b[0m \u001b[32m━━━━━━━━━━━━━━━━━━━━\u001b[0m\u001b[37m\u001b[0m \u001b[1m46s\u001b[0m 41ms/step - accuracy: 0.6360 - loss: 0.9620 - val_accuracy: 0.7012 - val_loss: 0.9670\n",
      "Epoch 68/100\n",
      "\u001b[1m1123/1123\u001b[0m \u001b[32m━━━━━━━━━━━━━━━━━━━━\u001b[0m\u001b[37m\u001b[0m \u001b[1m60s\u001b[0m 54ms/step - accuracy: 0.6400 - loss: 0.9527 - val_accuracy: 0.6909 - val_loss: 1.0038\n",
      "Epoch 69/100\n",
      "\u001b[1m1123/1123\u001b[0m \u001b[32m━━━━━━━━━━━━━━━━━━━━\u001b[0m\u001b[37m\u001b[0m \u001b[1m58s\u001b[0m 52ms/step - accuracy: 0.6354 - loss: 0.9677 - val_accuracy: 0.7194 - val_loss: 0.9457\n",
      "Epoch 70/100\n",
      "\u001b[1m1123/1123\u001b[0m \u001b[32m━━━━━━━━━━━━━━━━━━━━\u001b[0m\u001b[37m\u001b[0m \u001b[1m83s\u001b[0m 52ms/step - accuracy: 0.6406 - loss: 0.9540 - val_accuracy: 0.7100 - val_loss: 0.9498\n",
      "Epoch 71/100\n",
      "\u001b[1m1123/1123\u001b[0m \u001b[32m━━━━━━━━━━━━━━━━━━━━\u001b[0m\u001b[37m\u001b[0m \u001b[1m59s\u001b[0m 53ms/step - accuracy: 0.6406 - loss: 0.9550 - val_accuracy: 0.6769 - val_loss: 0.9889\n",
      "Epoch 72/100\n",
      "\u001b[1m1123/1123\u001b[0m \u001b[32m━━━━━━━━━━━━━━━━━━━━\u001b[0m\u001b[37m\u001b[0m \u001b[1m61s\u001b[0m 55ms/step - accuracy: 0.6340 - loss: 0.9658 - val_accuracy: 0.6993 - val_loss: 0.9651\n",
      "Epoch 73/100\n",
      "\u001b[1m1123/1123\u001b[0m \u001b[32m━━━━━━━━━━━━━━━━━━━━\u001b[0m\u001b[37m\u001b[0m \u001b[1m60s\u001b[0m 54ms/step - accuracy: 0.6392 - loss: 0.9584 - val_accuracy: 0.6934 - val_loss: 0.9697\n",
      "Epoch 74/100\n",
      "\u001b[1m1123/1123\u001b[0m \u001b[32m━━━━━━━━━━━━━━━━━━━━\u001b[0m\u001b[37m\u001b[0m \u001b[1m61s\u001b[0m 54ms/step - accuracy: 0.6366 - loss: 0.9505 - val_accuracy: 0.6753 - val_loss: 1.0086\n",
      "Epoch 75/100\n",
      "\u001b[1m1123/1123\u001b[0m \u001b[32m━━━━━━━━━━━━━━━━━━━━\u001b[0m\u001b[37m\u001b[0m \u001b[1m61s\u001b[0m 54ms/step - accuracy: 0.6412 - loss: 0.9423 - val_accuracy: 0.6975 - val_loss: 0.9750\n",
      "Epoch 76/100\n",
      "\u001b[1m1123/1123\u001b[0m \u001b[32m━━━━━━━━━━━━━━━━━━━━\u001b[0m\u001b[37m\u001b[0m \u001b[1m61s\u001b[0m 55ms/step - accuracy: 0.6470 - loss: 0.9336 - val_accuracy: 0.7085 - val_loss: 0.9666\n",
      "Epoch 77/100\n",
      "\u001b[1m1123/1123\u001b[0m \u001b[32m━━━━━━━━━━━━━━━━━━━━\u001b[0m\u001b[37m\u001b[0m \u001b[1m64s\u001b[0m 57ms/step - accuracy: 0.6370 - loss: 0.9545 - val_accuracy: 0.7059 - val_loss: 0.9574\n",
      "Epoch 78/100\n",
      "\u001b[1m1123/1123\u001b[0m \u001b[32m━━━━━━━━━━━━━━━━━━━━\u001b[0m\u001b[37m\u001b[0m \u001b[1m59s\u001b[0m 52ms/step - accuracy: 0.6255 - loss: 0.9677 - val_accuracy: 0.7276 - val_loss: 0.9141\n",
      "Epoch 79/100\n",
      "\u001b[1m1123/1123\u001b[0m \u001b[32m━━━━━━━━━━━━━━━━━━━━\u001b[0m\u001b[37m\u001b[0m \u001b[1m59s\u001b[0m 52ms/step - accuracy: 0.6296 - loss: 0.9653 - val_accuracy: 0.6609 - val_loss: 1.0204\n",
      "Epoch 80/100\n",
      "\u001b[1m1123/1123\u001b[0m \u001b[32m━━━━━━━━━━━━━━━━━━━━\u001b[0m\u001b[37m\u001b[0m \u001b[1m52s\u001b[0m 46ms/step - accuracy: 0.6257 - loss: 0.9706 - val_accuracy: 0.6496 - val_loss: 1.0233\n",
      "Epoch 81/100\n",
      "\u001b[1m1123/1123\u001b[0m \u001b[32m━━━━━━━━━━━━━━━━━━━━\u001b[0m\u001b[37m\u001b[0m \u001b[1m40s\u001b[0m 36ms/step - accuracy: 0.6261 - loss: 0.9710 - val_accuracy: 0.6761 - val_loss: 0.9978\n",
      "Epoch 82/100\n",
      "\u001b[1m1123/1123\u001b[0m \u001b[32m━━━━━━━━━━━━━━━━━━━━\u001b[0m\u001b[37m\u001b[0m \u001b[1m40s\u001b[0m 36ms/step - accuracy: 0.6190 - loss: 0.9808 - val_accuracy: 0.7157 - val_loss: 0.9401\n",
      "Epoch 83/100\n",
      "\u001b[1m1123/1123\u001b[0m \u001b[32m━━━━━━━━━━━━━━━━━━━━\u001b[0m\u001b[37m\u001b[0m \u001b[1m41s\u001b[0m 36ms/step - accuracy: 0.6223 - loss: 0.9691 - val_accuracy: 0.7053 - val_loss: 0.9288\n",
      "Epoch 84/100\n",
      "\u001b[1m1123/1123\u001b[0m \u001b[32m━━━━━━━━━━━━━━━━━━━━\u001b[0m\u001b[37m\u001b[0m \u001b[1m62s\u001b[0m 55ms/step - accuracy: 0.6300 - loss: 0.9567 - val_accuracy: 0.6734 - val_loss: 0.9785\n",
      "Epoch 85/100\n",
      "\u001b[1m1123/1123\u001b[0m \u001b[32m━━━━━━━━━━━━━━━━━━━━\u001b[0m\u001b[37m\u001b[0m \u001b[1m79s\u001b[0m 52ms/step - accuracy: 0.6366 - loss: 0.9403 - val_accuracy: 0.6287 - val_loss: 1.0562\n",
      "Epoch 86/100\n",
      "\u001b[1m1123/1123\u001b[0m \u001b[32m━━━━━━━━━━━━━━━━━━━━\u001b[0m\u001b[37m\u001b[0m \u001b[1m58s\u001b[0m 52ms/step - accuracy: 0.6361 - loss: 0.9463 - val_accuracy: 0.6628 - val_loss: 1.0210\n",
      "Epoch 87/100\n",
      "\u001b[1m1123/1123\u001b[0m \u001b[32m━━━━━━━━━━━━━━━━━━━━\u001b[0m\u001b[37m\u001b[0m \u001b[1m61s\u001b[0m 54ms/step - accuracy: 0.6253 - loss: 0.9665 - val_accuracy: 0.5811 - val_loss: 1.1311\n",
      "Epoch 88/100\n",
      "\u001b[1m1123/1123\u001b[0m \u001b[32m━━━━━━━━━━━━━━━━━━━━\u001b[0m\u001b[37m\u001b[0m \u001b[1m58s\u001b[0m 51ms/step - accuracy: 0.6282 - loss: 0.9529 - val_accuracy: 0.6084 - val_loss: 1.0806\n",
      "Epoch 89/100\n",
      "\u001b[1m1123/1123\u001b[0m \u001b[32m━━━━━━━━━━━━━━━━━━━━\u001b[0m\u001b[37m\u001b[0m \u001b[1m49s\u001b[0m 44ms/step - accuracy: 0.6336 - loss: 0.9523 - val_accuracy: 0.6983 - val_loss: 0.9726\n",
      "Epoch 90/100\n",
      "\u001b[1m1123/1123\u001b[0m \u001b[32m━━━━━━━━━━━━━━━━━━━━\u001b[0m\u001b[37m\u001b[0m \u001b[1m46s\u001b[0m 41ms/step - accuracy: 0.6315 - loss: 0.9513 - val_accuracy: 0.6794 - val_loss: 0.9786\n",
      "Epoch 91/100\n",
      "\u001b[1m1123/1123\u001b[0m \u001b[32m━━━━━━━━━━━━━━━━━━━━\u001b[0m\u001b[37m\u001b[0m \u001b[1m58s\u001b[0m 52ms/step - accuracy: 0.6390 - loss: 0.9430 - val_accuracy: 0.7165 - val_loss: 0.9347\n",
      "Epoch 92/100\n",
      "\u001b[1m1123/1123\u001b[0m \u001b[32m━━━━━━━━━━━━━━━━━━━━\u001b[0m\u001b[37m\u001b[0m \u001b[1m60s\u001b[0m 54ms/step - accuracy: 0.6462 - loss: 0.9268 - val_accuracy: 0.6687 - val_loss: 1.0186\n",
      "Epoch 93/100\n",
      "\u001b[1m1123/1123\u001b[0m \u001b[32m━━━━━━━━━━━━━━━━━━━━\u001b[0m\u001b[37m\u001b[0m \u001b[1m59s\u001b[0m 53ms/step - accuracy: 0.6343 - loss: 0.9421 - val_accuracy: 0.6851 - val_loss: 0.9823\n",
      "Epoch 94/100\n",
      "\u001b[1m1123/1123\u001b[0m \u001b[32m━━━━━━━━━━━━━━━━━━━━\u001b[0m\u001b[37m\u001b[0m \u001b[1m58s\u001b[0m 52ms/step - accuracy: 0.6354 - loss: 0.9446 - val_accuracy: 0.6667 - val_loss: 1.0037\n",
      "Epoch 95/100\n",
      "\u001b[1m1123/1123\u001b[0m \u001b[32m━━━━━━━━━━━━━━━━━━━━\u001b[0m\u001b[37m\u001b[0m \u001b[1m58s\u001b[0m 52ms/step - accuracy: 0.6411 - loss: 0.9402 - val_accuracy: 0.6876 - val_loss: 0.9623\n",
      "Epoch 96/100\n",
      "\u001b[1m1123/1123\u001b[0m \u001b[32m━━━━━━━━━━━━━━━━━━━━\u001b[0m\u001b[37m\u001b[0m \u001b[1m52s\u001b[0m 47ms/step - accuracy: 0.6297 - loss: 0.9612 - val_accuracy: 0.7280 - val_loss: 0.9240\n",
      "Epoch 97/100\n",
      "\u001b[1m1123/1123\u001b[0m \u001b[32m━━━━━━━━━━━━━━━━━━━━\u001b[0m\u001b[37m\u001b[0m \u001b[1m61s\u001b[0m 54ms/step - accuracy: 0.6353 - loss: 0.9472 - val_accuracy: 0.7022 - val_loss: 0.9367\n",
      "Epoch 98/100\n",
      "\u001b[1m1123/1123\u001b[0m \u001b[32m━━━━━━━━━━━━━━━━━━━━\u001b[0m\u001b[37m\u001b[0m \u001b[1m58s\u001b[0m 52ms/step - accuracy: 0.6399 - loss: 0.9442 - val_accuracy: 0.7081 - val_loss: 0.9418\n",
      "Epoch 99/100\n",
      "\u001b[1m1123/1123\u001b[0m \u001b[32m━━━━━━━━━━━━━━━━━━━━\u001b[0m\u001b[37m\u001b[0m \u001b[1m58s\u001b[0m 52ms/step - accuracy: 0.6352 - loss: 0.9471 - val_accuracy: 0.7406 - val_loss: 0.9101\n",
      "Epoch 100/100\n",
      "\u001b[1m1123/1123\u001b[0m \u001b[32m━━━━━━━━━━━━━━━━━━━━\u001b[0m\u001b[37m\u001b[0m \u001b[1m58s\u001b[0m 51ms/step - accuracy: 0.6190 - loss: 0.9812 - val_accuracy: 0.7344 - val_loss: 0.9120\n"
     ]
    }
   ],
   "source": [
    "# -----------------------------\n",
    "# 1. แปลง label เป็นตัวเลข + one-hot\n",
    "# -----------------------------\n",
    "encoder = LabelEncoder()\n",
    "y_train_enc = encoder.fit_transform(y_train)\n",
    "y_val_enc   = encoder.transform(y_val)\n",
    "y_test_enc  = encoder.transform(y_test)\n",
    "\n",
    "num_classes = len(np.unique(y_train_enc))  # เอาจาก train set เท่านั้น\n",
    "\n",
    "y_train_cat = to_categorical(y_train_enc, num_classes=num_classes)\n",
    "y_val_cat   = to_categorical(y_val_enc, num_classes=num_classes)\n",
    "y_test_cat  = to_categorical(y_test_enc, num_classes=num_classes)\n",
    "\n",
    "# -----------------------------\n",
    "# 2. แปลง X ให้เป็น float32\n",
    "# -----------------------------\n",
    "X_train = np.array(X_train, dtype=np.float32)\n",
    "X_val   = np.array(X_val, dtype=np.float32)\n",
    "X_test  = np.array(X_test, dtype=np.float32)\n",
    "\n",
    "# ensure shape = (samples, timesteps, features)\n",
    "if X_train.ndim == 2:\n",
    "    X_train = X_train[..., np.newaxis]\n",
    "    X_val   = X_val[..., np.newaxis]\n",
    "    X_test  = X_test[..., np.newaxis]\n",
    "\n",
    "print(\"X_train shape:\", X_train.shape)\n",
    "print(\"y_train shape:\", y_train_cat.shape)\n",
    "\n",
    "# -----------------------------\n",
    "# 3. สร้าง LSTM model\n",
    "# -----------------------------\n",
    "model1 = Sequential()\n",
    "model1.add(LSTM(50, input_shape=(X_train.shape[1], X_train.shape[2])))\n",
    "model1.add(Dense(num_classes, activation='softmax'))\n",
    "\n",
    "model1.compile(optimizer='adam',\n",
    "               loss='categorical_crossentropy',\n",
    "               metrics=['accuracy'])\n",
    "\n",
    "model1.summary()\n",
    "\n",
    "# -----------------------------\n",
    "# 4. Train model\n",
    "# -----------------------------\n",
    "history = model1.fit(\n",
    "    X_train, y_train_cat,\n",
    "    validation_data=(X_val, y_val_cat),\n",
    "    epochs=100,\n",
    "    batch_size=32,\n",
    "    shuffle=False,\n",
    ")\n"
   ]
  },
  {
   "cell_type": "code",
   "execution_count": 33,
   "id": "f64e3546",
   "metadata": {},
   "outputs": [
    {
     "name": "stdout",
     "output_type": "stream",
     "text": [
      "\u001b[1m319/319\u001b[0m \u001b[32m━━━━━━━━━━━━━━━━━━━━\u001b[0m\u001b[37m\u001b[0m \u001b[1m4s\u001b[0m 12ms/step - accuracy: 0.3608 - loss: 1.7213\n",
      "Test Loss: 1.7213, Test Accuracy: 36.08%\n"
     ]
    }
   ],
   "source": [
    "\n",
    "# -----------------------------\n",
    "# 5. Evaluate model\n",
    "# -----------------------------\n",
    "loss, accuracy = model1.evaluate(X_test, y_test_cat)\n",
    "print(f\"Test Loss: {loss:.4f}, Test Accuracy: {accuracy * 100:.2f}%\")"
   ]
  },
  {
   "cell_type": "code",
   "execution_count": null,
   "id": "4757348d",
   "metadata": {},
   "outputs": [],
   "source": [
    "model1.save(\"LSTM20unit.h55\")"
   ]
  },
  {
   "cell_type": "code",
   "execution_count": 34,
   "id": "d6e39350",
   "metadata": {},
   "outputs": [
    {
     "name": "stdout",
     "output_type": "stream",
     "text": [
      "\u001b[1m319/319\u001b[0m \u001b[32m━━━━━━━━━━━━━━━━━━━━\u001b[0m\u001b[37m\u001b[0m \u001b[1m4s\u001b[0m 12ms/step\n"
     ]
    }
   ],
   "source": [
    "threshold = 0.5  # set the threshold value\n",
    "y_pred_prob = model1.predict(X_test)  # generate prediction probabilities\n",
    "y_pred = (y_pred_prob > threshold).astype(int)"
   ]
  },
  {
   "cell_type": "code",
   "execution_count": 39,
   "id": "8156cead",
   "metadata": {},
   "outputs": [
    {
     "name": "stdout",
     "output_type": "stream",
     "text": [
      "[1320. 3539.    0. 3540. 1801.]\n"
     ]
    }
   ],
   "source": [
    "print(np.sum(y_test_cat, axis=0))  # นับจำนวนตัวอย่างแต่ละคลาส"
   ]
  },
  {
   "cell_type": "code",
   "execution_count": 42,
   "id": "61f499bf",
   "metadata": {},
   "outputs": [
    {
     "name": "stdout",
     "output_type": "stream",
     "text": [
      "\u001b[1m319/319\u001b[0m \u001b[32m━━━━━━━━━━━━━━━━━━━━\u001b[0m\u001b[37m\u001b[0m \u001b[1m4s\u001b[0m 12ms/step\n"
     ]
    },
    {
     "data": {
      "image/png": "[encoded data removed]",
      "text/plain": [
       "<Figure size 800x600 with 2 Axes>"
      ]
     },
     "metadata": {},
     "output_type": "display_data"
    },
    {
     "name": "stdout",
     "output_type": "stream",
     "text": [
      "                 precision    recall  f1-score   support\n",
      "\n",
      " Sleep stage N1       0.13      0.04      0.06      1320\n",
      " Sleep stage N2       0.32      0.40      0.36      3539\n",
      " Sleep stage N3       0.00      0.00      0.00         0\n",
      "  Sleep stage R       0.35      0.43      0.39      3540\n",
      "  Sleep stage W       0.68      0.37      0.48      1801\n",
      "\n",
      "       accuracy                           0.36     10200\n",
      "      macro avg       0.30      0.25      0.26     10200\n",
      "   weighted avg       0.37      0.36      0.35     10200\n",
      "\n"
     ]
    },
    {
     "name": "stderr",
     "output_type": "stream",
     "text": [
      "C:\\Users\\HP\\AppData\\Roaming\\Python\\Python313\\site-packages\\sklearn\\metrics\\_classification.py:1731: UndefinedMetricWarning: Precision is ill-defined and being set to 0.0 in labels with no predicted samples. Use `zero_division` parameter to control this behavior.\n",
      "  _warn_prf(average, modifier, f\"{metric.capitalize()} is\", result.shape[0])\n",
      "C:\\Users\\HP\\AppData\\Roaming\\Python\\Python313\\site-packages\\sklearn\\metrics\\_classification.py:1731: UndefinedMetricWarning: Recall is ill-defined and being set to 0.0 in labels with no true samples. Use `zero_division` parameter to control this behavior.\n",
      "  _warn_prf(average, modifier, f\"{metric.capitalize()} is\", result.shape[0])\n",
      "C:\\Users\\HP\\AppData\\Roaming\\Python\\Python313\\site-packages\\sklearn\\metrics\\_classification.py:1731: UndefinedMetricWarning: F-score is ill-defined and being set to 0.0 in labels with no true nor predicted samples. Use `zero_division` parameter to control this behavior.\n",
      "  _warn_prf(average, modifier, f\"{metric.capitalize()} is\", result.shape[0])\n",
      "C:\\Users\\HP\\AppData\\Roaming\\Python\\Python313\\site-packages\\sklearn\\metrics\\_classification.py:1731: UndefinedMetricWarning: Precision is ill-defined and being set to 0.0 in labels with no predicted samples. Use `zero_division` parameter to control this behavior.\n",
      "  _warn_prf(average, modifier, f\"{metric.capitalize()} is\", result.shape[0])\n",
      "C:\\Users\\HP\\AppData\\Roaming\\Python\\Python313\\site-packages\\sklearn\\metrics\\_classification.py:1731: UndefinedMetricWarning: Recall is ill-defined and being set to 0.0 in labels with no true samples. Use `zero_division` parameter to control this behavior.\n",
      "  _warn_prf(average, modifier, f\"{metric.capitalize()} is\", result.shape[0])\n",
      "C:\\Users\\HP\\AppData\\Roaming\\Python\\Python313\\site-packages\\sklearn\\metrics\\_classification.py:1731: UndefinedMetricWarning: F-score is ill-defined and being set to 0.0 in labels with no true nor predicted samples. Use `zero_division` parameter to control this behavior.\n",
      "  _warn_prf(average, modifier, f\"{metric.capitalize()} is\", result.shape[0])\n",
      "C:\\Users\\HP\\AppData\\Roaming\\Python\\Python313\\site-packages\\sklearn\\metrics\\_classification.py:1731: UndefinedMetricWarning: Precision is ill-defined and being set to 0.0 in labels with no predicted samples. Use `zero_division` parameter to control this behavior.\n",
      "  _warn_prf(average, modifier, f\"{metric.capitalize()} is\", result.shape[0])\n",
      "C:\\Users\\HP\\AppData\\Roaming\\Python\\Python313\\site-packages\\sklearn\\metrics\\_classification.py:1731: UndefinedMetricWarning: Recall is ill-defined and being set to 0.0 in labels with no true samples. Use `zero_division` parameter to control this behavior.\n",
      "  _warn_prf(average, modifier, f\"{metric.capitalize()} is\", result.shape[0])\n",
      "C:\\Users\\HP\\AppData\\Roaming\\Python\\Python313\\site-packages\\sklearn\\metrics\\_classification.py:1731: UndefinedMetricWarning: F-score is ill-defined and being set to 0.0 in labels with no true nor predicted samples. Use `zero_division` parameter to control this behavior.\n",
      "  _warn_prf(average, modifier, f\"{metric.capitalize()} is\", result.shape[0])\n"
     ]
    }
   ],
   "source": [
    "# --------------------------\n",
    "# 1. Predict labels\n",
    "# --------------------------\n",
    "y_pred_probs = model1.predict(X_test)   # ได้เป็น probability (softmax)\n",
    "y_pred = np.argmax(y_pred_probs, axis=1)  # แปลงเป็น class index\n",
    "y_true = np.argmax(y_test_cat, axis=1)    # แปลง one-hot y_test กลับเป็น index\n",
    "\n",
    "# --------------------------\n",
    "# 2. Confusion matrix\n",
    "# --------------------------\n",
    "all_labels = [0, 1, 2, 3, 4]\n",
    "cm = confusion_matrix(y_true, y_pred, labels=all_labels)\n",
    "# --------------------------\n",
    "# 3. Plot confusion matrix\n",
    "# --------------------------\n",
    "\n",
    "plt.figure(figsize=(8,6))\n",
    "sns.heatmap(cm, annot=True, fmt=\"d\", cmap=\"Blues\",\n",
    "            xticklabels=encoder.classes_,\n",
    "            yticklabels=encoder.classes_)\n",
    "plt.xlabel(\"Predicted Label\")\n",
    "plt.ylabel(\"True Label\")\n",
    "plt.title(\"Confusion Matrix\")\n",
    "plt.show()\n",
    "\n",
    "# Classification Report\n",
    "print(classification_report(y_true, y_pred,\n",
    "                            labels=all_labels,\n",
    "                            target_names=encoder.classes_))"
   ]
  },
  {
   "cell_type": "markdown",
   "id": "d86b6d14",
   "metadata": {},
   "source": [
    "## ลองทำ Class Weight"
   ]
  },
  {
   "cell_type": "code",
   "execution_count": 58,
   "id": "7a7170f1",
   "metadata": {},
   "outputs": [],
   "source": [
    "from sklearn.utils.class_weight import compute_class_weight\n"
   ]
  },
  {
   "cell_type": "code",
   "execution_count": 59,
   "id": "5b4f8dbb",
   "metadata": {},
   "outputs": [
    {
     "name": "stdout",
     "output_type": "stream",
     "text": [
      "X_train shape: (22981, 400, 8)\n",
      "y_train shape: (22981, 5)\n"
     ]
    },
    {
     "name": "stderr",
     "output_type": "stream",
     "text": [
      "C:\\Users\\HP\\AppData\\Roaming\\Python\\Python313\\site-packages\\keras\\src\\layers\\rnn\\rnn.py:199: UserWarning: Do not pass an `input_shape`/`input_dim` argument to a layer. When using Sequential models, prefer using an `Input(shape)` object as the first layer in the model instead.\n",
      "  super().__init__(**kwargs)\n"
     ]
    },
    {
     "data": {
      "text/html": [
       "<pre style=\"white-space:pre;overflow-x:auto;line-height:normal;font-family:Menlo,'DejaVu Sans Mono',consolas,'Courier New',monospace\"><span style=\"font-weight: bold\">Model: \"sequential_1\"</span>\n",
       "</pre>\n"
      ],
      "text/plain": [
       "\u001b[1mModel: \"sequential_1\"\u001b[0m\n"
      ]
     },
     "metadata": {},
     "output_type": "display_data"
    },
    {
     "data": {
      "text/html": [
       "<pre style=\"white-space:pre;overflow-x:auto;line-height:normal;font-family:Menlo,'DejaVu Sans Mono',consolas,'Courier New',monospace\">┏━━━━━━━━━━━━━━━━━━━━━━━━━━━━━━━━━┳━━━━━━━━━━━━━━━━━━━━━━━━┳━━━━━━━━━━━━━━━┓\n",
       "┃<span style=\"font-weight: bold\"> Layer (type)                    </span>┃<span style=\"font-weight: bold\"> Output Shape           </span>┃<span style=\"font-weight: bold\">       Param # </span>┃\n",
       "┡━━━━━━━━━━━━━━━━━━━━━━━━━━━━━━━━━╇━━━━━━━━━━━━━━━━━━━━━━━━╇━━━━━━━━━━━━━━━┩\n",
       "│ lstm_1 (<span style=\"color: #0087ff; text-decoration-color: #0087ff\">LSTM</span>)                   │ (<span style=\"color: #00d7ff; text-decoration-color: #00d7ff\">None</span>, <span style=\"color: #00af00; text-decoration-color: #00af00\">50</span>)             │        <span style=\"color: #00af00; text-decoration-color: #00af00\">11,800</span> │\n",
       "├─────────────────────────────────┼────────────────────────┼───────────────┤\n",
       "│ dense_1 (<span style=\"color: #0087ff; text-decoration-color: #0087ff\">Dense</span>)                 │ (<span style=\"color: #00d7ff; text-decoration-color: #00d7ff\">None</span>, <span style=\"color: #00af00; text-decoration-color: #00af00\">5</span>)              │           <span style=\"color: #00af00; text-decoration-color: #00af00\">255</span> │\n",
       "└─────────────────────────────────┴────────────────────────┴───────────────┘\n",
       "</pre>\n"
      ],
      "text/plain": [
       "┏━━━━━━━━━━━━━━━━━━━━━━━━━━━━━━━━━┳━━━━━━━━━━━━━━━━━━━━━━━━┳━━━━━━━━━━━━━━━┓\n",
       "┃\u001b[1m \u001b[0m\u001b[1mLayer (type)                   \u001b[0m\u001b[1m \u001b[0m┃\u001b[1m \u001b[0m\u001b[1mOutput Shape          \u001b[0m\u001b[1m \u001b[0m┃\u001b[1m \u001b[0m\u001b[1m      Param #\u001b[0m\u001b[1m \u001b[0m┃\n",
       "┡━━━━━━━━━━━━━━━━━━━━━━━━━━━━━━━━━╇━━━━━━━━━━━━━━━━━━━━━━━━╇━━━━━━━━━━━━━━━┩\n",
       "│ lstm_1 (\u001b[38;5;33mLSTM\u001b[0m)                   │ (\u001b[38;5;45mNone\u001b[0m, \u001b[38;5;34m50\u001b[0m)             │        \u001b[38;5;34m11,800\u001b[0m │\n",
       "├─────────────────────────────────┼────────────────────────┼───────────────┤\n",
       "│ dense_1 (\u001b[38;5;33mDense\u001b[0m)                 │ (\u001b[38;5;45mNone\u001b[0m, \u001b[38;5;34m5\u001b[0m)              │           \u001b[38;5;34m255\u001b[0m │\n",
       "└─────────────────────────────────┴────────────────────────┴───────────────┘\n"
      ]
     },
     "metadata": {},
     "output_type": "display_data"
    },
    {
     "data": {
      "text/html": [
       "<pre style=\"white-space:pre;overflow-x:auto;line-height:normal;font-family:Menlo,'DejaVu Sans Mono',consolas,'Courier New',monospace\"><span style=\"font-weight: bold\"> Total params: </span><span style=\"color: #00af00; text-decoration-color: #00af00\">12,055</span> (47.09 KB)\n",
       "</pre>\n"
      ],
      "text/plain": [
       "\u001b[1m Total params: \u001b[0m\u001b[38;5;34m12,055\u001b[0m (47.09 KB)\n"
      ]
     },
     "metadata": {},
     "output_type": "display_data"
    },
    {
     "data": {
      "text/html": [
       "<pre style=\"white-space:pre;overflow-x:auto;line-height:normal;font-family:Menlo,'DejaVu Sans Mono',consolas,'Courier New',monospace\"><span style=\"font-weight: bold\"> Trainable params: </span><span style=\"color: #00af00; text-decoration-color: #00af00\">12,055</span> (47.09 KB)\n",
       "</pre>\n"
      ],
      "text/plain": [
       "\u001b[1m Trainable params: \u001b[0m\u001b[38;5;34m12,055\u001b[0m (47.09 KB)\n"
      ]
     },
     "metadata": {},
     "output_type": "display_data"
    },
    {
     "data": {
      "text/html": [
       "<pre style=\"white-space:pre;overflow-x:auto;line-height:normal;font-family:Menlo,'DejaVu Sans Mono',consolas,'Courier New',monospace\"><span style=\"font-weight: bold\"> Non-trainable params: </span><span style=\"color: #00af00; text-decoration-color: #00af00\">0</span> (0.00 B)\n",
       "</pre>\n"
      ],
      "text/plain": [
       "\u001b[1m Non-trainable params: \u001b[0m\u001b[38;5;34m0\u001b[0m (0.00 B)\n"
      ]
     },
     "metadata": {},
     "output_type": "display_data"
    }
   ],
   "source": [
    "\n",
    "# -----------------------------\n",
    "# 1. แปลง label เป็นตัวเลข + one-hot\n",
    "# -----------------------------\n",
    "encoder = LabelEncoder()\n",
    "y_train_enc = encoder.fit_transform(y_train)\n",
    "y_val_enc   = encoder.transform(y_val)\n",
    "y_test_enc  = encoder.transform(y_test)\n",
    "\n",
    "num_classes = len(np.unique(y_train_enc))\n",
    "\n",
    "y_train_cat = to_categorical(y_train_enc, num_classes=num_classes)\n",
    "y_val_cat   = to_categorical(y_val_enc, num_classes=num_classes)\n",
    "y_test_cat  = to_categorical(y_test_enc, num_classes=num_classes)\n",
    "\n",
    "# -----------------------------\n",
    "# 2. แปลง X ให้เป็น float32\n",
    "# -----------------------------\n",
    "X_train = np.array(X_train, dtype=np.float32)\n",
    "X_val   = np.array(X_val, dtype=np.float32)\n",
    "X_test  = np.array(X_test, dtype=np.float32)\n",
    "\n",
    "if X_train.ndim == 2:  # reshape ให้เป็น (samples, timesteps, features)\n",
    "    X_train = X_train[..., np.newaxis]\n",
    "    X_val   = X_val[..., np.newaxis]\n",
    "    X_test  = X_test[..., np.newaxis]\n",
    "\n",
    "print(\"X_train shape:\", X_train.shape)\n",
    "print(\"y_train shape:\", y_train_cat.shape)\n",
    "\n",
    "# -----------------------------\n",
    "# 3. สร้าง LSTM model\n",
    "# -----------------------------\n",
    "model1 = Sequential()\n",
    "model1.add(LSTM(50, input_shape=(X_train.shape[1], X_train.shape[2])))\n",
    "model1.add(Dense(num_classes, activation='softmax'))\n",
    "\n",
    "model1.compile(optimizer='adam',\n",
    "               loss='categorical_crossentropy',\n",
    "               metrics=['accuracy'])\n",
    "\n",
    "model1.summary()"
   ]
  },
  {
   "cell_type": "code",
   "execution_count": 61,
   "id": "22ac0831",
   "metadata": {},
   "outputs": [
    {
     "name": "stdout",
     "output_type": "stream",
     "text": [
      "Class weights: {np.int64(0): np.float64(1.390680786686838), np.int64(1): np.float64(0.40638373121131743), np.int64(2): np.float64(6.6902474526928675), np.int64(3): np.float64(1.4595744680851064), np.int64(4): np.float64(1.0146136865342164)}\n",
      "Epoch 1/100\n",
      "\u001b[1m719/719\u001b[0m \u001b[32m━━━━━━━━━━━━━━━━━━━━\u001b[0m\u001b[37m\u001b[0m \u001b[1m43s\u001b[0m 57ms/step - accuracy: 0.3244 - loss: 1.7485 - val_accuracy: 0.0122 - val_loss: 2.0335\n",
      "Epoch 2/100\n",
      "\u001b[1m719/719\u001b[0m \u001b[32m━━━━━━━━━━━━━━━━━━━━\u001b[0m\u001b[37m\u001b[0m \u001b[1m118s\u001b[0m 107ms/step - accuracy: 0.2546 - loss: 1.6393 - val_accuracy: 0.0420 - val_loss: 1.8451\n",
      "Epoch 3/100\n",
      "\u001b[1m719/719\u001b[0m \u001b[32m━━━━━━━━━━━━━━━━━━━━\u001b[0m\u001b[37m\u001b[0m \u001b[1m79s\u001b[0m 109ms/step - accuracy: 0.2468 - loss: 1.6082 - val_accuracy: 0.0600 - val_loss: 1.7354\n",
      "Epoch 4/100\n",
      "\u001b[1m719/719\u001b[0m \u001b[32m━━━━━━━━━━━━━━━━━━━━\u001b[0m\u001b[37m\u001b[0m \u001b[1m53s\u001b[0m 73ms/step - accuracy: 0.2489 - loss: 1.5766 - val_accuracy: 0.0463 - val_loss: 1.7747\n",
      "Epoch 5/100\n",
      "\u001b[1m719/719\u001b[0m \u001b[32m━━━━━━━━━━━━━━━━━━━━\u001b[0m\u001b[37m\u001b[0m \u001b[1m41s\u001b[0m 57ms/step - accuracy: 0.2488 - loss: 1.5567 - val_accuracy: 0.0445 - val_loss: 1.8223\n",
      "Epoch 6/100\n",
      "\u001b[1m719/719\u001b[0m \u001b[32m━━━━━━━━━━━━━━━━━━━━\u001b[0m\u001b[37m\u001b[0m \u001b[1m70s\u001b[0m 98ms/step - accuracy: 0.2516 - loss: 1.5353 - val_accuracy: 0.0417 - val_loss: 1.8634\n",
      "Epoch 7/100\n",
      "\u001b[1m719/719\u001b[0m \u001b[32m━━━━━━━━━━━━━━━━━━━━\u001b[0m\u001b[37m\u001b[0m \u001b[1m63s\u001b[0m 87ms/step - accuracy: 0.2511 - loss: 1.5216 - val_accuracy: 0.0399 - val_loss: 1.8626\n",
      "Epoch 8/100\n",
      "\u001b[1m719/719\u001b[0m \u001b[32m━━━━━━━━━━━━━━━━━━━━\u001b[0m\u001b[37m\u001b[0m \u001b[1m42s\u001b[0m 58ms/step - accuracy: 0.2503 - loss: 1.5123 - val_accuracy: 0.0573 - val_loss: 1.7741\n",
      "Epoch 9/100\n",
      "\u001b[1m719/719\u001b[0m \u001b[32m━━━━━━━━━━━━━━━━━━━━\u001b[0m\u001b[37m\u001b[0m \u001b[1m41s\u001b[0m 57ms/step - accuracy: 0.2647 - loss: 1.5021 - val_accuracy: 0.0719 - val_loss: 1.7529\n",
      "Epoch 10/100\n",
      "\u001b[1m719/719\u001b[0m \u001b[32m━━━━━━━━━━━━━━━━━━━━\u001b[0m\u001b[37m\u001b[0m \u001b[1m41s\u001b[0m 57ms/step - accuracy: 0.2732 - loss: 1.4808 - val_accuracy: 0.0628 - val_loss: 1.7567\n",
      "Epoch 11/100\n",
      "\u001b[1m719/719\u001b[0m \u001b[32m━━━━━━━━━━━━━━━━━━━━\u001b[0m\u001b[37m\u001b[0m \u001b[1m41s\u001b[0m 57ms/step - accuracy: 0.2831 - loss: 1.4604 - val_accuracy: 0.0774 - val_loss: 1.8147\n",
      "Epoch 12/100\n",
      "\u001b[1m719/719\u001b[0m \u001b[32m━━━━━━━━━━━━━━━━━━━━\u001b[0m\u001b[37m\u001b[0m \u001b[1m41s\u001b[0m 57ms/step - accuracy: 0.2977 - loss: 1.4474 - val_accuracy: 0.0810 - val_loss: 1.7905\n",
      "Epoch 13/100\n",
      "\u001b[1m719/719\u001b[0m \u001b[32m━━━━━━━━━━━━━━━━━━━━\u001b[0m\u001b[37m\u001b[0m \u001b[1m41s\u001b[0m 57ms/step - accuracy: 0.2992 - loss: 1.4312 - val_accuracy: 0.0737 - val_loss: 1.8406\n",
      "Epoch 14/100\n",
      "\u001b[1m719/719\u001b[0m \u001b[32m━━━━━━━━━━━━━━━━━━━━\u001b[0m\u001b[37m\u001b[0m \u001b[1m54s\u001b[0m 75ms/step - accuracy: 0.3151 - loss: 1.4132 - val_accuracy: 0.0844 - val_loss: 1.8236\n",
      "Epoch 15/100\n",
      "\u001b[1m719/719\u001b[0m \u001b[32m━━━━━━━━━━━━━━━━━━━━\u001b[0m\u001b[37m\u001b[0m \u001b[1m44s\u001b[0m 61ms/step - accuracy: 0.3255 - loss: 1.4021 - val_accuracy: 0.0884 - val_loss: 1.8546\n",
      "Epoch 16/100\n",
      "\u001b[1m719/719\u001b[0m \u001b[32m━━━━━━━━━━━━━━━━━━━━\u001b[0m\u001b[37m\u001b[0m \u001b[1m41s\u001b[0m 58ms/step - accuracy: 0.3219 - loss: 1.4027 - val_accuracy: 0.0963 - val_loss: 1.8290\n",
      "Epoch 17/100\n",
      "\u001b[1m719/719\u001b[0m \u001b[32m━━━━━━━━━━━━━━━━━━━━\u001b[0m\u001b[37m\u001b[0m \u001b[1m42s\u001b[0m 59ms/step - accuracy: 0.3301 - loss: 1.3753 - val_accuracy: 0.1200 - val_loss: 1.7729\n",
      "Epoch 18/100\n",
      "\u001b[1m719/719\u001b[0m \u001b[32m━━━━━━━━━━━━━━━━━━━━\u001b[0m\u001b[37m\u001b[0m \u001b[1m41s\u001b[0m 58ms/step - accuracy: 0.3420 - loss: 1.3524 - val_accuracy: 0.1310 - val_loss: 1.7766\n",
      "Epoch 19/100\n",
      "\u001b[1m719/719\u001b[0m \u001b[32m━━━━━━━━━━━━━━━━━━━━\u001b[0m\u001b[37m\u001b[0m \u001b[1m42s\u001b[0m 58ms/step - accuracy: 0.3450 - loss: 1.3443 - val_accuracy: 0.1225 - val_loss: 1.8268\n",
      "Epoch 20/100\n",
      "\u001b[1m719/719\u001b[0m \u001b[32m━━━━━━━━━━━━━━━━━━━━\u001b[0m\u001b[37m\u001b[0m \u001b[1m55s\u001b[0m 77ms/step - accuracy: 0.3587 - loss: 1.3326 - val_accuracy: 0.1426 - val_loss: 1.7427\n",
      "Epoch 21/100\n",
      "\u001b[1m719/719\u001b[0m \u001b[32m━━━━━━━━━━━━━━━━━━━━\u001b[0m\u001b[37m\u001b[0m \u001b[1m50s\u001b[0m 70ms/step - accuracy: 0.3609 - loss: 1.3159 - val_accuracy: 0.1484 - val_loss: 1.7707\n",
      "Epoch 22/100\n",
      "\u001b[1m719/719\u001b[0m \u001b[32m━━━━━━━━━━━━━━━━━━━━\u001b[0m\u001b[37m\u001b[0m \u001b[1m57s\u001b[0m 79ms/step - accuracy: 0.3678 - loss: 1.3010 - val_accuracy: 0.1569 - val_loss: 1.7276\n",
      "Epoch 23/100\n",
      "\u001b[1m719/719\u001b[0m \u001b[32m━━━━━━━━━━━━━━━━━━━━\u001b[0m\u001b[37m\u001b[0m \u001b[1m57s\u001b[0m 79ms/step - accuracy: 0.3750 - loss: 1.2947 - val_accuracy: 0.1743 - val_loss: 1.7195\n",
      "Epoch 24/100\n",
      "\u001b[1m719/719\u001b[0m \u001b[32m━━━━━━━━━━━━━━━━━━━━\u001b[0m\u001b[37m\u001b[0m \u001b[1m58s\u001b[0m 81ms/step - accuracy: 0.3776 - loss: 1.2776 - val_accuracy: 0.1853 - val_loss: 1.6985\n",
      "Epoch 25/100\n",
      "\u001b[1m719/719\u001b[0m \u001b[32m━━━━━━━━━━━━━━━━━━━━\u001b[0m\u001b[37m\u001b[0m \u001b[1m59s\u001b[0m 82ms/step - accuracy: 0.3822 - loss: 1.2650 - val_accuracy: 0.1776 - val_loss: 1.7126\n",
      "Epoch 26/100\n",
      "\u001b[1m719/719\u001b[0m \u001b[32m━━━━━━━━━━━━━━━━━━━━\u001b[0m\u001b[37m\u001b[0m \u001b[1m58s\u001b[0m 80ms/step - accuracy: 0.3843 - loss: 1.2659 - val_accuracy: 0.1856 - val_loss: 1.6797\n",
      "Epoch 27/100\n",
      "\u001b[1m719/719\u001b[0m \u001b[32m━━━━━━━━━━━━━━━━━━━━\u001b[0m\u001b[37m\u001b[0m \u001b[1m58s\u001b[0m 81ms/step - accuracy: 0.3790 - loss: 1.2619 - val_accuracy: 0.1691 - val_loss: 1.7207\n",
      "Epoch 28/100\n",
      "\u001b[1m719/719\u001b[0m \u001b[32m━━━━━━━━━━━━━━━━━━━━\u001b[0m\u001b[37m\u001b[0m \u001b[1m58s\u001b[0m 81ms/step - accuracy: 0.3894 - loss: 1.2544 - val_accuracy: 0.1968 - val_loss: 1.6667\n",
      "Epoch 29/100\n",
      "\u001b[1m719/719\u001b[0m \u001b[32m━━━━━━━━━━━━━━━━━━━━\u001b[0m\u001b[37m\u001b[0m \u001b[1m58s\u001b[0m 80ms/step - accuracy: 0.4005 - loss: 1.2300 - val_accuracy: 0.2093 - val_loss: 1.6399\n",
      "Epoch 30/100\n",
      "\u001b[1m719/719\u001b[0m \u001b[32m━━━━━━━━━━━━━━━━━━━━\u001b[0m\u001b[37m\u001b[0m \u001b[1m58s\u001b[0m 81ms/step - accuracy: 0.3995 - loss: 1.2293 - val_accuracy: 0.2060 - val_loss: 1.6752\n",
      "Epoch 31/100\n",
      "\u001b[1m719/719\u001b[0m \u001b[32m━━━━━━━━━━━━━━━━━━━━\u001b[0m\u001b[37m\u001b[0m \u001b[1m58s\u001b[0m 80ms/step - accuracy: 0.3910 - loss: 1.2363 - val_accuracy: 0.2078 - val_loss: 1.6529\n",
      "Epoch 32/100\n",
      "\u001b[1m719/719\u001b[0m \u001b[32m━━━━━━━━━━━━━━━━━━━━\u001b[0m\u001b[37m\u001b[0m \u001b[1m58s\u001b[0m 81ms/step - accuracy: 0.4129 - loss: 1.2043 - val_accuracy: 0.2303 - val_loss: 1.6166\n",
      "Epoch 33/100\n",
      "\u001b[1m719/719\u001b[0m \u001b[32m━━━━━━━━━━━━━━━━━━━━\u001b[0m\u001b[37m\u001b[0m \u001b[1m59s\u001b[0m 82ms/step - accuracy: 0.4191 - loss: 1.1891 - val_accuracy: 0.2434 - val_loss: 1.5976\n",
      "Epoch 34/100\n",
      "\u001b[1m719/719\u001b[0m \u001b[32m━━━━━━━━━━━━━━━━━━━━\u001b[0m\u001b[37m\u001b[0m \u001b[1m55s\u001b[0m 77ms/step - accuracy: 0.4161 - loss: 1.1884 - val_accuracy: 0.2526 - val_loss: 1.5840\n",
      "Epoch 35/100\n",
      "\u001b[1m719/719\u001b[0m \u001b[32m━━━━━━━━━━━━━━━━━━━━\u001b[0m\u001b[37m\u001b[0m \u001b[1m42s\u001b[0m 58ms/step - accuracy: 0.4136 - loss: 1.1736 - val_accuracy: 0.2303 - val_loss: 1.6405\n",
      "Epoch 36/100\n",
      "\u001b[1m719/719\u001b[0m \u001b[32m━━━━━━━━━━━━━━━━━━━━\u001b[0m\u001b[37m\u001b[0m \u001b[1m42s\u001b[0m 58ms/step - accuracy: 0.4233 - loss: 1.1866 - val_accuracy: 0.2413 - val_loss: 1.6162\n",
      "Epoch 37/100\n",
      "\u001b[1m719/719\u001b[0m \u001b[32m━━━━━━━━━━━━━━━━━━━━\u001b[0m\u001b[37m\u001b[0m \u001b[1m41s\u001b[0m 58ms/step - accuracy: 0.4187 - loss: 1.1565 - val_accuracy: 0.2599 - val_loss: 1.6041\n",
      "Epoch 38/100\n",
      "\u001b[1m719/719\u001b[0m \u001b[32m━━━━━━━━━━━━━━━━━━━━\u001b[0m\u001b[37m\u001b[0m \u001b[1m41s\u001b[0m 57ms/step - accuracy: 0.4283 - loss: 1.1563 - val_accuracy: 0.2502 - val_loss: 1.6299\n",
      "Epoch 39/100\n",
      "\u001b[1m719/719\u001b[0m \u001b[32m━━━━━━━━━━━━━━━━━━━━\u001b[0m\u001b[37m\u001b[0m \u001b[1m49s\u001b[0m 68ms/step - accuracy: 0.4344 - loss: 1.1407 - val_accuracy: 0.2767 - val_loss: 1.5692\n",
      "Epoch 40/100\n",
      "\u001b[1m719/719\u001b[0m \u001b[32m━━━━━━━━━━━━━━━━━━━━\u001b[0m\u001b[37m\u001b[0m \u001b[1m41s\u001b[0m 58ms/step - accuracy: 0.4394 - loss: 1.1261 - val_accuracy: 0.2873 - val_loss: 1.5400\n",
      "Epoch 41/100\n",
      "\u001b[1m719/719\u001b[0m \u001b[32m━━━━━━━━━━━━━━━━━━━━\u001b[0m\u001b[37m\u001b[0m \u001b[1m41s\u001b[0m 57ms/step - accuracy: 0.4402 - loss: 1.1174 - val_accuracy: 0.3056 - val_loss: 1.5393\n",
      "Epoch 42/100\n",
      "\u001b[1m719/719\u001b[0m \u001b[32m━━━━━━━━━━━━━━━━━━━━\u001b[0m\u001b[37m\u001b[0m \u001b[1m41s\u001b[0m 57ms/step - accuracy: 0.4360 - loss: 1.1320 - val_accuracy: 0.2697 - val_loss: 1.6082\n",
      "Epoch 43/100\n",
      "\u001b[1m719/719\u001b[0m \u001b[32m━━━━━━━━━━━━━━━━━━━━\u001b[0m\u001b[37m\u001b[0m \u001b[1m45s\u001b[0m 62ms/step - accuracy: 0.4277 - loss: 1.1443 - val_accuracy: 0.2724 - val_loss: 1.5734\n",
      "Epoch 44/100\n",
      "\u001b[1m719/719\u001b[0m \u001b[32m━━━━━━━━━━━━━━━━━━━━\u001b[0m\u001b[37m\u001b[0m \u001b[1m56s\u001b[0m 77ms/step - accuracy: 0.4249 - loss: 1.1464 - val_accuracy: 0.2785 - val_loss: 1.6052\n",
      "Epoch 45/100\n",
      "\u001b[1m719/719\u001b[0m \u001b[32m━━━━━━━━━━━━━━━━━━━━\u001b[0m\u001b[37m\u001b[0m \u001b[1m59s\u001b[0m 82ms/step - accuracy: 0.4378 - loss: 1.1132 - val_accuracy: 0.2742 - val_loss: 1.5837\n",
      "Epoch 46/100\n",
      "\u001b[1m719/719\u001b[0m \u001b[32m━━━━━━━━━━━━━━━━━━━━\u001b[0m\u001b[37m\u001b[0m \u001b[1m58s\u001b[0m 81ms/step - accuracy: 0.4419 - loss: 1.0993 - val_accuracy: 0.3013 - val_loss: 1.5448\n",
      "Epoch 47/100\n",
      "\u001b[1m719/719\u001b[0m \u001b[32m━━━━━━━━━━━━━━━━━━━━\u001b[0m\u001b[37m\u001b[0m \u001b[1m58s\u001b[0m 81ms/step - accuracy: 0.4514 - loss: 1.0957 - val_accuracy: 0.2855 - val_loss: 1.5777\n",
      "Epoch 48/100\n",
      "\u001b[1m719/719\u001b[0m \u001b[32m━━━━━━━━━━━━━━━━━━━━\u001b[0m\u001b[37m\u001b[0m \u001b[1m58s\u001b[0m 81ms/step - accuracy: 0.4467 - loss: 1.1000 - val_accuracy: 0.3029 - val_loss: 1.5544\n",
      "Epoch 49/100\n",
      "\u001b[1m719/719\u001b[0m \u001b[32m━━━━━━━━━━━━━━━━━━━━\u001b[0m\u001b[37m\u001b[0m \u001b[1m61s\u001b[0m 85ms/step - accuracy: 0.4527 - loss: 1.0843 - val_accuracy: 0.3023 - val_loss: 1.5326\n",
      "Epoch 50/100\n",
      "\u001b[1m719/719\u001b[0m \u001b[32m━━━━━━━━━━━━━━━━━━━━\u001b[0m\u001b[37m\u001b[0m \u001b[1m69s\u001b[0m 96ms/step - accuracy: 0.4544 - loss: 1.0769 - val_accuracy: 0.3068 - val_loss: 1.5422\n",
      "Epoch 51/100\n",
      "\u001b[1m719/719\u001b[0m \u001b[32m━━━━━━━━━━━━━━━━━━━━\u001b[0m\u001b[37m\u001b[0m \u001b[1m48s\u001b[0m 66ms/step - accuracy: 0.4497 - loss: 1.0866 - val_accuracy: 0.2977 - val_loss: 1.5497\n",
      "Epoch 52/100\n",
      "\u001b[1m719/719\u001b[0m \u001b[32m━━━━━━━━━━━━━━━━━━━━\u001b[0m\u001b[37m\u001b[0m \u001b[1m42s\u001b[0m 58ms/step - accuracy: 0.4526 - loss: 1.0795 - val_accuracy: 0.2980 - val_loss: 1.5175\n",
      "Epoch 53/100\n",
      "\u001b[1m719/719\u001b[0m \u001b[32m━━━━━━━━━━━━━━━━━━━━\u001b[0m\u001b[37m\u001b[0m \u001b[1m41s\u001b[0m 57ms/step - accuracy: 0.4498 - loss: 1.0753 - val_accuracy: 0.2971 - val_loss: 1.5650\n",
      "Epoch 54/100\n",
      "\u001b[1m719/719\u001b[0m \u001b[32m━━━━━━━━━━━━━━━━━━━━\u001b[0m\u001b[37m\u001b[0m \u001b[1m41s\u001b[0m 57ms/step - accuracy: 0.4518 - loss: 1.0791 - val_accuracy: 0.3010 - val_loss: 1.5810\n",
      "Epoch 55/100\n",
      "\u001b[1m719/719\u001b[0m \u001b[32m━━━━━━━━━━━━━━━━━━━━\u001b[0m\u001b[37m\u001b[0m \u001b[1m58s\u001b[0m 80ms/step - accuracy: 0.4533 - loss: 1.0873 - val_accuracy: 0.3157 - val_loss: 1.5263\n",
      "Epoch 56/100\n",
      "\u001b[1m719/719\u001b[0m \u001b[32m━━━━━━━━━━━━━━━━━━━━\u001b[0m\u001b[37m\u001b[0m \u001b[1m57s\u001b[0m 79ms/step - accuracy: 0.4506 - loss: 1.0768 - val_accuracy: 0.3138 - val_loss: 1.5338\n",
      "Epoch 57/100\n",
      "\u001b[1m719/719\u001b[0m \u001b[32m━━━━━━━━━━━━━━━━━━━━\u001b[0m\u001b[37m\u001b[0m \u001b[1m55s\u001b[0m 76ms/step - accuracy: 0.4537 - loss: 1.0646 - val_accuracy: 0.2812 - val_loss: 1.5911\n",
      "Epoch 58/100\n",
      "\u001b[1m719/719\u001b[0m \u001b[32m━━━━━━━━━━━━━━━━━━━━\u001b[0m\u001b[37m\u001b[0m \u001b[1m54s\u001b[0m 75ms/step - accuracy: 0.4557 - loss: 1.0658 - val_accuracy: 0.3227 - val_loss: 1.5182\n",
      "Epoch 59/100\n",
      "\u001b[1m719/719\u001b[0m \u001b[32m━━━━━━━━━━━━━━━━━━━━\u001b[0m\u001b[37m\u001b[0m \u001b[1m54s\u001b[0m 75ms/step - accuracy: 0.4633 - loss: 1.0465 - val_accuracy: 0.3087 - val_loss: 1.5644\n",
      "Epoch 60/100\n",
      "\u001b[1m719/719\u001b[0m \u001b[32m━━━━━━━━━━━━━━━━━━━━\u001b[0m\u001b[37m\u001b[0m \u001b[1m54s\u001b[0m 75ms/step - accuracy: 0.4581 - loss: 1.0563 - val_accuracy: 0.2992 - val_loss: 1.5586\n",
      "Epoch 61/100\n",
      "\u001b[1m719/719\u001b[0m \u001b[32m━━━━━━━━━━━━━━━━━━━━\u001b[0m\u001b[37m\u001b[0m \u001b[1m55s\u001b[0m 76ms/step - accuracy: 0.4531 - loss: 1.0575 - val_accuracy: 0.3205 - val_loss: 1.5357\n",
      "Epoch 62/100\n",
      "\u001b[1m719/719\u001b[0m \u001b[32m━━━━━━━━━━━━━━━━━━━━\u001b[0m\u001b[37m\u001b[0m \u001b[1m82s\u001b[0m 76ms/step - accuracy: 0.4523 - loss: 1.0725 - val_accuracy: 0.3208 - val_loss: 1.5423\n",
      "Epoch 63/100\n",
      "\u001b[1m719/719\u001b[0m \u001b[32m━━━━━━━━━━━━━━━━━━━━\u001b[0m\u001b[37m\u001b[0m \u001b[1m55s\u001b[0m 76ms/step - accuracy: 0.4631 - loss: 1.0316 - val_accuracy: 0.3166 - val_loss: 1.5295\n",
      "Epoch 64/100\n",
      "\u001b[1m719/719\u001b[0m \u001b[32m━━━━━━━━━━━━━━━━━━━━\u001b[0m\u001b[37m\u001b[0m \u001b[1m55s\u001b[0m 76ms/step - accuracy: 0.4684 - loss: 1.0436 - val_accuracy: 0.3205 - val_loss: 1.5203\n",
      "Epoch 65/100\n",
      "\u001b[1m719/719\u001b[0m \u001b[32m━━━━━━━━━━━━━━━━━━━━\u001b[0m\u001b[37m\u001b[0m \u001b[1m54s\u001b[0m 76ms/step - accuracy: 0.4717 - loss: 1.0357 - val_accuracy: 0.3263 - val_loss: 1.5119\n",
      "Epoch 66/100\n",
      "\u001b[1m719/719\u001b[0m \u001b[32m━━━━━━━━━━━━━━━━━━━━\u001b[0m\u001b[37m\u001b[0m \u001b[1m48s\u001b[0m 66ms/step - accuracy: 0.4688 - loss: 1.0371 - val_accuracy: 0.3379 - val_loss: 1.4839\n",
      "Epoch 67/100\n",
      "\u001b[1m719/719\u001b[0m \u001b[32m━━━━━━━━━━━━━━━━━━━━\u001b[0m\u001b[37m\u001b[0m \u001b[1m37s\u001b[0m 51ms/step - accuracy: 0.4744 - loss: 1.0166 - val_accuracy: 0.3467 - val_loss: 1.5122\n",
      "Epoch 68/100\n",
      "\u001b[1m719/719\u001b[0m \u001b[32m━━━━━━━━━━━━━━━━━━━━\u001b[0m\u001b[37m\u001b[0m \u001b[1m37s\u001b[0m 51ms/step - accuracy: 0.4800 - loss: 1.0016 - val_accuracy: 0.3272 - val_loss: 1.5142\n",
      "Epoch 69/100\n",
      "\u001b[1m719/719\u001b[0m \u001b[32m━━━━━━━━━━━━━━━━━━━━\u001b[0m\u001b[37m\u001b[0m \u001b[1m36s\u001b[0m 50ms/step - accuracy: 0.4810 - loss: 0.9935 - val_accuracy: 0.3437 - val_loss: 1.5027\n",
      "Epoch 70/100\n",
      "\u001b[1m719/719\u001b[0m \u001b[32m━━━━━━━━━━━━━━━━━━━━\u001b[0m\u001b[37m\u001b[0m \u001b[1m37s\u001b[0m 51ms/step - accuracy: 0.4748 - loss: 1.0192 - val_accuracy: 0.3309 - val_loss: 1.5197\n",
      "Epoch 71/100\n",
      "\u001b[1m719/719\u001b[0m \u001b[32m━━━━━━━━━━━━━━━━━━━━\u001b[0m\u001b[37m\u001b[0m \u001b[1m37s\u001b[0m 51ms/step - accuracy: 0.4673 - loss: 1.0291 - val_accuracy: 0.3324 - val_loss: 1.5478\n",
      "Epoch 72/100\n",
      "\u001b[1m719/719\u001b[0m \u001b[32m━━━━━━━━━━━━━━━━━━━━\u001b[0m\u001b[37m\u001b[0m \u001b[1m37s\u001b[0m 51ms/step - accuracy: 0.4755 - loss: 1.0151 - val_accuracy: 0.3294 - val_loss: 1.5477\n",
      "Epoch 73/100\n",
      "\u001b[1m719/719\u001b[0m \u001b[32m━━━━━━━━━━━━━━━━━━━━\u001b[0m\u001b[37m\u001b[0m \u001b[1m41s\u001b[0m 57ms/step - accuracy: 0.4784 - loss: 0.9947 - val_accuracy: 0.3431 - val_loss: 1.5199\n",
      "Epoch 74/100\n",
      "\u001b[1m719/719\u001b[0m \u001b[32m━━━━━━━━━━━━━━━━━━━━\u001b[0m\u001b[37m\u001b[0m \u001b[1m43s\u001b[0m 59ms/step - accuracy: 0.4748 - loss: 0.9998 - val_accuracy: 0.3324 - val_loss: 1.5145\n",
      "Epoch 75/100\n",
      "\u001b[1m719/719\u001b[0m \u001b[32m━━━━━━━━━━━━━━━━━━━━\u001b[0m\u001b[37m\u001b[0m \u001b[1m41s\u001b[0m 57ms/step - accuracy: 0.4809 - loss: 0.9960 - val_accuracy: 0.3278 - val_loss: 1.5262\n",
      "Epoch 76/100\n",
      "\u001b[1m719/719\u001b[0m \u001b[32m━━━━━━━━━━━━━━━━━━━━\u001b[0m\u001b[37m\u001b[0m \u001b[1m40s\u001b[0m 56ms/step - accuracy: 0.4756 - loss: 1.0026 - val_accuracy: 0.3221 - val_loss: 1.5408\n",
      "Epoch 77/100\n",
      "\u001b[1m719/719\u001b[0m \u001b[32m━━━━━━━━━━━━━━━━━━━━\u001b[0m\u001b[37m\u001b[0m \u001b[1m38s\u001b[0m 53ms/step - accuracy: 0.4804 - loss: 0.9892 - val_accuracy: 0.3297 - val_loss: 1.5274\n",
      "Epoch 78/100\n",
      "\u001b[1m719/719\u001b[0m \u001b[32m━━━━━━━━━━━━━━━━━━━━\u001b[0m\u001b[37m\u001b[0m \u001b[1m38s\u001b[0m 53ms/step - accuracy: 0.4958 - loss: 0.9680 - val_accuracy: 0.3425 - val_loss: 1.5168\n",
      "Epoch 79/100\n",
      "\u001b[1m719/719\u001b[0m \u001b[32m━━━━━━━━━━━━━━━━━━━━\u001b[0m\u001b[37m\u001b[0m \u001b[1m39s\u001b[0m 54ms/step - accuracy: 0.4818 - loss: 0.9836 - val_accuracy: 0.3406 - val_loss: 1.5230\n",
      "Epoch 80/100\n",
      "\u001b[1m719/719\u001b[0m \u001b[32m━━━━━━━━━━━━━━━━━━━━\u001b[0m\u001b[37m\u001b[0m \u001b[1m38s\u001b[0m 53ms/step - accuracy: 0.4864 - loss: 0.9803 - val_accuracy: 0.3205 - val_loss: 1.5381\n",
      "Epoch 81/100\n",
      "\u001b[1m719/719\u001b[0m \u001b[32m━━━━━━━━━━━━━━━━━━━━\u001b[0m\u001b[37m\u001b[0m \u001b[1m38s\u001b[0m 53ms/step - accuracy: 0.4843 - loss: 0.9791 - val_accuracy: 0.3498 - val_loss: 1.5045\n",
      "Epoch 82/100\n",
      "\u001b[1m719/719\u001b[0m \u001b[32m━━━━━━━━━━━━━━━━━━━━\u001b[0m\u001b[37m\u001b[0m \u001b[1m38s\u001b[0m 53ms/step - accuracy: 0.4756 - loss: 1.0153 - val_accuracy: 0.3431 - val_loss: 1.5182\n",
      "Epoch 83/100\n",
      "\u001b[1m719/719\u001b[0m \u001b[32m━━━━━━━━━━━━━━━━━━━━\u001b[0m\u001b[37m\u001b[0m \u001b[1m38s\u001b[0m 53ms/step - accuracy: 0.4813 - loss: 1.0019 - val_accuracy: 0.3547 - val_loss: 1.5200\n",
      "Epoch 84/100\n",
      "\u001b[1m719/719\u001b[0m \u001b[32m━━━━━━━━━━━━━━━━━━━━\u001b[0m\u001b[37m\u001b[0m \u001b[1m38s\u001b[0m 53ms/step - accuracy: 0.4948 - loss: 0.9593 - val_accuracy: 0.3519 - val_loss: 1.5103\n",
      "Epoch 85/100\n",
      "\u001b[1m719/719\u001b[0m \u001b[32m━━━━━━━━━━━━━━━━━━━━\u001b[0m\u001b[37m\u001b[0m \u001b[1m39s\u001b[0m 54ms/step - accuracy: 0.4931 - loss: 0.9595 - val_accuracy: 0.3443 - val_loss: 1.5064\n",
      "Epoch 86/100\n",
      "\u001b[1m719/719\u001b[0m \u001b[32m━━━━━━━━━━━━━━━━━━━━\u001b[0m\u001b[37m\u001b[0m \u001b[1m53s\u001b[0m 74ms/step - accuracy: 0.4958 - loss: 0.9537 - val_accuracy: 0.3431 - val_loss: 1.5056\n",
      "Epoch 87/100\n",
      "\u001b[1m719/719\u001b[0m \u001b[32m━━━━━━━━━━━━━━━━━━━━\u001b[0m\u001b[37m\u001b[0m \u001b[1m57s\u001b[0m 79ms/step - accuracy: 0.4952 - loss: 0.9619 - val_accuracy: 0.3525 - val_loss: 1.5125\n",
      "Epoch 88/100\n",
      "\u001b[1m719/719\u001b[0m \u001b[32m━━━━━━━━━━━━━━━━━━━━\u001b[0m\u001b[37m\u001b[0m \u001b[1m61s\u001b[0m 84ms/step - accuracy: 0.4936 - loss: 0.9619 - val_accuracy: 0.3629 - val_loss: 1.4999\n",
      "Epoch 89/100\n",
      "\u001b[1m719/719\u001b[0m \u001b[32m━━━━━━━━━━━━━━━━━━━━\u001b[0m\u001b[37m\u001b[0m \u001b[1m53s\u001b[0m 74ms/step - accuracy: 0.4955 - loss: 0.9585 - val_accuracy: 0.3556 - val_loss: 1.5078\n",
      "Epoch 90/100\n",
      "\u001b[1m719/719\u001b[0m \u001b[32m━━━━━━━━━━━━━━━━━━━━\u001b[0m\u001b[37m\u001b[0m \u001b[1m53s\u001b[0m 73ms/step - accuracy: 0.4989 - loss: 0.9530 - val_accuracy: 0.3589 - val_loss: 1.5183\n",
      "Epoch 91/100\n",
      "\u001b[1m719/719\u001b[0m \u001b[32m━━━━━━━━━━━━━━━━━━━━\u001b[0m\u001b[37m\u001b[0m \u001b[1m52s\u001b[0m 72ms/step - accuracy: 0.4891 - loss: 0.9645 - val_accuracy: 0.3516 - val_loss: 1.5372\n",
      "Epoch 92/100\n",
      "\u001b[1m719/719\u001b[0m \u001b[32m━━━━━━━━━━━━━━━━━━━━\u001b[0m\u001b[37m\u001b[0m \u001b[1m86s\u001b[0m 78ms/step - accuracy: 0.4988 - loss: 0.9455 - val_accuracy: 0.3443 - val_loss: 1.5228\n",
      "Epoch 93/100\n",
      "\u001b[1m719/719\u001b[0m \u001b[32m━━━━━━━━━━━━━━━━━━━━\u001b[0m\u001b[37m\u001b[0m \u001b[1m61s\u001b[0m 85ms/step - accuracy: 0.5045 - loss: 0.9246 - val_accuracy: 0.3681 - val_loss: 1.4853\n",
      "Epoch 94/100\n",
      "\u001b[1m719/719\u001b[0m \u001b[32m━━━━━━━━━━━━━━━━━━━━\u001b[0m\u001b[37m\u001b[0m \u001b[1m56s\u001b[0m 77ms/step - accuracy: 0.4931 - loss: 0.9610 - val_accuracy: 0.3385 - val_loss: 1.5306\n",
      "Epoch 95/100\n",
      "\u001b[1m719/719\u001b[0m \u001b[32m━━━━━━━━━━━━━━━━━━━━\u001b[0m\u001b[37m\u001b[0m \u001b[1m50s\u001b[0m 69ms/step - accuracy: 0.4951 - loss: 0.9536 - val_accuracy: 0.3553 - val_loss: 1.5205\n",
      "Epoch 96/100\n",
      "\u001b[1m719/719\u001b[0m \u001b[32m━━━━━━━━━━━━━━━━━━━━\u001b[0m\u001b[37m\u001b[0m \u001b[1m56s\u001b[0m 78ms/step - accuracy: 0.4943 - loss: 0.9574 - val_accuracy: 0.3525 - val_loss: 1.5395\n",
      "Epoch 97/100\n",
      "\u001b[1m719/719\u001b[0m \u001b[32m━━━━━━━━━━━━━━━━━━━━\u001b[0m\u001b[37m\u001b[0m \u001b[1m52s\u001b[0m 72ms/step - accuracy: 0.5067 - loss: 0.9422 - val_accuracy: 0.3571 - val_loss: 1.5124\n",
      "Epoch 98/100\n",
      "\u001b[1m719/719\u001b[0m \u001b[32m━━━━━━━━━━━━━━━━━━━━\u001b[0m\u001b[37m\u001b[0m \u001b[1m51s\u001b[0m 71ms/step - accuracy: 0.5099 - loss: 0.9334 - val_accuracy: 0.3413 - val_loss: 1.5244\n",
      "Epoch 99/100\n",
      "\u001b[1m719/719\u001b[0m \u001b[32m━━━━━━━━━━━━━━━━━━━━\u001b[0m\u001b[37m\u001b[0m \u001b[1m53s\u001b[0m 74ms/step - accuracy: 0.5046 - loss: 0.9401 - val_accuracy: 0.3592 - val_loss: 1.4990\n",
      "Epoch 100/100\n",
      "\u001b[1m719/719\u001b[0m \u001b[32m━━━━━━━━━━━━━━━━━━━━\u001b[0m\u001b[37m\u001b[0m \u001b[1m50s\u001b[0m 69ms/step - accuracy: 0.5097 - loss: 0.9403 - val_accuracy: 0.3608 - val_loss: 1.5102\n"
     ]
    }
   ],
   "source": [
    "# -----------------------------\n",
    "# 4. คำนวณ class weights\n",
    "# -----------------------------\n",
    "classes = np.unique(y_train_enc)\n",
    "class_weights = compute_class_weight(class_weight=\"balanced\",\n",
    "                                     classes=classes,\n",
    "                                     y=y_train_enc)\n",
    "class_weights = dict(zip(classes, class_weights))\n",
    "print(\"Class weights:\", class_weights)\n",
    "\n",
    "# -----------------------------\n",
    "# 5. Train model\n",
    "# -----------------------------\n",
    "history = model1.fit(\n",
    "    X_train, y_train_cat,\n",
    "    validation_data=(X_val, y_val_cat),\n",
    "    epochs=100,\n",
    "    batch_size=32,\n",
    "    shuffle=False,\n",
    "    class_weight=class_weights   #  เพิ่มตรงนี้\n",
    ")"
   ]
  },
  {
   "cell_type": "code",
   "execution_count": 62,
   "id": "48b7284b",
   "metadata": {},
   "outputs": [
    {
     "name": "stdout",
     "output_type": "stream",
     "text": [
      "\u001b[1m204/204\u001b[0m \u001b[32m━━━━━━━━━━━━━━━━━━━━\u001b[0m\u001b[37m\u001b[0m \u001b[1m4s\u001b[0m 17ms/step - accuracy: 0.3467 - loss: 1.7738\n",
      "Test Loss: 1.7738, Test Accuracy: 34.67%\n"
     ]
    }
   ],
   "source": [
    "\n",
    "# -----------------------------\n",
    "# 5. Evaluate model\n",
    "# -----------------------------\n",
    "loss, accuracy = model1.evaluate(X_test, y_test_cat)\n",
    "print(f\"Test Loss: {loss:.4f}, Test Accuracy: {accuracy * 100:.2f}%\")"
   ]
  },
  {
   "cell_type": "code",
   "execution_count": 63,
   "id": "a8ad4777",
   "metadata": {},
   "outputs": [
    {
     "name": "stdout",
     "output_type": "stream",
     "text": [
      "\u001b[1m204/204\u001b[0m \u001b[32m━━━━━━━━━━━━━━━━━━━━\u001b[0m\u001b[37m\u001b[0m \u001b[1m4s\u001b[0m 17ms/step\n"
     ]
    }
   ],
   "source": [
    "threshold = 0.5  # set the threshold value\n",
    "y_pred_prob = model1.predict(X_test)  # generate prediction probabilities\n",
    "y_pred = (y_pred_prob > threshold).astype(int)"
   ]
  },
  {
   "cell_type": "code",
   "execution_count": 64,
   "id": "6afc364b",
   "metadata": {},
   "outputs": [
    {
     "name": "stdout",
     "output_type": "stream",
     "text": [
      "\u001b[1m204/204\u001b[0m \u001b[32m━━━━━━━━━━━━━━━━━━━━\u001b[0m\u001b[37m\u001b[0m \u001b[1m4s\u001b[0m 17ms/step\n"
     ]
    },
    {
     "data": {
      "image/png": "[encoded data removed]",
      "text/plain": [
       "<Figure size 800x600 with 2 Axes>"
      ]
     },
     "metadata": {},
     "output_type": "display_data"
    },
    {
     "name": "stdout",
     "output_type": "stream",
     "text": [
      "                 precision    recall  f1-score   support\n",
      "\n",
      " Sleep stage N1       0.16      0.16      0.16       844\n",
      " Sleep stage N2       0.36      0.18      0.24      2265\n",
      " Sleep stage N3       0.00      0.00      0.00         0\n",
      "  Sleep stage R       0.38      0.55      0.45      2265\n",
      "  Sleep stage W       0.68      0.40      0.50      1154\n",
      "\n",
      "       accuracy                           0.35      6528\n",
      "      macro avg       0.32      0.26      0.27      6528\n",
      "   weighted avg       0.40      0.35      0.35      6528\n",
      "\n"
     ]
    },
    {
     "name": "stderr",
     "output_type": "stream",
     "text": [
      "C:\\Users\\HP\\AppData\\Roaming\\Python\\Python313\\site-packages\\sklearn\\metrics\\_classification.py:1731: UndefinedMetricWarning: Recall is ill-defined and being set to 0.0 in labels with no true samples. Use `zero_division` parameter to control this behavior.\n",
      "  _warn_prf(average, modifier, f\"{metric.capitalize()} is\", result.shape[0])\n",
      "C:\\Users\\HP\\AppData\\Roaming\\Python\\Python313\\site-packages\\sklearn\\metrics\\_classification.py:1731: UndefinedMetricWarning: Recall is ill-defined and being set to 0.0 in labels with no true samples. Use `zero_division` parameter to control this behavior.\n",
      "  _warn_prf(average, modifier, f\"{metric.capitalize()} is\", result.shape[0])\n",
      "C:\\Users\\HP\\AppData\\Roaming\\Python\\Python313\\site-packages\\sklearn\\metrics\\_classification.py:1731: UndefinedMetricWarning: Recall is ill-defined and being set to 0.0 in labels with no true samples. Use `zero_division` parameter to control this behavior.\n",
      "  _warn_prf(average, modifier, f\"{metric.capitalize()} is\", result.shape[0])\n"
     ]
    }
   ],
   "source": [
    "# --------------------------\n",
    "# 1. Predict labels\n",
    "# --------------------------\n",
    "y_pred_probs = model1.predict(X_test)   # ได้เป็น probability (softmax)\n",
    "y_pred = np.argmax(y_pred_probs, axis=1)  # แปลงเป็น class index\n",
    "y_true = np.argmax(y_test_cat, axis=1)    # แปลง one-hot y_test กลับเป็น index\n",
    "\n",
    "# --------------------------\n",
    "# 2. Confusion matrix\n",
    "# --------------------------\n",
    "cm = confusion_matrix(y_true, y_pred)\n",
    "\n",
    "# --------------------------\n",
    "# 3. Plot confusion matrix\n",
    "# --------------------------\n",
    "plt.figure(figsize=(8,6))\n",
    "sns.heatmap(cm, annot=True, fmt=\"d\", cmap=\"Blues\",\n",
    "            xticklabels=encoder.classes_,\n",
    "            yticklabels=encoder.classes_)\n",
    "plt.xlabel(\"Predicted Label\")\n",
    "plt.ylabel(\"True Label\")\n",
    "plt.title(\"Confusion Matrix\")\n",
    "plt.show()\n",
    "\n",
    "# --------------------------\n",
    "# 4. (optional) Classification report\n",
    "# --------------------------\n",
    "print(classification_report(y_true, y_pred, target_names=encoder.classes_))"
   ]
  },
  {
   "cell_type": "markdown",
   "id": "d891e8cd",
   "metadata": {},
   "source": [
    "## ลองใช้ focal loss"
   ]
  },
  {
   "cell_type": "code",
   "execution_count": 65,
   "id": "b067d424",
   "metadata": {},
   "outputs": [],
   "source": [
    "def categorical_focal_loss(gamma=2., alpha=0.25):\n",
    "    \"\"\"\n",
    "    Focal loss for multi-class classification\n",
    "    gamma: focusing parameter (default = 2.0)\n",
    "    alpha: balancing factor (default = 0.25)\n",
    "    \"\"\"\n",
    "    def loss(y_true, y_pred):\n",
    "        # ป้องกัน log(0)\n",
    "        y_pred = K.clip(y_pred, K.epsilon(), 1 - K.epsilon())\n",
    "        \n",
    "        cross_entropy = -y_true * K.log(y_pred)\n",
    "        weight = alpha * K.pow(1 - y_pred, gamma)\n",
    "        loss = weight * cross_entropy\n",
    "        return K.sum(loss, axis=1)  # sum over classes\n",
    "    return loss"
   ]
  },
  {
   "cell_type": "code",
   "execution_count": 66,
   "id": "8aa341d2",
   "metadata": {},
   "outputs": [
    {
     "name": "stdout",
     "output_type": "stream",
     "text": [
      "X_train shape: (22981, 400, 8)\n",
      "y_train shape: (22981, 5)\n"
     ]
    },
    {
     "name": "stderr",
     "output_type": "stream",
     "text": [
      "C:\\Users\\HP\\AppData\\Roaming\\Python\\Python313\\site-packages\\keras\\src\\layers\\rnn\\rnn.py:199: UserWarning: Do not pass an `input_shape`/`input_dim` argument to a layer. When using Sequential models, prefer using an `Input(shape)` object as the first layer in the model instead.\n",
      "  super().__init__(**kwargs)\n"
     ]
    },
    {
     "data": {
      "text/html": [
       "<pre style=\"white-space:pre;overflow-x:auto;line-height:normal;font-family:Menlo,'DejaVu Sans Mono',consolas,'Courier New',monospace\"><span style=\"font-weight: bold\">Model: \"sequential_2\"</span>\n",
       "</pre>\n"
      ],
      "text/plain": [
       "\u001b[1mModel: \"sequential_2\"\u001b[0m\n"
      ]
     },
     "metadata": {},
     "output_type": "display_data"
    },
    {
     "data": {
      "text/html": [
       "<pre style=\"white-space:pre;overflow-x:auto;line-height:normal;font-family:Menlo,'DejaVu Sans Mono',consolas,'Courier New',monospace\">┏━━━━━━━━━━━━━━━━━━━━━━━━━━━━━━━━━┳━━━━━━━━━━━━━━━━━━━━━━━━┳━━━━━━━━━━━━━━━┓\n",
       "┃<span style=\"font-weight: bold\"> Layer (type)                    </span>┃<span style=\"font-weight: bold\"> Output Shape           </span>┃<span style=\"font-weight: bold\">       Param # </span>┃\n",
       "┡━━━━━━━━━━━━━━━━━━━━━━━━━━━━━━━━━╇━━━━━━━━━━━━━━━━━━━━━━━━╇━━━━━━━━━━━━━━━┩\n",
       "│ lstm_2 (<span style=\"color: #0087ff; text-decoration-color: #0087ff\">LSTM</span>)                   │ (<span style=\"color: #00d7ff; text-decoration-color: #00d7ff\">None</span>, <span style=\"color: #00af00; text-decoration-color: #00af00\">50</span>)             │        <span style=\"color: #00af00; text-decoration-color: #00af00\">11,800</span> │\n",
       "├─────────────────────────────────┼────────────────────────┼───────────────┤\n",
       "│ dense_2 (<span style=\"color: #0087ff; text-decoration-color: #0087ff\">Dense</span>)                 │ (<span style=\"color: #00d7ff; text-decoration-color: #00d7ff\">None</span>, <span style=\"color: #00af00; text-decoration-color: #00af00\">5</span>)              │           <span style=\"color: #00af00; text-decoration-color: #00af00\">255</span> │\n",
       "└─────────────────────────────────┴────────────────────────┴───────────────┘\n",
       "</pre>\n"
      ],
      "text/plain": [
       "┏━━━━━━━━━━━━━━━━━━━━━━━━━━━━━━━━━┳━━━━━━━━━━━━━━━━━━━━━━━━┳━━━━━━━━━━━━━━━┓\n",
       "┃\u001b[1m \u001b[0m\u001b[1mLayer (type)                   \u001b[0m\u001b[1m \u001b[0m┃\u001b[1m \u001b[0m\u001b[1mOutput Shape          \u001b[0m\u001b[1m \u001b[0m┃\u001b[1m \u001b[0m\u001b[1m      Param #\u001b[0m\u001b[1m \u001b[0m┃\n",
       "┡━━━━━━━━━━━━━━━━━━━━━━━━━━━━━━━━━╇━━━━━━━━━━━━━━━━━━━━━━━━╇━━━━━━━━━━━━━━━┩\n",
       "│ lstm_2 (\u001b[38;5;33mLSTM\u001b[0m)                   │ (\u001b[38;5;45mNone\u001b[0m, \u001b[38;5;34m50\u001b[0m)             │        \u001b[38;5;34m11,800\u001b[0m │\n",
       "├─────────────────────────────────┼────────────────────────┼───────────────┤\n",
       "│ dense_2 (\u001b[38;5;33mDense\u001b[0m)                 │ (\u001b[38;5;45mNone\u001b[0m, \u001b[38;5;34m5\u001b[0m)              │           \u001b[38;5;34m255\u001b[0m │\n",
       "└─────────────────────────────────┴────────────────────────┴───────────────┘\n"
      ]
     },
     "metadata": {},
     "output_type": "display_data"
    },
    {
     "data": {
      "text/html": [
       "<pre style=\"white-space:pre;overflow-x:auto;line-height:normal;font-family:Menlo,'DejaVu Sans Mono',consolas,'Courier New',monospace\"><span style=\"font-weight: bold\"> Total params: </span><span style=\"color: #00af00; text-decoration-color: #00af00\">12,055</span> (47.09 KB)\n",
       "</pre>\n"
      ],
      "text/plain": [
       "\u001b[1m Total params: \u001b[0m\u001b[38;5;34m12,055\u001b[0m (47.09 KB)\n"
      ]
     },
     "metadata": {},
     "output_type": "display_data"
    },
    {
     "data": {
      "text/html": [
       "<pre style=\"white-space:pre;overflow-x:auto;line-height:normal;font-family:Menlo,'DejaVu Sans Mono',consolas,'Courier New',monospace\"><span style=\"font-weight: bold\"> Trainable params: </span><span style=\"color: #00af00; text-decoration-color: #00af00\">12,055</span> (47.09 KB)\n",
       "</pre>\n"
      ],
      "text/plain": [
       "\u001b[1m Trainable params: \u001b[0m\u001b[38;5;34m12,055\u001b[0m (47.09 KB)\n"
      ]
     },
     "metadata": {},
     "output_type": "display_data"
    },
    {
     "data": {
      "text/html": [
       "<pre style=\"white-space:pre;overflow-x:auto;line-height:normal;font-family:Menlo,'DejaVu Sans Mono',consolas,'Courier New',monospace\"><span style=\"font-weight: bold\"> Non-trainable params: </span><span style=\"color: #00af00; text-decoration-color: #00af00\">0</span> (0.00 B)\n",
       "</pre>\n"
      ],
      "text/plain": [
       "\u001b[1m Non-trainable params: \u001b[0m\u001b[38;5;34m0\u001b[0m (0.00 B)\n"
      ]
     },
     "metadata": {},
     "output_type": "display_data"
    },
    {
     "name": "stdout",
     "output_type": "stream",
     "text": [
      "Epoch 1/100\n",
      "\u001b[1m719/719\u001b[0m \u001b[32m━━━━━━━━━━━━━━━━━━━━\u001b[0m\u001b[37m\u001b[0m \u001b[1m46s\u001b[0m 62ms/step - accuracy: 0.5402 - loss: 0.1987 - val_accuracy: 0.1475 - val_loss: 0.2221\n",
      "Epoch 2/100\n",
      "\u001b[1m719/719\u001b[0m \u001b[32m━━━━━━━━━━━━━━━━━━━━\u001b[0m\u001b[37m\u001b[0m \u001b[1m53s\u001b[0m 74ms/step - accuracy: 0.5411 - loss: 0.1843 - val_accuracy: 0.2145 - val_loss: 0.2053\n",
      "Epoch 3/100\n",
      "\u001b[1m719/719\u001b[0m \u001b[32m━━━━━━━━━━━━━━━━━━━━\u001b[0m\u001b[37m\u001b[0m \u001b[1m55s\u001b[0m 76ms/step - accuracy: 0.5334 - loss: 0.1836 - val_accuracy: 0.2824 - val_loss: 0.1967\n",
      "Epoch 4/100\n",
      "\u001b[1m719/719\u001b[0m \u001b[32m━━━━━━━━━━━━━━━━━━━━\u001b[0m\u001b[37m\u001b[0m \u001b[1m60s\u001b[0m 83ms/step - accuracy: 0.5280 - loss: 0.1829 - val_accuracy: 0.3087 - val_loss: 0.1965\n",
      "Epoch 5/100\n",
      "\u001b[1m719/719\u001b[0m \u001b[32m━━━━━━━━━━━━━━━━━━━━\u001b[0m\u001b[37m\u001b[0m \u001b[1m42s\u001b[0m 58ms/step - accuracy: 0.5260 - loss: 0.1830 - val_accuracy: 0.3477 - val_loss: 0.1907\n",
      "Epoch 6/100\n",
      "\u001b[1m719/719\u001b[0m \u001b[32m━━━━━━━━━━━━━━━━━━━━\u001b[0m\u001b[37m\u001b[0m \u001b[1m41s\u001b[0m 57ms/step - accuracy: 0.5243 - loss: 0.1826 - val_accuracy: 0.3400 - val_loss: 0.1926\n",
      "Epoch 7/100\n",
      "\u001b[1m719/719\u001b[0m \u001b[32m━━━━━━━━━━━━━━━━━━━━\u001b[0m\u001b[37m\u001b[0m \u001b[1m43s\u001b[0m 60ms/step - accuracy: 0.5247 - loss: 0.1824 - val_accuracy: 0.4759 - val_loss: 0.1781\n",
      "Epoch 8/100\n",
      "\u001b[1m719/719\u001b[0m \u001b[32m━━━━━━━━━━━━━━━━━━━━\u001b[0m\u001b[37m\u001b[0m \u001b[1m43s\u001b[0m 60ms/step - accuracy: 0.5290 - loss: 0.1790 - val_accuracy: 0.4040 - val_loss: 0.1827\n",
      "Epoch 9/100\n",
      "\u001b[1m719/719\u001b[0m \u001b[32m━━━━━━━━━━━━━━━━━━━━\u001b[0m\u001b[37m\u001b[0m \u001b[1m42s\u001b[0m 59ms/step - accuracy: 0.5268 - loss: 0.1785 - val_accuracy: 0.4473 - val_loss: 0.1782\n",
      "Epoch 10/100\n",
      "\u001b[1m719/719\u001b[0m \u001b[32m━━━━━━━━━━━━━━━━━━━━\u001b[0m\u001b[37m\u001b[0m \u001b[1m44s\u001b[0m 61ms/step - accuracy: 0.5315 - loss: 0.1755 - val_accuracy: 0.4266 - val_loss: 0.1834\n",
      "Epoch 11/100\n",
      "\u001b[1m719/719\u001b[0m \u001b[32m━━━━━━━━━━━━━━━━━━━━\u001b[0m\u001b[37m\u001b[0m \u001b[1m49s\u001b[0m 68ms/step - accuracy: 0.5394 - loss: 0.1740 - val_accuracy: 0.5219 - val_loss: 0.1705\n",
      "Epoch 12/100\n",
      "\u001b[1m719/719\u001b[0m \u001b[32m━━━━━━━━━━━━━━━━━━━━\u001b[0m\u001b[37m\u001b[0m \u001b[1m49s\u001b[0m 69ms/step - accuracy: 0.5426 - loss: 0.1710 - val_accuracy: 0.4467 - val_loss: 0.1789\n",
      "Epoch 13/100\n",
      "\u001b[1m719/719\u001b[0m \u001b[32m━━━━━━━━━━━━━━━━━━━━\u001b[0m\u001b[37m\u001b[0m \u001b[1m49s\u001b[0m 68ms/step - accuracy: 0.5407 - loss: 0.1702 - val_accuracy: 0.4534 - val_loss: 0.1786\n",
      "Epoch 14/100\n",
      "\u001b[1m719/719\u001b[0m \u001b[32m━━━━━━━━━━━━━━━━━━━━\u001b[0m\u001b[37m\u001b[0m \u001b[1m49s\u001b[0m 68ms/step - accuracy: 0.5482 - loss: 0.1667 - val_accuracy: 0.4424 - val_loss: 0.1737\n",
      "Epoch 15/100\n",
      "\u001b[1m719/719\u001b[0m \u001b[32m━━━━━━━━━━━━━━━━━━━━\u001b[0m\u001b[37m\u001b[0m \u001b[1m49s\u001b[0m 68ms/step - accuracy: 0.5582 - loss: 0.1632 - val_accuracy: 0.4564 - val_loss: 0.1740\n",
      "Epoch 16/100\n",
      "\u001b[1m719/719\u001b[0m \u001b[32m━━━━━━━━━━━━━━━━━━━━\u001b[0m\u001b[37m\u001b[0m \u001b[1m49s\u001b[0m 68ms/step - accuracy: 0.5649 - loss: 0.1610 - val_accuracy: 0.4604 - val_loss: 0.1737\n",
      "Epoch 17/100\n",
      "\u001b[1m719/719\u001b[0m \u001b[32m━━━━━━━━━━━━━━━━━━━━\u001b[0m\u001b[37m\u001b[0m \u001b[1m49s\u001b[0m 68ms/step - accuracy: 0.5623 - loss: 0.1607 - val_accuracy: 0.5149 - val_loss: 0.1656\n",
      "Epoch 18/100\n",
      "\u001b[1m719/719\u001b[0m \u001b[32m━━━━━━━━━━━━━━━━━━━━\u001b[0m\u001b[37m\u001b[0m \u001b[1m49s\u001b[0m 68ms/step - accuracy: 0.5730 - loss: 0.1577 - val_accuracy: 0.4979 - val_loss: 0.1665\n",
      "Epoch 19/100\n",
      "\u001b[1m719/719\u001b[0m \u001b[32m━━━━━━━━━━━━━━━━━━━━\u001b[0m\u001b[37m\u001b[0m \u001b[1m49s\u001b[0m 69ms/step - accuracy: 0.5692 - loss: 0.1576 - val_accuracy: 0.5146 - val_loss: 0.1654\n",
      "Epoch 20/100\n",
      "\u001b[1m719/719\u001b[0m \u001b[32m━━━━━━━━━━━━━━━━━━━━\u001b[0m\u001b[37m\u001b[0m \u001b[1m49s\u001b[0m 69ms/step - accuracy: 0.5765 - loss: 0.1538 - val_accuracy: 0.5210 - val_loss: 0.1624\n",
      "Epoch 21/100\n",
      "\u001b[1m719/719\u001b[0m \u001b[32m━━━━━━━━━━━━━━━━━━━━\u001b[0m\u001b[37m\u001b[0m \u001b[1m49s\u001b[0m 68ms/step - accuracy: 0.5800 - loss: 0.1535 - val_accuracy: 0.5448 - val_loss: 0.1572\n",
      "Epoch 22/100\n",
      "\u001b[1m719/719\u001b[0m \u001b[32m━━━━━━━━━━━━━━━━━━━━\u001b[0m\u001b[37m\u001b[0m \u001b[1m49s\u001b[0m 69ms/step - accuracy: 0.5829 - loss: 0.1509 - val_accuracy: 0.5750 - val_loss: 0.1549\n",
      "Epoch 23/100\n",
      "\u001b[1m719/719\u001b[0m \u001b[32m━━━━━━━━━━━━━━━━━━━━\u001b[0m\u001b[37m\u001b[0m \u001b[1m49s\u001b[0m 68ms/step - accuracy: 0.5827 - loss: 0.1508 - val_accuracy: 0.5929 - val_loss: 0.1510\n",
      "Epoch 24/100\n",
      "\u001b[1m719/719\u001b[0m \u001b[32m━━━━━━━━━━━━━━━━━━━━\u001b[0m\u001b[37m\u001b[0m \u001b[1m50s\u001b[0m 69ms/step - accuracy: 0.5868 - loss: 0.1464 - val_accuracy: 0.5820 - val_loss: 0.1529\n",
      "Epoch 25/100\n",
      "\u001b[1m719/719\u001b[0m \u001b[32m━━━━━━━━━━━━━━━━━━━━\u001b[0m\u001b[37m\u001b[0m \u001b[1m49s\u001b[0m 68ms/step - accuracy: 0.5883 - loss: 0.1455 - val_accuracy: 0.6042 - val_loss: 0.1481\n",
      "Epoch 26/100\n",
      "\u001b[1m719/719\u001b[0m \u001b[32m━━━━━━━━━━━━━━━━━━━━\u001b[0m\u001b[37m\u001b[0m \u001b[1m49s\u001b[0m 69ms/step - accuracy: 0.5970 - loss: 0.1431 - val_accuracy: 0.6216 - val_loss: 0.1463\n",
      "Epoch 27/100\n",
      "\u001b[1m719/719\u001b[0m \u001b[32m━━━━━━━━━━━━━━━━━━━━\u001b[0m\u001b[37m\u001b[0m \u001b[1m50s\u001b[0m 69ms/step - accuracy: 0.5985 - loss: 0.1401 - val_accuracy: 0.6322 - val_loss: 0.1413\n",
      "Epoch 28/100\n",
      "\u001b[1m719/719\u001b[0m \u001b[32m━━━━━━━━━━━━━━━━━━━━\u001b[0m\u001b[37m\u001b[0m \u001b[1m49s\u001b[0m 69ms/step - accuracy: 0.5998 - loss: 0.1395 - val_accuracy: 0.6402 - val_loss: 0.1407\n",
      "Epoch 29/100\n",
      "\u001b[1m719/719\u001b[0m \u001b[32m━━━━━━━━━━━━━━━━━━━━\u001b[0m\u001b[37m\u001b[0m \u001b[1m50s\u001b[0m 70ms/step - accuracy: 0.6031 - loss: 0.1375 - val_accuracy: 0.6164 - val_loss: 0.1449\n",
      "Epoch 30/100\n",
      "\u001b[1m719/719\u001b[0m \u001b[32m━━━━━━━━━━━━━━━━━━━━\u001b[0m\u001b[37m\u001b[0m \u001b[1m49s\u001b[0m 69ms/step - accuracy: 0.6007 - loss: 0.1381 - val_accuracy: 0.6182 - val_loss: 0.1434\n",
      "Epoch 31/100\n",
      "\u001b[1m719/719\u001b[0m \u001b[32m━━━━━━━━━━━━━━━━━━━━\u001b[0m\u001b[37m\u001b[0m \u001b[1m50s\u001b[0m 69ms/step - accuracy: 0.6011 - loss: 0.1361 - val_accuracy: 0.6328 - val_loss: 0.1423\n",
      "Epoch 32/100\n",
      "\u001b[1m719/719\u001b[0m \u001b[32m━━━━━━━━━━━━━━━━━━━━\u001b[0m\u001b[37m\u001b[0m \u001b[1m50s\u001b[0m 69ms/step - accuracy: 0.6031 - loss: 0.1357 - val_accuracy: 0.6341 - val_loss: 0.1401\n",
      "Epoch 33/100\n",
      "\u001b[1m719/719\u001b[0m \u001b[32m━━━━━━━━━━━━━━━━━━━━\u001b[0m\u001b[37m\u001b[0m \u001b[1m51s\u001b[0m 71ms/step - accuracy: 0.6048 - loss: 0.1331 - val_accuracy: 0.6630 - val_loss: 0.1342\n",
      "Epoch 34/100\n",
      "\u001b[1m719/719\u001b[0m \u001b[32m━━━━━━━━━━━━━━━━━━━━\u001b[0m\u001b[37m\u001b[0m \u001b[1m52s\u001b[0m 72ms/step - accuracy: 0.6050 - loss: 0.1335 - val_accuracy: 0.6533 - val_loss: 0.1365\n",
      "Epoch 35/100\n",
      "\u001b[1m719/719\u001b[0m \u001b[32m━━━━━━━━━━━━━━━━━━━━\u001b[0m\u001b[37m\u001b[0m \u001b[1m49s\u001b[0m 69ms/step - accuracy: 0.6114 - loss: 0.1320 - val_accuracy: 0.6709 - val_loss: 0.1337\n",
      "Epoch 36/100\n",
      "\u001b[1m719/719\u001b[0m \u001b[32m━━━━━━━━━━━━━━━━━━━━\u001b[0m\u001b[37m\u001b[0m \u001b[1m49s\u001b[0m 68ms/step - accuracy: 0.6143 - loss: 0.1291 - val_accuracy: 0.6871 - val_loss: 0.1311\n",
      "Epoch 37/100\n",
      "\u001b[1m719/719\u001b[0m \u001b[32m━━━━━━━━━━━━━━━━━━━━\u001b[0m\u001b[37m\u001b[0m \u001b[1m49s\u001b[0m 69ms/step - accuracy: 0.6132 - loss: 0.1305 - val_accuracy: 0.6773 - val_loss: 0.1309\n",
      "Epoch 38/100\n",
      "\u001b[1m719/719\u001b[0m \u001b[32m━━━━━━━━━━━━━━━━━━━━\u001b[0m\u001b[37m\u001b[0m \u001b[1m49s\u001b[0m 69ms/step - accuracy: 0.6152 - loss: 0.1294 - val_accuracy: 0.6874 - val_loss: 0.1306\n",
      "Epoch 39/100\n",
      "\u001b[1m719/719\u001b[0m \u001b[32m━━━━━━━━━━━━━━━━━━━━\u001b[0m\u001b[37m\u001b[0m \u001b[1m49s\u001b[0m 69ms/step - accuracy: 0.6169 - loss: 0.1289 - val_accuracy: 0.6694 - val_loss: 0.1362\n",
      "Epoch 40/100\n",
      "\u001b[1m719/719\u001b[0m \u001b[32m━━━━━━━━━━━━━━━━━━━━\u001b[0m\u001b[37m\u001b[0m \u001b[1m49s\u001b[0m 68ms/step - accuracy: 0.6113 - loss: 0.1309 - val_accuracy: 0.6798 - val_loss: 0.1316\n",
      "Epoch 41/100\n",
      "\u001b[1m719/719\u001b[0m \u001b[32m━━━━━━━━━━━━━━━━━━━━\u001b[0m\u001b[37m\u001b[0m \u001b[1m49s\u001b[0m 68ms/step - accuracy: 0.6142 - loss: 0.1295 - val_accuracy: 0.6639 - val_loss: 0.1353\n",
      "Epoch 42/100\n",
      "\u001b[1m719/719\u001b[0m \u001b[32m━━━━━━━━━━━━━━━━━━━━\u001b[0m\u001b[37m\u001b[0m \u001b[1m49s\u001b[0m 68ms/step - accuracy: 0.6115 - loss: 0.1278 - val_accuracy: 0.6789 - val_loss: 0.1313\n",
      "Epoch 43/100\n",
      "\u001b[1m719/719\u001b[0m \u001b[32m━━━━━━━━━━━━━━━━━━━━\u001b[0m\u001b[37m\u001b[0m \u001b[1m50s\u001b[0m 69ms/step - accuracy: 0.6114 - loss: 0.1285 - val_accuracy: 0.6676 - val_loss: 0.1354\n",
      "Epoch 44/100\n",
      "\u001b[1m719/719\u001b[0m \u001b[32m━━━━━━━━━━━━━━━━━━━━\u001b[0m\u001b[37m\u001b[0m \u001b[1m49s\u001b[0m 69ms/step - accuracy: 0.6163 - loss: 0.1262 - val_accuracy: 0.7020 - val_loss: 0.1257\n",
      "Epoch 45/100\n",
      "\u001b[1m719/719\u001b[0m \u001b[32m━━━━━━━━━━━━━━━━━━━━\u001b[0m\u001b[37m\u001b[0m \u001b[1m49s\u001b[0m 68ms/step - accuracy: 0.6237 - loss: 0.1241 - val_accuracy: 0.6974 - val_loss: 0.1296\n",
      "Epoch 46/100\n",
      "\u001b[1m719/719\u001b[0m \u001b[32m━━━━━━━━━━━━━━━━━━━━\u001b[0m\u001b[37m\u001b[0m \u001b[1m49s\u001b[0m 68ms/step - accuracy: 0.6230 - loss: 0.1253 - val_accuracy: 0.6834 - val_loss: 0.1286\n",
      "Epoch 47/100\n",
      "\u001b[1m719/719\u001b[0m \u001b[32m━━━━━━━━━━━━━━━━━━━━\u001b[0m\u001b[37m\u001b[0m \u001b[1m50s\u001b[0m 69ms/step - accuracy: 0.6201 - loss: 0.1245 - val_accuracy: 0.6990 - val_loss: 0.1273\n",
      "Epoch 48/100\n",
      "\u001b[1m719/719\u001b[0m \u001b[32m━━━━━━━━━━━━━━━━━━━━\u001b[0m\u001b[37m\u001b[0m \u001b[1m49s\u001b[0m 68ms/step - accuracy: 0.6236 - loss: 0.1225 - val_accuracy: 0.6956 - val_loss: 0.1252\n",
      "Epoch 49/100\n",
      "\u001b[1m719/719\u001b[0m \u001b[32m━━━━━━━━━━━━━━━━━━━━\u001b[0m\u001b[37m\u001b[0m \u001b[1m43s\u001b[0m 59ms/step - accuracy: 0.6246 - loss: 0.1225 - val_accuracy: 0.6935 - val_loss: 0.1279\n",
      "Epoch 50/100\n",
      "\u001b[1m719/719\u001b[0m \u001b[32m━━━━━━━━━━━━━━━━━━━━\u001b[0m\u001b[37m\u001b[0m \u001b[1m42s\u001b[0m 58ms/step - accuracy: 0.6191 - loss: 0.1236 - val_accuracy: 0.6944 - val_loss: 0.1294\n",
      "Epoch 51/100\n",
      "\u001b[1m719/719\u001b[0m \u001b[32m━━━━━━━━━━━━━━━━━━━━\u001b[0m\u001b[37m\u001b[0m \u001b[1m42s\u001b[0m 58ms/step - accuracy: 0.6266 - loss: 0.1205 - val_accuracy: 0.7048 - val_loss: 0.1262\n",
      "Epoch 52/100\n",
      "\u001b[1m719/719\u001b[0m \u001b[32m━━━━━━━━━━━━━━━━━━━━\u001b[0m\u001b[37m\u001b[0m \u001b[1m42s\u001b[0m 58ms/step - accuracy: 0.6293 - loss: 0.1191 - val_accuracy: 0.6816 - val_loss: 0.1302\n",
      "Epoch 53/100\n",
      "\u001b[1m719/719\u001b[0m \u001b[32m━━━━━━━━━━━━━━━━━━━━\u001b[0m\u001b[37m\u001b[0m \u001b[1m42s\u001b[0m 58ms/step - accuracy: 0.6223 - loss: 0.1211 - val_accuracy: 0.6853 - val_loss: 0.1294\n",
      "Epoch 54/100\n",
      "\u001b[1m719/719\u001b[0m \u001b[32m━━━━━━━━━━━━━━━━━━━━\u001b[0m\u001b[37m\u001b[0m \u001b[1m42s\u001b[0m 58ms/step - accuracy: 0.6216 - loss: 0.1218 - val_accuracy: 0.6825 - val_loss: 0.1302\n",
      "Epoch 55/100\n",
      "\u001b[1m719/719\u001b[0m \u001b[32m━━━━━━━━━━━━━━━━━━━━\u001b[0m\u001b[37m\u001b[0m \u001b[1m42s\u001b[0m 58ms/step - accuracy: 0.6256 - loss: 0.1186 - val_accuracy: 0.6965 - val_loss: 0.1305\n",
      "Epoch 56/100\n",
      "\u001b[1m719/719\u001b[0m \u001b[32m━━━━━━━━━━━━━━━━━━━━\u001b[0m\u001b[37m\u001b[0m \u001b[1m42s\u001b[0m 58ms/step - accuracy: 0.6247 - loss: 0.1190 - val_accuracy: 0.6965 - val_loss: 0.1297\n",
      "Epoch 57/100\n",
      "\u001b[1m719/719\u001b[0m \u001b[32m━━━━━━━━━━━━━━━━━━━━\u001b[0m\u001b[37m\u001b[0m \u001b[1m42s\u001b[0m 58ms/step - accuracy: 0.6247 - loss: 0.1202 - val_accuracy: 0.6953 - val_loss: 0.1271\n",
      "Epoch 58/100\n",
      "\u001b[1m719/719\u001b[0m \u001b[32m━━━━━━━━━━━━━━━━━━━━\u001b[0m\u001b[37m\u001b[0m \u001b[1m42s\u001b[0m 58ms/step - accuracy: 0.6247 - loss: 0.1182 - val_accuracy: 0.6773 - val_loss: 0.1306\n",
      "Epoch 59/100\n",
      "\u001b[1m719/719\u001b[0m \u001b[32m━━━━━━━━━━━━━━━━━━━━\u001b[0m\u001b[37m\u001b[0m \u001b[1m43s\u001b[0m 60ms/step - accuracy: 0.6286 - loss: 0.1174 - val_accuracy: 0.7057 - val_loss: 0.1238\n",
      "Epoch 60/100\n",
      "\u001b[1m719/719\u001b[0m \u001b[32m━━━━━━━━━━━━━━━━━━━━\u001b[0m\u001b[37m\u001b[0m \u001b[1m52s\u001b[0m 72ms/step - accuracy: 0.6280 - loss: 0.1174 - val_accuracy: 0.6831 - val_loss: 0.1299\n",
      "Epoch 61/100\n",
      "\u001b[1m719/719\u001b[0m \u001b[32m━━━━━━━━━━━━━━━━━━━━\u001b[0m\u001b[37m\u001b[0m \u001b[1m51s\u001b[0m 71ms/step - accuracy: 0.6315 - loss: 0.1164 - val_accuracy: 0.7035 - val_loss: 0.1253\n",
      "Epoch 62/100\n",
      "\u001b[1m719/719\u001b[0m \u001b[32m━━━━━━━━━━━━━━━━━━━━\u001b[0m\u001b[37m\u001b[0m \u001b[1m49s\u001b[0m 69ms/step - accuracy: 0.6323 - loss: 0.1162 - val_accuracy: 0.7081 - val_loss: 0.1245\n",
      "Epoch 63/100\n",
      "\u001b[1m719/719\u001b[0m \u001b[32m━━━━━━━━━━━━━━━━━━━━\u001b[0m\u001b[37m\u001b[0m \u001b[1m50s\u001b[0m 69ms/step - accuracy: 0.6314 - loss: 0.1167 - val_accuracy: 0.7032 - val_loss: 0.1257\n",
      "Epoch 64/100\n",
      "\u001b[1m719/719\u001b[0m \u001b[32m━━━━━━━━━━━━━━━━━━━━\u001b[0m\u001b[37m\u001b[0m \u001b[1m49s\u001b[0m 69ms/step - accuracy: 0.6327 - loss: 0.1156 - val_accuracy: 0.6886 - val_loss: 0.1276\n",
      "Epoch 65/100\n",
      "\u001b[1m719/719\u001b[0m \u001b[32m━━━━━━━━━━━━━━━━━━━━\u001b[0m\u001b[37m\u001b[0m \u001b[1m49s\u001b[0m 68ms/step - accuracy: 0.6375 - loss: 0.1141 - val_accuracy: 0.7084 - val_loss: 0.1238\n",
      "Epoch 66/100\n",
      "\u001b[1m719/719\u001b[0m \u001b[32m━━━━━━━━━━━━━━━━━━━━\u001b[0m\u001b[37m\u001b[0m \u001b[1m49s\u001b[0m 68ms/step - accuracy: 0.6336 - loss: 0.1159 - val_accuracy: 0.6785 - val_loss: 0.1293\n",
      "Epoch 67/100\n",
      "\u001b[1m719/719\u001b[0m \u001b[32m━━━━━━━━━━━━━━━━━━━━\u001b[0m\u001b[37m\u001b[0m \u001b[1m49s\u001b[0m 69ms/step - accuracy: 0.6327 - loss: 0.1163 - val_accuracy: 0.6980 - val_loss: 0.1263\n",
      "Epoch 68/100\n",
      "\u001b[1m719/719\u001b[0m \u001b[32m━━━━━━━━━━━━━━━━━━━━\u001b[0m\u001b[37m\u001b[0m \u001b[1m49s\u001b[0m 68ms/step - accuracy: 0.6357 - loss: 0.1149 - val_accuracy: 0.7099 - val_loss: 0.1255\n",
      "Epoch 69/100\n",
      "\u001b[1m719/719\u001b[0m \u001b[32m━━━━━━━━━━━━━━━━━━━━\u001b[0m\u001b[37m\u001b[0m \u001b[1m49s\u001b[0m 68ms/step - accuracy: 0.6367 - loss: 0.1148 - val_accuracy: 0.6917 - val_loss: 0.1291\n",
      "Epoch 70/100\n",
      "\u001b[1m719/719\u001b[0m \u001b[32m━━━━━━━━━━━━━━━━━━━━\u001b[0m\u001b[37m\u001b[0m \u001b[1m49s\u001b[0m 68ms/step - accuracy: 0.6357 - loss: 0.1135 - val_accuracy: 0.6977 - val_loss: 0.1265\n",
      "Epoch 71/100\n",
      "\u001b[1m719/719\u001b[0m \u001b[32m━━━━━━━━━━━━━━━━━━━━\u001b[0m\u001b[37m\u001b[0m \u001b[1m49s\u001b[0m 69ms/step - accuracy: 0.6336 - loss: 0.1155 - val_accuracy: 0.7066 - val_loss: 0.1242\n",
      "Epoch 72/100\n",
      "\u001b[1m719/719\u001b[0m \u001b[32m━━━━━━━━━━━━━━━━━━━━\u001b[0m\u001b[37m\u001b[0m \u001b[1m49s\u001b[0m 69ms/step - accuracy: 0.6354 - loss: 0.1123 - val_accuracy: 0.7112 - val_loss: 0.1252\n",
      "Epoch 73/100\n",
      "\u001b[1m719/719\u001b[0m \u001b[32m━━━━━━━━━━━━━━━━━━━━\u001b[0m\u001b[37m\u001b[0m \u001b[1m49s\u001b[0m 69ms/step - accuracy: 0.6425 - loss: 0.1105 - val_accuracy: 0.7051 - val_loss: 0.1237\n",
      "Epoch 74/100\n",
      "\u001b[1m719/719\u001b[0m \u001b[32m━━━━━━━━━━━━━━━━━━━━\u001b[0m\u001b[37m\u001b[0m \u001b[1m49s\u001b[0m 68ms/step - accuracy: 0.6403 - loss: 0.1109 - val_accuracy: 0.6974 - val_loss: 0.1259\n",
      "Epoch 75/100\n",
      "\u001b[1m719/719\u001b[0m \u001b[32m━━━━━━━━━━━━━━━━━━━━\u001b[0m\u001b[37m\u001b[0m \u001b[1m49s\u001b[0m 69ms/step - accuracy: 0.6346 - loss: 0.1142 - val_accuracy: 0.6758 - val_loss: 0.1294\n",
      "Epoch 76/100\n",
      "\u001b[1m719/719\u001b[0m \u001b[32m━━━━━━━━━━━━━━━━━━━━\u001b[0m\u001b[37m\u001b[0m \u001b[1m49s\u001b[0m 69ms/step - accuracy: 0.6370 - loss: 0.1120 - val_accuracy: 0.7011 - val_loss: 0.1254\n",
      "Epoch 77/100\n",
      "\u001b[1m719/719\u001b[0m \u001b[32m━━━━━━━━━━━━━━━━━━━━\u001b[0m\u001b[37m\u001b[0m \u001b[1m50s\u001b[0m 69ms/step - accuracy: 0.6411 - loss: 0.1109 - val_accuracy: 0.6999 - val_loss: 0.1260\n",
      "Epoch 78/100\n",
      "\u001b[1m719/719\u001b[0m \u001b[32m━━━━━━━━━━━━━━━━━━━━\u001b[0m\u001b[37m\u001b[0m \u001b[1m50s\u001b[0m 69ms/step - accuracy: 0.6357 - loss: 0.1136 - val_accuracy: 0.6941 - val_loss: 0.1320\n",
      "Epoch 79/100\n",
      "\u001b[1m719/719\u001b[0m \u001b[32m━━━━━━━━━━━━━━━━━━━━\u001b[0m\u001b[37m\u001b[0m \u001b[1m50s\u001b[0m 69ms/step - accuracy: 0.6316 - loss: 0.1143 - val_accuracy: 0.6862 - val_loss: 0.1293\n",
      "Epoch 80/100\n",
      "\u001b[1m719/719\u001b[0m \u001b[32m━━━━━━━━━━━━━━━━━━━━\u001b[0m\u001b[37m\u001b[0m \u001b[1m50s\u001b[0m 69ms/step - accuracy: 0.6303 - loss: 0.1148 - val_accuracy: 0.6892 - val_loss: 0.1284\n",
      "Epoch 81/100\n",
      "\u001b[1m719/719\u001b[0m \u001b[32m━━━━━━━━━━━━━━━━━━━━\u001b[0m\u001b[37m\u001b[0m \u001b[1m50s\u001b[0m 69ms/step - accuracy: 0.6300 - loss: 0.1152 - val_accuracy: 0.7072 - val_loss: 0.1250\n",
      "Epoch 82/100\n",
      "\u001b[1m719/719\u001b[0m \u001b[32m━━━━━━━━━━━━━━━━━━━━\u001b[0m\u001b[37m\u001b[0m \u001b[1m50s\u001b[0m 69ms/step - accuracy: 0.6390 - loss: 0.1120 - val_accuracy: 0.7218 - val_loss: 0.1211\n",
      "Epoch 83/100\n",
      "\u001b[1m719/719\u001b[0m \u001b[32m━━━━━━━━━━━━━━━━━━━━\u001b[0m\u001b[37m\u001b[0m \u001b[1m50s\u001b[0m 69ms/step - accuracy: 0.6380 - loss: 0.1119 - val_accuracy: 0.7026 - val_loss: 0.1275\n",
      "Epoch 84/100\n",
      "\u001b[1m719/719\u001b[0m \u001b[32m━━━━━━━━━━━━━━━━━━━━\u001b[0m\u001b[37m\u001b[0m \u001b[1m50s\u001b[0m 69ms/step - accuracy: 0.6296 - loss: 0.1140 - val_accuracy: 0.6892 - val_loss: 0.1292\n",
      "Epoch 85/100\n",
      "\u001b[1m719/719\u001b[0m \u001b[32m━━━━━━━━━━━━━━━━━━━━\u001b[0m\u001b[37m\u001b[0m \u001b[1m50s\u001b[0m 69ms/step - accuracy: 0.6382 - loss: 0.1133 - val_accuracy: 0.6761 - val_loss: 0.1306\n",
      "Epoch 86/100\n",
      "\u001b[1m719/719\u001b[0m \u001b[32m━━━━━━━━━━━━━━━━━━━━\u001b[0m\u001b[37m\u001b[0m \u001b[1m50s\u001b[0m 69ms/step - accuracy: 0.6339 - loss: 0.1131 - val_accuracy: 0.6810 - val_loss: 0.1311\n",
      "Epoch 87/100\n",
      "\u001b[1m719/719\u001b[0m \u001b[32m━━━━━━━━━━━━━━━━━━━━\u001b[0m\u001b[37m\u001b[0m \u001b[1m50s\u001b[0m 69ms/step - accuracy: 0.6233 - loss: 0.1163 - val_accuracy: 0.6819 - val_loss: 0.1279\n",
      "Epoch 88/100\n",
      "\u001b[1m719/719\u001b[0m \u001b[32m━━━━━━━━━━━━━━━━━━━━\u001b[0m\u001b[37m\u001b[0m \u001b[1m50s\u001b[0m 70ms/step - accuracy: 0.6373 - loss: 0.1109 - val_accuracy: 0.6874 - val_loss: 0.1265\n",
      "Epoch 89/100\n",
      "\u001b[1m719/719\u001b[0m \u001b[32m━━━━━━━━━━━━━━━━━━━━\u001b[0m\u001b[37m\u001b[0m \u001b[1m50s\u001b[0m 70ms/step - accuracy: 0.6368 - loss: 0.1115 - val_accuracy: 0.6746 - val_loss: 0.1283\n",
      "Epoch 90/100\n",
      "\u001b[1m719/719\u001b[0m \u001b[32m━━━━━━━━━━━━━━━━━━━━\u001b[0m\u001b[37m\u001b[0m \u001b[1m50s\u001b[0m 70ms/step - accuracy: 0.6392 - loss: 0.1109 - val_accuracy: 0.6953 - val_loss: 0.1261\n",
      "Epoch 91/100\n",
      "\u001b[1m719/719\u001b[0m \u001b[32m━━━━━━━━━━━━━━━━━━━━\u001b[0m\u001b[37m\u001b[0m \u001b[1m50s\u001b[0m 69ms/step - accuracy: 0.6444 - loss: 0.1097 - val_accuracy: 0.6856 - val_loss: 0.1302\n",
      "Epoch 92/100\n",
      "\u001b[1m719/719\u001b[0m \u001b[32m━━━━━━━━━━━━━━━━━━━━\u001b[0m\u001b[37m\u001b[0m \u001b[1m50s\u001b[0m 69ms/step - accuracy: 0.6379 - loss: 0.1112 - val_accuracy: 0.6807 - val_loss: 0.1271\n",
      "Epoch 93/100\n",
      "\u001b[1m719/719\u001b[0m \u001b[32m━━━━━━━━━━━━━━━━━━━━\u001b[0m\u001b[37m\u001b[0m \u001b[1m50s\u001b[0m 69ms/step - accuracy: 0.6396 - loss: 0.1108 - val_accuracy: 0.6877 - val_loss: 0.1277\n",
      "Epoch 94/100\n",
      "\u001b[1m719/719\u001b[0m \u001b[32m━━━━━━━━━━━━━━━━━━━━\u001b[0m\u001b[37m\u001b[0m \u001b[1m50s\u001b[0m 69ms/step - accuracy: 0.6489 - loss: 0.1087 - val_accuracy: 0.6938 - val_loss: 0.1250\n",
      "Epoch 95/100\n",
      "\u001b[1m719/719\u001b[0m \u001b[32m━━━━━━━━━━━━━━━━━━━━\u001b[0m\u001b[37m\u001b[0m \u001b[1m53s\u001b[0m 74ms/step - accuracy: 0.6327 - loss: 0.1113 - val_accuracy: 0.6956 - val_loss: 0.1282\n",
      "Epoch 96/100\n",
      "\u001b[1m719/719\u001b[0m \u001b[32m━━━━━━━━━━━━━━━━━━━━\u001b[0m\u001b[37m\u001b[0m \u001b[1m52s\u001b[0m 72ms/step - accuracy: 0.6350 - loss: 0.1131 - val_accuracy: 0.6938 - val_loss: 0.1254\n",
      "Epoch 97/100\n",
      "\u001b[1m719/719\u001b[0m \u001b[32m━━━━━━━━━━━━━━━━━━━━\u001b[0m\u001b[37m\u001b[0m \u001b[1m60s\u001b[0m 83ms/step - accuracy: 0.6329 - loss: 0.1124 - val_accuracy: 0.6819 - val_loss: 0.1279\n",
      "Epoch 98/100\n",
      "\u001b[1m719/719\u001b[0m \u001b[32m━━━━━━━━━━━━━━━━━━━━\u001b[0m\u001b[37m\u001b[0m \u001b[1m43s\u001b[0m 60ms/step - accuracy: 0.6357 - loss: 0.1103 - val_accuracy: 0.6594 - val_loss: 0.1325\n",
      "Epoch 99/100\n",
      "\u001b[1m719/719\u001b[0m \u001b[32m━━━━━━━━━━━━━━━━━━━━\u001b[0m\u001b[37m\u001b[0m \u001b[1m42s\u001b[0m 59ms/step - accuracy: 0.6362 - loss: 0.1105 - val_accuracy: 0.6984 - val_loss: 0.1245\n",
      "Epoch 100/100\n",
      "\u001b[1m719/719\u001b[0m \u001b[32m━━━━━━━━━━━━━━━━━━━━\u001b[0m\u001b[37m\u001b[0m \u001b[1m57s\u001b[0m 79ms/step - accuracy: 0.6327 - loss: 0.1114 - val_accuracy: 0.6825 - val_loss: 0.1270\n"
     ]
    }
   ],
   "source": [
    "from tensorflow.keras import backend as K\n",
    "\n",
    "# -----------------------------\n",
    "# 1. แปลง label เป็นตัวเลข + one-hot\n",
    "# -----------------------------\n",
    "encoder = LabelEncoder()\n",
    "y_train_enc = encoder.fit_transform(y_train)\n",
    "y_val_enc   = encoder.transform(y_val)\n",
    "y_test_enc  = encoder.transform(y_test)\n",
    "\n",
    "num_classes = len(np.unique(y_train_enc))\n",
    "\n",
    "y_train_cat = to_categorical(y_train_enc, num_classes=num_classes)\n",
    "y_val_cat   = to_categorical(y_val_enc, num_classes=num_classes)\n",
    "y_test_cat  = to_categorical(y_test_enc, num_classes=num_classes)\n",
    "\n",
    "# -----------------------------\n",
    "# 2. แปลง X ให้เป็น float32\n",
    "# -----------------------------\n",
    "X_train = np.array(X_train, dtype=np.float32)\n",
    "X_val   = np.array(X_val, dtype=np.float32)\n",
    "X_test  = np.array(X_test, dtype=np.float32)\n",
    "\n",
    "if X_train.ndim == 2:  # reshape ให้เป็น (samples, timesteps, features)\n",
    "    X_train = X_train[..., np.newaxis]\n",
    "    X_val   = X_val[..., np.newaxis]\n",
    "    X_test  = X_test[..., np.newaxis]\n",
    "\n",
    "print(\"X_train shape:\", X_train.shape)\n",
    "print(\"y_train shape:\", y_train_cat.shape)\n",
    "# -----------------------------\n",
    "# 3. สร้าง LSTM model\n",
    "# -----------------------------\n",
    "model1 = Sequential()\n",
    "model1.add(LSTM(50, input_shape=(X_train.shape[1], X_train.shape[2])))\n",
    "model1.add(Dense(num_classes, activation='softmax'))\n",
    "\n",
    "# ใช้ focal loss แทน crossentropy\n",
    "model1.compile(optimizer='adam',\n",
    "               loss=categorical_focal_loss(gamma=2., alpha=0.25),\n",
    "               metrics=['accuracy'])\n",
    "\n",
    "model1.summary()\n",
    "\n",
    "# -----------------------------\n",
    "# 4. Train model\n",
    "# -----------------------------\n",
    "history = model1.fit(\n",
    "    X_train, y_train_cat,\n",
    "    validation_data=(X_val, y_val_cat),\n",
    "    epochs=100,\n",
    "    batch_size=32,\n",
    "    shuffle=False,\n",
    ")"
   ]
  },
  {
   "cell_type": "code",
   "execution_count": 67,
   "id": "fe9f2695",
   "metadata": {},
   "outputs": [
    {
     "name": "stdout",
     "output_type": "stream",
     "text": [
      "\u001b[1m204/204\u001b[0m \u001b[32m━━━━━━━━━━━━━━━━━━━━\u001b[0m\u001b[37m\u001b[0m \u001b[1m4s\u001b[0m 19ms/step - accuracy: 0.3681 - loss: 0.2711\n",
      "Test Loss: 0.2711, Test Accuracy: 36.81%\n"
     ]
    }
   ],
   "source": [
    "# -----------------------------\n",
    "# 5. Evaluate model\n",
    "# -----------------------------\n",
    "loss, accuracy = model1.evaluate(X_test, y_test_cat)\n",
    "print(f\"Test Loss: {loss:.4f}, Test Accuracy: {accuracy * 100:.2f}%\")"
   ]
  },
  {
   "cell_type": "code",
   "execution_count": 68,
   "id": "dd14b0c5",
   "metadata": {},
   "outputs": [
    {
     "name": "stdout",
     "output_type": "stream",
     "text": [
      "\u001b[1m204/204\u001b[0m \u001b[32m━━━━━━━━━━━━━━━━━━━━\u001b[0m\u001b[37m\u001b[0m \u001b[1m4s\u001b[0m 19ms/step\n"
     ]
    }
   ],
   "source": [
    "threshold = 0.5  # set the threshold value\n",
    "y_pred_prob = model1.predict(X_test)  # generate prediction probabilities\n",
    "y_pred = (y_pred_prob > threshold).astype(int)"
   ]
  },
  {
   "cell_type": "code",
   "execution_count": 69,
   "id": "0f56cf66",
   "metadata": {},
   "outputs": [
    {
     "name": "stdout",
     "output_type": "stream",
     "text": [
      "\u001b[1m204/204\u001b[0m \u001b[32m━━━━━━━━━━━━━━━━━━━━\u001b[0m\u001b[37m\u001b[0m \u001b[1m4s\u001b[0m 19ms/step\n"
     ]
    },
    {
     "data": {
      "image/png": "[encoded data removed]",
      "text/plain": [
       "<Figure size 800x600 with 2 Axes>"
      ]
     },
     "metadata": {},
     "output_type": "display_data"
    },
    {
     "name": "stdout",
     "output_type": "stream",
     "text": [
      "                 precision    recall  f1-score   support\n",
      "\n",
      " Sleep stage N1       0.13      0.05      0.07       844\n",
      " Sleep stage N2       0.34      0.41      0.37      2265\n",
      " Sleep stage N3       0.00      0.00      0.00         0\n",
      "  Sleep stage R       0.38      0.50      0.43      2265\n",
      "  Sleep stage W       0.66      0.26      0.37      1154\n",
      "\n",
      "       accuracy                           0.37      6528\n",
      "      macro avg       0.30      0.24      0.25      6528\n",
      "   weighted avg       0.38      0.37      0.35      6528\n",
      "\n"
     ]
    },
    {
     "name": "stderr",
     "output_type": "stream",
     "text": [
      "C:\\Users\\HP\\AppData\\Roaming\\Python\\Python313\\site-packages\\sklearn\\metrics\\_classification.py:1731: UndefinedMetricWarning: Recall is ill-defined and being set to 0.0 in labels with no true samples. Use `zero_division` parameter to control this behavior.\n",
      "  _warn_prf(average, modifier, f\"{metric.capitalize()} is\", result.shape[0])\n",
      "C:\\Users\\HP\\AppData\\Roaming\\Python\\Python313\\site-packages\\sklearn\\metrics\\_classification.py:1731: UndefinedMetricWarning: Recall is ill-defined and being set to 0.0 in labels with no true samples. Use `zero_division` parameter to control this behavior.\n",
      "  _warn_prf(average, modifier, f\"{metric.capitalize()} is\", result.shape[0])\n",
      "C:\\Users\\HP\\AppData\\Roaming\\Python\\Python313\\site-packages\\sklearn\\metrics\\_classification.py:1731: UndefinedMetricWarning: Recall is ill-defined and being set to 0.0 in labels with no true samples. Use `zero_division` parameter to control this behavior.\n",
      "  _warn_prf(average, modifier, f\"{metric.capitalize()} is\", result.shape[0])\n"
     ]
    }
   ],
   "source": [
    "# --------------------------\n",
    "# 1. Predict labels\n",
    "# --------------------------\n",
    "y_pred_probs = model1.predict(X_test)   # ได้เป็น probability (softmax)\n",
    "y_pred = np.argmax(y_pred_probs, axis=1)  # แปลงเป็น class index\n",
    "y_true = np.argmax(y_test_cat, axis=1)    # แปลง one-hot y_test กลับเป็น index\n",
    "\n",
    "# --------------------------\n",
    "# 2. Confusion matrix\n",
    "# --------------------------\n",
    "cm = confusion_matrix(y_true, y_pred)\n",
    "\n",
    "# --------------------------\n",
    "# 3. Plot confusion matrix\n",
    "# --------------------------\n",
    "plt.figure(figsize=(8,6))\n",
    "sns.heatmap(cm, annot=True, fmt=\"d\", cmap=\"Blues\",\n",
    "            xticklabels=encoder.classes_,\n",
    "            yticklabels=encoder.classes_)\n",
    "plt.xlabel(\"Predicted Label\")\n",
    "plt.ylabel(\"True Label\")\n",
    "plt.title(\"Confusion Matrix\")\n",
    "plt.show()\n",
    "\n",
    "# --------------------------\n",
    "# 4. (optional) Classification report\n",
    "# --------------------------\n",
    "print(classification_report(y_true, y_pred, target_names=encoder.classes_))"
   ]
  },
  {
   "cell_type": "markdown",
   "id": "73915057",
   "metadata": {},
   "source": [
    "## ลองใช้ Class Weight และ CNN + LSTM"
   ]
  },
  {
   "cell_type": "code",
   "execution_count": 44,
   "id": "c347511f",
   "metadata": {},
   "outputs": [],
   "source": [
    "from sklearn.utils.class_weight import compute_class_weight\n",
    "from tensorflow.keras.models import Sequential\n",
    "from tensorflow.keras.layers import Conv1D, MaxPooling1D, LSTM, Dense, Dropout"
   ]
  },
  {
   "cell_type": "code",
   "execution_count": 33,
   "id": "ac038146",
   "metadata": {},
   "outputs": [
    {
     "name": "stdout",
     "output_type": "stream",
     "text": [
      "X_train shape: (22981, 400, 8)\n",
      "y_train shape: (22981, 5)\n"
     ]
    },
    {
     "name": "stderr",
     "output_type": "stream",
     "text": [
      "C:\\Users\\HP\\AppData\\Roaming\\Python\\Python313\\site-packages\\keras\\src\\layers\\convolutional\\base_conv.py:113: UserWarning: Do not pass an `input_shape`/`input_dim` argument to a layer. When using Sequential models, prefer using an `Input(shape)` object as the first layer in the model instead.\n",
      "  super().__init__(activity_regularizer=activity_regularizer, **kwargs)\n"
     ]
    },
    {
     "data": {
      "text/html": [
       "<pre style=\"white-space:pre;overflow-x:auto;line-height:normal;font-family:Menlo,'DejaVu Sans Mono',consolas,'Courier New',monospace\"><span style=\"font-weight: bold\">Model: \"sequential_5\"</span>\n",
       "</pre>\n"
      ],
      "text/plain": [
       "\u001b[1mModel: \"sequential_5\"\u001b[0m\n"
      ]
     },
     "metadata": {},
     "output_type": "display_data"
    },
    {
     "data": {
      "text/html": [
       "<pre style=\"white-space:pre;overflow-x:auto;line-height:normal;font-family:Menlo,'DejaVu Sans Mono',consolas,'Courier New',monospace\">┏━━━━━━━━━━━━━━━━━━━━━━━━━━━━━━━━━┳━━━━━━━━━━━━━━━━━━━━━━━━┳━━━━━━━━━━━━━━━┓\n",
       "┃<span style=\"font-weight: bold\"> Layer (type)                    </span>┃<span style=\"font-weight: bold\"> Output Shape           </span>┃<span style=\"font-weight: bold\">       Param # </span>┃\n",
       "┡━━━━━━━━━━━━━━━━━━━━━━━━━━━━━━━━━╇━━━━━━━━━━━━━━━━━━━━━━━━╇━━━━━━━━━━━━━━━┩\n",
       "│ conv1d_4 (<span style=\"color: #0087ff; text-decoration-color: #0087ff\">Conv1D</span>)               │ (<span style=\"color: #00d7ff; text-decoration-color: #00d7ff\">None</span>, <span style=\"color: #00af00; text-decoration-color: #00af00\">398</span>, <span style=\"color: #00af00; text-decoration-color: #00af00\">64</span>)        │         <span style=\"color: #00af00; text-decoration-color: #00af00\">1,600</span> │\n",
       "├─────────────────────────────────┼────────────────────────┼───────────────┤\n",
       "│ max_pooling1d_4 (<span style=\"color: #0087ff; text-decoration-color: #0087ff\">MaxPooling1D</span>)  │ (<span style=\"color: #00d7ff; text-decoration-color: #00d7ff\">None</span>, <span style=\"color: #00af00; text-decoration-color: #00af00\">199</span>, <span style=\"color: #00af00; text-decoration-color: #00af00\">64</span>)        │             <span style=\"color: #00af00; text-decoration-color: #00af00\">0</span> │\n",
       "├─────────────────────────────────┼────────────────────────┼───────────────┤\n",
       "│ dropout_4 (<span style=\"color: #0087ff; text-decoration-color: #0087ff\">Dropout</span>)             │ (<span style=\"color: #00d7ff; text-decoration-color: #00d7ff\">None</span>, <span style=\"color: #00af00; text-decoration-color: #00af00\">199</span>, <span style=\"color: #00af00; text-decoration-color: #00af00\">64</span>)        │             <span style=\"color: #00af00; text-decoration-color: #00af00\">0</span> │\n",
       "├─────────────────────────────────┼────────────────────────┼───────────────┤\n",
       "│ lstm_4 (<span style=\"color: #0087ff; text-decoration-color: #0087ff\">LSTM</span>)                   │ (<span style=\"color: #00d7ff; text-decoration-color: #00d7ff\">None</span>, <span style=\"color: #00af00; text-decoration-color: #00af00\">64</span>)             │        <span style=\"color: #00af00; text-decoration-color: #00af00\">33,024</span> │\n",
       "├─────────────────────────────────┼────────────────────────┼───────────────┤\n",
       "│ dense_4 (<span style=\"color: #0087ff; text-decoration-color: #0087ff\">Dense</span>)                 │ (<span style=\"color: #00d7ff; text-decoration-color: #00d7ff\">None</span>, <span style=\"color: #00af00; text-decoration-color: #00af00\">5</span>)              │           <span style=\"color: #00af00; text-decoration-color: #00af00\">325</span> │\n",
       "└─────────────────────────────────┴────────────────────────┴───────────────┘\n",
       "</pre>\n"
      ],
      "text/plain": [
       "┏━━━━━━━━━━━━━━━━━━━━━━━━━━━━━━━━━┳━━━━━━━━━━━━━━━━━━━━━━━━┳━━━━━━━━━━━━━━━┓\n",
       "┃\u001b[1m \u001b[0m\u001b[1mLayer (type)                   \u001b[0m\u001b[1m \u001b[0m┃\u001b[1m \u001b[0m\u001b[1mOutput Shape          \u001b[0m\u001b[1m \u001b[0m┃\u001b[1m \u001b[0m\u001b[1m      Param #\u001b[0m\u001b[1m \u001b[0m┃\n",
       "┡━━━━━━━━━━━━━━━━━━━━━━━━━━━━━━━━━╇━━━━━━━━━━━━━━━━━━━━━━━━╇━━━━━━━━━━━━━━━┩\n",
       "│ conv1d_4 (\u001b[38;5;33mConv1D\u001b[0m)               │ (\u001b[38;5;45mNone\u001b[0m, \u001b[38;5;34m398\u001b[0m, \u001b[38;5;34m64\u001b[0m)        │         \u001b[38;5;34m1,600\u001b[0m │\n",
       "├─────────────────────────────────┼────────────────────────┼───────────────┤\n",
       "│ max_pooling1d_4 (\u001b[38;5;33mMaxPooling1D\u001b[0m)  │ (\u001b[38;5;45mNone\u001b[0m, \u001b[38;5;34m199\u001b[0m, \u001b[38;5;34m64\u001b[0m)        │             \u001b[38;5;34m0\u001b[0m │\n",
       "├─────────────────────────────────┼────────────────────────┼───────────────┤\n",
       "│ dropout_4 (\u001b[38;5;33mDropout\u001b[0m)             │ (\u001b[38;5;45mNone\u001b[0m, \u001b[38;5;34m199\u001b[0m, \u001b[38;5;34m64\u001b[0m)        │             \u001b[38;5;34m0\u001b[0m │\n",
       "├─────────────────────────────────┼────────────────────────┼───────────────┤\n",
       "│ lstm_4 (\u001b[38;5;33mLSTM\u001b[0m)                   │ (\u001b[38;5;45mNone\u001b[0m, \u001b[38;5;34m64\u001b[0m)             │        \u001b[38;5;34m33,024\u001b[0m │\n",
       "├─────────────────────────────────┼────────────────────────┼───────────────┤\n",
       "│ dense_4 (\u001b[38;5;33mDense\u001b[0m)                 │ (\u001b[38;5;45mNone\u001b[0m, \u001b[38;5;34m5\u001b[0m)              │           \u001b[38;5;34m325\u001b[0m │\n",
       "└─────────────────────────────────┴────────────────────────┴───────────────┘\n"
      ]
     },
     "metadata": {},
     "output_type": "display_data"
    },
    {
     "data": {
      "text/html": [
       "<pre style=\"white-space:pre;overflow-x:auto;line-height:normal;font-family:Menlo,'DejaVu Sans Mono',consolas,'Courier New',monospace\"><span style=\"font-weight: bold\"> Total params: </span><span style=\"color: #00af00; text-decoration-color: #00af00\">34,949</span> (136.52 KB)\n",
       "</pre>\n"
      ],
      "text/plain": [
       "\u001b[1m Total params: \u001b[0m\u001b[38;5;34m34,949\u001b[0m (136.52 KB)\n"
      ]
     },
     "metadata": {},
     "output_type": "display_data"
    },
    {
     "data": {
      "text/html": [
       "<pre style=\"white-space:pre;overflow-x:auto;line-height:normal;font-family:Menlo,'DejaVu Sans Mono',consolas,'Courier New',monospace\"><span style=\"font-weight: bold\"> Trainable params: </span><span style=\"color: #00af00; text-decoration-color: #00af00\">34,949</span> (136.52 KB)\n",
       "</pre>\n"
      ],
      "text/plain": [
       "\u001b[1m Trainable params: \u001b[0m\u001b[38;5;34m34,949\u001b[0m (136.52 KB)\n"
      ]
     },
     "metadata": {},
     "output_type": "display_data"
    },
    {
     "data": {
      "text/html": [
       "<pre style=\"white-space:pre;overflow-x:auto;line-height:normal;font-family:Menlo,'DejaVu Sans Mono',consolas,'Courier New',monospace\"><span style=\"font-weight: bold\"> Non-trainable params: </span><span style=\"color: #00af00; text-decoration-color: #00af00\">0</span> (0.00 B)\n",
       "</pre>\n"
      ],
      "text/plain": [
       "\u001b[1m Non-trainable params: \u001b[0m\u001b[38;5;34m0\u001b[0m (0.00 B)\n"
      ]
     },
     "metadata": {},
     "output_type": "display_data"
    }
   ],
   "source": [
    "\n",
    "# -----------------------------\n",
    "# 1. แปลง label เป็นตัวเลข + one-hot\n",
    "# -----------------------------\n",
    "encoder = LabelEncoder()\n",
    "y_train_enc = encoder.fit_transform(y_train)\n",
    "y_val_enc   = encoder.transform(y_val)\n",
    "y_test_enc  = encoder.transform(y_test)\n",
    "\n",
    "num_classes = len(np.unique(y_train_enc))\n",
    "\n",
    "y_train_cat = to_categorical(y_train_enc, num_classes=num_classes)\n",
    "y_val_cat   = to_categorical(y_val_enc, num_classes=num_classes)\n",
    "y_test_cat  = to_categorical(y_test_enc, num_classes=num_classes)\n",
    "\n",
    "# -----------------------------\n",
    "# 2. แปลง X ให้เป็น float32\n",
    "# -----------------------------\n",
    "X_train = np.array(X_train, dtype=np.float32)\n",
    "X_val   = np.array(X_val, dtype=np.float32)\n",
    "X_test  = np.array(X_test, dtype=np.float32)\n",
    "\n",
    "if X_train.ndim == 2:  # reshape ให้เป็น (samples, timesteps, features)\n",
    "    X_train = X_train[..., np.newaxis]\n",
    "    X_val   = X_val[..., np.newaxis]\n",
    "    X_test  = X_test[..., np.newaxis]\n",
    "\n",
    "print(\"X_train shape:\", X_train.shape)\n",
    "print(\"y_train shape:\", y_train_cat.shape)\n",
    "\n",
    "# -----------------------------\n",
    "# 3. สร้าง LSTM model\n",
    "# -----------------------------\n",
    "\n",
    "model1 = Sequential()\n",
    "\n",
    "# 1D CNN layer\n",
    "model1.add(Conv1D(filters=64, kernel_size=3, activation='relu',\n",
    "                  input_shape=(X_train.shape[1], X_train.shape[2])))\n",
    "model1.add(MaxPooling1D(pool_size=2))\n",
    "model1.add(Dropout(0.1))\n",
    "\n",
    "# LSTM layer\n",
    "model1.add(LSTM(64, return_sequences=False))  # return_sequences=False เพราะต่อ Dense\n",
    "\n",
    "# Output layer\n",
    "model1.add(Dense(num_classes, activation='softmax'))\n",
    "\n",
    "# Compile\n",
    "model1.compile(optimizer='adam',\n",
    "               loss='categorical_crossentropy',\n",
    "               metrics=['accuracy'])\n",
    "\n",
    "model1.summary()"
   ]
  },
  {
   "cell_type": "code",
   "execution_count": 34,
   "id": "5b4b15c6",
   "metadata": {},
   "outputs": [
    {
     "name": "stdout",
     "output_type": "stream",
     "text": [
      "Class weights: {np.int64(0): np.float64(1.390680786686838), np.int64(1): np.float64(0.40638373121131743), np.int64(2): np.float64(6.6902474526928675), np.int64(3): np.float64(1.4595744680851064), np.int64(4): np.float64(1.0146136865342164)}\n",
      "Epoch 1/100\n",
      "\u001b[1m719/719\u001b[0m \u001b[32m━━━━━━━━━━━━━━━━━━━━\u001b[0m\u001b[37m\u001b[0m \u001b[1m28s\u001b[0m 37ms/step - accuracy: 0.3241 - loss: 1.8318 - val_accuracy: 0.0000e+00 - val_loss: 2.7761\n",
      "Epoch 2/100\n",
      "\u001b[1m719/719\u001b[0m \u001b[32m━━━━━━━━━━━━━━━━━━━━\u001b[0m\u001b[37m\u001b[0m \u001b[1m26s\u001b[0m 35ms/step - accuracy: 0.2818 - loss: 1.7674 - val_accuracy: 0.0000e+00 - val_loss: 2.3869\n",
      "Epoch 3/100\n",
      "\u001b[1m719/719\u001b[0m \u001b[32m━━━━━━━━━━━━━━━━━━━━\u001b[0m\u001b[37m\u001b[0m \u001b[1m26s\u001b[0m 36ms/step - accuracy: 0.2017 - loss: 1.7369 - val_accuracy: 0.0000e+00 - val_loss: 2.1208\n",
      "Epoch 4/100\n",
      "\u001b[1m719/719\u001b[0m \u001b[32m━━━━━━━━━━━━━━━━━━━━\u001b[0m\u001b[37m\u001b[0m \u001b[1m26s\u001b[0m 36ms/step - accuracy: 0.2069 - loss: 1.7310 - val_accuracy: 0.0000e+00 - val_loss: 2.4250\n",
      "Epoch 5/100\n",
      "\u001b[1m719/719\u001b[0m \u001b[32m━━━━━━━━━━━━━━━━━━━━\u001b[0m\u001b[37m\u001b[0m \u001b[1m26s\u001b[0m 36ms/step - accuracy: 0.2311 - loss: 1.7058 - val_accuracy: 0.0000e+00 - val_loss: 2.4048\n",
      "Epoch 6/100\n",
      "\u001b[1m719/719\u001b[0m \u001b[32m━━━━━━━━━━━━━━━━━━━━\u001b[0m\u001b[37m\u001b[0m \u001b[1m26s\u001b[0m 36ms/step - accuracy: 0.2556 - loss: 1.7358 - val_accuracy: 0.0000e+00 - val_loss: 2.0911\n",
      "Epoch 7/100\n",
      "\u001b[1m719/719\u001b[0m \u001b[32m━━━━━━━━━━━━━━━━━━━━\u001b[0m\u001b[37m\u001b[0m \u001b[1m26s\u001b[0m 36ms/step - accuracy: 0.2462 - loss: 1.7497 - val_accuracy: 0.0000e+00 - val_loss: 2.2154\n",
      "Epoch 8/100\n",
      "\u001b[1m719/719\u001b[0m \u001b[32m━━━━━━━━━━━━━━━━━━━━\u001b[0m\u001b[37m\u001b[0m \u001b[1m25s\u001b[0m 35ms/step - accuracy: 0.2134 - loss: 1.7592 - val_accuracy: 0.0000e+00 - val_loss: 1.9481\n",
      "Epoch 9/100\n",
      "\u001b[1m719/719\u001b[0m \u001b[32m━━━━━━━━━━━━━━━━━━━━\u001b[0m\u001b[37m\u001b[0m \u001b[1m26s\u001b[0m 36ms/step - accuracy: 0.2144 - loss: 1.7004 - val_accuracy: 0.0000e+00 - val_loss: 1.9437\n",
      "Epoch 10/100\n",
      "\u001b[1m719/719\u001b[0m \u001b[32m━━━━━━━━━━━━━━━━━━━━\u001b[0m\u001b[37m\u001b[0m \u001b[1m27s\u001b[0m 38ms/step - accuracy: 0.2526 - loss: 1.6855 - val_accuracy: 0.0000e+00 - val_loss: 2.2364\n",
      "Epoch 11/100\n",
      "\u001b[1m719/719\u001b[0m \u001b[32m━━━━━━━━━━━━━━━━━━━━\u001b[0m\u001b[37m\u001b[0m \u001b[1m29s\u001b[0m 40ms/step - accuracy: 0.2472 - loss: 1.7227 - val_accuracy: 0.0000e+00 - val_loss: 1.9643\n",
      "Epoch 12/100\n",
      "\u001b[1m719/719\u001b[0m \u001b[32m━━━━━━━━━━━━━━━━━━━━\u001b[0m\u001b[37m\u001b[0m \u001b[1m29s\u001b[0m 40ms/step - accuracy: 0.2306 - loss: 1.6919 - val_accuracy: 0.0000e+00 - val_loss: 1.9684\n",
      "Epoch 13/100\n",
      "\u001b[1m719/719\u001b[0m \u001b[32m━━━━━━━━━━━━━━━━━━━━\u001b[0m\u001b[37m\u001b[0m \u001b[1m29s\u001b[0m 40ms/step - accuracy: 0.2352 - loss: 1.7004 - val_accuracy: 0.0000e+00 - val_loss: 2.0213\n",
      "Epoch 14/100\n",
      "\u001b[1m719/719\u001b[0m \u001b[32m━━━━━━━━━━━━━━━━━━━━\u001b[0m\u001b[37m\u001b[0m \u001b[1m29s\u001b[0m 40ms/step - accuracy: 0.3083 - loss: 1.6947 - val_accuracy: 0.0000e+00 - val_loss: 1.9950\n",
      "Epoch 15/100\n",
      "\u001b[1m719/719\u001b[0m \u001b[32m━━━━━━━━━━━━━━━━━━━━\u001b[0m\u001b[37m\u001b[0m \u001b[1m29s\u001b[0m 40ms/step - accuracy: 0.2822 - loss: 1.7541 - val_accuracy: 0.0000e+00 - val_loss: 2.3011\n",
      "Epoch 16/100\n",
      "\u001b[1m719/719\u001b[0m \u001b[32m━━━━━━━━━━━━━━━━━━━━\u001b[0m\u001b[37m\u001b[0m \u001b[1m29s\u001b[0m 40ms/step - accuracy: 0.2829 - loss: 1.7437 - val_accuracy: 0.0000e+00 - val_loss: 1.9315\n",
      "Epoch 17/100\n",
      "\u001b[1m719/719\u001b[0m \u001b[32m━━━━━━━━━━━━━━━━━━━━\u001b[0m\u001b[37m\u001b[0m \u001b[1m29s\u001b[0m 40ms/step - accuracy: 0.2968 - loss: 1.7648 - val_accuracy: 0.0000e+00 - val_loss: 2.1097\n",
      "Epoch 18/100\n",
      "\u001b[1m719/719\u001b[0m \u001b[32m━━━━━━━━━━━━━━━━━━━━\u001b[0m\u001b[37m\u001b[0m \u001b[1m29s\u001b[0m 41ms/step - accuracy: 0.2881 - loss: 1.7474 - val_accuracy: 0.0000e+00 - val_loss: 2.5993\n",
      "Epoch 19/100\n",
      "\u001b[1m719/719\u001b[0m \u001b[32m━━━━━━━━━━━━━━━━━━━━\u001b[0m\u001b[37m\u001b[0m \u001b[1m29s\u001b[0m 40ms/step - accuracy: 0.3364 - loss: 1.7922 - val_accuracy: 0.0000e+00 - val_loss: 2.3386\n",
      "Epoch 20/100\n",
      "\u001b[1m719/719\u001b[0m \u001b[32m━━━━━━━━━━━━━━━━━━━━\u001b[0m\u001b[37m\u001b[0m \u001b[1m29s\u001b[0m 40ms/step - accuracy: 0.3160 - loss: 1.6851 - val_accuracy: 0.0000e+00 - val_loss: 2.2319\n",
      "Epoch 21/100\n",
      "\u001b[1m719/719\u001b[0m \u001b[32m━━━━━━━━━━━━━━━━━━━━\u001b[0m\u001b[37m\u001b[0m \u001b[1m29s\u001b[0m 40ms/step - accuracy: 0.3574 - loss: 1.6472 - val_accuracy: 0.0000e+00 - val_loss: 2.2880\n",
      "Epoch 22/100\n",
      "\u001b[1m719/719\u001b[0m \u001b[32m━━━━━━━━━━━━━━━━━━━━\u001b[0m\u001b[37m\u001b[0m \u001b[1m38s\u001b[0m 53ms/step - accuracy: 0.3270 - loss: 1.6717 - val_accuracy: 0.0000e+00 - val_loss: 2.2083\n",
      "Epoch 23/100\n",
      "\u001b[1m719/719\u001b[0m \u001b[32m━━━━━━━━━━━━━━━━━━━━\u001b[0m\u001b[37m\u001b[0m \u001b[1m40s\u001b[0m 56ms/step - accuracy: 0.3193 - loss: 1.6856 - val_accuracy: 0.0000e+00 - val_loss: 2.1898\n",
      "Epoch 24/100\n",
      "\u001b[1m719/719\u001b[0m \u001b[32m━━━━━━━━━━━━━━━━━━━━\u001b[0m\u001b[37m\u001b[0m \u001b[1m38s\u001b[0m 53ms/step - accuracy: 0.3346 - loss: 1.6591 - val_accuracy: 0.0000e+00 - val_loss: 2.2000\n",
      "Epoch 25/100\n",
      "\u001b[1m719/719\u001b[0m \u001b[32m━━━━━━━━━━━━━━━━━━━━\u001b[0m\u001b[37m\u001b[0m \u001b[1m36s\u001b[0m 50ms/step - accuracy: 0.3579 - loss: 1.7120 - val_accuracy: 0.0000e+00 - val_loss: 2.1502\n",
      "Epoch 26/100\n",
      "\u001b[1m719/719\u001b[0m \u001b[32m━━━━━━━━━━━━━━━━━━━━\u001b[0m\u001b[37m\u001b[0m \u001b[1m35s\u001b[0m 49ms/step - accuracy: 0.3546 - loss: 1.6033 - val_accuracy: 0.0000e+00 - val_loss: 2.3194\n",
      "Epoch 27/100\n",
      "\u001b[1m719/719\u001b[0m \u001b[32m━━━━━━━━━━━━━━━━━━━━\u001b[0m\u001b[37m\u001b[0m \u001b[1m36s\u001b[0m 51ms/step - accuracy: 0.3220 - loss: 1.6695 - val_accuracy: 6.0938e-04 - val_loss: 2.2724\n",
      "Epoch 28/100\n",
      "\u001b[1m719/719\u001b[0m \u001b[32m━━━━━━━━━━━━━━━━━━━━\u001b[0m\u001b[37m\u001b[0m \u001b[1m43s\u001b[0m 59ms/step - accuracy: 0.3497 - loss: 1.5862 - val_accuracy: 9.1408e-04 - val_loss: 2.2751\n",
      "Epoch 29/100\n",
      "\u001b[1m719/719\u001b[0m \u001b[32m━━━━━━━━━━━━━━━━━━━━\u001b[0m\u001b[37m\u001b[0m \u001b[1m41s\u001b[0m 57ms/step - accuracy: 0.3391 - loss: 1.6142 - val_accuracy: 0.0030 - val_loss: 1.9984\n",
      "Epoch 30/100\n",
      "\u001b[1m719/719\u001b[0m \u001b[32m━━━━━━━━━━━━━━━━━━━━\u001b[0m\u001b[37m\u001b[0m \u001b[1m39s\u001b[0m 55ms/step - accuracy: 0.3367 - loss: 1.6441 - val_accuracy: 0.0012 - val_loss: 2.3471\n",
      "Epoch 31/100\n",
      "\u001b[1m719/719\u001b[0m \u001b[32m━━━━━━━━━━━━━━━━━━━━\u001b[0m\u001b[37m\u001b[0m \u001b[1m37s\u001b[0m 51ms/step - accuracy: 0.3673 - loss: 1.6163 - val_accuracy: 0.0104 - val_loss: 2.0954\n",
      "Epoch 32/100\n",
      "\u001b[1m719/719\u001b[0m \u001b[32m━━━━━━━━━━━━━━━━━━━━\u001b[0m\u001b[37m\u001b[0m \u001b[1m37s\u001b[0m 51ms/step - accuracy: 0.3230 - loss: 1.6259 - val_accuracy: 0.0161 - val_loss: 2.1102\n",
      "Epoch 33/100\n",
      "\u001b[1m719/719\u001b[0m \u001b[32m━━━━━━━━━━━━━━━━━━━━\u001b[0m\u001b[37m\u001b[0m \u001b[1m36s\u001b[0m 50ms/step - accuracy: 0.3052 - loss: 1.5368 - val_accuracy: 0.0128 - val_loss: 2.0827\n",
      "Epoch 34/100\n",
      "\u001b[1m719/719\u001b[0m \u001b[32m━━━━━━━━━━━━━━━━━━━━\u001b[0m\u001b[37m\u001b[0m \u001b[1m36s\u001b[0m 50ms/step - accuracy: 0.3220 - loss: 1.5838 - val_accuracy: 0.0131 - val_loss: 2.1155\n",
      "Epoch 35/100\n",
      "\u001b[1m719/719\u001b[0m \u001b[32m━━━━━━━━━━━━━━━━━━━━\u001b[0m\u001b[37m\u001b[0m \u001b[1m36s\u001b[0m 49ms/step - accuracy: 0.3458 - loss: 1.5627 - val_accuracy: 0.0210 - val_loss: 1.9174\n",
      "Epoch 36/100\n",
      "\u001b[1m719/719\u001b[0m \u001b[32m━━━━━━━━━━━━━━━━━━━━\u001b[0m\u001b[37m\u001b[0m \u001b[1m41s\u001b[0m 50ms/step - accuracy: 0.3482 - loss: 1.6134 - val_accuracy: 0.0134 - val_loss: 2.1094\n",
      "Epoch 37/100\n",
      "\u001b[1m719/719\u001b[0m \u001b[32m━━━━━━━━━━━━━━━━━━━━\u001b[0m\u001b[37m\u001b[0m \u001b[1m35s\u001b[0m 49ms/step - accuracy: 0.3116 - loss: 1.5090 - val_accuracy: 0.0079 - val_loss: 2.3359\n",
      "Epoch 38/100\n",
      "\u001b[1m719/719\u001b[0m \u001b[32m━━━━━━━━━━━━━━━━━━━━\u001b[0m\u001b[37m\u001b[0m \u001b[1m36s\u001b[0m 50ms/step - accuracy: 0.3148 - loss: 1.5844 - val_accuracy: 0.0283 - val_loss: 1.9755\n",
      "Epoch 39/100\n",
      "\u001b[1m719/719\u001b[0m \u001b[32m━━━━━━━━━━━━━━━━━━━━\u001b[0m\u001b[37m\u001b[0m \u001b[1m36s\u001b[0m 50ms/step - accuracy: 0.2955 - loss: 1.4797 - val_accuracy: 0.0478 - val_loss: 1.9186\n",
      "Epoch 40/100\n",
      "\u001b[1m719/719\u001b[0m \u001b[32m━━━━━━━━━━━━━━━━━━━━\u001b[0m\u001b[37m\u001b[0m \u001b[1m36s\u001b[0m 50ms/step - accuracy: 0.2874 - loss: 1.4657 - val_accuracy: 0.0506 - val_loss: 1.8713\n",
      "Epoch 41/100\n",
      "\u001b[1m719/719\u001b[0m \u001b[32m━━━━━━━━━━━━━━━━━━━━\u001b[0m\u001b[37m\u001b[0m \u001b[1m36s\u001b[0m 50ms/step - accuracy: 0.3058 - loss: 1.4445 - val_accuracy: 0.0110 - val_loss: 2.2255\n",
      "Epoch 42/100\n",
      "\u001b[1m719/719\u001b[0m \u001b[32m━━━━━━━━━━━━━━━━━━━━\u001b[0m\u001b[37m\u001b[0m \u001b[1m36s\u001b[0m 50ms/step - accuracy: 0.3039 - loss: 1.4205 - val_accuracy: 0.1033 - val_loss: 1.7955\n",
      "Epoch 43/100\n",
      "\u001b[1m719/719\u001b[0m \u001b[32m━━━━━━━━━━━━━━━━━━━━\u001b[0m\u001b[37m\u001b[0m \u001b[1m38s\u001b[0m 53ms/step - accuracy: 0.3218 - loss: 1.4483 - val_accuracy: 0.0780 - val_loss: 1.7468\n",
      "Epoch 44/100\n",
      "\u001b[1m719/719\u001b[0m \u001b[32m━━━━━━━━━━━━━━━━━━━━\u001b[0m\u001b[37m\u001b[0m \u001b[1m36s\u001b[0m 50ms/step - accuracy: 0.3072 - loss: 1.4218 - val_accuracy: 0.1630 - val_loss: 1.6549\n",
      "Epoch 45/100\n",
      "\u001b[1m719/719\u001b[0m \u001b[32m━━━━━━━━━━━━━━━━━━━━\u001b[0m\u001b[37m\u001b[0m \u001b[1m26s\u001b[0m 36ms/step - accuracy: 0.3794 - loss: 1.4400 - val_accuracy: 0.1539 - val_loss: 1.6043\n",
      "Epoch 46/100\n",
      "\u001b[1m719/719\u001b[0m \u001b[32m━━━━━━━━━━━━━━━━━━━━\u001b[0m\u001b[37m\u001b[0m \u001b[1m28s\u001b[0m 40ms/step - accuracy: 0.3215 - loss: 1.3841 - val_accuracy: 0.0750 - val_loss: 1.6981\n",
      "Epoch 47/100\n",
      "\u001b[1m719/719\u001b[0m \u001b[32m━━━━━━━━━━━━━━━━━━━━\u001b[0m\u001b[37m\u001b[0m \u001b[1m36s\u001b[0m 50ms/step - accuracy: 0.3456 - loss: 1.3554 - val_accuracy: 0.1274 - val_loss: 1.6659\n",
      "Epoch 48/100\n",
      "\u001b[1m719/719\u001b[0m \u001b[32m━━━━━━━━━━━━━━━━━━━━\u001b[0m\u001b[37m\u001b[0m \u001b[1m37s\u001b[0m 51ms/step - accuracy: 0.3206 - loss: 1.3507 - val_accuracy: 0.0887 - val_loss: 1.6553\n",
      "Epoch 49/100\n",
      "\u001b[1m719/719\u001b[0m \u001b[32m━━━━━━━━━━━━━━━━━━━━\u001b[0m\u001b[37m\u001b[0m \u001b[1m39s\u001b[0m 54ms/step - accuracy: 0.3254 - loss: 1.3216 - val_accuracy: 0.1027 - val_loss: 1.6660\n",
      "Epoch 50/100\n",
      "\u001b[1m719/719\u001b[0m \u001b[32m━━━━━━━━━━━━━━━━━━━━\u001b[0m\u001b[37m\u001b[0m \u001b[1m37s\u001b[0m 52ms/step - accuracy: 0.3240 - loss: 1.3103 - val_accuracy: 0.1444 - val_loss: 1.6570\n",
      "Epoch 51/100\n",
      "\u001b[1m719/719\u001b[0m \u001b[32m━━━━━━━━━━━━━━━━━━━━\u001b[0m\u001b[37m\u001b[0m \u001b[1m34s\u001b[0m 47ms/step - accuracy: 0.3520 - loss: 1.3486 - val_accuracy: 0.1094 - val_loss: 1.6683\n",
      "Epoch 52/100\n",
      "\u001b[1m719/719\u001b[0m \u001b[32m━━━━━━━━━━━━━━━━━━━━\u001b[0m\u001b[37m\u001b[0m \u001b[1m34s\u001b[0m 47ms/step - accuracy: 0.3151 - loss: 1.3209 - val_accuracy: 0.1069 - val_loss: 1.6773\n",
      "Epoch 53/100\n",
      "\u001b[1m719/719\u001b[0m \u001b[32m━━━━━━━━━━━━━━━━━━━━\u001b[0m\u001b[37m\u001b[0m \u001b[1m34s\u001b[0m 47ms/step - accuracy: 0.3234 - loss: 1.3524 - val_accuracy: 0.1268 - val_loss: 1.5593\n",
      "Epoch 54/100\n",
      "\u001b[1m719/719\u001b[0m \u001b[32m━━━━━━━━━━━━━━━━━━━━\u001b[0m\u001b[37m\u001b[0m \u001b[1m34s\u001b[0m 47ms/step - accuracy: 0.3414 - loss: 1.3219 - val_accuracy: 0.1621 - val_loss: 1.5599\n",
      "Epoch 55/100\n",
      "\u001b[1m719/719\u001b[0m \u001b[32m━━━━━━━━━━━━━━━━━━━━\u001b[0m\u001b[37m\u001b[0m \u001b[1m34s\u001b[0m 47ms/step - accuracy: 0.3451 - loss: 1.2836 - val_accuracy: 0.1463 - val_loss: 1.5653\n",
      "Epoch 56/100\n",
      "\u001b[1m719/719\u001b[0m \u001b[32m━━━━━━━━━━━━━━━━━━━━\u001b[0m\u001b[37m\u001b[0m \u001b[1m34s\u001b[0m 47ms/step - accuracy: 0.3522 - loss: 1.2819 - val_accuracy: 0.1316 - val_loss: 1.6222\n",
      "Epoch 57/100\n",
      "\u001b[1m719/719\u001b[0m \u001b[32m━━━━━━━━━━━━━━━━━━━━\u001b[0m\u001b[37m\u001b[0m \u001b[1m26s\u001b[0m 36ms/step - accuracy: 0.3684 - loss: 1.2595 - val_accuracy: 0.0460 - val_loss: 1.8675\n",
      "Epoch 58/100\n",
      "\u001b[1m719/719\u001b[0m \u001b[32m━━━━━━━━━━━━━━━━━━━━\u001b[0m\u001b[37m\u001b[0m \u001b[1m26s\u001b[0m 36ms/step - accuracy: 0.3652 - loss: 1.3376 - val_accuracy: 0.1066 - val_loss: 1.7202\n",
      "Epoch 59/100\n",
      "\u001b[1m719/719\u001b[0m \u001b[32m━━━━━━━━━━━━━━━━━━━━\u001b[0m\u001b[37m\u001b[0m \u001b[1m26s\u001b[0m 36ms/step - accuracy: 0.3706 - loss: 1.2625 - val_accuracy: 0.0963 - val_loss: 1.8623\n",
      "Epoch 60/100\n",
      "\u001b[1m719/719\u001b[0m \u001b[32m━━━━━━━━━━━━━━━━━━━━\u001b[0m\u001b[37m\u001b[0m \u001b[1m26s\u001b[0m 36ms/step - accuracy: 0.3633 - loss: 1.2484 - val_accuracy: 0.0798 - val_loss: 1.7376\n",
      "Epoch 61/100\n",
      "\u001b[1m719/719\u001b[0m \u001b[32m━━━━━━━━━━━━━━━━━━━━\u001b[0m\u001b[37m\u001b[0m \u001b[1m26s\u001b[0m 36ms/step - accuracy: 0.3543 - loss: 1.2286 - val_accuracy: 0.1264 - val_loss: 1.7220\n",
      "Epoch 62/100\n",
      "\u001b[1m719/719\u001b[0m \u001b[32m━━━━━━━━━━━━━━━━━━━━\u001b[0m\u001b[37m\u001b[0m \u001b[1m26s\u001b[0m 36ms/step - accuracy: 0.3698 - loss: 1.2296 - val_accuracy: 0.1456 - val_loss: 1.6904\n",
      "Epoch 63/100\n",
      "\u001b[1m719/719\u001b[0m \u001b[32m━━━━━━━━━━━━━━━━━━━━\u001b[0m\u001b[37m\u001b[0m \u001b[1m26s\u001b[0m 36ms/step - accuracy: 0.3735 - loss: 1.2133 - val_accuracy: 0.1560 - val_loss: 1.7375\n",
      "Epoch 64/100\n",
      "\u001b[1m719/719\u001b[0m \u001b[32m━━━━━━━━━━━━━━━━━━━━\u001b[0m\u001b[37m\u001b[0m \u001b[1m26s\u001b[0m 36ms/step - accuracy: 0.4132 - loss: 1.1936 - val_accuracy: 0.1639 - val_loss: 1.7346\n",
      "Epoch 65/100\n",
      "\u001b[1m719/719\u001b[0m \u001b[32m━━━━━━━━━━━━━━━━━━━━\u001b[0m\u001b[37m\u001b[0m \u001b[1m26s\u001b[0m 36ms/step - accuracy: 0.4189 - loss: 1.1656 - val_accuracy: 0.2252 - val_loss: 1.6766\n",
      "Epoch 66/100\n",
      "\u001b[1m719/719\u001b[0m \u001b[32m━━━━━━━━━━━━━━━━━━━━\u001b[0m\u001b[37m\u001b[0m \u001b[1m28s\u001b[0m 39ms/step - accuracy: 0.3995 - loss: 1.1813 - val_accuracy: 0.2157 - val_loss: 1.6950\n",
      "Epoch 67/100\n",
      "\u001b[1m719/719\u001b[0m \u001b[32m━━━━━━━━━━━━━━━━━━━━\u001b[0m\u001b[37m\u001b[0m \u001b[1m29s\u001b[0m 40ms/step - accuracy: 0.4094 - loss: 1.1418 - val_accuracy: 0.1630 - val_loss: 1.7861\n",
      "Epoch 68/100\n",
      "\u001b[1m719/719\u001b[0m \u001b[32m━━━━━━━━━━━━━━━━━━━━\u001b[0m\u001b[37m\u001b[0m \u001b[1m29s\u001b[0m 40ms/step - accuracy: 0.4129 - loss: 1.1586 - val_accuracy: 0.2063 - val_loss: 1.7331\n",
      "Epoch 69/100\n",
      "\u001b[1m719/719\u001b[0m \u001b[32m━━━━━━━━━━━━━━━━━━━━\u001b[0m\u001b[37m\u001b[0m \u001b[1m29s\u001b[0m 40ms/step - accuracy: 0.4223 - loss: 1.1177 - val_accuracy: 0.2380 - val_loss: 1.6815\n",
      "Epoch 70/100\n",
      "\u001b[1m719/719\u001b[0m \u001b[32m━━━━━━━━━━━━━━━━━━━━\u001b[0m\u001b[37m\u001b[0m \u001b[1m29s\u001b[0m 40ms/step - accuracy: 0.4297 - loss: 1.1583 - val_accuracy: 0.1304 - val_loss: 1.8062\n",
      "Epoch 71/100\n",
      "\u001b[1m719/719\u001b[0m \u001b[32m━━━━━━━━━━━━━━━━━━━━\u001b[0m\u001b[37m\u001b[0m \u001b[1m29s\u001b[0m 40ms/step - accuracy: 0.4156 - loss: 1.1376 - val_accuracy: 0.1944 - val_loss: 1.7538\n",
      "Epoch 72/100\n",
      "\u001b[1m719/719\u001b[0m \u001b[32m━━━━━━━━━━━━━━━━━━━━\u001b[0m\u001b[37m\u001b[0m \u001b[1m29s\u001b[0m 40ms/step - accuracy: 0.4227 - loss: 1.1383 - val_accuracy: 0.2453 - val_loss: 1.6767\n",
      "Epoch 73/100\n",
      "\u001b[1m719/719\u001b[0m \u001b[32m━━━━━━━━━━━━━━━━━━━━\u001b[0m\u001b[37m\u001b[0m \u001b[1m29s\u001b[0m 40ms/step - accuracy: 0.4268 - loss: 1.1120 - val_accuracy: 0.1798 - val_loss: 1.7594\n",
      "Epoch 74/100\n",
      "\u001b[1m719/719\u001b[0m \u001b[32m━━━━━━━━━━━━━━━━━━━━\u001b[0m\u001b[37m\u001b[0m \u001b[1m29s\u001b[0m 40ms/step - accuracy: 0.4349 - loss: 1.1052 - val_accuracy: 0.1813 - val_loss: 1.7737\n",
      "Epoch 75/100\n",
      "\u001b[1m719/719\u001b[0m \u001b[32m━━━━━━━━━━━━━━━━━━━━\u001b[0m\u001b[37m\u001b[0m \u001b[1m29s\u001b[0m 40ms/step - accuracy: 0.4362 - loss: 1.1062 - val_accuracy: 0.2258 - val_loss: 1.6777\n",
      "Epoch 76/100\n",
      "\u001b[1m719/719\u001b[0m \u001b[32m━━━━━━━━━━━━━━━━━━━━\u001b[0m\u001b[37m\u001b[0m \u001b[1m29s\u001b[0m 40ms/step - accuracy: 0.4264 - loss: 1.1083 - val_accuracy: 0.2407 - val_loss: 1.6610\n",
      "Epoch 77/100\n",
      "\u001b[1m719/719\u001b[0m \u001b[32m━━━━━━━━━━━━━━━━━━━━\u001b[0m\u001b[37m\u001b[0m \u001b[1m29s\u001b[0m 40ms/step - accuracy: 0.4375 - loss: 1.0776 - val_accuracy: 0.1392 - val_loss: 1.8813\n",
      "Epoch 78/100\n",
      "\u001b[1m719/719\u001b[0m \u001b[32m━━━━━━━━━━━━━━━━━━━━\u001b[0m\u001b[37m\u001b[0m \u001b[1m29s\u001b[0m 40ms/step - accuracy: 0.4427 - loss: 1.0734 - val_accuracy: 0.2520 - val_loss: 1.6386\n",
      "Epoch 79/100\n",
      "\u001b[1m719/719\u001b[0m \u001b[32m━━━━━━━━━━━━━━━━━━━━\u001b[0m\u001b[37m\u001b[0m \u001b[1m29s\u001b[0m 40ms/step - accuracy: 0.4376 - loss: 1.0851 - val_accuracy: 0.2002 - val_loss: 1.7079\n",
      "Epoch 80/100\n",
      "\u001b[1m719/719\u001b[0m \u001b[32m━━━━━━━━━━━━━━━━━━━━\u001b[0m\u001b[37m\u001b[0m \u001b[1m29s\u001b[0m 40ms/step - accuracy: 0.4415 - loss: 1.0693 - val_accuracy: 0.2203 - val_loss: 1.6931\n",
      "Epoch 81/100\n",
      "\u001b[1m719/719\u001b[0m \u001b[32m━━━━━━━━━━━━━━━━━━━━\u001b[0m\u001b[37m\u001b[0m \u001b[1m30s\u001b[0m 42ms/step - accuracy: 0.4444 - loss: 1.0616 - val_accuracy: 0.2398 - val_loss: 1.6616\n",
      "Epoch 82/100\n",
      "\u001b[1m719/719\u001b[0m \u001b[32m━━━━━━━━━━━━━━━━━━━━\u001b[0m\u001b[37m\u001b[0m \u001b[1m29s\u001b[0m 40ms/step - accuracy: 0.4434 - loss: 1.0588 - val_accuracy: 0.2535 - val_loss: 1.6141\n",
      "Epoch 83/100\n",
      "\u001b[1m719/719\u001b[0m \u001b[32m━━━━━━━━━━━━━━━━━━━━\u001b[0m\u001b[37m\u001b[0m \u001b[1m29s\u001b[0m 40ms/step - accuracy: 0.4629 - loss: 1.0616 - val_accuracy: 0.2477 - val_loss: 1.6572\n",
      "Epoch 84/100\n",
      "\u001b[1m719/719\u001b[0m \u001b[32m━━━━━━━━━━━━━━━━━━━━\u001b[0m\u001b[37m\u001b[0m \u001b[1m29s\u001b[0m 40ms/step - accuracy: 0.4455 - loss: 1.0558 - val_accuracy: 0.2617 - val_loss: 1.6346\n",
      "Epoch 85/100\n",
      "\u001b[1m719/719\u001b[0m \u001b[32m━━━━━━━━━━━━━━━━━━━━\u001b[0m\u001b[37m\u001b[0m \u001b[1m29s\u001b[0m 40ms/step - accuracy: 0.4528 - loss: 1.0578 - val_accuracy: 0.1191 - val_loss: 1.8275\n",
      "Epoch 86/100\n",
      "\u001b[1m719/719\u001b[0m \u001b[32m━━━━━━━━━━━━━━━━━━━━\u001b[0m\u001b[37m\u001b[0m \u001b[1m29s\u001b[0m 40ms/step - accuracy: 0.4582 - loss: 1.0389 - val_accuracy: 0.2739 - val_loss: 1.5819\n",
      "Epoch 87/100\n",
      "\u001b[1m719/719\u001b[0m \u001b[32m━━━━━━━━━━━━━━━━━━━━\u001b[0m\u001b[37m\u001b[0m \u001b[1m30s\u001b[0m 42ms/step - accuracy: 0.4634 - loss: 1.0254 - val_accuracy: 0.2352 - val_loss: 1.6214\n",
      "Epoch 88/100\n",
      "\u001b[1m719/719\u001b[0m \u001b[32m━━━━━━━━━━━━━━━━━━━━\u001b[0m\u001b[37m\u001b[0m \u001b[1m53s\u001b[0m 59ms/step - accuracy: 0.4672 - loss: 1.0341 - val_accuracy: 0.2310 - val_loss: 1.6486\n",
      "Epoch 89/100\n",
      "\u001b[1m719/719\u001b[0m \u001b[32m━━━━━━━━━━━━━━━━━━━━\u001b[0m\u001b[37m\u001b[0m \u001b[1m45s\u001b[0m 62ms/step - accuracy: 0.4723 - loss: 1.0157 - val_accuracy: 0.1590 - val_loss: 1.7707\n",
      "Epoch 90/100\n",
      "\u001b[1m719/719\u001b[0m \u001b[32m━━━━━━━━━━━━━━━━━━━━\u001b[0m\u001b[37m\u001b[0m \u001b[1m44s\u001b[0m 61ms/step - accuracy: 0.4608 - loss: 1.0188 - val_accuracy: 0.2212 - val_loss: 1.6737\n",
      "Epoch 91/100\n",
      "\u001b[1m719/719\u001b[0m \u001b[32m━━━━━━━━━━━━━━━━━━━━\u001b[0m\u001b[37m\u001b[0m \u001b[1m45s\u001b[0m 62ms/step - accuracy: 0.4677 - loss: 1.0257 - val_accuracy: 0.2398 - val_loss: 1.6793\n",
      "Epoch 92/100\n",
      "\u001b[1m719/719\u001b[0m \u001b[32m━━━━━━━━━━━━━━━━━━━━\u001b[0m\u001b[37m\u001b[0m \u001b[1m42s\u001b[0m 58ms/step - accuracy: 0.4691 - loss: 1.0074 - val_accuracy: 0.1402 - val_loss: 1.8344\n",
      "Epoch 93/100\n",
      "\u001b[1m719/719\u001b[0m \u001b[32m━━━━━━━━━━━━━━━━━━━━\u001b[0m\u001b[37m\u001b[0m \u001b[1m33s\u001b[0m 46ms/step - accuracy: 0.4754 - loss: 1.0006 - val_accuracy: 0.1527 - val_loss: 1.8352\n",
      "Epoch 94/100\n",
      "\u001b[1m719/719\u001b[0m \u001b[32m━━━━━━━━━━━━━━━━━━━━\u001b[0m\u001b[37m\u001b[0m \u001b[1m38s\u001b[0m 52ms/step - accuracy: 0.4805 - loss: 0.9806 - val_accuracy: 0.1255 - val_loss: 1.8643\n",
      "Epoch 95/100\n",
      "\u001b[1m719/719\u001b[0m \u001b[32m━━━━━━━━━━━━━━━━━━━━\u001b[0m\u001b[37m\u001b[0m \u001b[1m34s\u001b[0m 47ms/step - accuracy: 0.4838 - loss: 1.0141 - val_accuracy: 0.1478 - val_loss: 1.8040\n",
      "Epoch 96/100\n",
      "\u001b[1m719/719\u001b[0m \u001b[32m━━━━━━━━━━━━━━━━━━━━\u001b[0m\u001b[37m\u001b[0m \u001b[1m32s\u001b[0m 44ms/step - accuracy: 0.4790 - loss: 0.9797 - val_accuracy: 0.1054 - val_loss: 1.9114\n",
      "Epoch 97/100\n",
      "\u001b[1m719/719\u001b[0m \u001b[32m━━━━━━━━━━━━━━━━━━━━\u001b[0m\u001b[37m\u001b[0m \u001b[1m38s\u001b[0m 53ms/step - accuracy: 0.4807 - loss: 0.9849 - val_accuracy: 0.1246 - val_loss: 1.8658\n",
      "Epoch 98/100\n",
      "\u001b[1m719/719\u001b[0m \u001b[32m━━━━━━━━━━━━━━━━━━━━\u001b[0m\u001b[37m\u001b[0m \u001b[1m41s\u001b[0m 57ms/step - accuracy: 0.4933 - loss: 0.9776 - val_accuracy: 0.1341 - val_loss: 1.8880\n",
      "Epoch 99/100\n",
      "\u001b[1m719/719\u001b[0m \u001b[32m━━━━━━━━━━━━━━━━━━━━\u001b[0m\u001b[37m\u001b[0m \u001b[1m42s\u001b[0m 58ms/step - accuracy: 0.5009 - loss: 0.9925 - val_accuracy: 0.1231 - val_loss: 1.9545\n",
      "Epoch 100/100\n",
      "\u001b[1m719/719\u001b[0m \u001b[32m━━━━━━━━━━━━━━━━━━━━\u001b[0m\u001b[37m\u001b[0m \u001b[1m34s\u001b[0m 47ms/step - accuracy: 0.4909 - loss: 0.9800 - val_accuracy: 0.1645 - val_loss: 1.8641\n"
     ]
    }
   ],
   "source": [
    "# -----------------------------\n",
    "# 4. คำนวณ class weights\n",
    "# -----------------------------\n",
    "classes = np.unique(y_train_enc)\n",
    "class_weights = compute_class_weight(class_weight=\"balanced\",\n",
    "                                     classes=classes,\n",
    "                                     y=y_train_enc)\n",
    "class_weights = dict(zip(classes, class_weights))\n",
    "print(\"Class weights:\", class_weights)\n",
    "\n",
    "# -----------------------------\n",
    "# 5. Train model\n",
    "# -----------------------------\n",
    "history = model1.fit(\n",
    "    X_train, y_train_cat,\n",
    "    validation_data=(X_val, y_val_cat),\n",
    "    epochs=100,\n",
    "    batch_size=32,\n",
    "    shuffle=False,\n",
    "    class_weight=class_weights   #  เพิ่มตรงนี้\n",
    ")"
   ]
  },
  {
   "cell_type": "code",
   "execution_count": 35,
   "id": "3470bcd3",
   "metadata": {},
   "outputs": [
    {
     "name": "stdout",
     "output_type": "stream",
     "text": [
      "\u001b[1m204/204\u001b[0m \u001b[32m━━━━━━━━━━━━━━━━━━━━\u001b[0m\u001b[37m\u001b[0m \u001b[1m4s\u001b[0m 19ms/step - accuracy: 0.2382 - loss: 2.3370\n",
      "Test Loss: 2.3370, Test Accuracy: 23.82%\n"
     ]
    }
   ],
   "source": [
    "\n",
    "# -----------------------------\n",
    "# 5. Evaluate model\n",
    "# -----------------------------\n",
    "loss, accuracy = model1.evaluate(X_test, y_test_cat)\n",
    "print(f\"Test Loss: {loss:.4f}, Test Accuracy: {accuracy * 100:.2f}%\")"
   ]
  },
  {
   "cell_type": "code",
   "execution_count": 36,
   "id": "86e7237a",
   "metadata": {},
   "outputs": [
    {
     "name": "stdout",
     "output_type": "stream",
     "text": [
      "\u001b[1m204/204\u001b[0m \u001b[32m━━━━━━━━━━━━━━━━━━━━\u001b[0m\u001b[37m\u001b[0m \u001b[1m3s\u001b[0m 14ms/step\n"
     ]
    }
   ],
   "source": [
    "threshold = 0.5  # set the threshold value\n",
    "y_pred_prob = model1.predict(X_test)  # generate prediction probabilities\n",
    "y_pred = (y_pred_prob > threshold).astype(int)"
   ]
  },
  {
   "cell_type": "code",
   "execution_count": 37,
   "id": "6ec4d546",
   "metadata": {},
   "outputs": [
    {
     "name": "stdout",
     "output_type": "stream",
     "text": [
      "\u001b[1m204/204\u001b[0m \u001b[32m━━━━━━━━━━━━━━━━━━━━\u001b[0m\u001b[37m\u001b[0m \u001b[1m3s\u001b[0m 14ms/step\n"
     ]
    },
    {
     "data": {
      "image/png": "[encoded data removed]",
      "text/plain": [
       "<Figure size 800x600 with 2 Axes>"
      ]
     },
     "metadata": {},
     "output_type": "display_data"
    },
    {
     "name": "stdout",
     "output_type": "stream",
     "text": [
      "                 precision    recall  f1-score   support\n",
      "\n",
      " Sleep stage N1       0.18      0.36      0.24       844\n",
      " Sleep stage N2       0.12      0.05      0.07      2265\n",
      " Sleep stage N3       0.00      0.00      0.00         0\n",
      "  Sleep stage R       0.21      0.26      0.24      2265\n",
      "  Sleep stage W       0.68      0.47      0.55      1154\n",
      "\n",
      "       accuracy                           0.24      6528\n",
      "      macro avg       0.24      0.23      0.22      6528\n",
      "   weighted avg       0.26      0.24      0.24      6528\n",
      "\n"
     ]
    },
    {
     "name": "stderr",
     "output_type": "stream",
     "text": [
      "C:\\Users\\HP\\AppData\\Roaming\\Python\\Python313\\site-packages\\sklearn\\metrics\\_classification.py:1731: UndefinedMetricWarning: Recall is ill-defined and being set to 0.0 in labels with no true samples. Use `zero_division` parameter to control this behavior.\n",
      "  _warn_prf(average, modifier, f\"{metric.capitalize()} is\", result.shape[0])\n",
      "C:\\Users\\HP\\AppData\\Roaming\\Python\\Python313\\site-packages\\sklearn\\metrics\\_classification.py:1731: UndefinedMetricWarning: Recall is ill-defined and being set to 0.0 in labels with no true samples. Use `zero_division` parameter to control this behavior.\n",
      "  _warn_prf(average, modifier, f\"{metric.capitalize()} is\", result.shape[0])\n",
      "C:\\Users\\HP\\AppData\\Roaming\\Python\\Python313\\site-packages\\sklearn\\metrics\\_classification.py:1731: UndefinedMetricWarning: Recall is ill-defined and being set to 0.0 in labels with no true samples. Use `zero_division` parameter to control this behavior.\n",
      "  _warn_prf(average, modifier, f\"{metric.capitalize()} is\", result.shape[0])\n"
     ]
    }
   ],
   "source": [
    "# --------------------------\n",
    "# 1. Predict labels\n",
    "# --------------------------\n",
    "y_pred_probs = model1.predict(X_test)   # ได้เป็น probability (softmax)\n",
    "y_pred = np.argmax(y_pred_probs, axis=1)  # แปลงเป็น class index\n",
    "y_true = np.argmax(y_test_cat, axis=1)    # แปลง one-hot y_test กลับเป็น index\n",
    "\n",
    "# --------------------------\n",
    "# 2. Confusion matrix\n",
    "# --------------------------\n",
    "cm = confusion_matrix(y_true, y_pred)\n",
    "\n",
    "# --------------------------\n",
    "# 3. Plot confusion matrix\n",
    "# --------------------------\n",
    "plt.figure(figsize=(8,6))\n",
    "sns.heatmap(cm, annot=True, fmt=\"d\", cmap=\"Blues\",\n",
    "            xticklabels=encoder.classes_,\n",
    "            yticklabels=encoder.classes_)\n",
    "plt.xlabel(\"Predicted Label\")\n",
    "plt.ylabel(\"True Label\")\n",
    "plt.title(\"Confusion Matrix\")\n",
    "plt.show()\n",
    "\n",
    "# --------------------------\n",
    "# 4. (optional) Classification report\n",
    "# --------------------------\n",
    "print(classification_report(y_true, y_pred, target_names=encoder.classes_))"
   ]
  },
  {
   "cell_type": "markdown",
   "id": "5c09458a",
   "metadata": {},
   "source": [
    "### ลองใช้แต่CNN"
   ]
  },
  {
   "cell_type": "code",
   "execution_count": 22,
   "id": "b64cea54",
   "metadata": {},
   "outputs": [],
   "source": [
    "from sklearn.preprocessing import LabelEncoder\n",
    "from tensorflow.keras.utils import to_categorical\n",
    "from tensorflow.keras.models import Sequential\n",
    "from tensorflow.keras.layers import Conv1D, MaxPooling1D, Flatten, Dense, Dropout, BatchNormalization"
   ]
  },
  {
   "cell_type": "code",
   "execution_count": 30,
   "id": "3a08c16b",
   "metadata": {},
   "outputs": [
    {
     "name": "stdout",
     "output_type": "stream",
     "text": [
      "X_train shape: (22981, 400, 8)\n",
      "y_train shape: (22981, 5)\n"
     ]
    },
    {
     "name": "stderr",
     "output_type": "stream",
     "text": [
      "C:\\Users\\HP\\AppData\\Roaming\\Python\\Python313\\site-packages\\keras\\src\\layers\\convolutional\\base_conv.py:113: UserWarning: Do not pass an `input_shape`/`input_dim` argument to a layer. When using Sequential models, prefer using an `Input(shape)` object as the first layer in the model instead.\n",
      "  super().__init__(activity_regularizer=activity_regularizer, **kwargs)\n"
     ]
    },
    {
     "data": {
      "text/html": [
       "<pre style=\"white-space:pre;overflow-x:auto;line-height:normal;font-family:Menlo,'DejaVu Sans Mono',consolas,'Courier New',monospace\"><span style=\"font-weight: bold\">Model: \"sequential_1\"</span>\n",
       "</pre>\n"
      ],
      "text/plain": [
       "\u001b[1mModel: \"sequential_1\"\u001b[0m\n"
      ]
     },
     "metadata": {},
     "output_type": "display_data"
    },
    {
     "data": {
      "text/html": [
       "<pre style=\"white-space:pre;overflow-x:auto;line-height:normal;font-family:Menlo,'DejaVu Sans Mono',consolas,'Courier New',monospace\">┏━━━━━━━━━━━━━━━━━━━━━━━━━━━━━━━━━┳━━━━━━━━━━━━━━━━━━━━━━━━┳━━━━━━━━━━━━━━━┓\n",
       "┃<span style=\"font-weight: bold\"> Layer (type)                    </span>┃<span style=\"font-weight: bold\"> Output Shape           </span>┃<span style=\"font-weight: bold\">       Param # </span>┃\n",
       "┡━━━━━━━━━━━━━━━━━━━━━━━━━━━━━━━━━╇━━━━━━━━━━━━━━━━━━━━━━━━╇━━━━━━━━━━━━━━━┩\n",
       "│ conv1d_3 (<span style=\"color: #0087ff; text-decoration-color: #0087ff\">Conv1D</span>)               │ (<span style=\"color: #00d7ff; text-decoration-color: #00d7ff\">None</span>, <span style=\"color: #00af00; text-decoration-color: #00af00\">394</span>, <span style=\"color: #00af00; text-decoration-color: #00af00\">32</span>)        │         <span style=\"color: #00af00; text-decoration-color: #00af00\">1,824</span> │\n",
       "├─────────────────────────────────┼────────────────────────┼───────────────┤\n",
       "│ batch_normalization_3           │ (<span style=\"color: #00d7ff; text-decoration-color: #00d7ff\">None</span>, <span style=\"color: #00af00; text-decoration-color: #00af00\">394</span>, <span style=\"color: #00af00; text-decoration-color: #00af00\">32</span>)        │           <span style=\"color: #00af00; text-decoration-color: #00af00\">128</span> │\n",
       "│ (<span style=\"color: #0087ff; text-decoration-color: #0087ff\">BatchNormalization</span>)            │                        │               │\n",
       "├─────────────────────────────────┼────────────────────────┼───────────────┤\n",
       "│ max_pooling1d_3 (<span style=\"color: #0087ff; text-decoration-color: #0087ff\">MaxPooling1D</span>)  │ (<span style=\"color: #00d7ff; text-decoration-color: #00d7ff\">None</span>, <span style=\"color: #00af00; text-decoration-color: #00af00\">197</span>, <span style=\"color: #00af00; text-decoration-color: #00af00\">32</span>)        │             <span style=\"color: #00af00; text-decoration-color: #00af00\">0</span> │\n",
       "├─────────────────────────────────┼────────────────────────┼───────────────┤\n",
       "│ conv1d_4 (<span style=\"color: #0087ff; text-decoration-color: #0087ff\">Conv1D</span>)               │ (<span style=\"color: #00d7ff; text-decoration-color: #00d7ff\">None</span>, <span style=\"color: #00af00; text-decoration-color: #00af00\">193</span>, <span style=\"color: #00af00; text-decoration-color: #00af00\">64</span>)        │        <span style=\"color: #00af00; text-decoration-color: #00af00\">10,304</span> │\n",
       "├─────────────────────────────────┼────────────────────────┼───────────────┤\n",
       "│ batch_normalization_4           │ (<span style=\"color: #00d7ff; text-decoration-color: #00d7ff\">None</span>, <span style=\"color: #00af00; text-decoration-color: #00af00\">193</span>, <span style=\"color: #00af00; text-decoration-color: #00af00\">64</span>)        │           <span style=\"color: #00af00; text-decoration-color: #00af00\">256</span> │\n",
       "│ (<span style=\"color: #0087ff; text-decoration-color: #0087ff\">BatchNormalization</span>)            │                        │               │\n",
       "├─────────────────────────────────┼────────────────────────┼───────────────┤\n",
       "│ max_pooling1d_4 (<span style=\"color: #0087ff; text-decoration-color: #0087ff\">MaxPooling1D</span>)  │ (<span style=\"color: #00d7ff; text-decoration-color: #00d7ff\">None</span>, <span style=\"color: #00af00; text-decoration-color: #00af00\">96</span>, <span style=\"color: #00af00; text-decoration-color: #00af00\">64</span>)         │             <span style=\"color: #00af00; text-decoration-color: #00af00\">0</span> │\n",
       "├─────────────────────────────────┼────────────────────────┼───────────────┤\n",
       "│ conv1d_5 (<span style=\"color: #0087ff; text-decoration-color: #0087ff\">Conv1D</span>)               │ (<span style=\"color: #00d7ff; text-decoration-color: #00d7ff\">None</span>, <span style=\"color: #00af00; text-decoration-color: #00af00\">94</span>, <span style=\"color: #00af00; text-decoration-color: #00af00\">128</span>)        │        <span style=\"color: #00af00; text-decoration-color: #00af00\">24,704</span> │\n",
       "├─────────────────────────────────┼────────────────────────┼───────────────┤\n",
       "│ batch_normalization_5           │ (<span style=\"color: #00d7ff; text-decoration-color: #00d7ff\">None</span>, <span style=\"color: #00af00; text-decoration-color: #00af00\">94</span>, <span style=\"color: #00af00; text-decoration-color: #00af00\">128</span>)        │           <span style=\"color: #00af00; text-decoration-color: #00af00\">512</span> │\n",
       "│ (<span style=\"color: #0087ff; text-decoration-color: #0087ff\">BatchNormalization</span>)            │                        │               │\n",
       "├─────────────────────────────────┼────────────────────────┼───────────────┤\n",
       "│ max_pooling1d_5 (<span style=\"color: #0087ff; text-decoration-color: #0087ff\">MaxPooling1D</span>)  │ (<span style=\"color: #00d7ff; text-decoration-color: #00d7ff\">None</span>, <span style=\"color: #00af00; text-decoration-color: #00af00\">47</span>, <span style=\"color: #00af00; text-decoration-color: #00af00\">128</span>)        │             <span style=\"color: #00af00; text-decoration-color: #00af00\">0</span> │\n",
       "├─────────────────────────────────┼────────────────────────┼───────────────┤\n",
       "│ conv1d_6 (<span style=\"color: #0087ff; text-decoration-color: #0087ff\">Conv1D</span>)               │ (<span style=\"color: #00d7ff; text-decoration-color: #00d7ff\">None</span>, <span style=\"color: #00af00; text-decoration-color: #00af00\">43</span>, <span style=\"color: #00af00; text-decoration-color: #00af00\">64</span>)         │        <span style=\"color: #00af00; text-decoration-color: #00af00\">41,024</span> │\n",
       "├─────────────────────────────────┼────────────────────────┼───────────────┤\n",
       "│ batch_normalization_6           │ (<span style=\"color: #00d7ff; text-decoration-color: #00d7ff\">None</span>, <span style=\"color: #00af00; text-decoration-color: #00af00\">43</span>, <span style=\"color: #00af00; text-decoration-color: #00af00\">64</span>)         │           <span style=\"color: #00af00; text-decoration-color: #00af00\">256</span> │\n",
       "│ (<span style=\"color: #0087ff; text-decoration-color: #0087ff\">BatchNormalization</span>)            │                        │               │\n",
       "├─────────────────────────────────┼────────────────────────┼───────────────┤\n",
       "│ max_pooling1d_6 (<span style=\"color: #0087ff; text-decoration-color: #0087ff\">MaxPooling1D</span>)  │ (<span style=\"color: #00d7ff; text-decoration-color: #00d7ff\">None</span>, <span style=\"color: #00af00; text-decoration-color: #00af00\">21</span>, <span style=\"color: #00af00; text-decoration-color: #00af00\">64</span>)         │             <span style=\"color: #00af00; text-decoration-color: #00af00\">0</span> │\n",
       "├─────────────────────────────────┼────────────────────────┼───────────────┤\n",
       "│ flatten_1 (<span style=\"color: #0087ff; text-decoration-color: #0087ff\">Flatten</span>)             │ (<span style=\"color: #00d7ff; text-decoration-color: #00d7ff\">None</span>, <span style=\"color: #00af00; text-decoration-color: #00af00\">1344</span>)           │             <span style=\"color: #00af00; text-decoration-color: #00af00\">0</span> │\n",
       "├─────────────────────────────────┼────────────────────────┼───────────────┤\n",
       "│ dense_2 (<span style=\"color: #0087ff; text-decoration-color: #0087ff\">Dense</span>)                 │ (<span style=\"color: #00d7ff; text-decoration-color: #00d7ff\">None</span>, <span style=\"color: #00af00; text-decoration-color: #00af00\">128</span>)            │       <span style=\"color: #00af00; text-decoration-color: #00af00\">172,160</span> │\n",
       "├─────────────────────────────────┼────────────────────────┼───────────────┤\n",
       "│ dropout_1 (<span style=\"color: #0087ff; text-decoration-color: #0087ff\">Dropout</span>)             │ (<span style=\"color: #00d7ff; text-decoration-color: #00d7ff\">None</span>, <span style=\"color: #00af00; text-decoration-color: #00af00\">128</span>)            │             <span style=\"color: #00af00; text-decoration-color: #00af00\">0</span> │\n",
       "├─────────────────────────────────┼────────────────────────┼───────────────┤\n",
       "│ dense_3 (<span style=\"color: #0087ff; text-decoration-color: #0087ff\">Dense</span>)                 │ (<span style=\"color: #00d7ff; text-decoration-color: #00d7ff\">None</span>, <span style=\"color: #00af00; text-decoration-color: #00af00\">5</span>)              │           <span style=\"color: #00af00; text-decoration-color: #00af00\">645</span> │\n",
       "└─────────────────────────────────┴────────────────────────┴───────────────┘\n",
       "</pre>\n"
      ],
      "text/plain": [
       "┏━━━━━━━━━━━━━━━━━━━━━━━━━━━━━━━━━┳━━━━━━━━━━━━━━━━━━━━━━━━┳━━━━━━━━━━━━━━━┓\n",
       "┃\u001b[1m \u001b[0m\u001b[1mLayer (type)                   \u001b[0m\u001b[1m \u001b[0m┃\u001b[1m \u001b[0m\u001b[1mOutput Shape          \u001b[0m\u001b[1m \u001b[0m┃\u001b[1m \u001b[0m\u001b[1m      Param #\u001b[0m\u001b[1m \u001b[0m┃\n",
       "┡━━━━━━━━━━━━━━━━━━━━━━━━━━━━━━━━━╇━━━━━━━━━━━━━━━━━━━━━━━━╇━━━━━━━━━━━━━━━┩\n",
       "│ conv1d_3 (\u001b[38;5;33mConv1D\u001b[0m)               │ (\u001b[38;5;45mNone\u001b[0m, \u001b[38;5;34m394\u001b[0m, \u001b[38;5;34m32\u001b[0m)        │         \u001b[38;5;34m1,824\u001b[0m │\n",
       "├─────────────────────────────────┼────────────────────────┼───────────────┤\n",
       "│ batch_normalization_3           │ (\u001b[38;5;45mNone\u001b[0m, \u001b[38;5;34m394\u001b[0m, \u001b[38;5;34m32\u001b[0m)        │           \u001b[38;5;34m128\u001b[0m │\n",
       "│ (\u001b[38;5;33mBatchNormalization\u001b[0m)            │                        │               │\n",
       "├─────────────────────────────────┼────────────────────────┼───────────────┤\n",
       "│ max_pooling1d_3 (\u001b[38;5;33mMaxPooling1D\u001b[0m)  │ (\u001b[38;5;45mNone\u001b[0m, \u001b[38;5;34m197\u001b[0m, \u001b[38;5;34m32\u001b[0m)        │             \u001b[38;5;34m0\u001b[0m │\n",
       "├─────────────────────────────────┼────────────────────────┼───────────────┤\n",
       "│ conv1d_4 (\u001b[38;5;33mConv1D\u001b[0m)               │ (\u001b[38;5;45mNone\u001b[0m, \u001b[38;5;34m193\u001b[0m, \u001b[38;5;34m64\u001b[0m)        │        \u001b[38;5;34m10,304\u001b[0m │\n",
       "├─────────────────────────────────┼────────────────────────┼───────────────┤\n",
       "│ batch_normalization_4           │ (\u001b[38;5;45mNone\u001b[0m, \u001b[38;5;34m193\u001b[0m, \u001b[38;5;34m64\u001b[0m)        │           \u001b[38;5;34m256\u001b[0m │\n",
       "│ (\u001b[38;5;33mBatchNormalization\u001b[0m)            │                        │               │\n",
       "├─────────────────────────────────┼────────────────────────┼───────────────┤\n",
       "│ max_pooling1d_4 (\u001b[38;5;33mMaxPooling1D\u001b[0m)  │ (\u001b[38;5;45mNone\u001b[0m, \u001b[38;5;34m96\u001b[0m, \u001b[38;5;34m64\u001b[0m)         │             \u001b[38;5;34m0\u001b[0m │\n",
       "├─────────────────────────────────┼────────────────────────┼───────────────┤\n",
       "│ conv1d_5 (\u001b[38;5;33mConv1D\u001b[0m)               │ (\u001b[38;5;45mNone\u001b[0m, \u001b[38;5;34m94\u001b[0m, \u001b[38;5;34m128\u001b[0m)        │        \u001b[38;5;34m24,704\u001b[0m │\n",
       "├─────────────────────────────────┼────────────────────────┼───────────────┤\n",
       "│ batch_normalization_5           │ (\u001b[38;5;45mNone\u001b[0m, \u001b[38;5;34m94\u001b[0m, \u001b[38;5;34m128\u001b[0m)        │           \u001b[38;5;34m512\u001b[0m │\n",
       "│ (\u001b[38;5;33mBatchNormalization\u001b[0m)            │                        │               │\n",
       "├─────────────────────────────────┼────────────────────────┼───────────────┤\n",
       "│ max_pooling1d_5 (\u001b[38;5;33mMaxPooling1D\u001b[0m)  │ (\u001b[38;5;45mNone\u001b[0m, \u001b[38;5;34m47\u001b[0m, \u001b[38;5;34m128\u001b[0m)        │             \u001b[38;5;34m0\u001b[0m │\n",
       "├─────────────────────────────────┼────────────────────────┼───────────────┤\n",
       "│ conv1d_6 (\u001b[38;5;33mConv1D\u001b[0m)               │ (\u001b[38;5;45mNone\u001b[0m, \u001b[38;5;34m43\u001b[0m, \u001b[38;5;34m64\u001b[0m)         │        \u001b[38;5;34m41,024\u001b[0m │\n",
       "├─────────────────────────────────┼────────────────────────┼───────────────┤\n",
       "│ batch_normalization_6           │ (\u001b[38;5;45mNone\u001b[0m, \u001b[38;5;34m43\u001b[0m, \u001b[38;5;34m64\u001b[0m)         │           \u001b[38;5;34m256\u001b[0m │\n",
       "│ (\u001b[38;5;33mBatchNormalization\u001b[0m)            │                        │               │\n",
       "├─────────────────────────────────┼────────────────────────┼───────────────┤\n",
       "│ max_pooling1d_6 (\u001b[38;5;33mMaxPooling1D\u001b[0m)  │ (\u001b[38;5;45mNone\u001b[0m, \u001b[38;5;34m21\u001b[0m, \u001b[38;5;34m64\u001b[0m)         │             \u001b[38;5;34m0\u001b[0m │\n",
       "├─────────────────────────────────┼────────────────────────┼───────────────┤\n",
       "│ flatten_1 (\u001b[38;5;33mFlatten\u001b[0m)             │ (\u001b[38;5;45mNone\u001b[0m, \u001b[38;5;34m1344\u001b[0m)           │             \u001b[38;5;34m0\u001b[0m │\n",
       "├─────────────────────────────────┼────────────────────────┼───────────────┤\n",
       "│ dense_2 (\u001b[38;5;33mDense\u001b[0m)                 │ (\u001b[38;5;45mNone\u001b[0m, \u001b[38;5;34m128\u001b[0m)            │       \u001b[38;5;34m172,160\u001b[0m │\n",
       "├─────────────────────────────────┼────────────────────────┼───────────────┤\n",
       "│ dropout_1 (\u001b[38;5;33mDropout\u001b[0m)             │ (\u001b[38;5;45mNone\u001b[0m, \u001b[38;5;34m128\u001b[0m)            │             \u001b[38;5;34m0\u001b[0m │\n",
       "├─────────────────────────────────┼────────────────────────┼───────────────┤\n",
       "│ dense_3 (\u001b[38;5;33mDense\u001b[0m)                 │ (\u001b[38;5;45mNone\u001b[0m, \u001b[38;5;34m5\u001b[0m)              │           \u001b[38;5;34m645\u001b[0m │\n",
       "└─────────────────────────────────┴────────────────────────┴───────────────┘\n"
      ]
     },
     "metadata": {},
     "output_type": "display_data"
    },
    {
     "data": {
      "text/html": [
       "<pre style=\"white-space:pre;overflow-x:auto;line-height:normal;font-family:Menlo,'DejaVu Sans Mono',consolas,'Courier New',monospace\"><span style=\"font-weight: bold\"> Total params: </span><span style=\"color: #00af00; text-decoration-color: #00af00\">251,813</span> (983.64 KB)\n",
       "</pre>\n"
      ],
      "text/plain": [
       "\u001b[1m Total params: \u001b[0m\u001b[38;5;34m251,813\u001b[0m (983.64 KB)\n"
      ]
     },
     "metadata": {},
     "output_type": "display_data"
    },
    {
     "data": {
      "text/html": [
       "<pre style=\"white-space:pre;overflow-x:auto;line-height:normal;font-family:Menlo,'DejaVu Sans Mono',consolas,'Courier New',monospace\"><span style=\"font-weight: bold\"> Trainable params: </span><span style=\"color: #00af00; text-decoration-color: #00af00\">251,237</span> (981.39 KB)\n",
       "</pre>\n"
      ],
      "text/plain": [
       "\u001b[1m Trainable params: \u001b[0m\u001b[38;5;34m251,237\u001b[0m (981.39 KB)\n"
      ]
     },
     "metadata": {},
     "output_type": "display_data"
    },
    {
     "data": {
      "text/html": [
       "<pre style=\"white-space:pre;overflow-x:auto;line-height:normal;font-family:Menlo,'DejaVu Sans Mono',consolas,'Courier New',monospace\"><span style=\"font-weight: bold\"> Non-trainable params: </span><span style=\"color: #00af00; text-decoration-color: #00af00\">576</span> (2.25 KB)\n",
       "</pre>\n"
      ],
      "text/plain": [
       "\u001b[1m Non-trainable params: \u001b[0m\u001b[38;5;34m576\u001b[0m (2.25 KB)\n"
      ]
     },
     "metadata": {},
     "output_type": "display_data"
    }
   ],
   "source": [
    "\n",
    "# -----------------------------\n",
    "# 1. แปลง label เป็นตัวเลข + one-hot\n",
    "# -----------------------------\n",
    "encoder = LabelEncoder()\n",
    "y_train_enc = encoder.fit_transform(y_train)\n",
    "y_val_enc   = encoder.transform(y_val)\n",
    "y_test_enc  = encoder.transform(y_test)\n",
    "\n",
    "num_classes = len(np.unique(y_train_enc))\n",
    "\n",
    "y_train_cat = to_categorical(y_train_enc, num_classes=num_classes)\n",
    "y_val_cat   = to_categorical(y_val_enc, num_classes=num_classes)\n",
    "y_test_cat  = to_categorical(y_test_enc, num_classes=num_classes)\n",
    "\n",
    "# -----------------------------\n",
    "# 2. แปลง X ให้เป็น float32 และ shape = (samples, timesteps, features)\n",
    "# -----------------------------\n",
    "X_train = np.array(X_train, dtype=np.float32)\n",
    "X_val   = np.array(X_val, dtype=np.float32)\n",
    "X_test  = np.array(X_test, dtype=np.float32)\n",
    "\n",
    "if X_train.ndim == 2:\n",
    "    X_train = X_train[..., np.newaxis]\n",
    "    X_val   = X_val[..., np.newaxis]\n",
    "    X_test  = X_test[..., np.newaxis]\n",
    "\n",
    "print(\"X_train shape:\", X_train.shape)  # (samples, timesteps, channels)\n",
    "print(\"y_train shape:\", y_train_cat.shape)\n",
    "\n",
    "# -----------------------------\n",
    "# 3. สร้าง CNN model\n",
    "# -----------------------------\n",
    "model_cnn = Sequential([\n",
    "    Conv1D(filters=32, kernel_size=7, activation='relu', input_shape=(X_train.shape[1], X_train.shape[2])),\n",
    "    BatchNormalization(),\n",
    "    MaxPooling1D(pool_size=2),\n",
    "\n",
    "    Conv1D(filters=64, kernel_size=5, activation='relu'),\n",
    "    BatchNormalization(),\n",
    "    MaxPooling1D(pool_size=2),\n",
    "\n",
    "    Conv1D(filters=128, kernel_size=3, activation='relu'),\n",
    "    BatchNormalization(),\n",
    "    MaxPooling1D(pool_size=2),\n",
    "\n",
    "    Conv1D(filters=64, kernel_size=5, activation='relu'),\n",
    "    BatchNormalization(),\n",
    "    MaxPooling1D(pool_size=2),\n",
    "    \n",
    "    Flatten(),\n",
    "    Dense(128, activation='relu'),\n",
    "    Dropout(0.5),\n",
    "    Dense(num_classes, activation='softmax')\n",
    "])\n",
    "\n",
    "model_cnn.compile(optimizer='adam',\n",
    "                  loss='categorical_crossentropy',\n",
    "                  metrics=['accuracy'])\n",
    "\n",
    "model_cnn.summary()\n",
    "\n",
    "\n"
   ]
  },
  {
   "cell_type": "code",
   "execution_count": 31,
   "id": "e1b80428",
   "metadata": {},
   "outputs": [
    {
     "name": "stdout",
     "output_type": "stream",
     "text": [
      "Epoch 1/80\n",
      "\u001b[1m719/719\u001b[0m \u001b[32m━━━━━━━━━━━━━━━━━━━━\u001b[0m\u001b[37m\u001b[0m \u001b[1m10s\u001b[0m 11ms/step - accuracy: 0.5947 - loss: 1.1051 - val_accuracy: 0.8723 - val_loss: 0.4926\n",
      "Epoch 2/80\n",
      "\u001b[1m719/719\u001b[0m \u001b[32m━━━━━━━━━━━━━━━━━━━━\u001b[0m\u001b[37m\u001b[0m \u001b[1m8s\u001b[0m 10ms/step - accuracy: 0.7304 - loss: 0.7300 - val_accuracy: 0.7940 - val_loss: 0.7660\n",
      "Epoch 3/80\n",
      "\u001b[1m719/719\u001b[0m \u001b[32m━━━━━━━━━━━━━━━━━━━━\u001b[0m\u001b[37m\u001b[0m \u001b[1m8s\u001b[0m 11ms/step - accuracy: 0.7615 - loss: 0.6572 - val_accuracy: 0.8083 - val_loss: 0.8041\n",
      "Epoch 4/80\n",
      "\u001b[1m719/719\u001b[0m \u001b[32m━━━━━━━━━━━━━━━━━━━━\u001b[0m\u001b[37m\u001b[0m \u001b[1m10s\u001b[0m 14ms/step - accuracy: 0.7781 - loss: 0.6031 - val_accuracy: 0.8294 - val_loss: 0.7835\n",
      "Epoch 5/80\n",
      "\u001b[1m719/719\u001b[0m \u001b[32m━━━━━━━━━━━━━━━━━━━━\u001b[0m\u001b[37m\u001b[0m \u001b[1m10s\u001b[0m 14ms/step - accuracy: 0.7888 - loss: 0.5669 - val_accuracy: 0.7849 - val_loss: 0.8793\n",
      "Epoch 6/80\n",
      "\u001b[1m719/719\u001b[0m \u001b[32m━━━━━━━━━━━━━━━━━━━━\u001b[0m\u001b[37m\u001b[0m \u001b[1m10s\u001b[0m 14ms/step - accuracy: 0.7990 - loss: 0.5402 - val_accuracy: 0.8446 - val_loss: 0.7893\n",
      "Epoch 7/80\n",
      "\u001b[1m719/719\u001b[0m \u001b[32m━━━━━━━━━━━━━━━━━━━━\u001b[0m\u001b[37m\u001b[0m \u001b[1m9s\u001b[0m 13ms/step - accuracy: 0.8109 - loss: 0.5058 - val_accuracy: 0.7060 - val_loss: 0.9985\n",
      "Epoch 8/80\n",
      "\u001b[1m719/719\u001b[0m \u001b[32m━━━━━━━━━━━━━━━━━━━━\u001b[0m\u001b[37m\u001b[0m \u001b[1m8s\u001b[0m 11ms/step - accuracy: 0.8200 - loss: 0.4826 - val_accuracy: 0.8955 - val_loss: 0.6516\n",
      "Epoch 9/80\n",
      "\u001b[1m719/719\u001b[0m \u001b[32m━━━━━━━━━━━━━━━━━━━━\u001b[0m\u001b[37m\u001b[0m \u001b[1m9s\u001b[0m 12ms/step - accuracy: 0.8320 - loss: 0.4505 - val_accuracy: 0.8349 - val_loss: 0.8254\n",
      "Epoch 10/80\n",
      "\u001b[1m719/719\u001b[0m \u001b[32m━━━━━━━━━━━━━━━━━━━━\u001b[0m\u001b[37m\u001b[0m \u001b[1m9s\u001b[0m 12ms/step - accuracy: 0.8447 - loss: 0.4137 - val_accuracy: 0.8906 - val_loss: 0.6892\n",
      "Epoch 11/80\n",
      "\u001b[1m719/719\u001b[0m \u001b[32m━━━━━━━━━━━━━━━━━━━━\u001b[0m\u001b[37m\u001b[0m \u001b[1m8s\u001b[0m 11ms/step - accuracy: 0.8542 - loss: 0.3928 - val_accuracy: 0.6962 - val_loss: 1.2033\n",
      "Epoch 12/80\n",
      "\u001b[1m719/719\u001b[0m \u001b[32m━━━━━━━━━━━━━━━━━━━━\u001b[0m\u001b[37m\u001b[0m \u001b[1m8s\u001b[0m 11ms/step - accuracy: 0.8629 - loss: 0.3627 - val_accuracy: 0.8900 - val_loss: 0.7000\n",
      "Epoch 13/80\n",
      "\u001b[1m719/719\u001b[0m \u001b[32m━━━━━━━━━━━━━━━━━━━━\u001b[0m\u001b[37m\u001b[0m \u001b[1m8s\u001b[0m 10ms/step - accuracy: 0.8723 - loss: 0.3320 - val_accuracy: 0.8342 - val_loss: 0.7686\n",
      "Epoch 14/80\n",
      "\u001b[1m719/719\u001b[0m \u001b[32m━━━━━━━━━━━━━━━━━━━━\u001b[0m\u001b[37m\u001b[0m \u001b[1m8s\u001b[0m 11ms/step - accuracy: 0.8802 - loss: 0.3157 - val_accuracy: 0.7748 - val_loss: 0.9011\n",
      "Epoch 15/80\n",
      "\u001b[1m719/719\u001b[0m \u001b[32m━━━━━━━━━━━━━━━━━━━━\u001b[0m\u001b[37m\u001b[0m \u001b[1m8s\u001b[0m 10ms/step - accuracy: 0.8894 - loss: 0.2939 - val_accuracy: 0.8339 - val_loss: 0.9022\n",
      "Epoch 16/80\n",
      "\u001b[1m719/719\u001b[0m \u001b[32m━━━━━━━━━━━━━━━━━━━━\u001b[0m\u001b[37m\u001b[0m \u001b[1m8s\u001b[0m 10ms/step - accuracy: 0.8973 - loss: 0.2690 - val_accuracy: 0.8559 - val_loss: 0.6669\n",
      "Epoch 17/80\n",
      "\u001b[1m719/719\u001b[0m \u001b[32m━━━━━━━━━━━━━━━━━━━━\u001b[0m\u001b[37m\u001b[0m \u001b[1m8s\u001b[0m 11ms/step - accuracy: 0.9057 - loss: 0.2469 - val_accuracy: 0.6268 - val_loss: 1.8367\n",
      "Epoch 18/80\n",
      "\u001b[1m719/719\u001b[0m \u001b[32m━━━━━━━━━━━━━━━━━━━━\u001b[0m\u001b[37m\u001b[0m \u001b[1m8s\u001b[0m 11ms/step - accuracy: 0.9125 - loss: 0.2329 - val_accuracy: 0.7014 - val_loss: 1.5223\n",
      "Epoch 19/80\n",
      "\u001b[1m719/719\u001b[0m \u001b[32m━━━━━━━━━━━━━━━━━━━━\u001b[0m\u001b[37m\u001b[0m \u001b[1m8s\u001b[0m 11ms/step - accuracy: 0.9170 - loss: 0.2152 - val_accuracy: 0.5667 - val_loss: 2.2631\n",
      "Epoch 20/80\n",
      "\u001b[1m719/719\u001b[0m \u001b[32m━━━━━━━━━━━━━━━━━━━━\u001b[0m\u001b[37m\u001b[0m \u001b[1m8s\u001b[0m 11ms/step - accuracy: 0.9242 - loss: 0.1985 - val_accuracy: 0.8035 - val_loss: 1.5315\n",
      "Epoch 21/80\n",
      "\u001b[1m719/719\u001b[0m \u001b[32m━━━━━━━━━━━━━━━━━━━━\u001b[0m\u001b[37m\u001b[0m \u001b[1m8s\u001b[0m 11ms/step - accuracy: 0.9276 - loss: 0.1932 - val_accuracy: 0.8492 - val_loss: 1.2090\n",
      "Epoch 22/80\n",
      "\u001b[1m719/719\u001b[0m \u001b[32m━━━━━━━━━━━━━━━━━━━━\u001b[0m\u001b[37m\u001b[0m \u001b[1m9s\u001b[0m 12ms/step - accuracy: 0.9295 - loss: 0.1850 - val_accuracy: 0.7861 - val_loss: 1.1127\n",
      "Epoch 23/80\n",
      "\u001b[1m719/719\u001b[0m \u001b[32m━━━━━━━━━━━━━━━━━━━━\u001b[0m\u001b[37m\u001b[0m \u001b[1m10s\u001b[0m 14ms/step - accuracy: 0.9363 - loss: 0.1700 - val_accuracy: 0.6475 - val_loss: 1.8341\n",
      "Epoch 24/80\n",
      "\u001b[1m719/719\u001b[0m \u001b[32m━━━━━━━━━━━━━━━━━━━━\u001b[0m\u001b[37m\u001b[0m \u001b[1m9s\u001b[0m 12ms/step - accuracy: 0.9426 - loss: 0.1541 - val_accuracy: 0.7879 - val_loss: 1.4554\n",
      "Epoch 25/80\n",
      "\u001b[1m719/719\u001b[0m \u001b[32m━━━━━━━━━━━━━━━━━━━━\u001b[0m\u001b[37m\u001b[0m \u001b[1m8s\u001b[0m 11ms/step - accuracy: 0.9422 - loss: 0.1531 - val_accuracy: 0.7882 - val_loss: 1.1940\n",
      "Epoch 26/80\n",
      "\u001b[1m719/719\u001b[0m \u001b[32m━━━━━━━━━━━━━━━━━━━━\u001b[0m\u001b[37m\u001b[0m \u001b[1m8s\u001b[0m 11ms/step - accuracy: 0.9484 - loss: 0.1391 - val_accuracy: 0.6414 - val_loss: 2.1281\n",
      "Epoch 27/80\n",
      "\u001b[1m719/719\u001b[0m \u001b[32m━━━━━━━━━━━━━━━━━━━━\u001b[0m\u001b[37m\u001b[0m \u001b[1m8s\u001b[0m 11ms/step - accuracy: 0.9475 - loss: 0.1428 - val_accuracy: 0.7995 - val_loss: 1.4012\n",
      "Epoch 28/80\n",
      "\u001b[1m719/719\u001b[0m \u001b[32m━━━━━━━━━━━━━━━━━━━━\u001b[0m\u001b[37m\u001b[0m \u001b[1m8s\u001b[0m 11ms/step - accuracy: 0.9511 - loss: 0.1323 - val_accuracy: 0.7410 - val_loss: 1.9568\n",
      "Epoch 29/80\n",
      "\u001b[1m719/719\u001b[0m \u001b[32m━━━━━━━━━━━━━━━━━━━━\u001b[0m\u001b[37m\u001b[0m \u001b[1m8s\u001b[0m 11ms/step - accuracy: 0.9531 - loss: 0.1248 - val_accuracy: 0.7188 - val_loss: 1.9538\n",
      "Epoch 30/80\n",
      "\u001b[1m719/719\u001b[0m \u001b[32m━━━━━━━━━━━━━━━━━━━━\u001b[0m\u001b[37m\u001b[0m \u001b[1m11s\u001b[0m 15ms/step - accuracy: 0.9568 - loss: 0.1178 - val_accuracy: 0.8416 - val_loss: 1.5150\n",
      "Epoch 31/80\n",
      "\u001b[1m719/719\u001b[0m \u001b[32m━━━━━━━━━━━━━━━━━━━━\u001b[0m\u001b[37m\u001b[0m \u001b[1m11s\u001b[0m 15ms/step - accuracy: 0.9587 - loss: 0.1150 - val_accuracy: 0.6420 - val_loss: 2.3524\n",
      "Epoch 32/80\n",
      "\u001b[1m719/719\u001b[0m \u001b[32m━━━━━━━━━━━━━━━━━━━━\u001b[0m\u001b[37m\u001b[0m \u001b[1m8s\u001b[0m 11ms/step - accuracy: 0.9583 - loss: 0.1132 - val_accuracy: 0.7270 - val_loss: 1.7789\n",
      "Epoch 33/80\n",
      "\u001b[1m719/719\u001b[0m \u001b[32m━━━━━━━━━━━━━━━━━━━━\u001b[0m\u001b[37m\u001b[0m \u001b[1m8s\u001b[0m 10ms/step - accuracy: 0.9599 - loss: 0.1082 - val_accuracy: 0.6980 - val_loss: 2.0668\n",
      "Epoch 34/80\n",
      "\u001b[1m719/719\u001b[0m \u001b[32m━━━━━━━━━━━━━━━━━━━━\u001b[0m\u001b[37m\u001b[0m \u001b[1m8s\u001b[0m 11ms/step - accuracy: 0.9583 - loss: 0.1133 - val_accuracy: 0.7377 - val_loss: 1.6776\n",
      "Epoch 35/80\n",
      "\u001b[1m719/719\u001b[0m \u001b[32m━━━━━━━━━━━━━━━━━━━━\u001b[0m\u001b[37m\u001b[0m \u001b[1m8s\u001b[0m 11ms/step - accuracy: 0.9612 - loss: 0.1068 - val_accuracy: 0.7288 - val_loss: 2.1598\n",
      "Epoch 36/80\n",
      "\u001b[1m719/719\u001b[0m \u001b[32m━━━━━━━━━━━━━━━━━━━━\u001b[0m\u001b[37m\u001b[0m \u001b[1m8s\u001b[0m 11ms/step - accuracy: 0.9654 - loss: 0.0959 - val_accuracy: 0.6490 - val_loss: 2.4565\n",
      "Epoch 37/80\n",
      "\u001b[1m719/719\u001b[0m \u001b[32m━━━━━━━━━━━━━━━━━━━━\u001b[0m\u001b[37m\u001b[0m \u001b[1m8s\u001b[0m 11ms/step - accuracy: 0.9633 - loss: 0.1007 - val_accuracy: 0.7343 - val_loss: 1.6602\n",
      "Epoch 38/80\n",
      "\u001b[1m719/719\u001b[0m \u001b[32m━━━━━━━━━━━━━━━━━━━━\u001b[0m\u001b[37m\u001b[0m \u001b[1m8s\u001b[0m 11ms/step - accuracy: 0.9673 - loss: 0.0912 - val_accuracy: 0.6146 - val_loss: 2.4104\n",
      "Epoch 39/80\n",
      "\u001b[1m719/719\u001b[0m \u001b[32m━━━━━━━━━━━━━━━━━━━━\u001b[0m\u001b[37m\u001b[0m \u001b[1m8s\u001b[0m 11ms/step - accuracy: 0.9655 - loss: 0.0956 - val_accuracy: 0.6371 - val_loss: 2.6940\n",
      "Epoch 40/80\n",
      "\u001b[1m719/719\u001b[0m \u001b[32m━━━━━━━━━━━━━━━━━━━━\u001b[0m\u001b[37m\u001b[0m \u001b[1m8s\u001b[0m 11ms/step - accuracy: 0.9622 - loss: 0.1035 - val_accuracy: 0.6332 - val_loss: 2.8937\n",
      "Epoch 41/80\n",
      "\u001b[1m719/719\u001b[0m \u001b[32m━━━━━━━━━━━━━━━━━━━━\u001b[0m\u001b[37m\u001b[0m \u001b[1m8s\u001b[0m 11ms/step - accuracy: 0.9695 - loss: 0.0861 - val_accuracy: 0.8114 - val_loss: 1.5307\n",
      "Epoch 42/80\n",
      "\u001b[1m719/719\u001b[0m \u001b[32m━━━━━━━━━━━━━━━━━━━━\u001b[0m\u001b[37m\u001b[0m \u001b[1m8s\u001b[0m 11ms/step - accuracy: 0.9688 - loss: 0.0902 - val_accuracy: 0.6402 - val_loss: 2.6414\n",
      "Epoch 43/80\n",
      "\u001b[1m719/719\u001b[0m \u001b[32m━━━━━━━━━━━━━━━━━━━━\u001b[0m\u001b[37m\u001b[0m \u001b[1m8s\u001b[0m 11ms/step - accuracy: 0.9708 - loss: 0.0799 - val_accuracy: 0.8260 - val_loss: 1.8786\n",
      "Epoch 44/80\n",
      "\u001b[1m719/719\u001b[0m \u001b[32m━━━━━━━━━━━━━━━━━━━━\u001b[0m\u001b[37m\u001b[0m \u001b[1m8s\u001b[0m 11ms/step - accuracy: 0.9716 - loss: 0.0771 - val_accuracy: 0.7151 - val_loss: 2.5497\n",
      "Epoch 45/80\n",
      "\u001b[1m719/719\u001b[0m \u001b[32m━━━━━━━━━━━━━━━━━━━━\u001b[0m\u001b[37m\u001b[0m \u001b[1m8s\u001b[0m 10ms/step - accuracy: 0.9697 - loss: 0.0887 - val_accuracy: 0.7380 - val_loss: 2.1256\n",
      "Epoch 46/80\n",
      "\u001b[1m719/719\u001b[0m \u001b[32m━━━━━━━━━━━━━━━━━━━━\u001b[0m\u001b[37m\u001b[0m \u001b[1m8s\u001b[0m 11ms/step - accuracy: 0.9729 - loss: 0.0746 - val_accuracy: 0.6304 - val_loss: 2.7899\n",
      "Epoch 47/80\n",
      "\u001b[1m719/719\u001b[0m \u001b[32m━━━━━━━━━━━━━━━━━━━━\u001b[0m\u001b[37m\u001b[0m \u001b[1m8s\u001b[0m 11ms/step - accuracy: 0.9728 - loss: 0.0792 - val_accuracy: 0.7313 - val_loss: 2.6605\n",
      "Epoch 48/80\n",
      "\u001b[1m719/719\u001b[0m \u001b[32m━━━━━━━━━━━━━━━━━━━━\u001b[0m\u001b[37m\u001b[0m \u001b[1m8s\u001b[0m 11ms/step - accuracy: 0.9746 - loss: 0.0712 - val_accuracy: 0.5859 - val_loss: 3.2817\n",
      "Epoch 49/80\n",
      "\u001b[1m719/719\u001b[0m \u001b[32m━━━━━━━━━━━━━━━━━━━━\u001b[0m\u001b[37m\u001b[0m \u001b[1m8s\u001b[0m 11ms/step - accuracy: 0.9758 - loss: 0.0707 - val_accuracy: 0.6917 - val_loss: 2.3628\n",
      "Epoch 50/80\n",
      "\u001b[1m719/719\u001b[0m \u001b[32m━━━━━━━━━━━━━━━━━━━━\u001b[0m\u001b[37m\u001b[0m \u001b[1m8s\u001b[0m 11ms/step - accuracy: 0.9741 - loss: 0.0741 - val_accuracy: 0.6849 - val_loss: 2.7123\n",
      "Epoch 51/80\n",
      "\u001b[1m719/719\u001b[0m \u001b[32m━━━━━━━━━━━━━━━━━━━━\u001b[0m\u001b[37m\u001b[0m \u001b[1m8s\u001b[0m 11ms/step - accuracy: 0.9769 - loss: 0.0662 - val_accuracy: 0.7060 - val_loss: 2.2767\n",
      "Epoch 52/80\n",
      "\u001b[1m719/719\u001b[0m \u001b[32m━━━━━━━━━━━━━━━━━━━━\u001b[0m\u001b[37m\u001b[0m \u001b[1m8s\u001b[0m 11ms/step - accuracy: 0.9758 - loss: 0.0701 - val_accuracy: 0.3157 - val_loss: 5.7547\n",
      "Epoch 53/80\n",
      "\u001b[1m719/719\u001b[0m \u001b[32m━━━━━━━━━━━━━━━━━━━━\u001b[0m\u001b[37m\u001b[0m \u001b[1m8s\u001b[0m 11ms/step - accuracy: 0.9747 - loss: 0.0744 - val_accuracy: 0.7005 - val_loss: 3.2107\n",
      "Epoch 54/80\n",
      "\u001b[1m719/719\u001b[0m \u001b[32m━━━━━━━━━━━━━━━━━━━━\u001b[0m\u001b[37m\u001b[0m \u001b[1m8s\u001b[0m 11ms/step - accuracy: 0.9795 - loss: 0.0621 - val_accuracy: 0.6176 - val_loss: 3.3090\n",
      "Epoch 55/80\n",
      "\u001b[1m719/719\u001b[0m \u001b[32m━━━━━━━━━━━━━━━━━━━━\u001b[0m\u001b[37m\u001b[0m \u001b[1m8s\u001b[0m 11ms/step - accuracy: 0.9788 - loss: 0.0637 - val_accuracy: 0.7246 - val_loss: 2.7893\n",
      "Epoch 56/80\n",
      "\u001b[1m719/719\u001b[0m \u001b[32m━━━━━━━━━━━━━━━━━━━━\u001b[0m\u001b[37m\u001b[0m \u001b[1m8s\u001b[0m 11ms/step - accuracy: 0.9781 - loss: 0.0623 - val_accuracy: 0.6606 - val_loss: 2.6909\n",
      "Epoch 57/80\n",
      "\u001b[1m719/719\u001b[0m \u001b[32m━━━━━━━━━━━━━━━━━━━━\u001b[0m\u001b[37m\u001b[0m \u001b[1m8s\u001b[0m 11ms/step - accuracy: 0.9777 - loss: 0.0661 - val_accuracy: 0.5308 - val_loss: 4.4479\n",
      "Epoch 58/80\n",
      "\u001b[1m719/719\u001b[0m \u001b[32m━━━━━━━━━━━━━━━━━━━━\u001b[0m\u001b[37m\u001b[0m \u001b[1m9s\u001b[0m 13ms/step - accuracy: 0.9778 - loss: 0.0635 - val_accuracy: 0.6469 - val_loss: 2.9171\n",
      "Epoch 59/80\n",
      "\u001b[1m719/719\u001b[0m \u001b[32m━━━━━━━━━━━━━━━━━━━━\u001b[0m\u001b[37m\u001b[0m \u001b[1m10s\u001b[0m 14ms/step - accuracy: 0.9803 - loss: 0.0563 - val_accuracy: 0.6907 - val_loss: 2.8642\n",
      "Epoch 60/80\n",
      "\u001b[1m719/719\u001b[0m \u001b[32m━━━━━━━━━━━━━━━━━━━━\u001b[0m\u001b[37m\u001b[0m \u001b[1m10s\u001b[0m 14ms/step - accuracy: 0.9773 - loss: 0.0673 - val_accuracy: 0.7444 - val_loss: 2.1923\n",
      "Epoch 61/80\n",
      "\u001b[1m719/719\u001b[0m \u001b[32m━━━━━━━━━━━━━━━━━━━━\u001b[0m\u001b[37m\u001b[0m \u001b[1m10s\u001b[0m 15ms/step - accuracy: 0.9791 - loss: 0.0631 - val_accuracy: 0.7291 - val_loss: 2.8329\n",
      "Epoch 62/80\n",
      "\u001b[1m719/719\u001b[0m \u001b[32m━━━━━━━━━━━━━━━━━━━━\u001b[0m\u001b[37m\u001b[0m \u001b[1m10s\u001b[0m 14ms/step - accuracy: 0.9825 - loss: 0.0517 - val_accuracy: 0.6350 - val_loss: 3.0728\n",
      "Epoch 63/80\n",
      "\u001b[1m719/719\u001b[0m \u001b[32m━━━━━━━━━━━━━━━━━━━━\u001b[0m\u001b[37m\u001b[0m \u001b[1m10s\u001b[0m 14ms/step - accuracy: 0.9812 - loss: 0.0588 - val_accuracy: 0.6487 - val_loss: 3.5734\n",
      "Epoch 64/80\n",
      "\u001b[1m719/719\u001b[0m \u001b[32m━━━━━━━━━━━━━━━━━━━━\u001b[0m\u001b[37m\u001b[0m \u001b[1m8s\u001b[0m 11ms/step - accuracy: 0.9785 - loss: 0.0612 - val_accuracy: 0.8126 - val_loss: 2.4937\n",
      "Epoch 65/80\n",
      "\u001b[1m719/719\u001b[0m \u001b[32m━━━━━━━━━━━━━━━━━━━━\u001b[0m\u001b[37m\u001b[0m \u001b[1m8s\u001b[0m 11ms/step - accuracy: 0.9827 - loss: 0.0514 - val_accuracy: 0.7767 - val_loss: 2.6774\n",
      "Epoch 66/80\n",
      "\u001b[1m719/719\u001b[0m \u001b[32m━━━━━━━━━━━━━━━━━━━━\u001b[0m\u001b[37m\u001b[0m \u001b[1m8s\u001b[0m 11ms/step - accuracy: 0.9812 - loss: 0.0559 - val_accuracy: 0.6798 - val_loss: 2.6908\n",
      "Epoch 67/80\n",
      "\u001b[1m719/719\u001b[0m \u001b[32m━━━━━━━━━━━━━━━━━━━━\u001b[0m\u001b[37m\u001b[0m \u001b[1m8s\u001b[0m 11ms/step - accuracy: 0.9805 - loss: 0.0577 - val_accuracy: 0.7203 - val_loss: 2.2312\n",
      "Epoch 68/80\n",
      "\u001b[1m719/719\u001b[0m \u001b[32m━━━━━━━━━━━━━━━━━━━━\u001b[0m\u001b[37m\u001b[0m \u001b[1m8s\u001b[0m 11ms/step - accuracy: 0.9816 - loss: 0.0540 - val_accuracy: 0.6947 - val_loss: 3.3056\n",
      "Epoch 69/80\n",
      "\u001b[1m719/719\u001b[0m \u001b[32m━━━━━━━━━━━━━━━━━━━━\u001b[0m\u001b[37m\u001b[0m \u001b[1m8s\u001b[0m 11ms/step - accuracy: 0.9806 - loss: 0.0584 - val_accuracy: 0.5917 - val_loss: 3.5108\n",
      "Epoch 70/80\n",
      "\u001b[1m719/719\u001b[0m \u001b[32m━━━━━━━━━━━━━━━━━━━━\u001b[0m\u001b[37m\u001b[0m \u001b[1m8s\u001b[0m 11ms/step - accuracy: 0.9850 - loss: 0.0446 - val_accuracy: 0.5850 - val_loss: 3.9536\n",
      "Epoch 71/80\n",
      "\u001b[1m719/719\u001b[0m \u001b[32m━━━━━━━━━━━━━━━━━━━━\u001b[0m\u001b[37m\u001b[0m \u001b[1m8s\u001b[0m 11ms/step - accuracy: 0.9826 - loss: 0.0504 - val_accuracy: 0.6795 - val_loss: 2.8452\n",
      "Epoch 72/80\n",
      "\u001b[1m719/719\u001b[0m \u001b[32m━━━━━━━━━━━━━━━━━━━━\u001b[0m\u001b[37m\u001b[0m \u001b[1m8s\u001b[0m 11ms/step - accuracy: 0.9798 - loss: 0.0560 - val_accuracy: 0.6508 - val_loss: 2.7793\n",
      "Epoch 73/80\n",
      "\u001b[1m719/719\u001b[0m \u001b[32m━━━━━━━━━━━━━━━━━━━━\u001b[0m\u001b[37m\u001b[0m \u001b[1m8s\u001b[0m 11ms/step - accuracy: 0.9856 - loss: 0.0438 - val_accuracy: 0.7258 - val_loss: 2.5595\n",
      "Epoch 74/80\n",
      "\u001b[1m719/719\u001b[0m \u001b[32m━━━━━━━━━━━━━━━━━━━━\u001b[0m\u001b[37m\u001b[0m \u001b[1m8s\u001b[0m 11ms/step - accuracy: 0.9818 - loss: 0.0537 - val_accuracy: 0.7044 - val_loss: 2.8012\n",
      "Epoch 75/80\n",
      "\u001b[1m719/719\u001b[0m \u001b[32m━━━━━━━━━━━━━━━━━━━━\u001b[0m\u001b[37m\u001b[0m \u001b[1m8s\u001b[0m 11ms/step - accuracy: 0.9839 - loss: 0.0486 - val_accuracy: 0.7011 - val_loss: 2.4913\n",
      "Epoch 76/80\n",
      "\u001b[1m719/719\u001b[0m \u001b[32m━━━━━━━━━━━━━━━━━━━━\u001b[0m\u001b[37m\u001b[0m \u001b[1m8s\u001b[0m 11ms/step - accuracy: 0.9837 - loss: 0.0481 - val_accuracy: 0.5311 - val_loss: 4.2453\n",
      "Epoch 77/80\n",
      "\u001b[1m719/719\u001b[0m \u001b[32m━━━━━━━━━━━━━━━━━━━━\u001b[0m\u001b[37m\u001b[0m \u001b[1m8s\u001b[0m 11ms/step - accuracy: 0.9809 - loss: 0.0555 - val_accuracy: 0.7371 - val_loss: 2.8187\n",
      "Epoch 78/80\n",
      "\u001b[1m719/719\u001b[0m \u001b[32m━━━━━━━━━━━━━━━━━━━━\u001b[0m\u001b[37m\u001b[0m \u001b[1m8s\u001b[0m 11ms/step - accuracy: 0.9806 - loss: 0.0592 - val_accuracy: 0.7511 - val_loss: 2.6336\n",
      "Epoch 79/80\n",
      "\u001b[1m719/719\u001b[0m \u001b[32m━━━━━━━━━━━━━━━━━━━━\u001b[0m\u001b[37m\u001b[0m \u001b[1m8s\u001b[0m 11ms/step - accuracy: 0.9878 - loss: 0.0388 - val_accuracy: 0.6636 - val_loss: 3.6011\n",
      "Epoch 80/80\n",
      "\u001b[1m719/719\u001b[0m \u001b[32m━━━━━━━━━━━━━━━━━━━━\u001b[0m\u001b[37m\u001b[0m \u001b[1m8s\u001b[0m 11ms/step - accuracy: 0.9844 - loss: 0.0467 - val_accuracy: 0.6740 - val_loss: 3.3397\n"
     ]
    }
   ],
   "source": [
    "# -----------------------------\n",
    "# 4. Train CNN model\n",
    "# -----------------------------\n",
    "history = model_cnn.fit(\n",
    "    X_train, y_train_cat,\n",
    "    validation_data=(X_val, y_val_cat),\n",
    "    epochs=80,\n",
    "    batch_size=32,\n",
    "    shuffle=True,\n",
    ")"
   ]
  },
  {
   "cell_type": "code",
   "execution_count": 32,
   "id": "eeb70aa5",
   "metadata": {},
   "outputs": [
    {
     "name": "stdout",
     "output_type": "stream",
     "text": [
      "\u001b[1m204/204\u001b[0m \u001b[32m━━━━━━━━━━━━━━━━━━━━\u001b[0m\u001b[37m\u001b[0m \u001b[1m1s\u001b[0m 4ms/step - accuracy: 0.4187 - loss: 9.4036 \n",
      "Test Loss: 9.4036, Test Accuracy: 41.87%\n"
     ]
    }
   ],
   "source": [
    "# -----------------------------\n",
    "# 5. Evaluate model\n",
    "# -----------------------------\n",
    "loss, accuracy = model_cnn.evaluate(X_test, y_test_cat)\n",
    "print(f\"Test Loss: {loss:.4f}, Test Accuracy: {accuracy * 100:.2f}%\")"
   ]
  },
  {
   "cell_type": "code",
   "execution_count": 33,
   "id": "ff999125",
   "metadata": {},
   "outputs": [
    {
     "name": "stdout",
     "output_type": "stream",
     "text": [
      "\u001b[1m204/204\u001b[0m \u001b[32m━━━━━━━━━━━━━━━━━━━━\u001b[0m\u001b[37m\u001b[0m \u001b[1m1s\u001b[0m 3ms/step\n"
     ]
    }
   ],
   "source": [
    "threshold = 0.5  # set the threshold value\n",
    "y_pred_prob = model_cnn.predict(X_test)  # generate prediction probabilities\n",
    "y_pred = (y_pred_prob > threshold).astype(int)"
   ]
  },
  {
   "cell_type": "code",
   "execution_count": 35,
   "id": "3b9af7cd",
   "metadata": {},
   "outputs": [
    {
     "name": "stdout",
     "output_type": "stream",
     "text": [
      "\u001b[1m204/204\u001b[0m \u001b[32m━━━━━━━━━━━━━━━━━━━━\u001b[0m\u001b[37m\u001b[0m \u001b[1m1s\u001b[0m 3ms/step\n"
     ]
    },
    {
     "data": {
      "image/png": "[encoded data removed]",
      "text/plain": [
       "<Figure size 800x600 with 2 Axes>"
      ]
     },
     "metadata": {},
     "output_type": "display_data"
    },
    {
     "name": "stdout",
     "output_type": "stream",
     "text": [
      "                 precision    recall  f1-score   support\n",
      "\n",
      " Sleep stage N1       0.18      0.48      0.27       844\n",
      " Sleep stage N2       0.52      0.82      0.64      2265\n",
      " Sleep stage N3       0.00      0.00      0.00         0\n",
      "  Sleep stage R       0.04      0.00      0.00      2265\n",
      "  Sleep stage W       0.70      0.41      0.52      1154\n",
      "\n",
      "       accuracy                           0.42      6528\n",
      "      macro avg       0.29      0.34      0.28      6528\n",
      "   weighted avg       0.34      0.42      0.35      6528\n",
      "\n"
     ]
    },
    {
     "name": "stderr",
     "output_type": "stream",
     "text": [
      "C:\\Users\\HP\\AppData\\Roaming\\Python\\Python313\\site-packages\\sklearn\\metrics\\_classification.py:1731: UndefinedMetricWarning: Recall is ill-defined and being set to 0.0 in labels with no true samples. Use `zero_division` parameter to control this behavior.\n",
      "  _warn_prf(average, modifier, f\"{metric.capitalize()} is\", result.shape[0])\n",
      "C:\\Users\\HP\\AppData\\Roaming\\Python\\Python313\\site-packages\\sklearn\\metrics\\_classification.py:1731: UndefinedMetricWarning: Recall is ill-defined and being set to 0.0 in labels with no true samples. Use `zero_division` parameter to control this behavior.\n",
      "  _warn_prf(average, modifier, f\"{metric.capitalize()} is\", result.shape[0])\n",
      "C:\\Users\\HP\\AppData\\Roaming\\Python\\Python313\\site-packages\\sklearn\\metrics\\_classification.py:1731: UndefinedMetricWarning: Recall is ill-defined and being set to 0.0 in labels with no true samples. Use `zero_division` parameter to control this behavior.\n",
      "  _warn_prf(average, modifier, f\"{metric.capitalize()} is\", result.shape[0])\n"
     ]
    }
   ],
   "source": [
    "# --------------------------\n",
    "# 1. Predict labels\n",
    "# --------------------------\n",
    "y_pred_probs = model_cnn.predict(X_test)   # ได้เป็น probability (softmax)\n",
    "y_pred = np.argmax(y_pred_probs, axis=1)  # แปลงเป็น class index\n",
    "y_true = np.argmax(y_test_cat, axis=1)    # แปลง one-hot y_test กลับเป็น index\n",
    "\n",
    "# --------------------------\n",
    "# 2. Confusion matrix\n",
    "# --------------------------\n",
    "cm = confusion_matrix(y_true, y_pred)\n",
    "\n",
    "# --------------------------\n",
    "# 3. Plot confusion matrix\n",
    "# --------------------------\n",
    "plt.figure(figsize=(8,6))\n",
    "sns.heatmap(cm, annot=True, fmt=\"d\", cmap=\"Blues\",\n",
    "            xticklabels=encoder.classes_,\n",
    "            yticklabels=encoder.classes_)\n",
    "plt.xlabel(\"Predicted Label\")\n",
    "plt.ylabel(\"True Label\")\n",
    "plt.title(\"Confusion Matrix\")\n",
    "plt.show()\n",
    "\n",
    "# --------------------------\n",
    "# 4. (optional) Classification report\n",
    "# --------------------------\n",
    "print(classification_report(y_true, y_pred, target_names=encoder.classes_))"
   ]
  },
  {
   "cell_type": "markdown",
   "id": "0baf3c47",
   "metadata": {},
   "source": [
    "## ลองทำ CNN+Class weight"
   ]
  },
  {
   "cell_type": "code",
   "execution_count": 37,
   "id": "9ebecfe3",
   "metadata": {},
   "outputs": [],
   "source": [
    "import numpy as np\n",
    "from sklearn.preprocessing import LabelEncoder\n",
    "from sklearn.utils.class_weight import compute_class_weight\n",
    "from tensorflow.keras.utils import to_categorical\n",
    "from tensorflow.keras.models import Sequential\n",
    "from tensorflow.keras.layers import Conv1D, MaxPooling1D, Flatten, Dense, Dropout, BatchNormalization"
   ]
  },
  {
   "cell_type": "code",
   "execution_count": 38,
   "id": "764dc967",
   "metadata": {},
   "outputs": [
    {
     "name": "stdout",
     "output_type": "stream",
     "text": [
      "Class Weights: {0: np.float64(1.390680786686838), 1: np.float64(0.40638373121131743), 2: np.float64(6.6902474526928675), 3: np.float64(1.4595744680851064), 4: np.float64(1.0146136865342164)}\n"
     ]
    },
    {
     "name": "stderr",
     "output_type": "stream",
     "text": [
      "C:\\Users\\HP\\AppData\\Roaming\\Python\\Python313\\site-packages\\keras\\src\\layers\\convolutional\\base_conv.py:113: UserWarning: Do not pass an `input_shape`/`input_dim` argument to a layer. When using Sequential models, prefer using an `Input(shape)` object as the first layer in the model instead.\n",
      "  super().__init__(activity_regularizer=activity_regularizer, **kwargs)\n"
     ]
    }
   ],
   "source": [
    "# -----------------------------\n",
    "# 1. Encode labels\n",
    "# -----------------------------\n",
    "encoder = LabelEncoder()\n",
    "y_train_enc = encoder.fit_transform(y_train)\n",
    "y_val_enc   = encoder.transform(y_val)\n",
    "y_test_enc  = encoder.transform(y_test)\n",
    "\n",
    "num_classes = len(np.unique(y_train_enc))\n",
    "\n",
    "y_train_cat = to_categorical(y_train_enc, num_classes=num_classes)\n",
    "y_val_cat   = to_categorical(y_val_enc, num_classes=num_classes)\n",
    "y_test_cat  = to_categorical(y_test_enc, num_classes=num_classes)\n",
    "\n",
    "# -----------------------------\n",
    "# 2. Compute class weights\n",
    "# -----------------------------\n",
    "class_weights = compute_class_weight(\n",
    "    class_weight=\"balanced\",\n",
    "    classes=np.unique(y_train_enc),\n",
    "    y=y_train_enc\n",
    ")\n",
    "class_weights = dict(enumerate(class_weights))\n",
    "print(\"Class Weights:\", class_weights)\n",
    "\n",
    "# -----------------------------\n",
    "# 3. CNN model\n",
    "# -----------------------------\n",
    "model_cnn = Sequential([\n",
    "    Conv1D(filters=32, kernel_size=7, activation='relu', input_shape=(X_train.shape[1], X_train.shape[2])),\n",
    "    BatchNormalization(),\n",
    "    MaxPooling1D(pool_size=2),\n",
    "\n",
    "    Conv1D(filters=64, kernel_size=5, activation='relu'),\n",
    "    BatchNormalization(),\n",
    "    MaxPooling1D(pool_size=2),\n",
    "\n",
    "    Conv1D(filters=128, kernel_size=3, activation='relu'),\n",
    "    BatchNormalization(),\n",
    "    MaxPooling1D(pool_size=2),\n",
    "\n",
    "    Conv1D(filters=64, kernel_size=5, activation='relu'),\n",
    "    BatchNormalization(),\n",
    "    MaxPooling1D(pool_size=2),\n",
    "\n",
    "    Flatten(),\n",
    "    Dense(128, activation='relu'),\n",
    "    Dropout(0.5),\n",
    "    Dense(num_classes, activation='softmax')\n",
    "])\n",
    "\n",
    "model_cnn.compile(optimizer='adam',\n",
    "                  loss='categorical_crossentropy',\n",
    "                  metrics=['accuracy'])\n"
   ]
  },
  {
   "cell_type": "code",
   "execution_count": 39,
   "id": "e7e0cde0",
   "metadata": {},
   "outputs": [
    {
     "name": "stdout",
     "output_type": "stream",
     "text": [
      "Epoch 1/80\n",
      "\u001b[1m719/719\u001b[0m \u001b[32m━━━━━━━━━━━━━━━━━━━━\u001b[0m\u001b[37m\u001b[0m \u001b[1m10s\u001b[0m 11ms/step - accuracy: 0.5710 - loss: 1.1410 - val_accuracy: 0.9040 - val_loss: 0.4769\n",
      "Epoch 2/80\n",
      "\u001b[1m719/719\u001b[0m \u001b[32m━━━━━━━━━━━━━━━━━━━━\u001b[0m\u001b[37m\u001b[0m \u001b[1m8s\u001b[0m 11ms/step - accuracy: 0.7195 - loss: 0.7445 - val_accuracy: 0.9004 - val_loss: 0.5849\n",
      "Epoch 3/80\n",
      "\u001b[1m719/719\u001b[0m \u001b[32m━━━━━━━━━━━━━━━━━━━━\u001b[0m\u001b[37m\u001b[0m \u001b[1m8s\u001b[0m 11ms/step - accuracy: 0.7614 - loss: 0.6513 - val_accuracy: 0.8650 - val_loss: 0.7277\n",
      "Epoch 4/80\n",
      "\u001b[1m719/719\u001b[0m \u001b[32m━━━━━━━━━━━━━━━━━━━━\u001b[0m\u001b[37m\u001b[0m \u001b[1m8s\u001b[0m 11ms/step - accuracy: 0.7822 - loss: 0.5945 - val_accuracy: 0.8522 - val_loss: 0.7769\n",
      "Epoch 5/80\n",
      "\u001b[1m719/719\u001b[0m \u001b[32m━━━━━━━━━━━━━━━━━━━━\u001b[0m\u001b[37m\u001b[0m \u001b[1m8s\u001b[0m 11ms/step - accuracy: 0.7969 - loss: 0.5546 - val_accuracy: 0.7791 - val_loss: 0.9118\n",
      "Epoch 6/80\n",
      "\u001b[1m719/719\u001b[0m \u001b[32m━━━━━━━━━━━━━━━━━━━━\u001b[0m\u001b[37m\u001b[0m \u001b[1m8s\u001b[0m 11ms/step - accuracy: 0.8068 - loss: 0.5218 - val_accuracy: 0.8355 - val_loss: 0.9164\n",
      "Epoch 7/80\n",
      "\u001b[1m719/719\u001b[0m \u001b[32m━━━━━━━━━━━━━━━━━━━━\u001b[0m\u001b[37m\u001b[0m \u001b[1m8s\u001b[0m 11ms/step - accuracy: 0.8156 - loss: 0.4938 - val_accuracy: 0.8522 - val_loss: 0.7846\n",
      "Epoch 8/80\n",
      "\u001b[1m719/719\u001b[0m \u001b[32m━━━━━━━━━━━━━━━━━━━━\u001b[0m\u001b[37m\u001b[0m \u001b[1m8s\u001b[0m 11ms/step - accuracy: 0.8261 - loss: 0.4681 - val_accuracy: 0.8650 - val_loss: 0.7782\n",
      "Epoch 9/80\n",
      "\u001b[1m719/719\u001b[0m \u001b[32m━━━━━━━━━━━━━━━━━━━━\u001b[0m\u001b[37m\u001b[0m \u001b[1m8s\u001b[0m 11ms/step - accuracy: 0.8395 - loss: 0.4306 - val_accuracy: 0.7319 - val_loss: 1.1093\n",
      "Epoch 10/80\n",
      "\u001b[1m719/719\u001b[0m \u001b[32m━━━━━━━━━━━━━━━━━━━━\u001b[0m\u001b[37m\u001b[0m \u001b[1m8s\u001b[0m 11ms/step - accuracy: 0.8488 - loss: 0.3937 - val_accuracy: 0.7639 - val_loss: 0.9270\n",
      "Epoch 11/80\n",
      "\u001b[1m719/719\u001b[0m \u001b[32m━━━━━━━━━━━━━━━━━━━━\u001b[0m\u001b[37m\u001b[0m \u001b[1m8s\u001b[0m 11ms/step - accuracy: 0.8602 - loss: 0.3716 - val_accuracy: 0.8169 - val_loss: 0.9171\n",
      "Epoch 12/80\n",
      "\u001b[1m719/719\u001b[0m \u001b[32m━━━━━━━━━━━━━━━━━━━━\u001b[0m\u001b[37m\u001b[0m \u001b[1m12s\u001b[0m 17ms/step - accuracy: 0.8675 - loss: 0.3500 - val_accuracy: 0.7179 - val_loss: 1.1039\n",
      "Epoch 13/80\n",
      "\u001b[1m719/719\u001b[0m \u001b[32m━━━━━━━━━━━━━━━━━━━━\u001b[0m\u001b[37m\u001b[0m \u001b[1m9s\u001b[0m 13ms/step - accuracy: 0.8836 - loss: 0.3143 - val_accuracy: 0.7876 - val_loss: 0.9194\n",
      "Epoch 14/80\n",
      "\u001b[1m719/719\u001b[0m \u001b[32m━━━━━━━━━━━━━━━━━━━━\u001b[0m\u001b[37m\u001b[0m \u001b[1m8s\u001b[0m 11ms/step - accuracy: 0.8861 - loss: 0.2947 - val_accuracy: 0.6548 - val_loss: 1.4665\n",
      "Epoch 15/80\n",
      "\u001b[1m719/719\u001b[0m \u001b[32m━━━━━━━━━━━━━━━━━━━━\u001b[0m\u001b[37m\u001b[0m \u001b[1m8s\u001b[0m 11ms/step - accuracy: 0.8973 - loss: 0.2701 - val_accuracy: 0.7121 - val_loss: 1.2083\n",
      "Epoch 16/80\n",
      "\u001b[1m719/719\u001b[0m \u001b[32m━━━━━━━━━━━━━━━━━━━━\u001b[0m\u001b[37m\u001b[0m \u001b[1m8s\u001b[0m 11ms/step - accuracy: 0.9024 - loss: 0.2568 - val_accuracy: 0.6374 - val_loss: 1.5496\n",
      "Epoch 17/80\n",
      "\u001b[1m719/719\u001b[0m \u001b[32m━━━━━━━━━━━━━━━━━━━━\u001b[0m\u001b[37m\u001b[0m \u001b[1m8s\u001b[0m 11ms/step - accuracy: 0.9135 - loss: 0.2274 - val_accuracy: 0.7188 - val_loss: 1.3594\n",
      "Epoch 18/80\n",
      "\u001b[1m719/719\u001b[0m \u001b[32m━━━━━━━━━━━━━━━━━━━━\u001b[0m\u001b[37m\u001b[0m \u001b[1m8s\u001b[0m 11ms/step - accuracy: 0.9176 - loss: 0.2158 - val_accuracy: 0.7556 - val_loss: 1.3539\n",
      "Epoch 19/80\n",
      "\u001b[1m719/719\u001b[0m \u001b[32m━━━━━━━━━━━━━━━━━━━━\u001b[0m\u001b[37m\u001b[0m \u001b[1m10s\u001b[0m 13ms/step - accuracy: 0.9267 - loss: 0.1959 - val_accuracy: 0.6606 - val_loss: 1.7222\n",
      "Epoch 20/80\n",
      "\u001b[1m719/719\u001b[0m \u001b[32m━━━━━━━━━━━━━━━━━━━━\u001b[0m\u001b[37m\u001b[0m \u001b[1m10s\u001b[0m 14ms/step - accuracy: 0.9251 - loss: 0.1988 - val_accuracy: 0.7002 - val_loss: 1.4956\n",
      "Epoch 21/80\n",
      "\u001b[1m719/719\u001b[0m \u001b[32m━━━━━━━━━━━━━━━━━━━━\u001b[0m\u001b[37m\u001b[0m \u001b[1m10s\u001b[0m 14ms/step - accuracy: 0.9273 - loss: 0.1886 - val_accuracy: 0.6712 - val_loss: 1.7451\n",
      "Epoch 22/80\n",
      "\u001b[1m719/719\u001b[0m \u001b[32m━━━━━━━━━━━━━━━━━━━━\u001b[0m\u001b[37m\u001b[0m \u001b[1m10s\u001b[0m 14ms/step - accuracy: 0.9336 - loss: 0.1765 - val_accuracy: 0.8446 - val_loss: 1.2198\n",
      "Epoch 23/80\n",
      "\u001b[1m719/719\u001b[0m \u001b[32m━━━━━━━━━━━━━━━━━━━━\u001b[0m\u001b[37m\u001b[0m \u001b[1m10s\u001b[0m 14ms/step - accuracy: 0.9420 - loss: 0.1519 - val_accuracy: 0.6944 - val_loss: 1.7200\n",
      "Epoch 24/80\n",
      "\u001b[1m719/719\u001b[0m \u001b[32m━━━━━━━━━━━━━━━━━━━━\u001b[0m\u001b[37m\u001b[0m \u001b[1m10s\u001b[0m 14ms/step - accuracy: 0.9454 - loss: 0.1497 - val_accuracy: 0.6280 - val_loss: 2.0535\n",
      "Epoch 25/80\n",
      "\u001b[1m719/719\u001b[0m \u001b[32m━━━━━━━━━━━━━━━━━━━━\u001b[0m\u001b[37m\u001b[0m \u001b[1m10s\u001b[0m 14ms/step - accuracy: 0.9475 - loss: 0.1403 - val_accuracy: 0.7206 - val_loss: 1.5048\n",
      "Epoch 26/80\n",
      "\u001b[1m719/719\u001b[0m \u001b[32m━━━━━━━━━━━━━━━━━━━━\u001b[0m\u001b[37m\u001b[0m \u001b[1m10s\u001b[0m 14ms/step - accuracy: 0.9507 - loss: 0.1358 - val_accuracy: 0.4561 - val_loss: 2.8642\n",
      "Epoch 27/80\n",
      "\u001b[1m719/719\u001b[0m \u001b[32m━━━━━━━━━━━━━━━━━━━━\u001b[0m\u001b[37m\u001b[0m \u001b[1m10s\u001b[0m 14ms/step - accuracy: 0.9529 - loss: 0.1286 - val_accuracy: 0.7410 - val_loss: 1.5662\n",
      "Epoch 28/80\n",
      "\u001b[1m719/719\u001b[0m \u001b[32m━━━━━━━━━━━━━━━━━━━━\u001b[0m\u001b[37m\u001b[0m \u001b[1m10s\u001b[0m 14ms/step - accuracy: 0.9563 - loss: 0.1197 - val_accuracy: 0.7706 - val_loss: 1.6731\n",
      "Epoch 29/80\n",
      "\u001b[1m719/719\u001b[0m \u001b[32m━━━━━━━━━━━━━━━━━━━━\u001b[0m\u001b[37m\u001b[0m \u001b[1m10s\u001b[0m 14ms/step - accuracy: 0.9559 - loss: 0.1161 - val_accuracy: 0.7017 - val_loss: 2.0563\n",
      "Epoch 30/80\n",
      "\u001b[1m719/719\u001b[0m \u001b[32m━━━━━━━━━━━━━━━━━━━━\u001b[0m\u001b[37m\u001b[0m \u001b[1m10s\u001b[0m 14ms/step - accuracy: 0.9560 - loss: 0.1220 - val_accuracy: 0.7243 - val_loss: 2.0300\n",
      "Epoch 31/80\n",
      "\u001b[1m719/719\u001b[0m \u001b[32m━━━━━━━━━━━━━━━━━━━━\u001b[0m\u001b[37m\u001b[0m \u001b[1m10s\u001b[0m 14ms/step - accuracy: 0.9596 - loss: 0.1125 - val_accuracy: 0.7392 - val_loss: 2.1764\n",
      "Epoch 32/80\n",
      "\u001b[1m719/719\u001b[0m \u001b[32m━━━━━━━━━━━━━━━━━━━━\u001b[0m\u001b[37m\u001b[0m \u001b[1m10s\u001b[0m 14ms/step - accuracy: 0.9614 - loss: 0.1101 - val_accuracy: 0.8473 - val_loss: 1.4190\n",
      "Epoch 33/80\n",
      "\u001b[1m719/719\u001b[0m \u001b[32m━━━━━━━━━━━━━━━━━━━━\u001b[0m\u001b[37m\u001b[0m \u001b[1m10s\u001b[0m 14ms/step - accuracy: 0.9609 - loss: 0.1070 - val_accuracy: 0.5061 - val_loss: 3.0387\n",
      "Epoch 34/80\n",
      "\u001b[1m719/719\u001b[0m \u001b[32m━━━━━━━━━━━━━━━━━━━━\u001b[0m\u001b[37m\u001b[0m \u001b[1m10s\u001b[0m 14ms/step - accuracy: 0.9656 - loss: 0.0962 - val_accuracy: 0.3879 - val_loss: 4.2482\n",
      "Epoch 35/80\n",
      "\u001b[1m719/719\u001b[0m \u001b[32m━━━━━━━━━━━━━━━━━━━━\u001b[0m\u001b[37m\u001b[0m \u001b[1m10s\u001b[0m 14ms/step - accuracy: 0.9636 - loss: 0.1014 - val_accuracy: 0.6795 - val_loss: 2.1230\n",
      "Epoch 36/80\n",
      "\u001b[1m719/719\u001b[0m \u001b[32m━━━━━━━━━━━━━━━━━━━━\u001b[0m\u001b[37m\u001b[0m \u001b[1m10s\u001b[0m 14ms/step - accuracy: 0.9672 - loss: 0.0884 - val_accuracy: 0.7602 - val_loss: 1.9762\n",
      "Epoch 37/80\n",
      "\u001b[1m719/719\u001b[0m \u001b[32m━━━━━━━━━━━━━━━━━━━━\u001b[0m\u001b[37m\u001b[0m \u001b[1m10s\u001b[0m 14ms/step - accuracy: 0.9661 - loss: 0.0960 - val_accuracy: 0.6380 - val_loss: 2.6288\n",
      "Epoch 38/80\n",
      "\u001b[1m719/719\u001b[0m \u001b[32m━━━━━━━━━━━━━━━━━━━━\u001b[0m\u001b[37m\u001b[0m \u001b[1m10s\u001b[0m 14ms/step - accuracy: 0.9724 - loss: 0.0784 - val_accuracy: 0.5972 - val_loss: 2.7215\n",
      "Epoch 39/80\n",
      "\u001b[1m719/719\u001b[0m \u001b[32m━━━━━━━━━━━━━━━━━━━━\u001b[0m\u001b[37m\u001b[0m \u001b[1m8s\u001b[0m 11ms/step - accuracy: 0.9674 - loss: 0.0928 - val_accuracy: 0.7520 - val_loss: 1.9855\n",
      "Epoch 40/80\n",
      "\u001b[1m719/719\u001b[0m \u001b[32m━━━━━━━━━━━━━━━━━━━━\u001b[0m\u001b[37m\u001b[0m \u001b[1m8s\u001b[0m 11ms/step - accuracy: 0.9691 - loss: 0.0861 - val_accuracy: 0.6789 - val_loss: 2.6467\n",
      "Epoch 41/80\n",
      "\u001b[1m719/719\u001b[0m \u001b[32m━━━━━━━━━━━━━━━━━━━━\u001b[0m\u001b[37m\u001b[0m \u001b[1m8s\u001b[0m 11ms/step - accuracy: 0.9709 - loss: 0.0838 - val_accuracy: 0.6015 - val_loss: 2.6070\n",
      "Epoch 42/80\n",
      "\u001b[1m719/719\u001b[0m \u001b[32m━━━━━━━━━━━━━━━━━━━━\u001b[0m\u001b[37m\u001b[0m \u001b[1m8s\u001b[0m 11ms/step - accuracy: 0.9729 - loss: 0.0800 - val_accuracy: 0.6347 - val_loss: 2.5717\n",
      "Epoch 43/80\n",
      "\u001b[1m719/719\u001b[0m \u001b[32m━━━━━━━━━━━━━━━━━━━━\u001b[0m\u001b[37m\u001b[0m \u001b[1m8s\u001b[0m 11ms/step - accuracy: 0.9722 - loss: 0.0852 - val_accuracy: 0.7788 - val_loss: 2.3402\n",
      "Epoch 44/80\n",
      "\u001b[1m719/719\u001b[0m \u001b[32m━━━━━━━━━━━━━━━━━━━━\u001b[0m\u001b[37m\u001b[0m \u001b[1m8s\u001b[0m 11ms/step - accuracy: 0.9720 - loss: 0.0778 - val_accuracy: 0.6456 - val_loss: 2.8744\n",
      "Epoch 45/80\n",
      "\u001b[1m719/719\u001b[0m \u001b[32m━━━━━━━━━━━━━━━━━━━━\u001b[0m\u001b[37m\u001b[0m \u001b[1m8s\u001b[0m 11ms/step - accuracy: 0.9749 - loss: 0.0713 - val_accuracy: 0.6292 - val_loss: 2.7463\n",
      "Epoch 46/80\n",
      "\u001b[1m719/719\u001b[0m \u001b[32m━━━━━━━━━━━━━━━━━━━━\u001b[0m\u001b[37m\u001b[0m \u001b[1m8s\u001b[0m 11ms/step - accuracy: 0.9691 - loss: 0.0882 - val_accuracy: 0.5591 - val_loss: 3.6360\n",
      "Epoch 47/80\n",
      "\u001b[1m719/719\u001b[0m \u001b[32m━━━━━━━━━━━━━━━━━━━━\u001b[0m\u001b[37m\u001b[0m \u001b[1m8s\u001b[0m 12ms/step - accuracy: 0.9765 - loss: 0.0719 - val_accuracy: 0.7203 - val_loss: 2.3786\n",
      "Epoch 48/80\n",
      "\u001b[1m719/719\u001b[0m \u001b[32m━━━━━━━━━━━━━━━━━━━━\u001b[0m\u001b[37m\u001b[0m \u001b[1m8s\u001b[0m 11ms/step - accuracy: 0.9762 - loss: 0.0677 - val_accuracy: 0.7508 - val_loss: 2.2117\n",
      "Epoch 49/80\n",
      "\u001b[1m719/719\u001b[0m \u001b[32m━━━━━━━━━━━━━━━━━━━━\u001b[0m\u001b[37m\u001b[0m \u001b[1m8s\u001b[0m 11ms/step - accuracy: 0.9763 - loss: 0.0659 - val_accuracy: 0.5899 - val_loss: 2.8771\n",
      "Epoch 50/80\n",
      "\u001b[1m719/719\u001b[0m \u001b[32m━━━━━━━━━━━━━━━━━━━━\u001b[0m\u001b[37m\u001b[0m \u001b[1m8s\u001b[0m 11ms/step - accuracy: 0.9781 - loss: 0.0608 - val_accuracy: 0.7203 - val_loss: 2.2632\n",
      "Epoch 51/80\n",
      "\u001b[1m719/719\u001b[0m \u001b[32m━━━━━━━━━━━━━━━━━━━━\u001b[0m\u001b[37m\u001b[0m \u001b[1m8s\u001b[0m 11ms/step - accuracy: 0.9760 - loss: 0.0698 - val_accuracy: 0.7745 - val_loss: 2.4031\n",
      "Epoch 52/80\n",
      "\u001b[1m719/719\u001b[0m \u001b[32m━━━━━━━━━━━━━━━━━━━━\u001b[0m\u001b[37m\u001b[0m \u001b[1m8s\u001b[0m 11ms/step - accuracy: 0.9754 - loss: 0.0669 - val_accuracy: 0.7614 - val_loss: 2.3082\n",
      "Epoch 53/80\n",
      "\u001b[1m719/719\u001b[0m \u001b[32m━━━━━━━━━━━━━━━━━━━━\u001b[0m\u001b[37m\u001b[0m \u001b[1m8s\u001b[0m 11ms/step - accuracy: 0.9770 - loss: 0.0659 - val_accuracy: 0.6831 - val_loss: 2.8233\n",
      "Epoch 54/80\n",
      "\u001b[1m719/719\u001b[0m \u001b[32m━━━━━━━━━━━━━━━━━━━━\u001b[0m\u001b[37m\u001b[0m \u001b[1m8s\u001b[0m 11ms/step - accuracy: 0.9774 - loss: 0.0653 - val_accuracy: 0.8053 - val_loss: 2.4466\n",
      "Epoch 55/80\n",
      "\u001b[1m719/719\u001b[0m \u001b[32m━━━━━━━━━━━━━━━━━━━━\u001b[0m\u001b[37m\u001b[0m \u001b[1m8s\u001b[0m 12ms/step - accuracy: 0.9789 - loss: 0.0627 - val_accuracy: 0.7243 - val_loss: 2.9360\n",
      "Epoch 56/80\n",
      "\u001b[1m719/719\u001b[0m \u001b[32m━━━━━━━━━━━━━━━━━━━━\u001b[0m\u001b[37m\u001b[0m \u001b[1m8s\u001b[0m 11ms/step - accuracy: 0.9795 - loss: 0.0616 - val_accuracy: 0.7431 - val_loss: 2.2060\n",
      "Epoch 57/80\n",
      "\u001b[1m719/719\u001b[0m \u001b[32m━━━━━━━━━━━━━━━━━━━━\u001b[0m\u001b[37m\u001b[0m \u001b[1m8s\u001b[0m 11ms/step - accuracy: 0.9819 - loss: 0.0547 - val_accuracy: 0.3254 - val_loss: 6.0691\n",
      "Epoch 58/80\n",
      "\u001b[1m719/719\u001b[0m \u001b[32m━━━━━━━━━━━━━━━━━━━━\u001b[0m\u001b[37m\u001b[0m \u001b[1m8s\u001b[0m 11ms/step - accuracy: 0.9796 - loss: 0.0585 - val_accuracy: 0.8029 - val_loss: 2.0997\n",
      "Epoch 59/80\n",
      "\u001b[1m719/719\u001b[0m \u001b[32m━━━━━━━━━━━━━━━━━━━━\u001b[0m\u001b[37m\u001b[0m \u001b[1m8s\u001b[0m 11ms/step - accuracy: 0.9807 - loss: 0.0569 - val_accuracy: 0.5414 - val_loss: 4.1444\n",
      "Epoch 60/80\n",
      "\u001b[1m719/719\u001b[0m \u001b[32m━━━━━━━━━━━━━━━━━━━━\u001b[0m\u001b[37m\u001b[0m \u001b[1m8s\u001b[0m 11ms/step - accuracy: 0.9803 - loss: 0.0615 - val_accuracy: 0.6478 - val_loss: 3.4780\n",
      "Epoch 61/80\n",
      "\u001b[1m719/719\u001b[0m \u001b[32m━━━━━━━━━━━━━━━━━━━━\u001b[0m\u001b[37m\u001b[0m \u001b[1m8s\u001b[0m 11ms/step - accuracy: 0.9816 - loss: 0.0562 - val_accuracy: 0.5932 - val_loss: 3.6895\n",
      "Epoch 62/80\n",
      "\u001b[1m719/719\u001b[0m \u001b[32m━━━━━━━━━━━━━━━━━━━━\u001b[0m\u001b[37m\u001b[0m \u001b[1m8s\u001b[0m 11ms/step - accuracy: 0.9812 - loss: 0.0558 - val_accuracy: 0.7511 - val_loss: 2.8986\n",
      "Epoch 63/80\n",
      "\u001b[1m719/719\u001b[0m \u001b[32m━━━━━━━━━━━━━━━━━━━━\u001b[0m\u001b[37m\u001b[0m \u001b[1m8s\u001b[0m 11ms/step - accuracy: 0.9794 - loss: 0.0606 - val_accuracy: 0.6731 - val_loss: 3.3342\n",
      "Epoch 64/80\n",
      "\u001b[1m719/719\u001b[0m \u001b[32m━━━━━━━━━━━━━━━━━━━━\u001b[0m\u001b[37m\u001b[0m \u001b[1m8s\u001b[0m 11ms/step - accuracy: 0.9838 - loss: 0.0509 - val_accuracy: 0.6030 - val_loss: 3.8052\n",
      "Epoch 65/80\n",
      "\u001b[1m719/719\u001b[0m \u001b[32m━━━━━━━━━━━━━━━━━━━━\u001b[0m\u001b[37m\u001b[0m \u001b[1m8s\u001b[0m 11ms/step - accuracy: 0.9812 - loss: 0.0523 - val_accuracy: 0.5427 - val_loss: 3.5062\n",
      "Epoch 66/80\n",
      "\u001b[1m719/719\u001b[0m \u001b[32m━━━━━━━━━━━━━━━━━━━━\u001b[0m\u001b[37m\u001b[0m \u001b[1m8s\u001b[0m 11ms/step - accuracy: 0.9850 - loss: 0.0446 - val_accuracy: 0.7434 - val_loss: 2.9571\n",
      "Epoch 67/80\n",
      "\u001b[1m719/719\u001b[0m \u001b[32m━━━━━━━━━━━━━━━━━━━━\u001b[0m\u001b[37m\u001b[0m \u001b[1m8s\u001b[0m 11ms/step - accuracy: 0.9824 - loss: 0.0519 - val_accuracy: 0.5338 - val_loss: 3.7371\n",
      "Epoch 68/80\n",
      "\u001b[1m719/719\u001b[0m \u001b[32m━━━━━━━━━━━━━━━━━━━━\u001b[0m\u001b[37m\u001b[0m \u001b[1m8s\u001b[0m 11ms/step - accuracy: 0.9843 - loss: 0.0444 - val_accuracy: 0.6679 - val_loss: 3.0465\n",
      "Epoch 69/80\n",
      "\u001b[1m719/719\u001b[0m \u001b[32m━━━━━━━━━━━━━━━━━━━━\u001b[0m\u001b[37m\u001b[0m \u001b[1m8s\u001b[0m 11ms/step - accuracy: 0.9850 - loss: 0.0498 - val_accuracy: 0.5110 - val_loss: 4.3546\n",
      "Epoch 70/80\n",
      "\u001b[1m719/719\u001b[0m \u001b[32m━━━━━━━━━━━━━━━━━━━━\u001b[0m\u001b[37m\u001b[0m \u001b[1m8s\u001b[0m 11ms/step - accuracy: 0.9788 - loss: 0.0637 - val_accuracy: 0.6819 - val_loss: 3.1467\n",
      "Epoch 71/80\n",
      "\u001b[1m719/719\u001b[0m \u001b[32m━━━━━━━━━━━━━━━━━━━━\u001b[0m\u001b[37m\u001b[0m \u001b[1m8s\u001b[0m 11ms/step - accuracy: 0.9858 - loss: 0.0420 - val_accuracy: 0.5820 - val_loss: 3.0799\n",
      "Epoch 72/80\n",
      "\u001b[1m719/719\u001b[0m \u001b[32m━━━━━━━━━━━━━━━━━━━━\u001b[0m\u001b[37m\u001b[0m \u001b[1m8s\u001b[0m 11ms/step - accuracy: 0.9830 - loss: 0.0519 - val_accuracy: 0.6810 - val_loss: 2.4888\n",
      "Epoch 73/80\n",
      "\u001b[1m719/719\u001b[0m \u001b[32m━━━━━━━━━━━━━━━━━━━━\u001b[0m\u001b[37m\u001b[0m \u001b[1m8s\u001b[0m 11ms/step - accuracy: 0.9848 - loss: 0.0460 - val_accuracy: 0.6499 - val_loss: 3.0822\n",
      "Epoch 74/80\n",
      "\u001b[1m719/719\u001b[0m \u001b[32m━━━━━━━━━━━━━━━━━━━━\u001b[0m\u001b[37m\u001b[0m \u001b[1m8s\u001b[0m 11ms/step - accuracy: 0.9872 - loss: 0.0401 - val_accuracy: 0.5536 - val_loss: 5.3997\n",
      "Epoch 75/80\n",
      "\u001b[1m719/719\u001b[0m \u001b[32m━━━━━━━━━━━━━━━━━━━━\u001b[0m\u001b[37m\u001b[0m \u001b[1m8s\u001b[0m 11ms/step - accuracy: 0.9845 - loss: 0.0489 - val_accuracy: 0.5460 - val_loss: 3.6066\n",
      "Epoch 76/80\n",
      "\u001b[1m719/719\u001b[0m \u001b[32m━━━━━━━━━━━━━━━━━━━━\u001b[0m\u001b[37m\u001b[0m \u001b[1m8s\u001b[0m 11ms/step - accuracy: 0.9859 - loss: 0.0435 - val_accuracy: 0.5804 - val_loss: 3.8531\n",
      "Epoch 77/80\n",
      "\u001b[1m719/719\u001b[0m \u001b[32m━━━━━━━━━━━━━━━━━━━━\u001b[0m\u001b[37m\u001b[0m \u001b[1m8s\u001b[0m 11ms/step - accuracy: 0.9852 - loss: 0.0437 - val_accuracy: 0.6255 - val_loss: 3.5288\n",
      "Epoch 78/80\n",
      "\u001b[1m719/719\u001b[0m \u001b[32m━━━━━━━━━━━━━━━━━━━━\u001b[0m\u001b[37m\u001b[0m \u001b[1m8s\u001b[0m 11ms/step - accuracy: 0.9821 - loss: 0.0526 - val_accuracy: 0.5926 - val_loss: 3.7522\n",
      "Epoch 79/80\n",
      "\u001b[1m719/719\u001b[0m \u001b[32m━━━━━━━━━━━━━━━━━━━━\u001b[0m\u001b[37m\u001b[0m \u001b[1m8s\u001b[0m 11ms/step - accuracy: 0.9847 - loss: 0.0441 - val_accuracy: 0.5978 - val_loss: 3.0455\n",
      "Epoch 80/80\n",
      "\u001b[1m719/719\u001b[0m \u001b[32m━━━━━━━━━━━━━━━━━━━━\u001b[0m\u001b[37m\u001b[0m \u001b[1m8s\u001b[0m 11ms/step - accuracy: 0.9877 - loss: 0.0384 - val_accuracy: 0.6283 - val_loss: 3.0294\n"
     ]
    }
   ],
   "source": [
    "# -----------------------------\n",
    "# 4. Train CNN model\n",
    "# -----------------------------\n",
    "history = model_cnn.fit(\n",
    "    X_train, y_train_cat,\n",
    "    validation_data=(X_val, y_val_cat),\n",
    "    epochs=80,\n",
    "    batch_size=32,\n",
    "    shuffle=True,\n",
    ")"
   ]
  },
  {
   "cell_type": "code",
   "execution_count": 40,
   "id": "1b8db773",
   "metadata": {},
   "outputs": [
    {
     "name": "stdout",
     "output_type": "stream",
     "text": [
      "\u001b[1m204/204\u001b[0m \u001b[32m━━━━━━━━━━━━━━━━━━━━\u001b[0m\u001b[37m\u001b[0m \u001b[1m1s\u001b[0m 4ms/step - accuracy: 0.3675 - loss: 15.9553\n",
      "Test Loss: 15.9553, Test Accuracy: 36.75%\n"
     ]
    }
   ],
   "source": [
    "# -----------------------------\n",
    "# 5. Evaluate model\n",
    "# -----------------------------\n",
    "loss, accuracy = model_cnn.evaluate(X_test, y_test_cat)\n",
    "print(f\"Test Loss: {loss:.4f}, Test Accuracy: {accuracy * 100:.2f}%\")"
   ]
  },
  {
   "cell_type": "code",
   "execution_count": 41,
   "id": "ec82475b",
   "metadata": {},
   "outputs": [
    {
     "name": "stdout",
     "output_type": "stream",
     "text": [
      "\u001b[1m204/204\u001b[0m \u001b[32m━━━━━━━━━━━━━━━━━━━━\u001b[0m\u001b[37m\u001b[0m \u001b[1m1s\u001b[0m 3ms/step\n"
     ]
    }
   ],
   "source": [
    "threshold = 0.5  # set the threshold value\n",
    "y_pred_prob = model_cnn.predict(X_test)  # generate prediction probabilities\n",
    "y_pred = (y_pred_prob > threshold).astype(int)"
   ]
  },
  {
   "cell_type": "code",
   "execution_count": 42,
   "id": "4a6dee67",
   "metadata": {},
   "outputs": [
    {
     "name": "stdout",
     "output_type": "stream",
     "text": [
      "\u001b[1m204/204\u001b[0m \u001b[32m━━━━━━━━━━━━━━━━━━━━\u001b[0m\u001b[37m\u001b[0m \u001b[1m1s\u001b[0m 3ms/step\n"
     ]
    },
    {
     "data": {
      "image/png": "[encoded data removed]",
      "text/plain": [
       "<Figure size 800x600 with 2 Axes>"
      ]
     },
     "metadata": {},
     "output_type": "display_data"
    },
    {
     "name": "stdout",
     "output_type": "stream",
     "text": [
      "                 precision    recall  f1-score   support\n",
      "\n",
      " Sleep stage N1       0.24      0.32      0.28       844\n",
      " Sleep stage N2       0.54      0.72      0.62      2265\n",
      " Sleep stage N3       0.00      0.00      0.00         0\n",
      "  Sleep stage R       0.03      0.01      0.01      2265\n",
      "  Sleep stage W       0.26      0.41      0.32      1154\n",
      "\n",
      "       accuracy                           0.37      6528\n",
      "      macro avg       0.22      0.29      0.25      6528\n",
      "   weighted avg       0.28      0.37      0.31      6528\n",
      "\n"
     ]
    },
    {
     "name": "stderr",
     "output_type": "stream",
     "text": [
      "C:\\Users\\HP\\AppData\\Roaming\\Python\\Python313\\site-packages\\sklearn\\metrics\\_classification.py:1731: UndefinedMetricWarning: Recall is ill-defined and being set to 0.0 in labels with no true samples. Use `zero_division` parameter to control this behavior.\n",
      "  _warn_prf(average, modifier, f\"{metric.capitalize()} is\", result.shape[0])\n",
      "C:\\Users\\HP\\AppData\\Roaming\\Python\\Python313\\site-packages\\sklearn\\metrics\\_classification.py:1731: UndefinedMetricWarning: Recall is ill-defined and being set to 0.0 in labels with no true samples. Use `zero_division` parameter to control this behavior.\n",
      "  _warn_prf(average, modifier, f\"{metric.capitalize()} is\", result.shape[0])\n",
      "C:\\Users\\HP\\AppData\\Roaming\\Python\\Python313\\site-packages\\sklearn\\metrics\\_classification.py:1731: UndefinedMetricWarning: Recall is ill-defined and being set to 0.0 in labels with no true samples. Use `zero_division` parameter to control this behavior.\n",
      "  _warn_prf(average, modifier, f\"{metric.capitalize()} is\", result.shape[0])\n"
     ]
    }
   ],
   "source": [
    "# --------------------------\n",
    "# 1. Predict labels\n",
    "# --------------------------\n",
    "y_pred_probs = model_cnn.predict(X_test)   # ได้เป็น probability (softmax)\n",
    "y_pred = np.argmax(y_pred_probs, axis=1)  # แปลงเป็น class index\n",
    "y_true = np.argmax(y_test_cat, axis=1)    # แปลง one-hot y_test กลับเป็น index\n",
    "\n",
    "# --------------------------\n",
    "# 2. Confusion matrix\n",
    "# --------------------------\n",
    "cm = confusion_matrix(y_true, y_pred)\n",
    "\n",
    "# --------------------------\n",
    "# 3. Plot confusion matrix\n",
    "# --------------------------\n",
    "plt.figure(figsize=(8,6))\n",
    "sns.heatmap(cm, annot=True, fmt=\"d\", cmap=\"Blues\",\n",
    "            xticklabels=encoder.classes_,\n",
    "            yticklabels=encoder.classes_)\n",
    "plt.xlabel(\"Predicted Label\")\n",
    "plt.ylabel(\"True Label\")\n",
    "plt.title(\"Confusion Matrix\")\n",
    "plt.show()\n",
    "\n",
    "# --------------------------\n",
    "# 4. (optional) Classification report\n",
    "# --------------------------\n",
    "print(classification_report(y_true, y_pred, target_names=encoder.classes_))"
   ]
  },
  {
   "cell_type": "markdown",
   "id": "2433ec6b",
   "metadata": {},
   "source": [
    "## CNN+LSTM แบบสุดโหด"
   ]
  },
  {
   "cell_type": "code",
   "execution_count": 48,
   "id": "95475ed2",
   "metadata": {},
   "outputs": [
    {
     "name": "stdout",
     "output_type": "stream",
     "text": [
      "X_train shape: (22981, 400, 8)\n",
      "y_train shape: (22981, 5)\n"
     ]
    },
    {
     "name": "stderr",
     "output_type": "stream",
     "text": [
      "C:\\Users\\HP\\AppData\\Roaming\\Python\\Python313\\site-packages\\keras\\src\\layers\\convolutional\\base_conv.py:113: UserWarning: Do not pass an `input_shape`/`input_dim` argument to a layer. When using Sequential models, prefer using an `Input(shape)` object as the first layer in the model instead.\n",
      "  super().__init__(activity_regularizer=activity_regularizer, **kwargs)\n"
     ]
    },
    {
     "data": {
      "text/html": [
       "<pre style=\"white-space:pre;overflow-x:auto;line-height:normal;font-family:Menlo,'DejaVu Sans Mono',consolas,'Courier New',monospace\"><span style=\"font-weight: bold\">Model: \"sequential_5\"</span>\n",
       "</pre>\n"
      ],
      "text/plain": [
       "\u001b[1mModel: \"sequential_5\"\u001b[0m\n"
      ]
     },
     "metadata": {},
     "output_type": "display_data"
    },
    {
     "data": {
      "text/html": [
       "<pre style=\"white-space:pre;overflow-x:auto;line-height:normal;font-family:Menlo,'DejaVu Sans Mono',consolas,'Courier New',monospace\">┏━━━━━━━━━━━━━━━━━━━━━━━━━━━━━━━━━┳━━━━━━━━━━━━━━━━━━━━━━━━┳━━━━━━━━━━━━━━━┓\n",
       "┃<span style=\"font-weight: bold\"> Layer (type)                    </span>┃<span style=\"font-weight: bold\"> Output Shape           </span>┃<span style=\"font-weight: bold\">       Param # </span>┃\n",
       "┡━━━━━━━━━━━━━━━━━━━━━━━━━━━━━━━━━╇━━━━━━━━━━━━━━━━━━━━━━━━╇━━━━━━━━━━━━━━━┩\n",
       "│ conv1d_16 (<span style=\"color: #0087ff; text-decoration-color: #0087ff\">Conv1D</span>)              │ (<span style=\"color: #00d7ff; text-decoration-color: #00d7ff\">None</span>, <span style=\"color: #00af00; text-decoration-color: #00af00\">398</span>, <span style=\"color: #00af00; text-decoration-color: #00af00\">32</span>)        │           <span style=\"color: #00af00; text-decoration-color: #00af00\">800</span> │\n",
       "├─────────────────────────────────┼────────────────────────┼───────────────┤\n",
       "│ max_pooling1d_15 (<span style=\"color: #0087ff; text-decoration-color: #0087ff\">MaxPooling1D</span>) │ (<span style=\"color: #00d7ff; text-decoration-color: #00d7ff\">None</span>, <span style=\"color: #00af00; text-decoration-color: #00af00\">199</span>, <span style=\"color: #00af00; text-decoration-color: #00af00\">32</span>)        │             <span style=\"color: #00af00; text-decoration-color: #00af00\">0</span> │\n",
       "├─────────────────────────────────┼────────────────────────┼───────────────┤\n",
       "│ dropout_7 (<span style=\"color: #0087ff; text-decoration-color: #0087ff\">Dropout</span>)             │ (<span style=\"color: #00d7ff; text-decoration-color: #00d7ff\">None</span>, <span style=\"color: #00af00; text-decoration-color: #00af00\">199</span>, <span style=\"color: #00af00; text-decoration-color: #00af00\">32</span>)        │             <span style=\"color: #00af00; text-decoration-color: #00af00\">0</span> │\n",
       "├─────────────────────────────────┼────────────────────────┼───────────────┤\n",
       "│ conv1d_17 (<span style=\"color: #0087ff; text-decoration-color: #0087ff\">Conv1D</span>)              │ (<span style=\"color: #00d7ff; text-decoration-color: #00d7ff\">None</span>, <span style=\"color: #00af00; text-decoration-color: #00af00\">197</span>, <span style=\"color: #00af00; text-decoration-color: #00af00\">64</span>)        │         <span style=\"color: #00af00; text-decoration-color: #00af00\">6,208</span> │\n",
       "├─────────────────────────────────┼────────────────────────┼───────────────┤\n",
       "│ max_pooling1d_16 (<span style=\"color: #0087ff; text-decoration-color: #0087ff\">MaxPooling1D</span>) │ (<span style=\"color: #00d7ff; text-decoration-color: #00d7ff\">None</span>, <span style=\"color: #00af00; text-decoration-color: #00af00\">98</span>, <span style=\"color: #00af00; text-decoration-color: #00af00\">64</span>)         │             <span style=\"color: #00af00; text-decoration-color: #00af00\">0</span> │\n",
       "├─────────────────────────────────┼────────────────────────┼───────────────┤\n",
       "│ dropout_8 (<span style=\"color: #0087ff; text-decoration-color: #0087ff\">Dropout</span>)             │ (<span style=\"color: #00d7ff; text-decoration-color: #00d7ff\">None</span>, <span style=\"color: #00af00; text-decoration-color: #00af00\">98</span>, <span style=\"color: #00af00; text-decoration-color: #00af00\">64</span>)         │             <span style=\"color: #00af00; text-decoration-color: #00af00\">0</span> │\n",
       "├─────────────────────────────────┼────────────────────────┼───────────────┤\n",
       "│ conv1d_18 (<span style=\"color: #0087ff; text-decoration-color: #0087ff\">Conv1D</span>)              │ (<span style=\"color: #00d7ff; text-decoration-color: #00d7ff\">None</span>, <span style=\"color: #00af00; text-decoration-color: #00af00\">96</span>, <span style=\"color: #00af00; text-decoration-color: #00af00\">128</span>)        │        <span style=\"color: #00af00; text-decoration-color: #00af00\">24,704</span> │\n",
       "├─────────────────────────────────┼────────────────────────┼───────────────┤\n",
       "│ max_pooling1d_17 (<span style=\"color: #0087ff; text-decoration-color: #0087ff\">MaxPooling1D</span>) │ (<span style=\"color: #00d7ff; text-decoration-color: #00d7ff\">None</span>, <span style=\"color: #00af00; text-decoration-color: #00af00\">48</span>, <span style=\"color: #00af00; text-decoration-color: #00af00\">128</span>)        │             <span style=\"color: #00af00; text-decoration-color: #00af00\">0</span> │\n",
       "├─────────────────────────────────┼────────────────────────┼───────────────┤\n",
       "│ dropout_9 (<span style=\"color: #0087ff; text-decoration-color: #0087ff\">Dropout</span>)             │ (<span style=\"color: #00d7ff; text-decoration-color: #00d7ff\">None</span>, <span style=\"color: #00af00; text-decoration-color: #00af00\">48</span>, <span style=\"color: #00af00; text-decoration-color: #00af00\">128</span>)        │             <span style=\"color: #00af00; text-decoration-color: #00af00\">0</span> │\n",
       "├─────────────────────────────────┼────────────────────────┼───────────────┤\n",
       "│ conv1d_19 (<span style=\"color: #0087ff; text-decoration-color: #0087ff\">Conv1D</span>)              │ (<span style=\"color: #00d7ff; text-decoration-color: #00d7ff\">None</span>, <span style=\"color: #00af00; text-decoration-color: #00af00\">46</span>, <span style=\"color: #00af00; text-decoration-color: #00af00\">64</span>)         │        <span style=\"color: #00af00; text-decoration-color: #00af00\">24,640</span> │\n",
       "├─────────────────────────────────┼────────────────────────┼───────────────┤\n",
       "│ max_pooling1d_18 (<span style=\"color: #0087ff; text-decoration-color: #0087ff\">MaxPooling1D</span>) │ (<span style=\"color: #00d7ff; text-decoration-color: #00d7ff\">None</span>, <span style=\"color: #00af00; text-decoration-color: #00af00\">23</span>, <span style=\"color: #00af00; text-decoration-color: #00af00\">64</span>)         │             <span style=\"color: #00af00; text-decoration-color: #00af00\">0</span> │\n",
       "├─────────────────────────────────┼────────────────────────┼───────────────┤\n",
       "│ dropout_10 (<span style=\"color: #0087ff; text-decoration-color: #0087ff\">Dropout</span>)            │ (<span style=\"color: #00d7ff; text-decoration-color: #00d7ff\">None</span>, <span style=\"color: #00af00; text-decoration-color: #00af00\">23</span>, <span style=\"color: #00af00; text-decoration-color: #00af00\">64</span>)         │             <span style=\"color: #00af00; text-decoration-color: #00af00\">0</span> │\n",
       "├─────────────────────────────────┼────────────────────────┼───────────────┤\n",
       "│ lstm_2 (<span style=\"color: #0087ff; text-decoration-color: #0087ff\">LSTM</span>)                   │ (<span style=\"color: #00d7ff; text-decoration-color: #00d7ff\">None</span>, <span style=\"color: #00af00; text-decoration-color: #00af00\">64</span>)             │        <span style=\"color: #00af00; text-decoration-color: #00af00\">33,024</span> │\n",
       "├─────────────────────────────────┼────────────────────────┼───────────────┤\n",
       "│ dense_7 (<span style=\"color: #0087ff; text-decoration-color: #0087ff\">Dense</span>)                 │ (<span style=\"color: #00d7ff; text-decoration-color: #00d7ff\">None</span>, <span style=\"color: #00af00; text-decoration-color: #00af00\">5</span>)              │           <span style=\"color: #00af00; text-decoration-color: #00af00\">325</span> │\n",
       "└─────────────────────────────────┴────────────────────────┴───────────────┘\n",
       "</pre>\n"
      ],
      "text/plain": [
       "┏━━━━━━━━━━━━━━━━━━━━━━━━━━━━━━━━━┳━━━━━━━━━━━━━━━━━━━━━━━━┳━━━━━━━━━━━━━━━┓\n",
       "┃\u001b[1m \u001b[0m\u001b[1mLayer (type)                   \u001b[0m\u001b[1m \u001b[0m┃\u001b[1m \u001b[0m\u001b[1mOutput Shape          \u001b[0m\u001b[1m \u001b[0m┃\u001b[1m \u001b[0m\u001b[1m      Param #\u001b[0m\u001b[1m \u001b[0m┃\n",
       "┡━━━━━━━━━━━━━━━━━━━━━━━━━━━━━━━━━╇━━━━━━━━━━━━━━━━━━━━━━━━╇━━━━━━━━━━━━━━━┩\n",
       "│ conv1d_16 (\u001b[38;5;33mConv1D\u001b[0m)              │ (\u001b[38;5;45mNone\u001b[0m, \u001b[38;5;34m398\u001b[0m, \u001b[38;5;34m32\u001b[0m)        │           \u001b[38;5;34m800\u001b[0m │\n",
       "├─────────────────────────────────┼────────────────────────┼───────────────┤\n",
       "│ max_pooling1d_15 (\u001b[38;5;33mMaxPooling1D\u001b[0m) │ (\u001b[38;5;45mNone\u001b[0m, \u001b[38;5;34m199\u001b[0m, \u001b[38;5;34m32\u001b[0m)        │             \u001b[38;5;34m0\u001b[0m │\n",
       "├─────────────────────────────────┼────────────────────────┼───────────────┤\n",
       "│ dropout_7 (\u001b[38;5;33mDropout\u001b[0m)             │ (\u001b[38;5;45mNone\u001b[0m, \u001b[38;5;34m199\u001b[0m, \u001b[38;5;34m32\u001b[0m)        │             \u001b[38;5;34m0\u001b[0m │\n",
       "├─────────────────────────────────┼────────────────────────┼───────────────┤\n",
       "│ conv1d_17 (\u001b[38;5;33mConv1D\u001b[0m)              │ (\u001b[38;5;45mNone\u001b[0m, \u001b[38;5;34m197\u001b[0m, \u001b[38;5;34m64\u001b[0m)        │         \u001b[38;5;34m6,208\u001b[0m │\n",
       "├─────────────────────────────────┼────────────────────────┼───────────────┤\n",
       "│ max_pooling1d_16 (\u001b[38;5;33mMaxPooling1D\u001b[0m) │ (\u001b[38;5;45mNone\u001b[0m, \u001b[38;5;34m98\u001b[0m, \u001b[38;5;34m64\u001b[0m)         │             \u001b[38;5;34m0\u001b[0m │\n",
       "├─────────────────────────────────┼────────────────────────┼───────────────┤\n",
       "│ dropout_8 (\u001b[38;5;33mDropout\u001b[0m)             │ (\u001b[38;5;45mNone\u001b[0m, \u001b[38;5;34m98\u001b[0m, \u001b[38;5;34m64\u001b[0m)         │             \u001b[38;5;34m0\u001b[0m │\n",
       "├─────────────────────────────────┼────────────────────────┼───────────────┤\n",
       "│ conv1d_18 (\u001b[38;5;33mConv1D\u001b[0m)              │ (\u001b[38;5;45mNone\u001b[0m, \u001b[38;5;34m96\u001b[0m, \u001b[38;5;34m128\u001b[0m)        │        \u001b[38;5;34m24,704\u001b[0m │\n",
       "├─────────────────────────────────┼────────────────────────┼───────────────┤\n",
       "│ max_pooling1d_17 (\u001b[38;5;33mMaxPooling1D\u001b[0m) │ (\u001b[38;5;45mNone\u001b[0m, \u001b[38;5;34m48\u001b[0m, \u001b[38;5;34m128\u001b[0m)        │             \u001b[38;5;34m0\u001b[0m │\n",
       "├─────────────────────────────────┼────────────────────────┼───────────────┤\n",
       "│ dropout_9 (\u001b[38;5;33mDropout\u001b[0m)             │ (\u001b[38;5;45mNone\u001b[0m, \u001b[38;5;34m48\u001b[0m, \u001b[38;5;34m128\u001b[0m)        │             \u001b[38;5;34m0\u001b[0m │\n",
       "├─────────────────────────────────┼────────────────────────┼───────────────┤\n",
       "│ conv1d_19 (\u001b[38;5;33mConv1D\u001b[0m)              │ (\u001b[38;5;45mNone\u001b[0m, \u001b[38;5;34m46\u001b[0m, \u001b[38;5;34m64\u001b[0m)         │        \u001b[38;5;34m24,640\u001b[0m │\n",
       "├─────────────────────────────────┼────────────────────────┼───────────────┤\n",
       "│ max_pooling1d_18 (\u001b[38;5;33mMaxPooling1D\u001b[0m) │ (\u001b[38;5;45mNone\u001b[0m, \u001b[38;5;34m23\u001b[0m, \u001b[38;5;34m64\u001b[0m)         │             \u001b[38;5;34m0\u001b[0m │\n",
       "├─────────────────────────────────┼────────────────────────┼───────────────┤\n",
       "│ dropout_10 (\u001b[38;5;33mDropout\u001b[0m)            │ (\u001b[38;5;45mNone\u001b[0m, \u001b[38;5;34m23\u001b[0m, \u001b[38;5;34m64\u001b[0m)         │             \u001b[38;5;34m0\u001b[0m │\n",
       "├─────────────────────────────────┼────────────────────────┼───────────────┤\n",
       "│ lstm_2 (\u001b[38;5;33mLSTM\u001b[0m)                   │ (\u001b[38;5;45mNone\u001b[0m, \u001b[38;5;34m64\u001b[0m)             │        \u001b[38;5;34m33,024\u001b[0m │\n",
       "├─────────────────────────────────┼────────────────────────┼───────────────┤\n",
       "│ dense_7 (\u001b[38;5;33mDense\u001b[0m)                 │ (\u001b[38;5;45mNone\u001b[0m, \u001b[38;5;34m5\u001b[0m)              │           \u001b[38;5;34m325\u001b[0m │\n",
       "└─────────────────────────────────┴────────────────────────┴───────────────┘\n"
      ]
     },
     "metadata": {},
     "output_type": "display_data"
    },
    {
     "data": {
      "text/html": [
       "<pre style=\"white-space:pre;overflow-x:auto;line-height:normal;font-family:Menlo,'DejaVu Sans Mono',consolas,'Courier New',monospace\"><span style=\"font-weight: bold\"> Total params: </span><span style=\"color: #00af00; text-decoration-color: #00af00\">89,701</span> (350.39 KB)\n",
       "</pre>\n"
      ],
      "text/plain": [
       "\u001b[1m Total params: \u001b[0m\u001b[38;5;34m89,701\u001b[0m (350.39 KB)\n"
      ]
     },
     "metadata": {},
     "output_type": "display_data"
    },
    {
     "data": {
      "text/html": [
       "<pre style=\"white-space:pre;overflow-x:auto;line-height:normal;font-family:Menlo,'DejaVu Sans Mono',consolas,'Courier New',monospace\"><span style=\"font-weight: bold\"> Trainable params: </span><span style=\"color: #00af00; text-decoration-color: #00af00\">89,701</span> (350.39 KB)\n",
       "</pre>\n"
      ],
      "text/plain": [
       "\u001b[1m Trainable params: \u001b[0m\u001b[38;5;34m89,701\u001b[0m (350.39 KB)\n"
      ]
     },
     "metadata": {},
     "output_type": "display_data"
    },
    {
     "data": {
      "text/html": [
       "<pre style=\"white-space:pre;overflow-x:auto;line-height:normal;font-family:Menlo,'DejaVu Sans Mono',consolas,'Courier New',monospace\"><span style=\"font-weight: bold\"> Non-trainable params: </span><span style=\"color: #00af00; text-decoration-color: #00af00\">0</span> (0.00 B)\n",
       "</pre>\n"
      ],
      "text/plain": [
       "\u001b[1m Non-trainable params: \u001b[0m\u001b[38;5;34m0\u001b[0m (0.00 B)\n"
      ]
     },
     "metadata": {},
     "output_type": "display_data"
    }
   ],
   "source": [
    "# -----------------------------\n",
    "# 1. แปลง label เป็นตัวเลข + one-hot\n",
    "# -----------------------------\n",
    "encoder = LabelEncoder()\n",
    "y_train_enc = encoder.fit_transform(y_train)\n",
    "y_val_enc   = encoder.transform(y_val)\n",
    "y_test_enc  = encoder.transform(y_test)\n",
    "\n",
    "num_classes = len(np.unique(y_train_enc))\n",
    "\n",
    "y_train_cat = to_categorical(y_train_enc, num_classes=num_classes)\n",
    "y_val_cat   = to_categorical(y_val_enc, num_classes=num_classes)\n",
    "y_test_cat  = to_categorical(y_test_enc, num_classes=num_classes)\n",
    "\n",
    "# -----------------------------\n",
    "# 2. แปลง X ให้เป็น float32\n",
    "# -----------------------------\n",
    "X_train = np.array(X_train, dtype=np.float32)\n",
    "X_val   = np.array(X_val, dtype=np.float32)\n",
    "X_test  = np.array(X_test, dtype=np.float32)\n",
    "\n",
    "if X_train.ndim == 2:  # reshape ให้เป็น (samples, timesteps, features)\n",
    "    X_train = X_train[..., np.newaxis]\n",
    "    X_val   = X_val[..., np.newaxis]\n",
    "    X_test  = X_test[..., np.newaxis]\n",
    "\n",
    "print(\"X_train shape:\", X_train.shape)\n",
    "print(\"y_train shape:\", y_train_cat.shape)\n",
    "\n",
    "# -----------------------------\n",
    "# 3. สร้าง LSTM model\n",
    "# -----------------------------\n",
    "\n",
    "model1 = Sequential()\n",
    "\n",
    "# 1D CNN layer\n",
    "\n",
    "model1.add(Conv1D(filters=32, kernel_size=3, activation='relu',\n",
    "                  input_shape=(X_train.shape[1], X_train.shape[2])))\n",
    "model1.add(MaxPooling1D(pool_size=2))\n",
    "model1.add(Dropout(0.1))\n",
    "\n",
    "model1.add(Conv1D(filters=64, kernel_size=3, activation='relu',\n",
    "                  input_shape=(X_train.shape[1], X_train.shape[2])))\n",
    "model1.add(MaxPooling1D(pool_size=2))\n",
    "model1.add(Dropout(0.1))\n",
    "\n",
    "model1.add(Conv1D(filters=128, kernel_size=3, activation='relu',\n",
    "                  input_shape=(X_train.shape[1], X_train.shape[2])))\n",
    "model1.add(MaxPooling1D(pool_size=2))\n",
    "model1.add(Dropout(0.1))\n",
    "\n",
    "model1.add(Conv1D(filters=64, kernel_size=3, activation='relu',\n",
    "                  input_shape=(X_train.shape[1], X_train.shape[2])))\n",
    "model1.add(MaxPooling1D(pool_size=2))\n",
    "model1.add(Dropout(0.1))\n",
    "\n",
    "\n",
    "# LSTM layer\n",
    "model1.add(LSTM(64, return_sequences=False))  # return_sequences=False เพราะต่อ Dense\n",
    "\n",
    "# Output layer\n",
    "model1.add(Dense(num_classes, activation='softmax'))\n",
    "\n",
    "# Compile\n",
    "model1.compile(optimizer='adam',\n",
    "               loss='categorical_crossentropy',\n",
    "               metrics=['accuracy'])\n",
    "\n",
    "model1.summary()"
   ]
  },
  {
   "cell_type": "code",
   "execution_count": 53,
   "id": "10d641e4",
   "metadata": {},
   "outputs": [
    {
     "name": "stdout",
     "output_type": "stream",
     "text": [
      "Epoch 1/100\n",
      "\u001b[1m719/719\u001b[0m \u001b[32m━━━━━━━━━━━━━━━━━━━━\u001b[0m\u001b[37m\u001b[0m \u001b[1m10s\u001b[0m 12ms/step - accuracy: 0.5801 - loss: 1.3363 - val_accuracy: 0.0000e+00 - val_loss: 2.5991\n",
      "Epoch 2/100\n",
      "\u001b[1m719/719\u001b[0m \u001b[32m━━━━━━━━━━━━━━━━━━━━\u001b[0m\u001b[37m\u001b[0m \u001b[1m8s\u001b[0m 11ms/step - accuracy: 0.5692 - loss: 1.3090 - val_accuracy: 0.0000e+00 - val_loss: 1.8283\n",
      "Epoch 3/100\n",
      "\u001b[1m719/719\u001b[0m \u001b[32m━━━━━━━━━━━━━━━━━━━━\u001b[0m\u001b[37m\u001b[0m \u001b[1m8s\u001b[0m 11ms/step - accuracy: 0.5519 - loss: 1.3402 - val_accuracy: 0.0000e+00 - val_loss: 1.6968\n",
      "Epoch 4/100\n",
      "\u001b[1m719/719\u001b[0m \u001b[32m━━━━━━━━━━━━━━━━━━━━\u001b[0m\u001b[37m\u001b[0m \u001b[1m8s\u001b[0m 11ms/step - accuracy: 0.5403 - loss: 1.2900 - val_accuracy: 0.0116 - val_loss: 1.8017\n",
      "Epoch 5/100\n",
      "\u001b[1m719/719\u001b[0m \u001b[32m━━━━━━━━━━━━━━━━━━━━\u001b[0m\u001b[37m\u001b[0m \u001b[1m8s\u001b[0m 11ms/step - accuracy: 0.6117 - loss: 1.2237 - val_accuracy: 0.8952 - val_loss: 1.3344\n",
      "Epoch 6/100\n",
      "\u001b[1m719/719\u001b[0m \u001b[32m━━━━━━━━━━━━━━━━━━━━\u001b[0m\u001b[37m\u001b[0m \u001b[1m8s\u001b[0m 11ms/step - accuracy: 0.5913 - loss: 1.2529 - val_accuracy: 0.0000e+00 - val_loss: 1.8345\n",
      "Epoch 7/100\n",
      "\u001b[1m719/719\u001b[0m \u001b[32m━━━━━━━━━━━━━━━━━━━━\u001b[0m\u001b[37m\u001b[0m \u001b[1m8s\u001b[0m 11ms/step - accuracy: 0.5809 - loss: 1.2530 - val_accuracy: 0.0000e+00 - val_loss: 1.3816\n",
      "Epoch 8/100\n",
      "\u001b[1m719/719\u001b[0m \u001b[32m━━━━━━━━━━━━━━━━━━━━\u001b[0m\u001b[37m\u001b[0m \u001b[1m8s\u001b[0m 11ms/step - accuracy: 0.5677 - loss: 1.2914 - val_accuracy: 0.0000e+00 - val_loss: 2.1715\n",
      "Epoch 9/100\n",
      "\u001b[1m719/719\u001b[0m \u001b[32m━━━━━━━━━━━━━━━━━━━━\u001b[0m\u001b[37m\u001b[0m \u001b[1m8s\u001b[0m 11ms/step - accuracy: 0.5551 - loss: 1.3065 - val_accuracy: 0.0000e+00 - val_loss: 1.3633\n",
      "Epoch 10/100\n",
      "\u001b[1m719/719\u001b[0m \u001b[32m━━━━━━━━━━━━━━━━━━━━\u001b[0m\u001b[37m\u001b[0m \u001b[1m8s\u001b[0m 12ms/step - accuracy: 0.5622 - loss: 1.2717 - val_accuracy: 0.0000e+00 - val_loss: 1.7262\n",
      "Epoch 11/100\n",
      "\u001b[1m719/719\u001b[0m \u001b[32m━━━━━━━━━━━━━━━━━━━━\u001b[0m\u001b[37m\u001b[0m \u001b[1m8s\u001b[0m 11ms/step - accuracy: 0.5299 - loss: 1.2955 - val_accuracy: 0.0000e+00 - val_loss: 1.5821\n",
      "Epoch 12/100\n",
      "\u001b[1m719/719\u001b[0m \u001b[32m━━━━━━━━━━━━━━━━━━━━\u001b[0m\u001b[37m\u001b[0m \u001b[1m8s\u001b[0m 11ms/step - accuracy: 0.5656 - loss: 1.2890 - val_accuracy: 0.0000e+00 - val_loss: 1.9833\n",
      "Epoch 13/100\n",
      "\u001b[1m719/719\u001b[0m \u001b[32m━━━━━━━━━━━━━━━━━━━━\u001b[0m\u001b[37m\u001b[0m \u001b[1m8s\u001b[0m 11ms/step - accuracy: 0.5538 - loss: 1.2778 - val_accuracy: 0.0000e+00 - val_loss: 1.6798\n",
      "Epoch 14/100\n",
      "\u001b[1m719/719\u001b[0m \u001b[32m━━━━━━━━━━━━━━━━━━━━\u001b[0m\u001b[37m\u001b[0m \u001b[1m8s\u001b[0m 11ms/step - accuracy: 0.5739 - loss: 1.2688 - val_accuracy: 0.0000e+00 - val_loss: 2.0498\n",
      "Epoch 15/100\n",
      "\u001b[1m719/719\u001b[0m \u001b[32m━━━━━━━━━━━━━━━━━━━━\u001b[0m\u001b[37m\u001b[0m \u001b[1m8s\u001b[0m 11ms/step - accuracy: 0.5607 - loss: 1.2934 - val_accuracy: 0.0000e+00 - val_loss: 1.7630\n",
      "Epoch 16/100\n",
      "\u001b[1m719/719\u001b[0m \u001b[32m━━━━━━━━━━━━━━━━━━━━\u001b[0m\u001b[37m\u001b[0m \u001b[1m8s\u001b[0m 11ms/step - accuracy: 0.5451 - loss: 1.2952 - val_accuracy: 0.0000e+00 - val_loss: 1.6916\n",
      "Epoch 17/100\n",
      "\u001b[1m719/719\u001b[0m \u001b[32m━━━━━━━━━━━━━━━━━━━━\u001b[0m\u001b[37m\u001b[0m \u001b[1m8s\u001b[0m 11ms/step - accuracy: 0.5462 - loss: 1.3026 - val_accuracy: 0.0000e+00 - val_loss: 1.6636\n",
      "Epoch 18/100\n",
      "\u001b[1m719/719\u001b[0m \u001b[32m━━━━━━━━━━━━━━━━━━━━\u001b[0m\u001b[37m\u001b[0m \u001b[1m8s\u001b[0m 11ms/step - accuracy: 0.5413 - loss: 1.3022 - val_accuracy: 0.0000e+00 - val_loss: 1.6258\n",
      "Epoch 19/100\n",
      "\u001b[1m719/719\u001b[0m \u001b[32m━━━━━━━━━━━━━━━━━━━━\u001b[0m\u001b[37m\u001b[0m \u001b[1m8s\u001b[0m 11ms/step - accuracy: 0.5588 - loss: 1.3012 - val_accuracy: 0.0000e+00 - val_loss: 1.9520\n",
      "Epoch 20/100\n",
      "\u001b[1m719/719\u001b[0m \u001b[32m━━━━━━━━━━━━━━━━━━━━\u001b[0m\u001b[37m\u001b[0m \u001b[1m8s\u001b[0m 11ms/step - accuracy: 0.5652 - loss: 1.3235 - val_accuracy: 0.0000e+00 - val_loss: 2.0850\n",
      "Epoch 21/100\n",
      "\u001b[1m719/719\u001b[0m \u001b[32m━━━━━━━━━━━━━━━━━━━━\u001b[0m\u001b[37m\u001b[0m \u001b[1m8s\u001b[0m 12ms/step - accuracy: 0.5783 - loss: 1.2832 - val_accuracy: 0.0000e+00 - val_loss: 1.7739\n",
      "Epoch 22/100\n",
      "\u001b[1m719/719\u001b[0m \u001b[32m━━━━━━━━━━━━━━━━━━━━\u001b[0m\u001b[37m\u001b[0m \u001b[1m8s\u001b[0m 11ms/step - accuracy: 0.5590 - loss: 1.2817 - val_accuracy: 0.0000e+00 - val_loss: 1.7546\n",
      "Epoch 23/100\n",
      "\u001b[1m719/719\u001b[0m \u001b[32m━━━━━━━━━━━━━━━━━━━━\u001b[0m\u001b[37m\u001b[0m \u001b[1m8s\u001b[0m 11ms/step - accuracy: 0.5565 - loss: 1.2904 - val_accuracy: 0.0000e+00 - val_loss: 1.7070\n",
      "Epoch 24/100\n",
      "\u001b[1m719/719\u001b[0m \u001b[32m━━━━━━━━━━━━━━━━━━━━\u001b[0m\u001b[37m\u001b[0m \u001b[1m8s\u001b[0m 11ms/step - accuracy: 0.5516 - loss: 1.2926 - val_accuracy: 0.0000e+00 - val_loss: 1.6903\n",
      "Epoch 25/100\n",
      "\u001b[1m719/719\u001b[0m \u001b[32m━━━━━━━━━━━━━━━━━━━━\u001b[0m\u001b[37m\u001b[0m \u001b[1m8s\u001b[0m 11ms/step - accuracy: 0.5524 - loss: 1.2813 - val_accuracy: 0.0000e+00 - val_loss: 1.6955\n",
      "Epoch 26/100\n",
      "\u001b[1m719/719\u001b[0m \u001b[32m━━━━━━━━━━━━━━━━━━━━\u001b[0m\u001b[37m\u001b[0m \u001b[1m8s\u001b[0m 11ms/step - accuracy: 0.5525 - loss: 1.2893 - val_accuracy: 0.0000e+00 - val_loss: 1.6946\n",
      "Epoch 27/100\n",
      "\u001b[1m719/719\u001b[0m \u001b[32m━━━━━━━━━━━━━━━━━━━━\u001b[0m\u001b[37m\u001b[0m \u001b[1m8s\u001b[0m 12ms/step - accuracy: 0.5491 - loss: 1.3182 - val_accuracy: 0.0000e+00 - val_loss: 1.6123\n",
      "Epoch 28/100\n",
      "\u001b[1m719/719\u001b[0m \u001b[32m━━━━━━━━━━━━━━━━━━━━\u001b[0m\u001b[37m\u001b[0m \u001b[1m8s\u001b[0m 11ms/step - accuracy: 0.5375 - loss: 1.3031 - val_accuracy: 0.0000e+00 - val_loss: 1.6238\n",
      "Epoch 29/100\n",
      "\u001b[1m719/719\u001b[0m \u001b[32m━━━━━━━━━━━━━━━━━━━━\u001b[0m\u001b[37m\u001b[0m \u001b[1m8s\u001b[0m 11ms/step - accuracy: 0.5375 - loss: 1.3046 - val_accuracy: 0.0000e+00 - val_loss: 1.6420\n",
      "Epoch 30/100\n",
      "\u001b[1m719/719\u001b[0m \u001b[32m━━━━━━━━━━━━━━━━━━━━\u001b[0m\u001b[37m\u001b[0m \u001b[1m8s\u001b[0m 11ms/step - accuracy: 0.5326 - loss: 1.3092 - val_accuracy: 0.0000e+00 - val_loss: 1.6097\n",
      "Epoch 31/100\n",
      "\u001b[1m719/719\u001b[0m \u001b[32m━━━━━━━━━━━━━━━━━━━━\u001b[0m\u001b[37m\u001b[0m \u001b[1m8s\u001b[0m 11ms/step - accuracy: 0.5301 - loss: 1.3108 - val_accuracy: 0.0000e+00 - val_loss: 1.6046\n",
      "Epoch 32/100\n",
      "\u001b[1m719/719\u001b[0m \u001b[32m━━━━━━━━━━━━━━━━━━━━\u001b[0m\u001b[37m\u001b[0m \u001b[1m8s\u001b[0m 11ms/step - accuracy: 0.5290 - loss: 1.3105 - val_accuracy: 0.0000e+00 - val_loss: 1.6088\n",
      "Epoch 33/100\n",
      "\u001b[1m719/719\u001b[0m \u001b[32m━━━━━━━━━━━━━━━━━━━━\u001b[0m\u001b[37m\u001b[0m \u001b[1m8s\u001b[0m 11ms/step - accuracy: 0.5337 - loss: 1.2875 - val_accuracy: 0.0000e+00 - val_loss: 1.6155\n",
      "Epoch 34/100\n",
      "\u001b[1m719/719\u001b[0m \u001b[32m━━━━━━━━━━━━━━━━━━━━\u001b[0m\u001b[37m\u001b[0m \u001b[1m8s\u001b[0m 11ms/step - accuracy: 0.5205 - loss: 1.3360 - val_accuracy: 0.0000e+00 - val_loss: 1.6350\n",
      "Epoch 35/100\n",
      "\u001b[1m719/719\u001b[0m \u001b[32m━━━━━━━━━━━━━━━━━━━━\u001b[0m\u001b[37m\u001b[0m \u001b[1m8s\u001b[0m 11ms/step - accuracy: 0.5349 - loss: 1.3100 - val_accuracy: 0.0000e+00 - val_loss: 1.6153\n",
      "Epoch 36/100\n",
      "\u001b[1m719/719\u001b[0m \u001b[32m━━━━━━━━━━━━━━━━━━━━\u001b[0m\u001b[37m\u001b[0m \u001b[1m8s\u001b[0m 11ms/step - accuracy: 0.5273 - loss: 1.3452 - val_accuracy: 0.0000e+00 - val_loss: 1.6849\n",
      "Epoch 37/100\n",
      "\u001b[1m719/719\u001b[0m \u001b[32m━━━━━━━━━━━━━━━━━━━━\u001b[0m\u001b[37m\u001b[0m \u001b[1m8s\u001b[0m 11ms/step - accuracy: 0.5344 - loss: 1.3177 - val_accuracy: 0.0000e+00 - val_loss: 1.6713\n",
      "Epoch 38/100\n",
      "\u001b[1m719/719\u001b[0m \u001b[32m━━━━━━━━━━━━━━━━━━━━\u001b[0m\u001b[37m\u001b[0m \u001b[1m8s\u001b[0m 11ms/step - accuracy: 0.5261 - loss: 1.3050 - val_accuracy: 0.0000e+00 - val_loss: 1.5812\n",
      "Epoch 39/100\n",
      "\u001b[1m719/719\u001b[0m \u001b[32m━━━━━━━━━━━━━━━━━━━━\u001b[0m\u001b[37m\u001b[0m \u001b[1m8s\u001b[0m 11ms/step - accuracy: 0.5211 - loss: 1.3155 - val_accuracy: 0.0000e+00 - val_loss: 1.5840\n",
      "Epoch 40/100\n",
      "\u001b[1m719/719\u001b[0m \u001b[32m━━━━━━━━━━━━━━━━━━━━\u001b[0m\u001b[37m\u001b[0m \u001b[1m8s\u001b[0m 11ms/step - accuracy: 0.5196 - loss: 1.3153 - val_accuracy: 0.0000e+00 - val_loss: 1.5767\n",
      "Epoch 41/100\n",
      "\u001b[1m719/719\u001b[0m \u001b[32m━━━━━━━━━━━━━━━━━━━━\u001b[0m\u001b[37m\u001b[0m \u001b[1m8s\u001b[0m 11ms/step - accuracy: 0.5230 - loss: 1.3174 - val_accuracy: 0.0000e+00 - val_loss: 1.5596\n",
      "Epoch 42/100\n",
      "\u001b[1m719/719\u001b[0m \u001b[32m━━━━━━━━━━━━━━━━━━━━\u001b[0m\u001b[37m\u001b[0m \u001b[1m8s\u001b[0m 11ms/step - accuracy: 0.5151 - loss: 1.3352 - val_accuracy: 0.0000e+00 - val_loss: 1.5841\n",
      "Epoch 43/100\n",
      "\u001b[1m719/719\u001b[0m \u001b[32m━━━━━━━━━━━━━━━━━━━━\u001b[0m\u001b[37m\u001b[0m \u001b[1m10s\u001b[0m 11ms/step - accuracy: 0.5350 - loss: 1.3284 - val_accuracy: 0.0000e+00 - val_loss: 1.6474\n",
      "Epoch 44/100\n",
      "\u001b[1m719/719\u001b[0m \u001b[32m━━━━━━━━━━━━━━━━━━━━\u001b[0m\u001b[37m\u001b[0m \u001b[1m8s\u001b[0m 11ms/step - accuracy: 0.5389 - loss: 1.3070 - val_accuracy: 0.0000e+00 - val_loss: 1.6220\n",
      "Epoch 45/100\n",
      "\u001b[1m719/719\u001b[0m \u001b[32m━━━━━━━━━━━━━━━━━━━━\u001b[0m\u001b[37m\u001b[0m \u001b[1m8s\u001b[0m 11ms/step - accuracy: 0.5323 - loss: 1.3088 - val_accuracy: 0.0000e+00 - val_loss: 1.6183\n",
      "Epoch 46/100\n",
      "\u001b[1m719/719\u001b[0m \u001b[32m━━━━━━━━━━━━━━━━━━━━\u001b[0m\u001b[37m\u001b[0m \u001b[1m8s\u001b[0m 11ms/step - accuracy: 0.5296 - loss: 1.3090 - val_accuracy: 0.0000e+00 - val_loss: 1.6162\n",
      "Epoch 47/100\n",
      "\u001b[1m719/719\u001b[0m \u001b[32m━━━━━━━━━━━━━━━━━━━━\u001b[0m\u001b[37m\u001b[0m \u001b[1m8s\u001b[0m 11ms/step - accuracy: 0.5282 - loss: 1.3118 - val_accuracy: 0.0000e+00 - val_loss: 1.6055\n",
      "Epoch 48/100\n",
      "\u001b[1m719/719\u001b[0m \u001b[32m━━━━━━━━━━━━━━━━━━━━\u001b[0m\u001b[37m\u001b[0m \u001b[1m8s\u001b[0m 11ms/step - accuracy: 0.5281 - loss: 1.3109 - val_accuracy: 0.0000e+00 - val_loss: 1.6074\n",
      "Epoch 49/100\n",
      "\u001b[1m719/719\u001b[0m \u001b[32m━━━━━━━━━━━━━━━━━━━━\u001b[0m\u001b[37m\u001b[0m \u001b[1m9s\u001b[0m 13ms/step - accuracy: 0.5283 - loss: 1.3108 - val_accuracy: 0.0000e+00 - val_loss: 1.6078\n",
      "Epoch 50/100\n",
      "\u001b[1m719/719\u001b[0m \u001b[32m━━━━━━━━━━━━━━━━━━━━\u001b[0m\u001b[37m\u001b[0m \u001b[1m11s\u001b[0m 15ms/step - accuracy: 0.5281 - loss: 1.3107 - val_accuracy: 0.0000e+00 - val_loss: 1.6083\n",
      "Epoch 51/100\n",
      "\u001b[1m719/719\u001b[0m \u001b[32m━━━━━━━━━━━━━━━━━━━━\u001b[0m\u001b[37m\u001b[0m \u001b[1m11s\u001b[0m 15ms/step - accuracy: 0.5281 - loss: 1.3108 - val_accuracy: 0.0000e+00 - val_loss: 1.6088\n",
      "Epoch 52/100\n",
      "\u001b[1m719/719\u001b[0m \u001b[32m━━━━━━━━━━━━━━━━━━━━\u001b[0m\u001b[37m\u001b[0m \u001b[1m10s\u001b[0m 14ms/step - accuracy: 0.5334 - loss: 1.3129 - val_accuracy: 0.0000e+00 - val_loss: 1.6591\n",
      "Epoch 53/100\n",
      "\u001b[1m719/719\u001b[0m \u001b[32m━━━━━━━━━━━━━━━━━━━━\u001b[0m\u001b[37m\u001b[0m \u001b[1m8s\u001b[0m 11ms/step - accuracy: 0.5474 - loss: 1.3273 - val_accuracy: 0.0000e+00 - val_loss: 1.6867\n",
      "Epoch 54/100\n",
      "\u001b[1m719/719\u001b[0m \u001b[32m━━━━━━━━━━━━━━━━━━━━\u001b[0m\u001b[37m\u001b[0m \u001b[1m8s\u001b[0m 12ms/step - accuracy: 0.5572 - loss: 1.2930 - val_accuracy: 0.0000e+00 - val_loss: 1.7104\n",
      "Epoch 55/100\n",
      "\u001b[1m719/719\u001b[0m \u001b[32m━━━━━━━━━━━━━━━━━━━━\u001b[0m\u001b[37m\u001b[0m \u001b[1m8s\u001b[0m 11ms/step - accuracy: 0.5517 - loss: 1.2912 - val_accuracy: 0.0000e+00 - val_loss: 1.6925\n",
      "Epoch 56/100\n",
      "\u001b[1m719/719\u001b[0m \u001b[32m━━━━━━━━━━━━━━━━━━━━\u001b[0m\u001b[37m\u001b[0m \u001b[1m8s\u001b[0m 11ms/step - accuracy: 0.5516 - loss: 1.2930 - val_accuracy: 0.0000e+00 - val_loss: 1.6882\n",
      "Epoch 57/100\n",
      "\u001b[1m719/719\u001b[0m \u001b[32m━━━━━━━━━━━━━━━━━━━━\u001b[0m\u001b[37m\u001b[0m \u001b[1m8s\u001b[0m 11ms/step - accuracy: 0.5512 - loss: 1.2926 - val_accuracy: 0.0000e+00 - val_loss: 1.6842\n",
      "Epoch 58/100\n",
      "\u001b[1m719/719\u001b[0m \u001b[32m━━━━━━━━━━━━━━━━━━━━\u001b[0m\u001b[37m\u001b[0m \u001b[1m10s\u001b[0m 14ms/step - accuracy: 0.5518 - loss: 1.2938 - val_accuracy: 0.0000e+00 - val_loss: 1.6845\n",
      "Epoch 59/100\n",
      "\u001b[1m719/719\u001b[0m \u001b[32m━━━━━━━━━━━━━━━━━━━━\u001b[0m\u001b[37m\u001b[0m \u001b[1m10s\u001b[0m 15ms/step - accuracy: 0.5518 - loss: 1.2939 - val_accuracy: 0.0000e+00 - val_loss: 1.6847\n",
      "Epoch 60/100\n",
      "\u001b[1m719/719\u001b[0m \u001b[32m━━━━━━━━━━━━━━━━━━━━\u001b[0m\u001b[37m\u001b[0m \u001b[1m10s\u001b[0m 14ms/step - accuracy: 0.5519 - loss: 1.2939 - val_accuracy: 0.0000e+00 - val_loss: 1.6842\n",
      "Epoch 61/100\n",
      "\u001b[1m719/719\u001b[0m \u001b[32m━━━━━━━━━━━━━━━━━━━━\u001b[0m\u001b[37m\u001b[0m \u001b[1m10s\u001b[0m 14ms/step - accuracy: 0.5518 - loss: 1.2940 - val_accuracy: 0.0000e+00 - val_loss: 1.6842\n",
      "Epoch 62/100\n",
      "\u001b[1m719/719\u001b[0m \u001b[32m━━━━━━━━━━━━━━━━━━━━\u001b[0m\u001b[37m\u001b[0m \u001b[1m10s\u001b[0m 15ms/step - accuracy: 0.5518 - loss: 1.2940 - val_accuracy: 0.0000e+00 - val_loss: 1.6840\n",
      "Epoch 63/100\n",
      "\u001b[1m719/719\u001b[0m \u001b[32m━━━━━━━━━━━━━━━━━━━━\u001b[0m\u001b[37m\u001b[0m \u001b[1m11s\u001b[0m 15ms/step - accuracy: 0.5517 - loss: 1.2939 - val_accuracy: 0.0000e+00 - val_loss: 1.6839\n",
      "Epoch 64/100\n",
      "\u001b[1m719/719\u001b[0m \u001b[32m━━━━━━━━━━━━━━━━━━━━\u001b[0m\u001b[37m\u001b[0m \u001b[1m10s\u001b[0m 14ms/step - accuracy: 0.5517 - loss: 1.2940 - val_accuracy: 0.0000e+00 - val_loss: 1.6839\n",
      "Epoch 65/100\n",
      "\u001b[1m719/719\u001b[0m \u001b[32m━━━━━━━━━━━━━━━━━━━━\u001b[0m\u001b[37m\u001b[0m \u001b[1m10s\u001b[0m 14ms/step - accuracy: 0.5518 - loss: 1.2944 - val_accuracy: 0.0000e+00 - val_loss: 1.6838\n",
      "Epoch 66/100\n",
      "\u001b[1m719/719\u001b[0m \u001b[32m━━━━━━━━━━━━━━━━━━━━\u001b[0m\u001b[37m\u001b[0m \u001b[1m10s\u001b[0m 14ms/step - accuracy: 0.5464 - loss: 1.2942 - val_accuracy: 0.0000e+00 - val_loss: 1.6631\n",
      "Epoch 67/100\n",
      "\u001b[1m719/719\u001b[0m \u001b[32m━━━━━━━━━━━━━━━━━━━━\u001b[0m\u001b[37m\u001b[0m \u001b[1m10s\u001b[0m 14ms/step - accuracy: 0.5462 - loss: 1.2937 - val_accuracy: 0.0000e+00 - val_loss: 1.6686\n",
      "Epoch 68/100\n",
      "\u001b[1m719/719\u001b[0m \u001b[32m━━━━━━━━━━━━━━━━━━━━\u001b[0m\u001b[37m\u001b[0m \u001b[1m11s\u001b[0m 15ms/step - accuracy: 0.5448 - loss: 1.2995 - val_accuracy: 0.0000e+00 - val_loss: 1.6632\n",
      "Epoch 69/100\n",
      "\u001b[1m719/719\u001b[0m \u001b[32m━━━━━━━━━━━━━━━━━━━━\u001b[0m\u001b[37m\u001b[0m \u001b[1m9s\u001b[0m 12ms/step - accuracy: 0.5448 - loss: 1.2989 - val_accuracy: 0.0000e+00 - val_loss: 1.6630\n",
      "Epoch 70/100\n",
      "\u001b[1m719/719\u001b[0m \u001b[32m━━━━━━━━━━━━━━━━━━━━\u001b[0m\u001b[37m\u001b[0m \u001b[1m8s\u001b[0m 11ms/step - accuracy: 0.5449 - loss: 1.2991 - val_accuracy: 0.0000e+00 - val_loss: 1.6632\n",
      "Epoch 71/100\n",
      "\u001b[1m719/719\u001b[0m \u001b[32m━━━━━━━━━━━━━━━━━━━━\u001b[0m\u001b[37m\u001b[0m \u001b[1m8s\u001b[0m 11ms/step - accuracy: 0.5449 - loss: 1.2990 - val_accuracy: 0.0000e+00 - val_loss: 1.6630\n",
      "Epoch 72/100\n",
      "\u001b[1m719/719\u001b[0m \u001b[32m━━━━━━━━━━━━━━━━━━━━\u001b[0m\u001b[37m\u001b[0m \u001b[1m8s\u001b[0m 11ms/step - accuracy: 0.5452 - loss: 1.2967 - val_accuracy: 0.0000e+00 - val_loss: 1.6649\n",
      "Epoch 73/100\n",
      "\u001b[1m719/719\u001b[0m \u001b[32m━━━━━━━━━━━━━━━━━━━━\u001b[0m\u001b[37m\u001b[0m \u001b[1m8s\u001b[0m 11ms/step - accuracy: 0.5448 - loss: 1.2992 - val_accuracy: 0.0000e+00 - val_loss: 1.6637\n",
      "Epoch 74/100\n",
      "\u001b[1m719/719\u001b[0m \u001b[32m━━━━━━━━━━━━━━━━━━━━\u001b[0m\u001b[37m\u001b[0m \u001b[1m8s\u001b[0m 11ms/step - accuracy: 0.5448 - loss: 1.2991 - val_accuracy: 0.0000e+00 - val_loss: 1.6633\n",
      "Epoch 75/100\n",
      "\u001b[1m719/719\u001b[0m \u001b[32m━━━━━━━━━━━━━━━━━━━━\u001b[0m\u001b[37m\u001b[0m \u001b[1m8s\u001b[0m 11ms/step - accuracy: 0.5448 - loss: 1.2992 - val_accuracy: 0.0000e+00 - val_loss: 1.6630\n",
      "Epoch 76/100\n",
      "\u001b[1m719/719\u001b[0m \u001b[32m━━━━━━━━━━━━━━━━━━━━\u001b[0m\u001b[37m\u001b[0m \u001b[1m8s\u001b[0m 11ms/step - accuracy: 0.5518 - loss: 1.2908 - val_accuracy: 0.0000e+00 - val_loss: 1.6834\n",
      "Epoch 77/100\n",
      "\u001b[1m719/719\u001b[0m \u001b[32m━━━━━━━━━━━━━━━━━━━━\u001b[0m\u001b[37m\u001b[0m \u001b[1m8s\u001b[0m 11ms/step - accuracy: 0.5518 - loss: 1.2975 - val_accuracy: 0.0000e+00 - val_loss: 1.6865\n",
      "Epoch 78/100\n",
      "\u001b[1m719/719\u001b[0m \u001b[32m━━━━━━━━━━━━━━━━━━━━\u001b[0m\u001b[37m\u001b[0m \u001b[1m8s\u001b[0m 11ms/step - accuracy: 0.5490 - loss: 1.2946 - val_accuracy: 0.0000e+00 - val_loss: 1.6829\n",
      "Epoch 79/100\n",
      "\u001b[1m719/719\u001b[0m \u001b[32m━━━━━━━━━━━━━━━━━━━━\u001b[0m\u001b[37m\u001b[0m \u001b[1m8s\u001b[0m 11ms/step - accuracy: 0.5490 - loss: 1.2951 - val_accuracy: 0.0000e+00 - val_loss: 1.6812\n",
      "Epoch 80/100\n",
      "\u001b[1m719/719\u001b[0m \u001b[32m━━━━━━━━━━━━━━━━━━━━\u001b[0m\u001b[37m\u001b[0m \u001b[1m8s\u001b[0m 11ms/step - accuracy: 0.5488 - loss: 1.2952 - val_accuracy: 0.0000e+00 - val_loss: 1.6806\n",
      "Epoch 81/100\n",
      "\u001b[1m719/719\u001b[0m \u001b[32m━━━━━━━━━━━━━━━━━━━━\u001b[0m\u001b[37m\u001b[0m \u001b[1m8s\u001b[0m 11ms/step - accuracy: 0.5489 - loss: 1.2952 - val_accuracy: 0.0000e+00 - val_loss: 1.6803\n",
      "Epoch 82/100\n",
      "\u001b[1m719/719\u001b[0m \u001b[32m━━━━━━━━━━━━━━━━━━━━\u001b[0m\u001b[37m\u001b[0m \u001b[1m8s\u001b[0m 11ms/step - accuracy: 0.5491 - loss: 1.2955 - val_accuracy: 0.0000e+00 - val_loss: 1.6823\n",
      "Epoch 83/100\n",
      "\u001b[1m719/719\u001b[0m \u001b[32m━━━━━━━━━━━━━━━━━━━━\u001b[0m\u001b[37m\u001b[0m \u001b[1m8s\u001b[0m 11ms/step - accuracy: 0.5480 - loss: 1.2975 - val_accuracy: 0.0000e+00 - val_loss: 1.7048\n",
      "Epoch 84/100\n",
      "\u001b[1m719/719\u001b[0m \u001b[32m━━━━━━━━━━━━━━━━━━━━\u001b[0m\u001b[37m\u001b[0m \u001b[1m8s\u001b[0m 11ms/step - accuracy: 0.5534 - loss: 1.3107 - val_accuracy: 0.0000e+00 - val_loss: 1.8433\n",
      "Epoch 85/100\n",
      "\u001b[1m719/719\u001b[0m \u001b[32m━━━━━━━━━━━━━━━━━━━━\u001b[0m\u001b[37m\u001b[0m \u001b[1m8s\u001b[0m 11ms/step - accuracy: 0.5357 - loss: 1.3026 - val_accuracy: 0.0000e+00 - val_loss: 1.6598\n",
      "Epoch 86/100\n",
      "\u001b[1m719/719\u001b[0m \u001b[32m━━━━━━━━━━━━━━━━━━━━\u001b[0m\u001b[37m\u001b[0m \u001b[1m8s\u001b[0m 11ms/step - accuracy: 0.5478 - loss: 1.2946 - val_accuracy: 0.0000e+00 - val_loss: 1.6817\n",
      "Epoch 87/100\n",
      "\u001b[1m719/719\u001b[0m \u001b[32m━━━━━━━━━━━━━━━━━━━━\u001b[0m\u001b[37m\u001b[0m \u001b[1m8s\u001b[0m 11ms/step - accuracy: 0.5473 - loss: 1.2975 - val_accuracy: 0.0000e+00 - val_loss: 1.6815\n",
      "Epoch 88/100\n",
      "\u001b[1m719/719\u001b[0m \u001b[32m━━━━━━━━━━━━━━━━━━━━\u001b[0m\u001b[37m\u001b[0m \u001b[1m8s\u001b[0m 11ms/step - accuracy: 0.5472 - loss: 1.2956 - val_accuracy: 0.0000e+00 - val_loss: 1.6772\n",
      "Epoch 89/100\n",
      "\u001b[1m719/719\u001b[0m \u001b[32m━━━━━━━━━━━━━━━━━━━━\u001b[0m\u001b[37m\u001b[0m \u001b[1m8s\u001b[0m 11ms/step - accuracy: 0.5455 - loss: 1.2972 - val_accuracy: 0.0000e+00 - val_loss: 1.6801\n",
      "Epoch 90/100\n",
      "\u001b[1m719/719\u001b[0m \u001b[32m━━━━━━━━━━━━━━━━━━━━\u001b[0m\u001b[37m\u001b[0m \u001b[1m8s\u001b[0m 11ms/step - accuracy: 0.5469 - loss: 1.2949 - val_accuracy: 0.0000e+00 - val_loss: 1.6840\n",
      "Epoch 91/100\n",
      "\u001b[1m719/719\u001b[0m \u001b[32m━━━━━━━━━━━━━━━━━━━━\u001b[0m\u001b[37m\u001b[0m \u001b[1m11s\u001b[0m 15ms/step - accuracy: 0.5467 - loss: 1.2969 - val_accuracy: 0.0000e+00 - val_loss: 1.6800\n",
      "Epoch 92/100\n",
      "\u001b[1m719/719\u001b[0m \u001b[32m━━━━━━━━━━━━━━━━━━━━\u001b[0m\u001b[37m\u001b[0m \u001b[1m12s\u001b[0m 17ms/step - accuracy: 0.5453 - loss: 1.2976 - val_accuracy: 0.0000e+00 - val_loss: 1.6733\n",
      "Epoch 93/100\n",
      "\u001b[1m719/719\u001b[0m \u001b[32m━━━━━━━━━━━━━━━━━━━━\u001b[0m\u001b[37m\u001b[0m \u001b[1m11s\u001b[0m 16ms/step - accuracy: 0.5458 - loss: 1.2971 - val_accuracy: 0.0000e+00 - val_loss: 1.6747\n",
      "Epoch 94/100\n",
      "\u001b[1m719/719\u001b[0m \u001b[32m━━━━━━━━━━━━━━━━━━━━\u001b[0m\u001b[37m\u001b[0m \u001b[1m22s\u001b[0m 18ms/step - accuracy: 0.5458 - loss: 1.2976 - val_accuracy: 0.0000e+00 - val_loss: 1.6739\n",
      "Epoch 95/100\n",
      "\u001b[1m719/719\u001b[0m \u001b[32m━━━━━━━━━━━━━━━━━━━━\u001b[0m\u001b[37m\u001b[0m \u001b[1m11s\u001b[0m 16ms/step - accuracy: 0.5460 - loss: 1.2967 - val_accuracy: 0.0000e+00 - val_loss: 1.6694\n",
      "Epoch 96/100\n",
      "\u001b[1m719/719\u001b[0m \u001b[32m━━━━━━━━━━━━━━━━━━━━\u001b[0m\u001b[37m\u001b[0m \u001b[1m11s\u001b[0m 16ms/step - accuracy: 0.5488 - loss: 1.2949 - val_accuracy: 0.0000e+00 - val_loss: 1.6346\n",
      "Epoch 97/100\n",
      "\u001b[1m719/719\u001b[0m \u001b[32m━━━━━━━━━━━━━━━━━━━━\u001b[0m\u001b[37m\u001b[0m \u001b[1m11s\u001b[0m 15ms/step - accuracy: 0.5495 - loss: 1.2950 - val_accuracy: 0.0000e+00 - val_loss: 1.6321\n",
      "Epoch 98/100\n",
      "\u001b[1m719/719\u001b[0m \u001b[32m━━━━━━━━━━━━━━━━━━━━\u001b[0m\u001b[37m\u001b[0m \u001b[1m12s\u001b[0m 17ms/step - accuracy: 0.5492 - loss: 1.2948 - val_accuracy: 0.0000e+00 - val_loss: 1.6405\n",
      "Epoch 99/100\n",
      "\u001b[1m719/719\u001b[0m \u001b[32m━━━━━━━━━━━━━━━━━━━━\u001b[0m\u001b[37m\u001b[0m \u001b[1m14s\u001b[0m 19ms/step - accuracy: 0.5472 - loss: 1.2950 - val_accuracy: 0.0000e+00 - val_loss: 1.6674\n",
      "Epoch 100/100\n",
      "\u001b[1m719/719\u001b[0m \u001b[32m━━━━━━━━━━━━━━━━━━━━\u001b[0m\u001b[37m\u001b[0m \u001b[1m12s\u001b[0m 16ms/step - accuracy: 0.5474 - loss: 1.2963 - val_accuracy: 0.0000e+00 - val_loss: 1.6678\n"
     ]
    }
   ],
   "source": [
    "# -----------------------------\n",
    "# 4. Train model\n",
    "# -----------------------------\n",
    "history = model1.fit(\n",
    "    X_train, y_train_cat,\n",
    "    validation_data=(X_val, y_val_cat),\n",
    "    epochs=100,\n",
    "    batch_size=32,\n",
    "    shuffle=False,\n",
    ")"
   ]
  },
  {
   "cell_type": "code",
   "execution_count": 54,
   "id": "7cf68bc7",
   "metadata": {},
   "outputs": [
    {
     "name": "stdout",
     "output_type": "stream",
     "text": [
      "\u001b[1m204/204\u001b[0m \u001b[32m━━━━━━━━━━━━━━━━━━━━\u001b[0m\u001b[37m\u001b[0m \u001b[1m1s\u001b[0m 5ms/step - accuracy: 0.3470 - loss: 1.4077\n",
      "Test Loss: 1.4077, Test Accuracy: 34.70%\n"
     ]
    }
   ],
   "source": [
    "\n",
    "# -----------------------------\n",
    "# 5. Evaluate model\n",
    "# -----------------------------\n",
    "loss, accuracy = model1.evaluate(X_test, y_test_cat)\n",
    "print(f\"Test Loss: {loss:.4f}, Test Accuracy: {accuracy * 100:.2f}%\")"
   ]
  },
  {
   "cell_type": "code",
   "execution_count": 55,
   "id": "c2477fdd",
   "metadata": {},
   "outputs": [
    {
     "name": "stdout",
     "output_type": "stream",
     "text": [
      "\u001b[1m204/204\u001b[0m \u001b[32m━━━━━━━━━━━━━━━━━━━━\u001b[0m\u001b[37m\u001b[0m \u001b[1m1s\u001b[0m 4ms/step\n"
     ]
    }
   ],
   "source": [
    "threshold = 0.5  # set the threshold value\n",
    "y_pred_prob = model1.predict(X_test)  # generate prediction probabilities\n",
    "y_pred = (y_pred_prob > threshold).astype(int)"
   ]
  },
  {
   "cell_type": "code",
   "execution_count": 57,
   "id": "650770e1",
   "metadata": {},
   "outputs": [
    {
     "name": "stdout",
     "output_type": "stream",
     "text": [
      "\u001b[1m204/204\u001b[0m \u001b[32m━━━━━━━━━━━━━━━━━━━━\u001b[0m\u001b[37m\u001b[0m \u001b[1m1s\u001b[0m 3ms/step\n"
     ]
    },
    {
     "data": {
      "image/png": "[encoded data removed]",
      "text/plain": [
       "<Figure size 800x600 with 2 Axes>"
      ]
     },
     "metadata": {},
     "output_type": "display_data"
    },
    {
     "name": "stdout",
     "output_type": "stream",
     "text": [
      "                 precision    recall  f1-score   support\n",
      "\n",
      " Sleep stage N1       0.24      0.32      0.28       844\n",
      " Sleep stage N2       0.54      0.72      0.62      2265\n",
      " Sleep stage N3       0.00      0.00      0.00         0\n",
      "  Sleep stage R       0.03      0.01      0.01      2265\n",
      "  Sleep stage W       0.26      0.41      0.32      1154\n",
      "\n",
      "       accuracy                           0.37      6528\n",
      "      macro avg       0.22      0.29      0.25      6528\n",
      "   weighted avg       0.28      0.37      0.31      6528\n",
      "\n"
     ]
    },
    {
     "name": "stderr",
     "output_type": "stream",
     "text": [
      "C:\\Users\\HP\\AppData\\Roaming\\Python\\Python313\\site-packages\\sklearn\\metrics\\_classification.py:1731: UndefinedMetricWarning: Recall is ill-defined and being set to 0.0 in labels with no true samples. Use `zero_division` parameter to control this behavior.\n",
      "  _warn_prf(average, modifier, f\"{metric.capitalize()} is\", result.shape[0])\n",
      "C:\\Users\\HP\\AppData\\Roaming\\Python\\Python313\\site-packages\\sklearn\\metrics\\_classification.py:1731: UndefinedMetricWarning: Recall is ill-defined and being set to 0.0 in labels with no true samples. Use `zero_division` parameter to control this behavior.\n",
      "  _warn_prf(average, modifier, f\"{metric.capitalize()} is\", result.shape[0])\n",
      "C:\\Users\\HP\\AppData\\Roaming\\Python\\Python313\\site-packages\\sklearn\\metrics\\_classification.py:1731: UndefinedMetricWarning: Recall is ill-defined and being set to 0.0 in labels with no true samples. Use `zero_division` parameter to control this behavior.\n",
      "  _warn_prf(average, modifier, f\"{metric.capitalize()} is\", result.shape[0])\n"
     ]
    }
   ],
   "source": [
    "# --------------------------\n",
    "# 1. Predict labels\n",
    "# --------------------------\n",
    "y_pred_probs = model_cnn.predict(X_test)   # ได้เป็น probability (softmax)\n",
    "y_pred = np.argmax(y_pred_probs, axis=1)  # แปลงเป็น class index\n",
    "y_true = np.argmax(y_test_cat, axis=1)    # แปลง one-hot y_test กลับเป็น index\n",
    "\n",
    "# --------------------------\n",
    "# 2. Confusion matrix\n",
    "# --------------------------\n",
    "cm = confusion_matrix(y_true, y_pred)\n",
    "\n",
    "# --------------------------\n",
    "# 3. Plot confusion matrix\n",
    "# --------------------------\n",
    "plt.figure(figsize=(8,6))\n",
    "sns.heatmap(cm, annot=True, fmt=\"d\", cmap=\"Blues\",\n",
    "            xticklabels=encoder.classes_,\n",
    "            yticklabels=encoder.classes_)\n",
    "plt.xlabel(\"Predicted Label\")\n",
    "plt.ylabel(\"True Label\")\n",
    "plt.title(\"Confusion Matrix\")\n",
    "plt.show()\n",
    "\n",
    "# --------------------------\n",
    "# 4. (optional) Classification report\n",
    "# --------------------------\n",
    "print(classification_report(y_true, y_pred, target_names=encoder.classes_))"
   ]
  },
  {
   "cell_type": "markdown",
   "id": "e94e350b",
   "metadata": {},
   "source": [
    "## STACK LSTM + CNN แบบสุดโหด"
   ]
  },
  {
   "cell_type": "code",
   "execution_count": 59,
   "id": "9fb2f32c",
   "metadata": {},
   "outputs": [
    {
     "name": "stdout",
     "output_type": "stream",
     "text": [
      "X_train shape: (22981, 400, 8)\n",
      "y_train shape: (22981, 5)\n"
     ]
    },
    {
     "name": "stderr",
     "output_type": "stream",
     "text": [
      "C:\\Users\\HP\\AppData\\Roaming\\Python\\Python313\\site-packages\\keras\\src\\layers\\convolutional\\base_conv.py:113: UserWarning: Do not pass an `input_shape`/`input_dim` argument to a layer. When using Sequential models, prefer using an `Input(shape)` object as the first layer in the model instead.\n",
      "  super().__init__(activity_regularizer=activity_regularizer, **kwargs)\n"
     ]
    },
    {
     "data": {
      "text/html": [
       "<pre style=\"white-space:pre;overflow-x:auto;line-height:normal;font-family:Menlo,'DejaVu Sans Mono',consolas,'Courier New',monospace\"><span style=\"font-weight: bold\">Model: \"sequential_7\"</span>\n",
       "</pre>\n"
      ],
      "text/plain": [
       "\u001b[1mModel: \"sequential_7\"\u001b[0m\n"
      ]
     },
     "metadata": {},
     "output_type": "display_data"
    },
    {
     "data": {
      "text/html": [
       "<pre style=\"white-space:pre;overflow-x:auto;line-height:normal;font-family:Menlo,'DejaVu Sans Mono',consolas,'Courier New',monospace\">┏━━━━━━━━━━━━━━━━━━━━━━━━━━━━━━━━━┳━━━━━━━━━━━━━━━━━━━━━━━━┳━━━━━━━━━━━━━━━┓\n",
       "┃<span style=\"font-weight: bold\"> Layer (type)                    </span>┃<span style=\"font-weight: bold\"> Output Shape           </span>┃<span style=\"font-weight: bold\">       Param # </span>┃\n",
       "┡━━━━━━━━━━━━━━━━━━━━━━━━━━━━━━━━━╇━━━━━━━━━━━━━━━━━━━━━━━━╇━━━━━━━━━━━━━━━┩\n",
       "│ conv1d_24 (<span style=\"color: #0087ff; text-decoration-color: #0087ff\">Conv1D</span>)              │ (<span style=\"color: #00d7ff; text-decoration-color: #00d7ff\">None</span>, <span style=\"color: #00af00; text-decoration-color: #00af00\">398</span>, <span style=\"color: #00af00; text-decoration-color: #00af00\">32</span>)        │           <span style=\"color: #00af00; text-decoration-color: #00af00\">800</span> │\n",
       "├─────────────────────────────────┼────────────────────────┼───────────────┤\n",
       "│ max_pooling1d_23 (<span style=\"color: #0087ff; text-decoration-color: #0087ff\">MaxPooling1D</span>) │ (<span style=\"color: #00d7ff; text-decoration-color: #00d7ff\">None</span>, <span style=\"color: #00af00; text-decoration-color: #00af00\">199</span>, <span style=\"color: #00af00; text-decoration-color: #00af00\">32</span>)        │             <span style=\"color: #00af00; text-decoration-color: #00af00\">0</span> │\n",
       "├─────────────────────────────────┼────────────────────────┼───────────────┤\n",
       "│ dropout_15 (<span style=\"color: #0087ff; text-decoration-color: #0087ff\">Dropout</span>)            │ (<span style=\"color: #00d7ff; text-decoration-color: #00d7ff\">None</span>, <span style=\"color: #00af00; text-decoration-color: #00af00\">199</span>, <span style=\"color: #00af00; text-decoration-color: #00af00\">32</span>)        │             <span style=\"color: #00af00; text-decoration-color: #00af00\">0</span> │\n",
       "├─────────────────────────────────┼────────────────────────┼───────────────┤\n",
       "│ conv1d_25 (<span style=\"color: #0087ff; text-decoration-color: #0087ff\">Conv1D</span>)              │ (<span style=\"color: #00d7ff; text-decoration-color: #00d7ff\">None</span>, <span style=\"color: #00af00; text-decoration-color: #00af00\">197</span>, <span style=\"color: #00af00; text-decoration-color: #00af00\">64</span>)        │         <span style=\"color: #00af00; text-decoration-color: #00af00\">6,208</span> │\n",
       "├─────────────────────────────────┼────────────────────────┼───────────────┤\n",
       "│ max_pooling1d_24 (<span style=\"color: #0087ff; text-decoration-color: #0087ff\">MaxPooling1D</span>) │ (<span style=\"color: #00d7ff; text-decoration-color: #00d7ff\">None</span>, <span style=\"color: #00af00; text-decoration-color: #00af00\">98</span>, <span style=\"color: #00af00; text-decoration-color: #00af00\">64</span>)         │             <span style=\"color: #00af00; text-decoration-color: #00af00\">0</span> │\n",
       "├─────────────────────────────────┼────────────────────────┼───────────────┤\n",
       "│ dropout_16 (<span style=\"color: #0087ff; text-decoration-color: #0087ff\">Dropout</span>)            │ (<span style=\"color: #00d7ff; text-decoration-color: #00d7ff\">None</span>, <span style=\"color: #00af00; text-decoration-color: #00af00\">98</span>, <span style=\"color: #00af00; text-decoration-color: #00af00\">64</span>)         │             <span style=\"color: #00af00; text-decoration-color: #00af00\">0</span> │\n",
       "├─────────────────────────────────┼────────────────────────┼───────────────┤\n",
       "│ conv1d_26 (<span style=\"color: #0087ff; text-decoration-color: #0087ff\">Conv1D</span>)              │ (<span style=\"color: #00d7ff; text-decoration-color: #00d7ff\">None</span>, <span style=\"color: #00af00; text-decoration-color: #00af00\">96</span>, <span style=\"color: #00af00; text-decoration-color: #00af00\">128</span>)        │        <span style=\"color: #00af00; text-decoration-color: #00af00\">24,704</span> │\n",
       "├─────────────────────────────────┼────────────────────────┼───────────────┤\n",
       "│ max_pooling1d_25 (<span style=\"color: #0087ff; text-decoration-color: #0087ff\">MaxPooling1D</span>) │ (<span style=\"color: #00d7ff; text-decoration-color: #00d7ff\">None</span>, <span style=\"color: #00af00; text-decoration-color: #00af00\">48</span>, <span style=\"color: #00af00; text-decoration-color: #00af00\">128</span>)        │             <span style=\"color: #00af00; text-decoration-color: #00af00\">0</span> │\n",
       "├─────────────────────────────────┼────────────────────────┼───────────────┤\n",
       "│ dropout_17 (<span style=\"color: #0087ff; text-decoration-color: #0087ff\">Dropout</span>)            │ (<span style=\"color: #00d7ff; text-decoration-color: #00d7ff\">None</span>, <span style=\"color: #00af00; text-decoration-color: #00af00\">48</span>, <span style=\"color: #00af00; text-decoration-color: #00af00\">128</span>)        │             <span style=\"color: #00af00; text-decoration-color: #00af00\">0</span> │\n",
       "├─────────────────────────────────┼────────────────────────┼───────────────┤\n",
       "│ conv1d_27 (<span style=\"color: #0087ff; text-decoration-color: #0087ff\">Conv1D</span>)              │ (<span style=\"color: #00d7ff; text-decoration-color: #00d7ff\">None</span>, <span style=\"color: #00af00; text-decoration-color: #00af00\">46</span>, <span style=\"color: #00af00; text-decoration-color: #00af00\">64</span>)         │        <span style=\"color: #00af00; text-decoration-color: #00af00\">24,640</span> │\n",
       "├─────────────────────────────────┼────────────────────────┼───────────────┤\n",
       "│ max_pooling1d_26 (<span style=\"color: #0087ff; text-decoration-color: #0087ff\">MaxPooling1D</span>) │ (<span style=\"color: #00d7ff; text-decoration-color: #00d7ff\">None</span>, <span style=\"color: #00af00; text-decoration-color: #00af00\">23</span>, <span style=\"color: #00af00; text-decoration-color: #00af00\">64</span>)         │             <span style=\"color: #00af00; text-decoration-color: #00af00\">0</span> │\n",
       "├─────────────────────────────────┼────────────────────────┼───────────────┤\n",
       "│ dropout_18 (<span style=\"color: #0087ff; text-decoration-color: #0087ff\">Dropout</span>)            │ (<span style=\"color: #00d7ff; text-decoration-color: #00d7ff\">None</span>, <span style=\"color: #00af00; text-decoration-color: #00af00\">23</span>, <span style=\"color: #00af00; text-decoration-color: #00af00\">64</span>)         │             <span style=\"color: #00af00; text-decoration-color: #00af00\">0</span> │\n",
       "├─────────────────────────────────┼────────────────────────┼───────────────┤\n",
       "│ lstm_3 (<span style=\"color: #0087ff; text-decoration-color: #0087ff\">LSTM</span>)                   │ (<span style=\"color: #00d7ff; text-decoration-color: #00d7ff\">None</span>, <span style=\"color: #00af00; text-decoration-color: #00af00\">23</span>, <span style=\"color: #00af00; text-decoration-color: #00af00\">64</span>)         │        <span style=\"color: #00af00; text-decoration-color: #00af00\">33,024</span> │\n",
       "├─────────────────────────────────┼────────────────────────┼───────────────┤\n",
       "│ lstm_4 (<span style=\"color: #0087ff; text-decoration-color: #0087ff\">LSTM</span>)                   │ (<span style=\"color: #00d7ff; text-decoration-color: #00d7ff\">None</span>, <span style=\"color: #00af00; text-decoration-color: #00af00\">64</span>)             │        <span style=\"color: #00af00; text-decoration-color: #00af00\">33,024</span> │\n",
       "├─────────────────────────────────┼────────────────────────┼───────────────┤\n",
       "│ dense_8 (<span style=\"color: #0087ff; text-decoration-color: #0087ff\">Dense</span>)                 │ (<span style=\"color: #00d7ff; text-decoration-color: #00d7ff\">None</span>, <span style=\"color: #00af00; text-decoration-color: #00af00\">5</span>)              │           <span style=\"color: #00af00; text-decoration-color: #00af00\">325</span> │\n",
       "└─────────────────────────────────┴────────────────────────┴───────────────┘\n",
       "</pre>\n"
      ],
      "text/plain": [
       "┏━━━━━━━━━━━━━━━━━━━━━━━━━━━━━━━━━┳━━━━━━━━━━━━━━━━━━━━━━━━┳━━━━━━━━━━━━━━━┓\n",
       "┃\u001b[1m \u001b[0m\u001b[1mLayer (type)                   \u001b[0m\u001b[1m \u001b[0m┃\u001b[1m \u001b[0m\u001b[1mOutput Shape          \u001b[0m\u001b[1m \u001b[0m┃\u001b[1m \u001b[0m\u001b[1m      Param #\u001b[0m\u001b[1m \u001b[0m┃\n",
       "┡━━━━━━━━━━━━━━━━━━━━━━━━━━━━━━━━━╇━━━━━━━━━━━━━━━━━━━━━━━━╇━━━━━━━━━━━━━━━┩\n",
       "│ conv1d_24 (\u001b[38;5;33mConv1D\u001b[0m)              │ (\u001b[38;5;45mNone\u001b[0m, \u001b[38;5;34m398\u001b[0m, \u001b[38;5;34m32\u001b[0m)        │           \u001b[38;5;34m800\u001b[0m │\n",
       "├─────────────────────────────────┼────────────────────────┼───────────────┤\n",
       "│ max_pooling1d_23 (\u001b[38;5;33mMaxPooling1D\u001b[0m) │ (\u001b[38;5;45mNone\u001b[0m, \u001b[38;5;34m199\u001b[0m, \u001b[38;5;34m32\u001b[0m)        │             \u001b[38;5;34m0\u001b[0m │\n",
       "├─────────────────────────────────┼────────────────────────┼───────────────┤\n",
       "│ dropout_15 (\u001b[38;5;33mDropout\u001b[0m)            │ (\u001b[38;5;45mNone\u001b[0m, \u001b[38;5;34m199\u001b[0m, \u001b[38;5;34m32\u001b[0m)        │             \u001b[38;5;34m0\u001b[0m │\n",
       "├─────────────────────────────────┼────────────────────────┼───────────────┤\n",
       "│ conv1d_25 (\u001b[38;5;33mConv1D\u001b[0m)              │ (\u001b[38;5;45mNone\u001b[0m, \u001b[38;5;34m197\u001b[0m, \u001b[38;5;34m64\u001b[0m)        │         \u001b[38;5;34m6,208\u001b[0m │\n",
       "├─────────────────────────────────┼────────────────────────┼───────────────┤\n",
       "│ max_pooling1d_24 (\u001b[38;5;33mMaxPooling1D\u001b[0m) │ (\u001b[38;5;45mNone\u001b[0m, \u001b[38;5;34m98\u001b[0m, \u001b[38;5;34m64\u001b[0m)         │             \u001b[38;5;34m0\u001b[0m │\n",
       "├─────────────────────────────────┼────────────────────────┼───────────────┤\n",
       "│ dropout_16 (\u001b[38;5;33mDropout\u001b[0m)            │ (\u001b[38;5;45mNone\u001b[0m, \u001b[38;5;34m98\u001b[0m, \u001b[38;5;34m64\u001b[0m)         │             \u001b[38;5;34m0\u001b[0m │\n",
       "├─────────────────────────────────┼────────────────────────┼───────────────┤\n",
       "│ conv1d_26 (\u001b[38;5;33mConv1D\u001b[0m)              │ (\u001b[38;5;45mNone\u001b[0m, \u001b[38;5;34m96\u001b[0m, \u001b[38;5;34m128\u001b[0m)        │        \u001b[38;5;34m24,704\u001b[0m │\n",
       "├─────────────────────────────────┼────────────────────────┼───────────────┤\n",
       "│ max_pooling1d_25 (\u001b[38;5;33mMaxPooling1D\u001b[0m) │ (\u001b[38;5;45mNone\u001b[0m, \u001b[38;5;34m48\u001b[0m, \u001b[38;5;34m128\u001b[0m)        │             \u001b[38;5;34m0\u001b[0m │\n",
       "├─────────────────────────────────┼────────────────────────┼───────────────┤\n",
       "│ dropout_17 (\u001b[38;5;33mDropout\u001b[0m)            │ (\u001b[38;5;45mNone\u001b[0m, \u001b[38;5;34m48\u001b[0m, \u001b[38;5;34m128\u001b[0m)        │             \u001b[38;5;34m0\u001b[0m │\n",
       "├─────────────────────────────────┼────────────────────────┼───────────────┤\n",
       "│ conv1d_27 (\u001b[38;5;33mConv1D\u001b[0m)              │ (\u001b[38;5;45mNone\u001b[0m, \u001b[38;5;34m46\u001b[0m, \u001b[38;5;34m64\u001b[0m)         │        \u001b[38;5;34m24,640\u001b[0m │\n",
       "├─────────────────────────────────┼────────────────────────┼───────────────┤\n",
       "│ max_pooling1d_26 (\u001b[38;5;33mMaxPooling1D\u001b[0m) │ (\u001b[38;5;45mNone\u001b[0m, \u001b[38;5;34m23\u001b[0m, \u001b[38;5;34m64\u001b[0m)         │             \u001b[38;5;34m0\u001b[0m │\n",
       "├─────────────────────────────────┼────────────────────────┼───────────────┤\n",
       "│ dropout_18 (\u001b[38;5;33mDropout\u001b[0m)            │ (\u001b[38;5;45mNone\u001b[0m, \u001b[38;5;34m23\u001b[0m, \u001b[38;5;34m64\u001b[0m)         │             \u001b[38;5;34m0\u001b[0m │\n",
       "├─────────────────────────────────┼────────────────────────┼───────────────┤\n",
       "│ lstm_3 (\u001b[38;5;33mLSTM\u001b[0m)                   │ (\u001b[38;5;45mNone\u001b[0m, \u001b[38;5;34m23\u001b[0m, \u001b[38;5;34m64\u001b[0m)         │        \u001b[38;5;34m33,024\u001b[0m │\n",
       "├─────────────────────────────────┼────────────────────────┼───────────────┤\n",
       "│ lstm_4 (\u001b[38;5;33mLSTM\u001b[0m)                   │ (\u001b[38;5;45mNone\u001b[0m, \u001b[38;5;34m64\u001b[0m)             │        \u001b[38;5;34m33,024\u001b[0m │\n",
       "├─────────────────────────────────┼────────────────────────┼───────────────┤\n",
       "│ dense_8 (\u001b[38;5;33mDense\u001b[0m)                 │ (\u001b[38;5;45mNone\u001b[0m, \u001b[38;5;34m5\u001b[0m)              │           \u001b[38;5;34m325\u001b[0m │\n",
       "└─────────────────────────────────┴────────────────────────┴───────────────┘\n"
      ]
     },
     "metadata": {},
     "output_type": "display_data"
    },
    {
     "data": {
      "text/html": [
       "<pre style=\"white-space:pre;overflow-x:auto;line-height:normal;font-family:Menlo,'DejaVu Sans Mono',consolas,'Courier New',monospace\"><span style=\"font-weight: bold\"> Total params: </span><span style=\"color: #00af00; text-decoration-color: #00af00\">122,725</span> (479.39 KB)\n",
       "</pre>\n"
      ],
      "text/plain": [
       "\u001b[1m Total params: \u001b[0m\u001b[38;5;34m122,725\u001b[0m (479.39 KB)\n"
      ]
     },
     "metadata": {},
     "output_type": "display_data"
    },
    {
     "data": {
      "text/html": [
       "<pre style=\"white-space:pre;overflow-x:auto;line-height:normal;font-family:Menlo,'DejaVu Sans Mono',consolas,'Courier New',monospace\"><span style=\"font-weight: bold\"> Trainable params: </span><span style=\"color: #00af00; text-decoration-color: #00af00\">122,725</span> (479.39 KB)\n",
       "</pre>\n"
      ],
      "text/plain": [
       "\u001b[1m Trainable params: \u001b[0m\u001b[38;5;34m122,725\u001b[0m (479.39 KB)\n"
      ]
     },
     "metadata": {},
     "output_type": "display_data"
    },
    {
     "data": {
      "text/html": [
       "<pre style=\"white-space:pre;overflow-x:auto;line-height:normal;font-family:Menlo,'DejaVu Sans Mono',consolas,'Courier New',monospace\"><span style=\"font-weight: bold\"> Non-trainable params: </span><span style=\"color: #00af00; text-decoration-color: #00af00\">0</span> (0.00 B)\n",
       "</pre>\n"
      ],
      "text/plain": [
       "\u001b[1m Non-trainable params: \u001b[0m\u001b[38;5;34m0\u001b[0m (0.00 B)\n"
      ]
     },
     "metadata": {},
     "output_type": "display_data"
    }
   ],
   "source": [
    "# -----------------------------\n",
    "# 1. แปลง label เป็นตัวเลข + one-hot\n",
    "# -----------------------------\n",
    "encoder = LabelEncoder()\n",
    "y_train_enc = encoder.fit_transform(y_train)\n",
    "y_val_enc   = encoder.transform(y_val)\n",
    "y_test_enc  = encoder.transform(y_test)\n",
    "\n",
    "num_classes = len(np.unique(y_train_enc))\n",
    "\n",
    "y_train_cat = to_categorical(y_train_enc, num_classes=num_classes)\n",
    "y_val_cat   = to_categorical(y_val_enc, num_classes=num_classes)\n",
    "y_test_cat  = to_categorical(y_test_enc, num_classes=num_classes)\n",
    "\n",
    "# -----------------------------\n",
    "# 2. แปลง X ให้เป็น float32\n",
    "# -----------------------------\n",
    "X_train = np.array(X_train, dtype=np.float32)\n",
    "X_val   = np.array(X_val, dtype=np.float32)\n",
    "X_test  = np.array(X_test, dtype=np.float32)\n",
    "\n",
    "if X_train.ndim == 2:  # reshape ให้เป็น (samples, timesteps, features)\n",
    "    X_train = X_train[..., np.newaxis]\n",
    "    X_val   = X_val[..., np.newaxis]\n",
    "    X_test  = X_test[..., np.newaxis]\n",
    "\n",
    "print(\"X_train shape:\", X_train.shape)\n",
    "print(\"y_train shape:\", y_train_cat.shape)\n",
    "\n",
    "# -----------------------------\n",
    "# 3. สร้าง LSTM model\n",
    "# -----------------------------\n",
    "\n",
    "model1 = Sequential()\n",
    "\n",
    "# 1D CNN layer\n",
    "\n",
    "model1.add(Conv1D(filters=32, kernel_size=3, activation='relu',\n",
    "                  input_shape=(X_train.shape[1], X_train.shape[2])))\n",
    "model1.add(MaxPooling1D(pool_size=2))\n",
    "model1.add(Dropout(0.1))\n",
    "\n",
    "model1.add(Conv1D(filters=64, kernel_size=3, activation='relu',\n",
    "                  input_shape=(X_train.shape[1], X_train.shape[2])))\n",
    "model1.add(MaxPooling1D(pool_size=2))\n",
    "model1.add(Dropout(0.1))\n",
    "\n",
    "model1.add(Conv1D(filters=128, kernel_size=3, activation='relu',\n",
    "                  input_shape=(X_train.shape[1], X_train.shape[2])))\n",
    "model1.add(MaxPooling1D(pool_size=2))\n",
    "model1.add(Dropout(0.1))\n",
    "\n",
    "model1.add(Conv1D(filters=64, kernel_size=3, activation='relu',\n",
    "                  input_shape=(X_train.shape[1], X_train.shape[2])))\n",
    "model1.add(MaxPooling1D(pool_size=2))\n",
    "model1.add(Dropout(0.1))\n",
    "\n",
    "\n",
    "# LSTM layer\n",
    "model1.add(LSTM(64, return_sequences=True))  # return_sequences=False เพราะต่อ Dense\n",
    "model1.add(LSTM(64, return_sequences=False))  # return_sequences=False เพราะต่อ Dense\n",
    "\n",
    "# Output layer\n",
    "model1.add(Dense(num_classes, activation='softmax'))\n",
    "\n",
    "# Compile\n",
    "model1.compile(optimizer='adam',\n",
    "               loss='categorical_crossentropy',\n",
    "               metrics=['accuracy'])\n",
    "\n",
    "model1.summary()"
   ]
  },
  {
   "cell_type": "code",
   "execution_count": 60,
   "id": "39492b76",
   "metadata": {},
   "outputs": [
    {
     "name": "stdout",
     "output_type": "stream",
     "text": [
      "Epoch 1/100\n",
      "\u001b[1m719/719\u001b[0m \u001b[32m━━━━━━━━━━━━━━━━━━━━\u001b[0m\u001b[37m\u001b[0m \u001b[1m14s\u001b[0m 16ms/step - accuracy: 0.6424 - loss: 1.1476 - val_accuracy: 0.0116 - val_loss: 1.7655\n",
      "Epoch 2/100\n",
      "\u001b[1m719/719\u001b[0m \u001b[32m━━━━━━━━━━━━━━━━━━━━\u001b[0m\u001b[37m\u001b[0m \u001b[1m11s\u001b[0m 16ms/step - accuracy: 0.6638 - loss: 1.0369 - val_accuracy: 0.0116 - val_loss: 1.2112\n",
      "Epoch 3/100\n",
      "\u001b[1m719/719\u001b[0m \u001b[32m━━━━━━━━━━━━━━━━━━━━\u001b[0m\u001b[37m\u001b[0m \u001b[1m15s\u001b[0m 21ms/step - accuracy: 0.6527 - loss: 1.0530 - val_accuracy: 0.0116 - val_loss: 1.3377\n",
      "Epoch 4/100\n",
      "\u001b[1m719/719\u001b[0m \u001b[32m━━━━━━━━━━━━━━━━━━━━\u001b[0m\u001b[37m\u001b[0m \u001b[1m10s\u001b[0m 15ms/step - accuracy: 0.7167 - loss: 0.8479 - val_accuracy: 0.0000e+00 - val_loss: 1.1778\n",
      "Epoch 5/100\n",
      "\u001b[1m719/719\u001b[0m \u001b[32m━━━━━━━━━━━━━━━━━━━━\u001b[0m\u001b[37m\u001b[0m \u001b[1m11s\u001b[0m 16ms/step - accuracy: 0.6434 - loss: 1.0409 - val_accuracy: 0.0000e+00 - val_loss: 1.8507\n",
      "Epoch 6/100\n",
      "\u001b[1m719/719\u001b[0m \u001b[32m━━━━━━━━━━━━━━━━━━━━\u001b[0m\u001b[37m\u001b[0m \u001b[1m14s\u001b[0m 20ms/step - accuracy: 0.5639 - loss: 1.2474 - val_accuracy: 0.0000e+00 - val_loss: 1.6222\n",
      "Epoch 7/100\n",
      "\u001b[1m719/719\u001b[0m \u001b[32m━━━━━━━━━━━━━━━━━━━━\u001b[0m\u001b[37m\u001b[0m \u001b[1m15s\u001b[0m 20ms/step - accuracy: 0.5598 - loss: 1.2478 - val_accuracy: 0.8952 - val_loss: 1.3436\n",
      "Epoch 8/100\n",
      "\u001b[1m719/719\u001b[0m \u001b[32m━━━━━━━━━━━━━━━━━━━━\u001b[0m\u001b[37m\u001b[0m \u001b[1m15s\u001b[0m 20ms/step - accuracy: 0.5222 - loss: 1.2881 - val_accuracy: 0.0000e+00 - val_loss: 1.4952\n",
      "Epoch 9/100\n",
      "\u001b[1m719/719\u001b[0m \u001b[32m━━━━━━━━━━━━━━━━━━━━\u001b[0m\u001b[37m\u001b[0m \u001b[1m14s\u001b[0m 19ms/step - accuracy: 0.5480 - loss: 1.2804 - val_accuracy: 0.8952 - val_loss: 1.2033\n",
      "Epoch 10/100\n",
      "\u001b[1m719/719\u001b[0m \u001b[32m━━━━━━━━━━━━━━━━━━━━\u001b[0m\u001b[37m\u001b[0m \u001b[1m16s\u001b[0m 22ms/step - accuracy: 0.5112 - loss: 1.3093 - val_accuracy: 0.0000e+00 - val_loss: 1.5036\n",
      "Epoch 11/100\n",
      "\u001b[1m719/719\u001b[0m \u001b[32m━━━━━━━━━━━━━━━━━━━━\u001b[0m\u001b[37m\u001b[0m \u001b[1m17s\u001b[0m 23ms/step - accuracy: 0.4549 - loss: 1.3758 - val_accuracy: 0.8952 - val_loss: 1.1752\n",
      "Epoch 12/100\n",
      "\u001b[1m719/719\u001b[0m \u001b[32m━━━━━━━━━━━━━━━━━━━━\u001b[0m\u001b[37m\u001b[0m \u001b[1m16s\u001b[0m 22ms/step - accuracy: 0.4633 - loss: 1.3633 - val_accuracy: 0.8952 - val_loss: 1.3761\n",
      "Epoch 13/100\n",
      "\u001b[1m719/719\u001b[0m \u001b[32m━━━━━━━━━━━━━━━━━━━━\u001b[0m\u001b[37m\u001b[0m \u001b[1m14s\u001b[0m 19ms/step - accuracy: 0.4607 - loss: 1.3697 - val_accuracy: 0.8952 - val_loss: 1.1428\n",
      "Epoch 14/100\n",
      "\u001b[1m719/719\u001b[0m \u001b[32m━━━━━━━━━━━━━━━━━━━━\u001b[0m\u001b[37m\u001b[0m \u001b[1m11s\u001b[0m 16ms/step - accuracy: 0.4708 - loss: 1.3788 - val_accuracy: 0.8952 - val_loss: 1.0924\n",
      "Epoch 15/100\n",
      "\u001b[1m719/719\u001b[0m \u001b[32m━━━━━━━━━━━━━━━━━━━━\u001b[0m\u001b[37m\u001b[0m \u001b[1m11s\u001b[0m 15ms/step - accuracy: 0.4753 - loss: 1.3719 - val_accuracy: 0.8952 - val_loss: 1.1050\n",
      "Epoch 16/100\n",
      "\u001b[1m719/719\u001b[0m \u001b[32m━━━━━━━━━━━━━━━━━━━━\u001b[0m\u001b[37m\u001b[0m \u001b[1m11s\u001b[0m 16ms/step - accuracy: 0.4921 - loss: 1.3635 - val_accuracy: 0.8952 - val_loss: 1.0692\n",
      "Epoch 17/100\n",
      "\u001b[1m719/719\u001b[0m \u001b[32m━━━━━━━━━━━━━━━━━━━━\u001b[0m\u001b[37m\u001b[0m \u001b[1m11s\u001b[0m 15ms/step - accuracy: 0.4921 - loss: 1.3693 - val_accuracy: 0.8952 - val_loss: 1.0500\n",
      "Epoch 18/100\n",
      "\u001b[1m719/719\u001b[0m \u001b[32m━━━━━━━━━━━━━━━━━━━━\u001b[0m\u001b[37m\u001b[0m \u001b[1m11s\u001b[0m 15ms/step - accuracy: 0.4921 - loss: 1.3604 - val_accuracy: 0.8952 - val_loss: 1.0233\n",
      "Epoch 19/100\n",
      "\u001b[1m719/719\u001b[0m \u001b[32m━━━━━━━━━━━━━━━━━━━━\u001b[0m\u001b[37m\u001b[0m \u001b[1m11s\u001b[0m 15ms/step - accuracy: 0.4921 - loss: 1.3580 - val_accuracy: 0.8952 - val_loss: 1.0096\n",
      "Epoch 20/100\n",
      "\u001b[1m719/719\u001b[0m \u001b[32m━━━━━━━━━━━━━━━━━━━━\u001b[0m\u001b[37m\u001b[0m \u001b[1m11s\u001b[0m 15ms/step - accuracy: 0.4921 - loss: 1.3573 - val_accuracy: 0.8952 - val_loss: 1.1019\n",
      "Epoch 21/100\n",
      "\u001b[1m719/719\u001b[0m \u001b[32m━━━━━━━━━━━━━━━━━━━━\u001b[0m\u001b[37m\u001b[0m \u001b[1m11s\u001b[0m 15ms/step - accuracy: 0.4921 - loss: 1.3565 - val_accuracy: 0.8952 - val_loss: 0.9971\n",
      "Epoch 22/100\n",
      "\u001b[1m719/719\u001b[0m \u001b[32m━━━━━━━━━━━━━━━━━━━━\u001b[0m\u001b[37m\u001b[0m \u001b[1m11s\u001b[0m 15ms/step - accuracy: 0.4921 - loss: 1.3547 - val_accuracy: 0.8952 - val_loss: 1.0005\n",
      "Epoch 23/100\n",
      "\u001b[1m719/719\u001b[0m \u001b[32m━━━━━━━━━━━━━━━━━━━━\u001b[0m\u001b[37m\u001b[0m \u001b[1m11s\u001b[0m 15ms/step - accuracy: 0.4921 - loss: 1.3523 - val_accuracy: 0.8952 - val_loss: 0.9842\n",
      "Epoch 24/100\n",
      "\u001b[1m719/719\u001b[0m \u001b[32m━━━━━━━━━━━━━━━━━━━━\u001b[0m\u001b[37m\u001b[0m \u001b[1m11s\u001b[0m 15ms/step - accuracy: 0.4921 - loss: 1.3504 - val_accuracy: 0.8952 - val_loss: 0.9775\n",
      "Epoch 25/100\n",
      "\u001b[1m719/719\u001b[0m \u001b[32m━━━━━━━━━━━━━━━━━━━━\u001b[0m\u001b[37m\u001b[0m \u001b[1m11s\u001b[0m 15ms/step - accuracy: 0.4921 - loss: 1.3489 - val_accuracy: 0.8952 - val_loss: 0.9706\n",
      "Epoch 26/100\n",
      "\u001b[1m719/719\u001b[0m \u001b[32m━━━━━━━━━━━━━━━━━━━━\u001b[0m\u001b[37m\u001b[0m \u001b[1m11s\u001b[0m 15ms/step - accuracy: 0.4921 - loss: 1.3477 - val_accuracy: 0.8952 - val_loss: 0.9663\n",
      "Epoch 27/100\n",
      "\u001b[1m719/719\u001b[0m \u001b[32m━━━━━━━━━━━━━━━━━━━━\u001b[0m\u001b[37m\u001b[0m \u001b[1m12s\u001b[0m 17ms/step - accuracy: 0.4921 - loss: 1.3467 - val_accuracy: 0.8952 - val_loss: 0.9602\n",
      "Epoch 28/100\n",
      "\u001b[1m719/719\u001b[0m \u001b[32m━━━━━━━━━━━━━━━━━━━━\u001b[0m\u001b[37m\u001b[0m \u001b[1m12s\u001b[0m 17ms/step - accuracy: 0.4921 - loss: 1.3454 - val_accuracy: 0.8952 - val_loss: 0.9652\n",
      "Epoch 29/100\n",
      "\u001b[1m719/719\u001b[0m \u001b[32m━━━━━━━━━━━━━━━━━━━━\u001b[0m\u001b[37m\u001b[0m \u001b[1m11s\u001b[0m 15ms/step - accuracy: 0.5730 - loss: 1.3659 - val_accuracy: 0.0000e+00 - val_loss: 1.8402\n",
      "Epoch 30/100\n",
      "\u001b[1m719/719\u001b[0m \u001b[32m━━━━━━━━━━━━━━━━━━━━\u001b[0m\u001b[37m\u001b[0m \u001b[1m11s\u001b[0m 15ms/step - accuracy: 0.5832 - loss: 1.2464 - val_accuracy: 0.0000e+00 - val_loss: 1.6038\n",
      "Epoch 31/100\n",
      "\u001b[1m719/719\u001b[0m \u001b[32m━━━━━━━━━━━━━━━━━━━━\u001b[0m\u001b[37m\u001b[0m \u001b[1m11s\u001b[0m 15ms/step - accuracy: 0.5104 - loss: 1.3400 - val_accuracy: 0.0000e+00 - val_loss: 1.8168\n",
      "Epoch 32/100\n",
      "\u001b[1m719/719\u001b[0m \u001b[32m━━━━━━━━━━━━━━━━━━━━\u001b[0m\u001b[37m\u001b[0m \u001b[1m11s\u001b[0m 15ms/step - accuracy: 0.4489 - loss: 1.3783 - val_accuracy: 0.8952 - val_loss: 1.2458\n",
      "Epoch 33/100\n",
      "\u001b[1m719/719\u001b[0m \u001b[32m━━━━━━━━━━━━━━━━━━━━\u001b[0m\u001b[37m\u001b[0m \u001b[1m11s\u001b[0m 15ms/step - accuracy: 0.4682 - loss: 1.3669 - val_accuracy: 0.8952 - val_loss: 1.2608\n",
      "Epoch 34/100\n",
      "\u001b[1m719/719\u001b[0m \u001b[32m━━━━━━━━━━━━━━━━━━━━\u001b[0m\u001b[37m\u001b[0m \u001b[1m11s\u001b[0m 16ms/step - accuracy: 0.4573 - loss: 1.3743 - val_accuracy: 0.8952 - val_loss: 1.0304\n",
      "Epoch 35/100\n",
      "\u001b[1m719/719\u001b[0m \u001b[32m━━━━━━━━━━━━━━━━━━━━\u001b[0m\u001b[37m\u001b[0m \u001b[1m13s\u001b[0m 18ms/step - accuracy: 0.4793 - loss: 1.3641 - val_accuracy: 0.8952 - val_loss: 1.0157\n",
      "Epoch 36/100\n",
      "\u001b[1m719/719\u001b[0m \u001b[32m━━━━━━━━━━━━━━━━━━━━\u001b[0m\u001b[37m\u001b[0m \u001b[1m16s\u001b[0m 23ms/step - accuracy: 0.4921 - loss: 1.3528 - val_accuracy: 0.8952 - val_loss: 1.0159\n",
      "Epoch 37/100\n",
      "\u001b[1m719/719\u001b[0m \u001b[32m━━━━━━━━━━━━━━━━━━━━\u001b[0m\u001b[37m\u001b[0m \u001b[1m14s\u001b[0m 20ms/step - accuracy: 0.4921 - loss: 1.3524 - val_accuracy: 0.8952 - val_loss: 1.0102\n",
      "Epoch 38/100\n",
      "\u001b[1m719/719\u001b[0m \u001b[32m━━━━━━━━━━━━━━━━━━━━\u001b[0m\u001b[37m\u001b[0m \u001b[1m15s\u001b[0m 20ms/step - accuracy: 0.4921 - loss: 1.3511 - val_accuracy: 0.8952 - val_loss: 1.0032\n",
      "Epoch 39/100\n",
      "\u001b[1m719/719\u001b[0m \u001b[32m━━━━━━━━━━━━━━━━━━━━\u001b[0m\u001b[37m\u001b[0m \u001b[1m14s\u001b[0m 20ms/step - accuracy: 0.4921 - loss: 1.3504 - val_accuracy: 0.8952 - val_loss: 0.9953\n",
      "Epoch 40/100\n",
      "\u001b[1m719/719\u001b[0m \u001b[32m━━━━━━━━━━━━━━━━━━━━\u001b[0m\u001b[37m\u001b[0m \u001b[1m14s\u001b[0m 20ms/step - accuracy: 0.4921 - loss: 1.3482 - val_accuracy: 0.8952 - val_loss: 0.9912\n",
      "Epoch 41/100\n",
      "\u001b[1m719/719\u001b[0m \u001b[32m━━━━━━━━━━━━━━━━━━━━\u001b[0m\u001b[37m\u001b[0m \u001b[1m14s\u001b[0m 20ms/step - accuracy: 0.4921 - loss: 1.3473 - val_accuracy: 0.8952 - val_loss: 0.9837\n",
      "Epoch 42/100\n",
      "\u001b[1m719/719\u001b[0m \u001b[32m━━━━━━━━━━━━━━━━━━━━\u001b[0m\u001b[37m\u001b[0m \u001b[1m14s\u001b[0m 20ms/step - accuracy: 0.4921 - loss: 1.3464 - val_accuracy: 0.8952 - val_loss: 0.9777\n",
      "Epoch 43/100\n",
      "\u001b[1m719/719\u001b[0m \u001b[32m━━━━━━━━━━━━━━━━━━━━\u001b[0m\u001b[37m\u001b[0m \u001b[1m12s\u001b[0m 16ms/step - accuracy: 0.4938 - loss: 1.3589 - val_accuracy: 0.0000e+00 - val_loss: 1.5402\n",
      "Epoch 44/100\n",
      "\u001b[1m719/719\u001b[0m \u001b[32m━━━━━━━━━━━━━━━━━━━━\u001b[0m\u001b[37m\u001b[0m \u001b[1m11s\u001b[0m 15ms/step - accuracy: 0.4774 - loss: 1.3791 - val_accuracy: 0.0000e+00 - val_loss: 1.7719\n",
      "Epoch 45/100\n",
      "\u001b[1m719/719\u001b[0m \u001b[32m━━━━━━━━━━━━━━━━━━━━\u001b[0m\u001b[37m\u001b[0m \u001b[1m11s\u001b[0m 15ms/step - accuracy: 0.4501 - loss: 1.3762 - val_accuracy: 0.8952 - val_loss: 1.0162\n",
      "Epoch 46/100\n",
      "\u001b[1m719/719\u001b[0m \u001b[32m━━━━━━━━━━━━━━━━━━━━\u001b[0m\u001b[37m\u001b[0m \u001b[1m11s\u001b[0m 15ms/step - accuracy: 0.4921 - loss: 1.3514 - val_accuracy: 0.8952 - val_loss: 1.0064\n",
      "Epoch 47/100\n",
      "\u001b[1m719/719\u001b[0m \u001b[32m━━━━━━━━━━━━━━━━━━━━\u001b[0m\u001b[37m\u001b[0m \u001b[1m11s\u001b[0m 15ms/step - accuracy: 0.4921 - loss: 1.3488 - val_accuracy: 0.8952 - val_loss: 0.9958\n",
      "Epoch 48/100\n",
      "\u001b[1m719/719\u001b[0m \u001b[32m━━━━━━━━━━━━━━━━━━━━\u001b[0m\u001b[37m\u001b[0m \u001b[1m11s\u001b[0m 15ms/step - accuracy: 0.4921 - loss: 1.3475 - val_accuracy: 0.8952 - val_loss: 0.9896\n",
      "Epoch 49/100\n",
      "\u001b[1m719/719\u001b[0m \u001b[32m━━━━━━━━━━━━━━━━━━━━\u001b[0m\u001b[37m\u001b[0m \u001b[1m11s\u001b[0m 15ms/step - accuracy: 0.4736 - loss: 1.3480 - val_accuracy: 0.8952 - val_loss: 0.9862\n",
      "Epoch 50/100\n",
      "\u001b[1m719/719\u001b[0m \u001b[32m━━━━━━━━━━━━━━━━━━━━\u001b[0m\u001b[37m\u001b[0m \u001b[1m11s\u001b[0m 15ms/step - accuracy: 0.4921 - loss: 1.3470 - val_accuracy: 0.8952 - val_loss: 0.9787\n",
      "Epoch 51/100\n",
      "\u001b[1m719/719\u001b[0m \u001b[32m━━━━━━━━━━━━━━━━━━━━\u001b[0m\u001b[37m\u001b[0m \u001b[1m11s\u001b[0m 15ms/step - accuracy: 0.4921 - loss: 1.3462 - val_accuracy: 0.8952 - val_loss: 0.9805\n",
      "Epoch 52/100\n",
      "\u001b[1m719/719\u001b[0m \u001b[32m━━━━━━━━━━━━━━━━━━━━\u001b[0m\u001b[37m\u001b[0m \u001b[1m11s\u001b[0m 15ms/step - accuracy: 0.4921 - loss: 1.3445 - val_accuracy: 0.8952 - val_loss: 0.9685\n",
      "Epoch 53/100\n",
      "\u001b[1m719/719\u001b[0m \u001b[32m━━━━━━━━━━━━━━━━━━━━\u001b[0m\u001b[37m\u001b[0m \u001b[1m11s\u001b[0m 15ms/step - accuracy: 0.4921 - loss: 1.3429 - val_accuracy: 0.8952 - val_loss: 0.9621\n",
      "Epoch 54/100\n",
      "\u001b[1m719/719\u001b[0m \u001b[32m━━━━━━━━━━━━━━━━━━━━\u001b[0m\u001b[37m\u001b[0m \u001b[1m11s\u001b[0m 15ms/step - accuracy: 0.4921 - loss: 1.3422 - val_accuracy: 0.8952 - val_loss: 0.9575\n",
      "Epoch 55/100\n",
      "\u001b[1m719/719\u001b[0m \u001b[32m━━━━━━━━━━━━━━━━━━━━\u001b[0m\u001b[37m\u001b[0m \u001b[1m11s\u001b[0m 15ms/step - accuracy: 0.4921 - loss: 1.3416 - val_accuracy: 0.8952 - val_loss: 0.9540\n",
      "Epoch 56/100\n",
      "\u001b[1m719/719\u001b[0m \u001b[32m━━━━━━━━━━━━━━━━━━━━\u001b[0m\u001b[37m\u001b[0m \u001b[1m13s\u001b[0m 18ms/step - accuracy: 0.4921 - loss: 1.3410 - val_accuracy: 0.8952 - val_loss: 0.9516\n",
      "Epoch 57/100\n",
      "\u001b[1m719/719\u001b[0m \u001b[32m━━━━━━━━━━━━━━━━━━━━\u001b[0m\u001b[37m\u001b[0m \u001b[1m14s\u001b[0m 20ms/step - accuracy: 0.4921 - loss: 1.3405 - val_accuracy: 0.8952 - val_loss: 0.9498\n",
      "Epoch 58/100\n",
      "\u001b[1m719/719\u001b[0m \u001b[32m━━━━━━━━━━━━━━━━━━━━\u001b[0m\u001b[37m\u001b[0m \u001b[1m14s\u001b[0m 20ms/step - accuracy: 0.4921 - loss: 1.3398 - val_accuracy: 0.8952 - val_loss: 0.9482\n",
      "Epoch 59/100\n",
      "\u001b[1m719/719\u001b[0m \u001b[32m━━━━━━━━━━━━━━━━━━━━\u001b[0m\u001b[37m\u001b[0m \u001b[1m14s\u001b[0m 20ms/step - accuracy: 0.4921 - loss: 1.3392 - val_accuracy: 0.8952 - val_loss: 0.9465\n",
      "Epoch 60/100\n",
      "\u001b[1m719/719\u001b[0m \u001b[32m━━━━━━━━━━━━━━━━━━━━\u001b[0m\u001b[37m\u001b[0m \u001b[1m16s\u001b[0m 22ms/step - accuracy: 0.4921 - loss: 1.3386 - val_accuracy: 0.8952 - val_loss: 0.9446\n",
      "Epoch 61/100\n",
      "\u001b[1m719/719\u001b[0m \u001b[32m━━━━━━━━━━━━━━━━━━━━\u001b[0m\u001b[37m\u001b[0m \u001b[1m18s\u001b[0m 25ms/step - accuracy: 0.4921 - loss: 1.3380 - val_accuracy: 0.8952 - val_loss: 0.9421\n",
      "Epoch 62/100\n",
      "\u001b[1m719/719\u001b[0m \u001b[32m━━━━━━━━━━━━━━━━━━━━\u001b[0m\u001b[37m\u001b[0m \u001b[1m20s\u001b[0m 24ms/step - accuracy: 0.4921 - loss: 1.3375 - val_accuracy: 0.8952 - val_loss: 0.9397\n",
      "Epoch 63/100\n",
      "\u001b[1m719/719\u001b[0m \u001b[32m━━━━━━━━━━━━━━━━━━━━\u001b[0m\u001b[37m\u001b[0m \u001b[1m12s\u001b[0m 17ms/step - accuracy: 0.4921 - loss: 1.3370 - val_accuracy: 0.8952 - val_loss: 0.9374\n",
      "Epoch 64/100\n",
      "\u001b[1m719/719\u001b[0m \u001b[32m━━━━━━━━━━━━━━━━━━━━\u001b[0m\u001b[37m\u001b[0m \u001b[1m11s\u001b[0m 16ms/step - accuracy: 0.4921 - loss: 1.3365 - val_accuracy: 0.8952 - val_loss: 0.9352\n",
      "Epoch 65/100\n",
      "\u001b[1m719/719\u001b[0m \u001b[32m━━━━━━━━━━━━━━━━━━━━\u001b[0m\u001b[37m\u001b[0m \u001b[1m14s\u001b[0m 20ms/step - accuracy: 0.4921 - loss: 1.3361 - val_accuracy: 0.8952 - val_loss: 0.9334\n",
      "Epoch 66/100\n",
      "\u001b[1m719/719\u001b[0m \u001b[32m━━━━━━━━━━━━━━━━━━━━\u001b[0m\u001b[37m\u001b[0m \u001b[1m14s\u001b[0m 20ms/step - accuracy: 0.4921 - loss: 1.3358 - val_accuracy: 0.8952 - val_loss: 0.9319\n",
      "Epoch 67/100\n",
      "\u001b[1m719/719\u001b[0m \u001b[32m━━━━━━━━━━━━━━━━━━━━\u001b[0m\u001b[37m\u001b[0m \u001b[1m14s\u001b[0m 20ms/step - accuracy: 0.4921 - loss: 1.3355 - val_accuracy: 0.8952 - val_loss: 0.9309\n",
      "Epoch 68/100\n",
      "\u001b[1m719/719\u001b[0m \u001b[32m━━━━━━━━━━━━━━━━━━━━\u001b[0m\u001b[37m\u001b[0m \u001b[1m14s\u001b[0m 20ms/step - accuracy: 0.4921 - loss: 1.3352 - val_accuracy: 0.8952 - val_loss: 0.9304\n",
      "Epoch 69/100\n",
      "\u001b[1m719/719\u001b[0m \u001b[32m━━━━━━━━━━━━━━━━━━━━\u001b[0m\u001b[37m\u001b[0m \u001b[1m14s\u001b[0m 20ms/step - accuracy: 0.4921 - loss: 1.3353 - val_accuracy: 0.8952 - val_loss: 0.9295\n",
      "Epoch 70/100\n",
      "\u001b[1m719/719\u001b[0m \u001b[32m━━━━━━━━━━━━━━━━━━━━\u001b[0m\u001b[37m\u001b[0m \u001b[1m14s\u001b[0m 20ms/step - accuracy: 0.4921 - loss: 1.3349 - val_accuracy: 0.8952 - val_loss: 0.9292\n",
      "Epoch 71/100\n",
      "\u001b[1m719/719\u001b[0m \u001b[32m━━━━━━━━━━━━━━━━━━━━\u001b[0m\u001b[37m\u001b[0m \u001b[1m14s\u001b[0m 20ms/step - accuracy: 0.4921 - loss: 1.3348 - val_accuracy: 0.8952 - val_loss: 0.9291\n",
      "Epoch 72/100\n",
      "\u001b[1m719/719\u001b[0m \u001b[32m━━━━━━━━━━━━━━━━━━━━\u001b[0m\u001b[37m\u001b[0m \u001b[1m14s\u001b[0m 20ms/step - accuracy: 0.4921 - loss: 1.3347 - val_accuracy: 0.8952 - val_loss: 0.9291\n",
      "Epoch 73/100\n",
      "\u001b[1m719/719\u001b[0m \u001b[32m━━━━━━━━━━━━━━━━━━━━\u001b[0m\u001b[37m\u001b[0m \u001b[1m14s\u001b[0m 20ms/step - accuracy: 0.4921 - loss: 1.3347 - val_accuracy: 0.8952 - val_loss: 0.9295\n",
      "Epoch 74/100\n",
      "\u001b[1m719/719\u001b[0m \u001b[32m━━━━━━━━━━━━━━━━━━━━\u001b[0m\u001b[37m\u001b[0m \u001b[1m14s\u001b[0m 20ms/step - accuracy: 0.4921 - loss: 1.3346 - val_accuracy: 0.8952 - val_loss: 0.9296\n",
      "Epoch 75/100\n",
      "\u001b[1m719/719\u001b[0m \u001b[32m━━━━━━━━━━━━━━━━━━━━\u001b[0m\u001b[37m\u001b[0m \u001b[1m13s\u001b[0m 18ms/step - accuracy: 0.4921 - loss: 1.3345 - val_accuracy: 0.8952 - val_loss: 0.9298\n",
      "Epoch 76/100\n",
      "\u001b[1m719/719\u001b[0m \u001b[32m━━━━━━━━━━━━━━━━━━━━\u001b[0m\u001b[37m\u001b[0m \u001b[1m11s\u001b[0m 15ms/step - accuracy: 0.4921 - loss: 1.3345 - val_accuracy: 0.8952 - val_loss: 0.9300\n",
      "Epoch 77/100\n",
      "\u001b[1m719/719\u001b[0m \u001b[32m━━━━━━━━━━━━━━━━━━━━\u001b[0m\u001b[37m\u001b[0m \u001b[1m11s\u001b[0m 15ms/step - accuracy: 0.4921 - loss: 1.3345 - val_accuracy: 0.8952 - val_loss: 0.9302\n",
      "Epoch 78/100\n",
      "\u001b[1m719/719\u001b[0m \u001b[32m━━━━━━━━━━━━━━━━━━━━\u001b[0m\u001b[37m\u001b[0m \u001b[1m11s\u001b[0m 15ms/step - accuracy: 0.4921 - loss: 1.3345 - val_accuracy: 0.8952 - val_loss: 0.9304\n",
      "Epoch 79/100\n",
      "\u001b[1m719/719\u001b[0m \u001b[32m━━━━━━━━━━━━━━━━━━━━\u001b[0m\u001b[37m\u001b[0m \u001b[1m11s\u001b[0m 15ms/step - accuracy: 0.4921 - loss: 1.3345 - val_accuracy: 0.8952 - val_loss: 0.9306\n",
      "Epoch 80/100\n",
      "\u001b[1m719/719\u001b[0m \u001b[32m━━━━━━━━━━━━━━━━━━━━\u001b[0m\u001b[37m\u001b[0m \u001b[1m11s\u001b[0m 15ms/step - accuracy: 0.4921 - loss: 1.3344 - val_accuracy: 0.8952 - val_loss: 0.9308\n",
      "Epoch 81/100\n",
      "\u001b[1m719/719\u001b[0m \u001b[32m━━━━━━━━━━━━━━━━━━━━\u001b[0m\u001b[37m\u001b[0m \u001b[1m11s\u001b[0m 15ms/step - accuracy: 0.4921 - loss: 1.3344 - val_accuracy: 0.8952 - val_loss: 0.9310\n",
      "Epoch 82/100\n",
      "\u001b[1m719/719\u001b[0m \u001b[32m━━━━━━━━━━━━━━━━━━━━\u001b[0m\u001b[37m\u001b[0m \u001b[1m11s\u001b[0m 15ms/step - accuracy: 0.4921 - loss: 1.3344 - val_accuracy: 0.8952 - val_loss: 0.9312\n",
      "Epoch 83/100\n",
      "\u001b[1m719/719\u001b[0m \u001b[32m━━━━━━━━━━━━━━━━━━━━\u001b[0m\u001b[37m\u001b[0m \u001b[1m11s\u001b[0m 15ms/step - accuracy: 0.4921 - loss: 1.3344 - val_accuracy: 0.8952 - val_loss: 0.9313\n",
      "Epoch 84/100\n",
      "\u001b[1m719/719\u001b[0m \u001b[32m━━━━━━━━━━━━━━━━━━━━\u001b[0m\u001b[37m\u001b[0m \u001b[1m11s\u001b[0m 15ms/step - accuracy: 0.4921 - loss: 1.3344 - val_accuracy: 0.8952 - val_loss: 0.9315\n",
      "Epoch 85/100\n",
      "\u001b[1m719/719\u001b[0m \u001b[32m━━━━━━━━━━━━━━━━━━━━\u001b[0m\u001b[37m\u001b[0m \u001b[1m11s\u001b[0m 15ms/step - accuracy: 0.4921 - loss: 1.3344 - val_accuracy: 0.8952 - val_loss: 0.9316\n",
      "Epoch 86/100\n",
      "\u001b[1m719/719\u001b[0m \u001b[32m━━━━━━━━━━━━━━━━━━━━\u001b[0m\u001b[37m\u001b[0m \u001b[1m11s\u001b[0m 15ms/step - accuracy: 0.4921 - loss: 1.3344 - val_accuracy: 0.8952 - val_loss: 0.9317\n",
      "Epoch 87/100\n",
      "\u001b[1m719/719\u001b[0m \u001b[32m━━━━━━━━━━━━━━━━━━━━\u001b[0m\u001b[37m\u001b[0m \u001b[1m11s\u001b[0m 15ms/step - accuracy: 0.4921 - loss: 1.3344 - val_accuracy: 0.8952 - val_loss: 0.9321\n",
      "Epoch 88/100\n",
      "\u001b[1m719/719\u001b[0m \u001b[32m━━━━━━━━━━━━━━━━━━━━\u001b[0m\u001b[37m\u001b[0m \u001b[1m11s\u001b[0m 15ms/step - accuracy: 0.4921 - loss: 1.3345 - val_accuracy: 0.8952 - val_loss: 0.9319\n",
      "Epoch 89/100\n",
      "\u001b[1m719/719\u001b[0m \u001b[32m━━━━━━━━━━━━━━━━━━━━\u001b[0m\u001b[37m\u001b[0m \u001b[1m11s\u001b[0m 15ms/step - accuracy: 0.4921 - loss: 1.3344 - val_accuracy: 0.8952 - val_loss: 0.9319\n",
      "Epoch 90/100\n",
      "\u001b[1m719/719\u001b[0m \u001b[32m━━━━━━━━━━━━━━━━━━━━\u001b[0m\u001b[37m\u001b[0m \u001b[1m11s\u001b[0m 15ms/step - accuracy: 0.4921 - loss: 1.3344 - val_accuracy: 0.8952 - val_loss: 0.9320\n",
      "Epoch 91/100\n",
      "\u001b[1m719/719\u001b[0m \u001b[32m━━━━━━━━━━━━━━━━━━━━\u001b[0m\u001b[37m\u001b[0m \u001b[1m11s\u001b[0m 15ms/step - accuracy: 0.4921 - loss: 1.3344 - val_accuracy: 0.8952 - val_loss: 0.9321\n",
      "Epoch 92/100\n",
      "\u001b[1m719/719\u001b[0m \u001b[32m━━━━━━━━━━━━━━━━━━━━\u001b[0m\u001b[37m\u001b[0m \u001b[1m11s\u001b[0m 15ms/step - accuracy: 0.4921 - loss: 1.3344 - val_accuracy: 0.8952 - val_loss: 0.9321\n",
      "Epoch 93/100\n",
      "\u001b[1m719/719\u001b[0m \u001b[32m━━━━━━━━━━━━━━━━━━━━\u001b[0m\u001b[37m\u001b[0m \u001b[1m11s\u001b[0m 15ms/step - accuracy: 0.4921 - loss: 1.3344 - val_accuracy: 0.8952 - val_loss: 0.9322\n",
      "Epoch 94/100\n",
      "\u001b[1m719/719\u001b[0m \u001b[32m━━━━━━━━━━━━━━━━━━━━\u001b[0m\u001b[37m\u001b[0m \u001b[1m11s\u001b[0m 15ms/step - accuracy: 0.4921 - loss: 1.3344 - val_accuracy: 0.8952 - val_loss: 0.9322\n",
      "Epoch 95/100\n",
      "\u001b[1m719/719\u001b[0m \u001b[32m━━━━━━━━━━━━━━━━━━━━\u001b[0m\u001b[37m\u001b[0m \u001b[1m11s\u001b[0m 15ms/step - accuracy: 0.4921 - loss: 1.3344 - val_accuracy: 0.8952 - val_loss: 0.9322\n",
      "Epoch 96/100\n",
      "\u001b[1m719/719\u001b[0m \u001b[32m━━━━━━━━━━━━━━━━━━━━\u001b[0m\u001b[37m\u001b[0m \u001b[1m11s\u001b[0m 15ms/step - accuracy: 0.4921 - loss: 1.3344 - val_accuracy: 0.8952 - val_loss: 0.9323\n",
      "Epoch 97/100\n",
      "\u001b[1m719/719\u001b[0m \u001b[32m━━━━━━━━━━━━━━━━━━━━\u001b[0m\u001b[37m\u001b[0m \u001b[1m11s\u001b[0m 15ms/step - accuracy: 0.4921 - loss: 1.3344 - val_accuracy: 0.8952 - val_loss: 0.9323\n",
      "Epoch 98/100\n",
      "\u001b[1m719/719\u001b[0m \u001b[32m━━━━━━━━━━━━━━━━━━━━\u001b[0m\u001b[37m\u001b[0m \u001b[1m12s\u001b[0m 16ms/step - accuracy: 0.4921 - loss: 1.3344 - val_accuracy: 0.8952 - val_loss: 0.9323\n",
      "Epoch 99/100\n",
      "\u001b[1m719/719\u001b[0m \u001b[32m━━━━━━━━━━━━━━━━━━━━\u001b[0m\u001b[37m\u001b[0m \u001b[1m11s\u001b[0m 16ms/step - accuracy: 0.4921 - loss: 1.3344 - val_accuracy: 0.8952 - val_loss: 0.9324\n",
      "Epoch 100/100\n",
      "\u001b[1m719/719\u001b[0m \u001b[32m━━━━━━━━━━━━━━━━━━━━\u001b[0m\u001b[37m\u001b[0m \u001b[1m12s\u001b[0m 16ms/step - accuracy: 0.4921 - loss: 1.3344 - val_accuracy: 0.8952 - val_loss: 0.9324\n"
     ]
    }
   ],
   "source": [
    "# -----------------------------\n",
    "# 4. Train model\n",
    "# -----------------------------\n",
    "history = model1.fit(\n",
    "    X_train, y_train_cat,\n",
    "    validation_data=(X_val, y_val_cat),\n",
    "    epochs=100,\n",
    "    batch_size=32,\n",
    "    shuffle=False,\n",
    ")"
   ]
  },
  {
   "cell_type": "code",
   "execution_count": 61,
   "id": "80cc4290",
   "metadata": {},
   "outputs": [
    {
     "name": "stdout",
     "output_type": "stream",
     "text": [
      "\u001b[1m204/204\u001b[0m \u001b[32m━━━━━━━━━━━━━━━━━━━━\u001b[0m\u001b[37m\u001b[0m \u001b[1m1s\u001b[0m 6ms/step - accuracy: 0.3470 - loss: 1.4577\n",
      "Test Loss: 1.4577, Test Accuracy: 34.70%\n"
     ]
    }
   ],
   "source": [
    "\n",
    "# -----------------------------\n",
    "# 5. Evaluate model\n",
    "# -----------------------------\n",
    "loss, accuracy = model1.evaluate(X_test, y_test_cat)\n",
    "print(f\"Test Loss: {loss:.4f}, Test Accuracy: {accuracy * 100:.2f}%\")"
   ]
  },
  {
   "cell_type": "code",
   "execution_count": 62,
   "id": "d9b092a6",
   "metadata": {},
   "outputs": [
    {
     "name": "stdout",
     "output_type": "stream",
     "text": [
      "\u001b[1m204/204\u001b[0m \u001b[32m━━━━━━━━━━━━━━━━━━━━\u001b[0m\u001b[37m\u001b[0m \u001b[1m2s\u001b[0m 5ms/step\n"
     ]
    }
   ],
   "source": [
    "threshold = 0.5  # set the threshold value\n",
    "y_pred_prob = model1.predict(X_test)  # generate prediction probabilities\n",
    "y_pred = (y_pred_prob > threshold).astype(int)"
   ]
  },
  {
   "cell_type": "code",
   "execution_count": 63,
   "id": "ce5a61a2",
   "metadata": {},
   "outputs": [
    {
     "name": "stdout",
     "output_type": "stream",
     "text": [
      "\u001b[1m204/204\u001b[0m \u001b[32m━━━━━━━━━━━━━━━━━━━━\u001b[0m\u001b[37m\u001b[0m \u001b[1m1s\u001b[0m 3ms/step\n"
     ]
    },
    {
     "data": {
      "image/png": "[encoded data removed]",
      "text/plain": [
       "<Figure size 800x600 with 2 Axes>"
      ]
     },
     "metadata": {},
     "output_type": "display_data"
    },
    {
     "name": "stdout",
     "output_type": "stream",
     "text": [
      "                 precision    recall  f1-score   support\n",
      "\n",
      " Sleep stage N1       0.24      0.32      0.28       844\n",
      " Sleep stage N2       0.54      0.72      0.62      2265\n",
      " Sleep stage N3       0.00      0.00      0.00         0\n",
      "  Sleep stage R       0.03      0.01      0.01      2265\n",
      "  Sleep stage W       0.26      0.41      0.32      1154\n",
      "\n",
      "       accuracy                           0.37      6528\n",
      "      macro avg       0.22      0.29      0.25      6528\n",
      "   weighted avg       0.28      0.37      0.31      6528\n",
      "\n"
     ]
    },
    {
     "name": "stderr",
     "output_type": "stream",
     "text": [
      "C:\\Users\\HP\\AppData\\Roaming\\Python\\Python313\\site-packages\\sklearn\\metrics\\_classification.py:1731: UndefinedMetricWarning: Recall is ill-defined and being set to 0.0 in labels with no true samples. Use `zero_division` parameter to control this behavior.\n",
      "  _warn_prf(average, modifier, f\"{metric.capitalize()} is\", result.shape[0])\n",
      "C:\\Users\\HP\\AppData\\Roaming\\Python\\Python313\\site-packages\\sklearn\\metrics\\_classification.py:1731: UndefinedMetricWarning: Recall is ill-defined and being set to 0.0 in labels with no true samples. Use `zero_division` parameter to control this behavior.\n",
      "  _warn_prf(average, modifier, f\"{metric.capitalize()} is\", result.shape[0])\n",
      "C:\\Users\\HP\\AppData\\Roaming\\Python\\Python313\\site-packages\\sklearn\\metrics\\_classification.py:1731: UndefinedMetricWarning: Recall is ill-defined and being set to 0.0 in labels with no true samples. Use `zero_division` parameter to control this behavior.\n",
      "  _warn_prf(average, modifier, f\"{metric.capitalize()} is\", result.shape[0])\n"
     ]
    }
   ],
   "source": [
    "# --------------------------\n",
    "# 1. Predict labels\n",
    "# --------------------------\n",
    "y_pred_probs = model_cnn.predict(X_test)   # ได้เป็น probability (softmax)\n",
    "y_pred = np.argmax(y_pred_probs, axis=1)  # แปลงเป็น class index\n",
    "y_true = np.argmax(y_test_cat, axis=1)    # แปลง one-hot y_test กลับเป็น index\n",
    "\n",
    "# --------------------------\n",
    "# 2. Confusion matrix\n",
    "# --------------------------\n",
    "cm = confusion_matrix(y_true, y_pred)\n",
    "\n",
    "# --------------------------\n",
    "# 3. Plot confusion matrix\n",
    "# --------------------------\n",
    "plt.figure(figsize=(8,6))\n",
    "sns.heatmap(cm, annot=True, fmt=\"d\", cmap=\"Blues\",\n",
    "            xticklabels=encoder.classes_,\n",
    "            yticklabels=encoder.classes_)\n",
    "plt.xlabel(\"Predicted Label\")\n",
    "plt.ylabel(\"True Label\")\n",
    "plt.title(\"Confusion Matrix\")\n",
    "plt.show()\n",
    "\n",
    "# --------------------------\n",
    "# 4. (optional) Classification report\n",
    "# --------------------------\n",
    "print(classification_report(y_true, y_pred, target_names=encoder.classes_))"
   ]
  }
 ],
 "metadata": {
  "kernelspec": {
   "display_name": "Python 3",
   "language": "python",
   "name": "python3"
  },
  "language_info": {
   "codemirror_mode": {
    "name": "ipython",
    "version": 3
   },
   "file_extension": ".py",
   "mimetype": "text/x-python",
   "name": "python",
   "nbconvert_exporter": "python",
   "pygments_lexer": "ipython3",
   "version": "3.13.6"
  }
 },
 "nbformat": 4,
 "nbformat_minor": 5
}
