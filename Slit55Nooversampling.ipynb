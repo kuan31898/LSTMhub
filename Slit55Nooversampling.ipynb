{
 "cells": [
  {
   "cell_type": "code",
   "execution_count": 1,
   "id": "028ab5ba",
   "metadata": {},
   "outputs": [],
   "source": [
    "import mne\n",
    "import numpy as np\n",
    "import pandas as pd\n",
    "import seaborn as sns\n",
    "import matplotlib.pyplot as plt\n",
    "\n",
    "import tensorflow as tf\n",
    "from tensorflow import keras\n",
    "from sklearn.model_selection import train_test_split\n",
    "from sklearn.preprocessing import StandardScaler\n",
    "from sklearn.ensemble import RandomForestClassifier\n",
    "from sklearn.metrics import accuracy_score, confusion_matrix, classification_report\n",
    "\n",
    "from keras.models import Sequential\n",
    "from keras.layers import LSTM, Dense,Dropout,TimeDistributed,GlobalAveragePooling1D\n",
    "from keras.callbacks import EarlyStopping, ModelCheckpoint\n",
    "from keras.optimizers import Adam\n",
    "from sklearn.model_selection import StratifiedShuffleSplit\n",
    "from imblearn.over_sampling import SMOTE"
   ]
  },
  {
   "cell_type": "code",
   "execution_count": 3,
   "id": "a07e4214",
   "metadata": {},
   "outputs": [
    {
     "name": "stderr",
     "output_type": "stream",
     "text": [
      "<>:2: SyntaxWarning: invalid escape sequence '\\m'\n",
      "<>:2: SyntaxWarning: invalid escape sequence '\\m'\n",
      "C:\\Users\\HP\\AppData\\Local\\Temp\\ipykernel_23740\\2341127673.py:2: SyntaxWarning: invalid escape sequence '\\m'\n",
      "  df = pd.read_csv(\"C:\\\\Users\\\\HP\\\\Desktop\\\\LSTM\\\\\\merged_eeg_events.csv\")\n"
     ]
    }
   ],
   "source": [
    "# โหลดข้อมูล\n",
    "df = pd.read_csv(\"C:\\\\Users\\\\HP\\\\Desktop\\\\LSTM\\\\\\merged_eeg_events.csv\")"
   ]
  },
  {
   "cell_type": "code",
   "execution_count": 4,
   "id": "ee66338c",
   "metadata": {},
   "outputs": [
    {
     "name": "stdout",
     "output_type": "stream",
     "text": [
      "       Time  EEG F4-M1  EEG C4-M1  EEG O2-M1  EEG C3-M2  EMG chin  EOG E1-M2  \\\n",
      "0  0.000000  17.126726  14.758526  38.342870   5.896086 -4.528878   3.747616   \n",
      "1  0.003906  18.225376  15.564202  37.122148   5.456626  1.403830  10.998703   \n",
      "2  0.007812  17.590600  10.632486  24.109255   7.580682  0.231937  21.643397   \n",
      "3  0.011719  10.949874   2.941939  13.000687   6.433204 -0.231937  27.405203   \n",
      "4  0.015625   5.822843   1.647974  18.030060   3.381399  2.868696  26.306554   \n",
      "\n",
      "   EOG E2-M2        ECG      Annotation  \n",
      "0  -9.289693  73.719387   Sleep stage W  \n",
      "1 -10.901045  70.936141   Sleep stage W  \n",
      "2  -9.509422  69.398032   Sleep stage W  \n",
      "3 -11.413748  65.149920   Sleep stage W  \n",
      "4 -14.612039  57.605859   Sleep stage W  \n"
     ]
    }
   ],
   "source": [
    "channel_map = {\n",
    "    \"1\": \"EEG F4-M1\",\n",
    "    \"2\": \"EEG C4-M1\",\n",
    "    \"3\": \"EEG O2-M1\",\n",
    "    \"4\": \"EEG C3-M2\",\n",
    "    \"5\": \"EMG chin\",\n",
    "    \"6\": \"EOG E1-M2\",\n",
    "    \"7\": \"EOG E2-M2\",\n",
    "    \"8\": \"ECG\"\n",
    "}\n",
    "# เปลี่ยนชื่อ column ใน DataFrame\n",
    "df = df.rename(columns=channel_map)\n",
    "\n",
    "# ตรวจสอบ\n",
    "print(df.head())"
   ]
  },
  {
   "cell_type": "code",
   "execution_count": 5,
   "id": "ff48bfda",
   "metadata": {},
   "outputs": [],
   "source": [
    "data = df.drop(['Annotation','Time'], axis=1)\n",
    "labels = df['Annotation']"
   ]
  },
  {
   "cell_type": "code",
   "execution_count": 6,
   "id": "51020392",
   "metadata": {},
   "outputs": [],
   "source": [
    "# train-test split for time series\n",
    "train_size = int(len(data) * 0.5)\n",
    "val_size = int(len(data) * 0.75)\n",
    "\n",
    "X_train_df = data[:train_size]\n",
    "X_val_df = data[train_size:val_size]\n",
    "X_test_df = data[val_size:]\n",
    "\n",
    "y_train_df = labels[:train_size]\n",
    "y_val_df = labels[train_size:val_size]\n",
    "y_test_df = labels[val_size:]\n"
   ]
  },
  {
   "cell_type": "code",
   "execution_count": 7,
   "id": "f4f0f59c",
   "metadata": {},
   "outputs": [
    {
     "data": {
      "text/plain": [
       "(Annotation\n",
       " Sleep stage N2    1585920\n",
       " Sleep stage W      867840\n",
       " Sleep stage N1     529920\n",
       " Sleep stage R      199680\n",
       " Sleep stage N3      99840\n",
       " Name: count, dtype: int64,\n",
       " Annotation\n",
       " Sleep stage N2    1004160\n",
       " Sleep stage R      430080\n",
       " Sleep stage N1     130560\n",
       " Sleep stage N3      38400\n",
       " Sleep stage W       38400\n",
       " Name: count, dtype: int64,\n",
       " Annotation\n",
       " Sleep stage N2    712320\n",
       " Sleep stage R     453120\n",
       " Sleep stage W     253440\n",
       " Sleep stage N1    176640\n",
       " Sleep stage N3     38400\n",
       " Name: count, dtype: int64)"
      ]
     },
     "execution_count": 7,
     "metadata": {},
     "output_type": "execute_result"
    }
   ],
   "source": [
    "y_train_df.value_counts(), y_val_df.value_counts(), y_test_df.value_counts()"
   ]
  },
  {
   "cell_type": "markdown",
   "id": "d568184e",
   "metadata": {},
   "source": [
    "## Undersampling"
   ]
  },
  {
   "cell_type": "code",
   "execution_count": 9,
   "id": "dafd4758",
   "metadata": {},
   "outputs": [
    {
     "name": "stdout",
     "output_type": "stream",
     "text": [
      "Annotation\n",
      "Sleep stage N2    1585920\n",
      "Sleep stage W      867840\n",
      "Sleep stage N1     529920\n",
      "Sleep stage R      199680\n",
      "Sleep stage N3      99840\n",
      "Name: count, dtype: int64\n",
      "After undersampling:\n",
      "Annotation\n",
      "Sleep stage N1    99840\n",
      "Sleep stage N2    99840\n",
      "Sleep stage N3    99840\n",
      "Sleep stage R     99840\n",
      "Sleep stage W     99840\n",
      "Name: count, dtype: int64\n"
     ]
    },
    {
     "name": "stderr",
     "output_type": "stream",
     "text": [
      "C:\\Users\\HP\\AppData\\Local\\Temp\\ipykernel_23740\\2023164288.py:14: FutureWarning: DataFrameGroupBy.apply operated on the grouping columns. This behavior is deprecated, and in a future version of pandas the grouping columns will be excluded from the operation. Either pass `include_groups=False` to exclude the groupings or explicitly select the grouping columns after groupby to silence this warning.\n",
      "  .apply(lambda x: x.sample(n=min_count, random_state=42))\n"
     ]
    }
   ],
   "source": [
    "\n",
    "# รวม features และ labels เข้าด้วยกันชั่วคราว\n",
    "train_df = X_train_df.copy()\n",
    "train_df['Annotation'] = y_train_df.values\n",
    "\n",
    "\n",
    "print(train_df['Annotation'].value_counts())\n",
    "\n",
    "\n",
    "min_count = train_df['Annotation'].value_counts().min()\n",
    "\n",
    "\n",
    "balanced_train_df = (\n",
    "    train_df.groupby('Annotation', group_keys=False)\n",
    "    .apply(lambda x: x.sample(n=min_count, random_state=42))\n",
    "    .reset_index(drop=True)\n",
    ")\n",
    "\n",
    "\n",
    "X_train_balanced = balanced_train_df.drop('Annotation', axis=1)\n",
    "y_train_balanced = balanced_train_df['Annotation']\n",
    "\n",
    "\n",
    "print(\"After undersampling:\")\n",
    "print(y_train_balanced.value_counts())\n"
   ]
  },
  {
   "cell_type": "code",
   "execution_count": 10,
   "id": "43723f04",
   "metadata": {},
   "outputs": [
    {
     "data": {
      "text/plain": [
       "((3283200, 8), (1641600, 8), (1641600, 8))"
      ]
     },
     "execution_count": 10,
     "metadata": {},
     "output_type": "execute_result"
    }
   ],
   "source": [
    "X_train_df.shape, X_val_df.shape, X_test_df.shape"
   ]
  },
  {
   "cell_type": "code",
   "execution_count": 11,
   "id": "105e13e4",
   "metadata": {},
   "outputs": [
    {
     "name": "stderr",
     "output_type": "stream",
     "text": [
      "C:\\Users\\HP\\AppData\\Roaming\\Python\\Python313\\site-packages\\IPython\\core\\pylabtools.py:170: UserWarning: Creating legend with loc=\"best\" can be slow with large amounts of data.\n",
      "  fig.canvas.print_figure(bytes_io, **kw)\n"
     ]
    },
    {
     "data": {
      "image/png": "[encoded data removed]",
      "text/plain": [
       "<Figure size 1300x400 with 1 Axes>"
      ]
     },
     "metadata": {},
     "output_type": "display_data"
    }
   ],
   "source": [
    "plt.figure(figsize=(13,4))\n",
    "plt.plot(X_train_df['EEG F4-M1'], color='salmon', label='Trainning Set')\n",
    "plt.legend()\n",
    "plt.title('Oversample the training data')\n",
    "plt.show()"
   ]
  },
  {
   "cell_type": "code",
   "execution_count": 20,
   "id": "a0fb294b",
   "metadata": {},
   "outputs": [
    {
     "data": {
      "text/plain": [
       "((499200, 4), (1641600, 4), (1641600, 4))"
      ]
     },
     "execution_count": 20,
     "metadata": {},
     "output_type": "execute_result"
    }
   ],
   "source": [
    "selected_channels = ['EEG F4-M1', 'EEG C4-M1', 'EEG O2-M1', 'EEG C3-M2']\n",
    "\n",
    "X_train_balanced_reduced = X_train_balanced[selected_channels]\n",
    "X_val_reduced = X_val_df[selected_channels]\n",
    "X_test_reduced = X_test_df[selected_channels]\n",
    "X_train_balanced_reduced.shape,X_val_reduced.shape,X_test_reduced.shape"
   ]
  },
  {
   "cell_type": "markdown",
   "id": "2493da87",
   "metadata": {},
   "source": [
    "## Sliding Window"
   ]
  },
  {
   "cell_type": "code",
   "execution_count": 16,
   "id": "eca99ed3",
   "metadata": {},
   "outputs": [
    {
     "data": {
      "text/plain": [
       "(        EEG F4-M1  EEG C4-M1  EEG O2-M1   EEG C3-M2  EMG chin   EOG E1-M2  \\\n",
       " 0       -2.844282   6.775006  -1.721218   23.938354  0.573739   47.742428   \n",
       " 1       29.529259  20.300603   0.085451   16.247807  0.793469  -10.241855   \n",
       " 2       -3.088426  -5.969329   9.900053   -3.942931 -1.135271   43.836118   \n",
       " 3       15.417716  21.887541  14.563210    5.139239  2.063020  -18.078889   \n",
       " 4       18.200961  14.612039  17.346456   -1.208515  8.825818  -38.953231   \n",
       " ...           ...        ...        ...         ...       ...         ...   \n",
       " 499195  12.072938  23.962768  11.267262   12.756542  3.503471   -9.851225   \n",
       " 499196   1.965362 -26.965743 -14.587625  -34.143587  8.581674  -12.976272   \n",
       " 499197  12.683299  30.286107  31.555657 -295.378042  5.700771 -320.183108   \n",
       " 499198   0.500496   0.646983  -5.261311  -12.365911 -0.817884   -1.208515   \n",
       " 499199 -22.571145  -3.552300 -10.193027   14.978256  3.649958   13.806363   \n",
       " \n",
       "          EOG E2-M2         ECG  \n",
       " 0        -1.159686   51.599908  \n",
       " 1        16.125734   29.114214  \n",
       " 2       -17.273213   97.816434  \n",
       " 3        57.312886 -110.487526  \n",
       " 4        25.110246  -68.152895  \n",
       " ...            ...         ...  \n",
       " 499195   -6.018158  331.535821  \n",
       " 499196   18.152132   14.099336  \n",
       " 499197 -328.557259   11.169604  \n",
       " 499198  -30.823224  -36.218814  \n",
       " 499199   19.079881   34.973678  \n",
       " \n",
       " [499200 rows x 8 columns],\n",
       " 0          Sleep stage N1\n",
       " 1          Sleep stage N1\n",
       " 2          Sleep stage N1\n",
       " 3          Sleep stage N1\n",
       " 4          Sleep stage N1\n",
       "                ...       \n",
       " 499195      Sleep stage W\n",
       " 499196      Sleep stage W\n",
       " 499197      Sleep stage W\n",
       " 499198      Sleep stage W\n",
       " 499199      Sleep stage W\n",
       " Name: Annotation, Length: 499200, dtype: object)"
      ]
     },
     "execution_count": 16,
     "metadata": {},
     "output_type": "execute_result"
    }
   ],
   "source": [
    "X_train_balanced, y_train_balanced\n"
   ]
  },
  {
   "cell_type": "code",
   "execution_count": 13,
   "id": "3eb1733e",
   "metadata": {},
   "outputs": [],
   "source": [
    "def apply_sliding_window(data, label, window_size, step_size):\n",
    "    # Reset index เพื่อให้ iloc ทำงานได้แน่นอน\n",
    "    data = data.reset_index(drop=True)\n",
    "    label = label.reset_index(drop=True)\n",
    "\n",
    "    window_data = []\n",
    "    window_label = []\n",
    "\n",
    "    for i in range(0, len(data) - window_size + 1, step_size):\n",
    "        window = data.iloc[i:i + window_size]\n",
    "        label_slice = label.iloc[i:i + window_size]\n",
    "\n",
    "        # ตรวจว่าทั้ง window มี label เดียวกันไหม\n",
    "        unique_labels = label_slice.unique()\n",
    "        if len(unique_labels) == 1:  # ✅ มีคลาสเดียว\n",
    "            window_data.append(window)\n",
    "            window_label.append(unique_labels[0])\n",
    "        else:\n",
    "            continue  # 🚫 ถ้ามีมากกว่า 1 คลาส -> ข้ามเลย\n",
    "\n",
    "    X = np.array(window_data)\n",
    "    y = np.array(window_label)\n",
    "    return X, y"
   ]
  },
  {
   "cell_type": "code",
   "execution_count": 24,
   "id": "b95a8be3",
   "metadata": {},
   "outputs": [
    {
     "name": "stdout",
     "output_type": "stream",
     "text": [
      "\n",
      "Original (all channels): (25590, 256, 8) (25590,)\n",
      "Reduced (4 channels): (25590, 256, 4) (25590,)\n",
      "Balanced (all channels): (3895, 256, 8) (3895,)\n",
      "Balanced + Reduced (4 channels): (3895, 256, 4) (3895,)\n"
     ]
    }
   ],
   "source": [
    "window_size = 256\n",
    "step_size = 128\n",
    "\n",
    "# ชุด original\n",
    "X_train, y_train = apply_sliding_window(X_train_df, y_train_df, window_size, step_size)\n",
    "X_val, y_val = apply_sliding_window(X_val_df, y_val_df, window_size, step_size)\n",
    "X_test, y_test = apply_sliding_window(X_test_df, y_test_df, window_size, step_size)\n",
    "\n",
    "X_train_reduced, y_train_reduced = apply_sliding_window(X_train_df_reduced, y_train_df, window_size, step_size)\n",
    "X_val_reduced, y_val_reduced = apply_sliding_window(X_val_df_reduced, y_val_df, window_size, step_size)\n",
    "X_test_reduced, y_test_reduced = apply_sliding_window(X_test_df_reduced, y_test_df, window_size, step_size)\n",
    "\n",
    "# ----------------------------\n",
    "# 4️⃣ Print shape ทั้งหมด\n",
    "# ----------------------------\n",
    "print(\"\\nOriginal (all channels):\", X_train.shape, y_train.shape)\n",
    "print(\"Reduced (4 channels):\", X_train_reduced.shape, y_train_reduced.shape)\n",
    "print(\"Balanced (all channels):\", X_train_bal.shape, y_train_bal.shape)\n",
    "print(\"Balanced + Reduced (4 channels):\", X_train_bal_reduced.shape, y_train_bal_reduced.shape)"
   ]
  },
  {
   "cell_type": "code",
   "execution_count": 28,
   "id": "cdb42a00",
   "metadata": {},
   "outputs": [
    {
     "name": "stdout",
     "output_type": "stream",
     "text": [
      "After Sliding Window (y_train_reduced):\n",
      "Sleep stage N2    12369\n",
      "Sleep stage W      6772\n",
      "Sleep stage N1     4118\n",
      "Sleep stage R      1556\n",
      "Sleep stage N3      775\n",
      "Name: count, dtype: int64 \n",
      "\n",
      "=== Comparison Table ===\n",
      "                After Undersampling  After (Window)\n",
      "Sleep stage N1                99840            4118\n",
      "Sleep stage N2                99840           12369\n",
      "Sleep stage N3                99840             775\n",
      "Sleep stage R                 99840            1556\n",
      "Sleep stage W                 99840            6772\n",
      "=== Percentage Before Sliding Window ===\n",
      "Annotation\n",
      "Sleep stage N2    48.30\n",
      "Sleep stage W     26.43\n",
      "Sleep stage N1    16.14\n",
      "Sleep stage R      6.08\n",
      "Sleep stage N3     3.04\n",
      "Name: proportion, dtype: float64\n"
     ]
    }
   ],
   "source": [
    "\n",
    "\n",
    "\n",
    "print(\"After Sliding Window (y_train_reduced):\")\n",
    "print(pd.Series(y_train_reduced).value_counts(), \"\\n\")\n",
    "\n",
    "# รวมเป็นตารางเปรียบเทียบ\n",
    "annotation_check = pd.DataFrame({\n",
    "    \"After Undersampling\": y_train_balanced.value_counts(),\n",
    "    \"After (Window)\": pd.Series(y_train_reduced).value_counts()\n",
    "}).fillna(0).astype(int)\n",
    "\n",
    "print(\"=== Comparison Table ===\")\n",
    "print(annotation_check)\n",
    "\n",
    "\n",
    "# --------------------------\n",
    "# แสดงสัดส่วน (%) ของ class ก่อน window\n",
    "# --------------------------\n",
    "print(\"=== Percentage Before Sliding Window ===\")\n",
    "print((y_train_df.value_counts(normalize=True) * 100).round(2))\n"
   ]
  },
  {
   "cell_type": "code",
   "execution_count": 23,
   "id": "8b1903ac",
   "metadata": {},
   "outputs": [
    {
     "name": "stdout",
     "output_type": "stream",
     "text": [
      "=== After Sliding Window (All Sets) ===\n",
      "\n",
      "\n",
      "Train (Original):\n",
      "Sleep stage N2    12369\n",
      "Sleep stage W      6772\n",
      "Sleep stage N1     4118\n",
      "Sleep stage R      1556\n",
      "Sleep stage N3      775\n",
      "Name: count, dtype: int64\n",
      "----------------------------------------\n",
      "\n",
      "Val (Original):\n",
      "Sleep stage N2    7838\n",
      "Sleep stage R     3358\n",
      "Sleep stage N1    1014\n",
      "Sleep stage N3     299\n",
      "Sleep stage W      299\n",
      "Name: count, dtype: int64\n",
      "----------------------------------------\n",
      "\n",
      "Test (Original):\n",
      " Sleep stage N2    5558\n",
      " Sleep stage R     3538\n",
      " Sleep stage W     1975\n",
      " Sleep stage N1    1372\n",
      " Sleep stage N3     298\n",
      "nan                  59\n",
      "Name: count, dtype: int64\n",
      "----------------------------------------\n",
      "\n",
      "Train (Reduced):\n",
      "Sleep stage N2    12369\n",
      "Sleep stage W      6772\n",
      "Sleep stage N1     4118\n",
      "Sleep stage R      1556\n",
      "Sleep stage N3      775\n",
      "Name: count, dtype: int64\n",
      "----------------------------------------\n",
      "\n",
      "Train (Balanced):\n",
      "Sleep stage N1    779\n",
      "Sleep stage N2    779\n",
      "Sleep stage N3    779\n",
      "Sleep stage R     779\n",
      "Sleep stage W     779\n",
      "Name: count, dtype: int64\n",
      "----------------------------------------\n",
      "\n",
      "Train (Balanced+Reduced):\n",
      "Sleep stage N1    779\n",
      "Sleep stage N2    779\n",
      "Sleep stage N3    779\n",
      "Sleep stage R     779\n",
      "Sleep stage W     779\n",
      "Name: count, dtype: int64\n",
      "----------------------------------------\n",
      "\n",
      "=== Summary Table ===\n",
      "                 Train (Original)  Val (Original)  Test (Original)  \\\n",
      " Sleep stage N1              4118            1014             1372   \n",
      " Sleep stage N2             12369            7838             5558   \n",
      " Sleep stage N3               775             299              298   \n",
      " Sleep stage R               1556            3358             3538   \n",
      " Sleep stage W               6772             299             1975   \n",
      "nan                             0               0               59   \n",
      "\n",
      "                 Train (Reduced)  Train (Balanced)  Train (Balanced+Reduced)  \n",
      " Sleep stage N1             4118               779                       779  \n",
      " Sleep stage N2            12369               779                       779  \n",
      " Sleep stage N3              775               779                       779  \n",
      " Sleep stage R              1556               779                       779  \n",
      " Sleep stage W              6772               779                       779  \n",
      "nan                            0                 0                         0  \n"
     ]
    }
   ],
   "source": [
    "print(\"=== After Sliding Window (All Sets) ===\\n\")\n",
    "\n",
    "sets = {\n",
    "    \"Train (Original)\": y_train,\n",
    "    \"Val (Original)\": y_val,\n",
    "    \"Test (Original)\": y_test,\n",
    "    \"Train (Reduced)\": y_train_reduced,\n",
    "    \"Train (Balanced)\": y_train_bal,\n",
    "    \"Train (Balanced+Reduced)\": y_train_bal_reduced\n",
    "}\n",
    "\n",
    "summary = {}\n",
    "for name, y in sets.items():\n",
    "    value_counts = pd.Series(y).value_counts()\n",
    "    summary[name] = value_counts\n",
    "    print(f\"\\n{name}:\")\n",
    "    print(value_counts)\n",
    "    print(\"-\" * 40)\n",
    "\n",
    "# ----------------------------\n",
    "# 2️⃣ รวมผลทั้งหมดในตารางเดียว\n",
    "# ----------------------------\n",
    "annotation_summary = pd.DataFrame(summary).fillna(0).astype(int)\n",
    "print(\"\\n=== Summary Table ===\")\n",
    "print(annotation_summary)"
   ]
  },
  {
   "cell_type": "code",
   "execution_count": 29,
   "id": "e200ec2e",
   "metadata": {},
   "outputs": [],
   "source": [
    "from sklearn.preprocessing import LabelEncoder\n",
    "from tensorflow.keras.utils import to_categorical\n",
    "from tensorflow.keras.models import Sequential\n",
    "from tensorflow.keras.layers import LSTM, Dense\n",
    "from tensorflow.keras.layers import Conv1D, MaxPooling1D, Flatten, Dense, Dropout, BatchNormalization\n",
    "from sklearn.utils.class_weight import compute_class_weight"
   ]
  },
  {
   "cell_type": "code",
   "execution_count": null,
   "id": "c42b7e82",
   "metadata": {},
   "outputs": [
    {
     "ename": "ValueError",
     "evalue": "y contains previously unseen labels: np.str_('nan')",
     "output_type": "error",
     "traceback": [
      "\u001b[31m---------------------------------------------------------------------------\u001b[39m",
      "\u001b[31mKeyError\u001b[39m                                  Traceback (most recent call last)",
      "\u001b[36mFile \u001b[39m\u001b[32m~\\AppData\\Roaming\\Python\\Python313\\site-packages\\sklearn\\utils\\_encode.py:235\u001b[39m, in \u001b[36m_encode\u001b[39m\u001b[34m(values, uniques, check_unknown)\u001b[39m\n\u001b[32m    234\u001b[39m \u001b[38;5;28;01mtry\u001b[39;00m:\n\u001b[32m--> \u001b[39m\u001b[32m235\u001b[39m     \u001b[38;5;28;01mreturn\u001b[39;00m \u001b[43m_map_to_integer\u001b[49m\u001b[43m(\u001b[49m\u001b[43mvalues\u001b[49m\u001b[43m,\u001b[49m\u001b[43m \u001b[49m\u001b[43muniques\u001b[49m\u001b[43m)\u001b[49m\n\u001b[32m    236\u001b[39m \u001b[38;5;28;01mexcept\u001b[39;00m \u001b[38;5;167;01mKeyError\u001b[39;00m \u001b[38;5;28;01mas\u001b[39;00m e:\n",
      "\u001b[36mFile \u001b[39m\u001b[32m~\\AppData\\Roaming\\Python\\Python313\\site-packages\\sklearn\\utils\\_encode.py:174\u001b[39m, in \u001b[36m_map_to_integer\u001b[39m\u001b[34m(values, uniques)\u001b[39m\n\u001b[32m    173\u001b[39m table = _nandict({val: i \u001b[38;5;28;01mfor\u001b[39;00m i, val \u001b[38;5;129;01min\u001b[39;00m \u001b[38;5;28menumerate\u001b[39m(uniques)})\n\u001b[32m--> \u001b[39m\u001b[32m174\u001b[39m \u001b[38;5;28;01mreturn\u001b[39;00m xp.asarray([\u001b[43mtable\u001b[49m\u001b[43m[\u001b[49m\u001b[43mv\u001b[49m\u001b[43m]\u001b[49m \u001b[38;5;28;01mfor\u001b[39;00m v \u001b[38;5;129;01min\u001b[39;00m values], device=device(values))\n",
      "\u001b[36mFile \u001b[39m\u001b[32m~\\AppData\\Roaming\\Python\\Python313\\site-packages\\sklearn\\utils\\_encode.py:167\u001b[39m, in \u001b[36m_nandict.__missing__\u001b[39m\u001b[34m(self, key)\u001b[39m\n\u001b[32m    166\u001b[39m     \u001b[38;5;28;01mreturn\u001b[39;00m \u001b[38;5;28mself\u001b[39m.nan_value\n\u001b[32m--> \u001b[39m\u001b[32m167\u001b[39m \u001b[38;5;28;01mraise\u001b[39;00m \u001b[38;5;167;01mKeyError\u001b[39;00m(key)\n",
      "\u001b[31mKeyError\u001b[39m: np.str_('nan')",
      "\nDuring handling of the above exception, another exception occurred:\n",
      "\u001b[31mValueError\u001b[39m                                Traceback (most recent call last)",
      "\u001b[36mCell\u001b[39m\u001b[36m \u001b[39m\u001b[32mIn[30]\u001b[39m\u001b[32m, line 7\u001b[39m\n\u001b[32m      5\u001b[39m y_train_enc = encoder.fit_transform(y_train)\n\u001b[32m      6\u001b[39m y_val_enc   = encoder.transform(y_val)\n\u001b[32m----> \u001b[39m\u001b[32m7\u001b[39m y_test_enc  = \u001b[43mencoder\u001b[49m\u001b[43m.\u001b[49m\u001b[43mtransform\u001b[49m\u001b[43m(\u001b[49m\u001b[43my_test\u001b[49m\u001b[43m)\u001b[49m\n\u001b[32m      9\u001b[39m num_classes = \u001b[38;5;28mlen\u001b[39m(np.unique(y_train_enc))\n\u001b[32m     11\u001b[39m y_train_cat = to_categorical(y_train_enc, num_classes=num_classes)\n",
      "\u001b[36mFile \u001b[39m\u001b[32m~\\AppData\\Roaming\\Python\\Python313\\site-packages\\sklearn\\preprocessing\\_label.py:134\u001b[39m, in \u001b[36mLabelEncoder.transform\u001b[39m\u001b[34m(self, y)\u001b[39m\n\u001b[32m    131\u001b[39m \u001b[38;5;28;01mif\u001b[39;00m _num_samples(y) == \u001b[32m0\u001b[39m:\n\u001b[32m    132\u001b[39m     \u001b[38;5;28;01mreturn\u001b[39;00m xp.asarray([])\n\u001b[32m--> \u001b[39m\u001b[32m134\u001b[39m \u001b[38;5;28;01mreturn\u001b[39;00m \u001b[43m_encode\u001b[49m\u001b[43m(\u001b[49m\u001b[43my\u001b[49m\u001b[43m,\u001b[49m\u001b[43m \u001b[49m\u001b[43muniques\u001b[49m\u001b[43m=\u001b[49m\u001b[38;5;28;43mself\u001b[39;49m\u001b[43m.\u001b[49m\u001b[43mclasses_\u001b[49m\u001b[43m)\u001b[49m\n",
      "\u001b[36mFile \u001b[39m\u001b[32m~\\AppData\\Roaming\\Python\\Python313\\site-packages\\sklearn\\utils\\_encode.py:237\u001b[39m, in \u001b[36m_encode\u001b[39m\u001b[34m(values, uniques, check_unknown)\u001b[39m\n\u001b[32m    235\u001b[39m         \u001b[38;5;28;01mreturn\u001b[39;00m _map_to_integer(values, uniques)\n\u001b[32m    236\u001b[39m     \u001b[38;5;28;01mexcept\u001b[39;00m \u001b[38;5;167;01mKeyError\u001b[39;00m \u001b[38;5;28;01mas\u001b[39;00m e:\n\u001b[32m--> \u001b[39m\u001b[32m237\u001b[39m         \u001b[38;5;28;01mraise\u001b[39;00m \u001b[38;5;167;01mValueError\u001b[39;00m(\u001b[33mf\u001b[39m\u001b[33m\"\u001b[39m\u001b[33my contains previously unseen labels: \u001b[39m\u001b[38;5;132;01m{\u001b[39;00me\u001b[38;5;132;01m}\u001b[39;00m\u001b[33m\"\u001b[39m)\n\u001b[32m    238\u001b[39m \u001b[38;5;28;01melse\u001b[39;00m:\n\u001b[32m    239\u001b[39m     \u001b[38;5;28;01mif\u001b[39;00m check_unknown:\n",
      "\u001b[31mValueError\u001b[39m: y contains previously unseen labels: np.str_('nan')"
     ]
    }
   ],
   "source": [
    "# -----------------------------\n",
    "# 1. แปลง label เป็นตัวเลข + one-hot\n",
    "# -----------------------------\n",
    "encoder = LabelEncoder()\n",
    "y_train_enc = encoder.fit_transform(y_train)\n",
    "y_val_enc   = encoder.transform(y_val)\n",
    "y_test_enc  = encoder.transform(y_test)\n",
    "\n",
    "num_classes = len(np.unique(y_train_enc))\n",
    "\n",
    "y_train_cat = to_categorical(y_train_enc, num_classes=num_classes)\n",
    "y_val_cat   = to_categorical(y_val_enc, num_classes=num_classes)\n",
    "y_test_cat  = to_categorical(y_test_enc, num_classes=num_classes)\n",
    "\n",
    "# -----------------------------\n",
    "# 2. แปลง X ให้เป็น float32 และ shape = (samples, timesteps, features)\n",
    "# -----------------------------\n",
    "X_train = np.array(X_train, dtype=np.float32)\n",
    "X_val   = np.array(X_val, dtype=np.float32)\n",
    "X_test  = np.array(X_test, dtype=np.float32)\n",
    "\n",
    "if X_train.ndim == 2:\n",
    "    X_train = X_train[..., np.newaxis]\n",
    "    X_val   = X_val[..., np.newaxis]\n",
    "    X_test  = X_test[..., np.newaxis]\n",
    "\n",
    "print(\"X_train shape:\", X_train.shape)  # (samples, timesteps, channels)\n",
    "print(\"y_train shape:\", y_train_cat.shape)\n",
    "\n",
    "# -----------------------------\n",
    "# 3. สร้าง CNN model\n",
    "# -----------------------------\n",
    "model_cnn = Sequential([\n",
    "    Conv1D(filters=32, kernel_size=7, activation='relu', input_shape=(X_train.shape[1], X_train.shape[2])),\n",
    "    BatchNormalization(),\n",
    "    MaxPooling1D(pool_size=2),\n",
    "\n",
    "    Conv1D(filters=64, kernel_size=5, activation='relu'),\n",
    "    BatchNormalization(),\n",
    "    MaxPooling1D(pool_size=2),\n",
    "\n",
    "    Conv1D(filters=128, kernel_size=3, activation='relu'),\n",
    "    BatchNormalization(),\n",
    "    MaxPooling1D(pool_size=2),\n",
    "\n",
    "    Conv1D(filters=64, kernel_size=5, activation='relu'),\n",
    "    BatchNormalization(),\n",
    "    MaxPooling1D(pool_size=2),\n",
    "    \n",
    "    Flatten(),\n",
    "    Dense(128, activation='relu'),\n",
    "    Dropout(0.5),\n",
    "    Dense(num_classes, activation='softmax')\n",
    "])\n",
    "\n",
    "model_cnn.compile(optimizer='adam',\n",
    "                  loss='categorical_crossentropy',\n",
    "                  metrics=['accuracy'])\n",
    "\n",
    "model_cnn.summary()\n"
   ]
  },
  {
   "cell_type": "code",
   "execution_count": null,
   "id": "3c16d447",
   "metadata": {},
   "outputs": [],
   "source": [
    "# -----------------------------\n",
    "# 4. Train CNN model\n",
    "# -----------------------------\n",
    "history = model_cnn.fit(\n",
    "    X_train, y_train_cat,\n",
    "    validation_data=(X_val, y_val_cat),\n",
    "    epochs=80,\n",
    "    batch_size=32,\n",
    "    shuffle=True,\n",
    ")"
   ]
  }
 ],
 "metadata": {
  "kernelspec": {
   "display_name": "Python 3",
   "language": "python",
   "name": "python3"
  },
  "language_info": {
   "codemirror_mode": {
    "name": "ipython",
    "version": 3
   },
   "file_extension": ".py",
   "mimetype": "text/x-python",
   "name": "python",
   "nbconvert_exporter": "python",
   "pygments_lexer": "ipython3",
   "version": "3.13.7"
  }
 },
 "nbformat": 4,
 "nbformat_minor": 5
}
